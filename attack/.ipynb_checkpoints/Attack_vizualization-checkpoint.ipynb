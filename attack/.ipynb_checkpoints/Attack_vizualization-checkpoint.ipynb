{
 "cells": [
  {
   "cell_type": "code",
   "execution_count": 2,
   "metadata": {},
   "outputs": [],
   "source": [
    "import matplotlib\n",
    "import pandas as pd\n",
    "import pymysql\n",
    "%matplotlib inline"
   ]
  },
  {
   "cell_type": "code",
   "execution_count": 3,
   "metadata": {},
   "outputs": [],
   "source": [
    "connection = pymysql.connect(host='localhost',\n",
    "                             user='fingerpatch',\n",
    "                             password='fingerpatch',\n",
    "                             db='fingerpatch',\n",
    "                             charset='utf8mb4',\n",
    "                             cursorclass=pymysql.cursors.DictCursor)"
   ]
  },
  {
   "cell_type": "code",
   "execution_count": 4,
   "metadata": {},
   "outputs": [],
   "source": [
    "attack_table = pd.read_sql(\"SELECT * FROM `ubuntu_captures` \",connection)\n",
    "ground_truth = pd.read_sql(\"SELECT * FROM `ubuntu_packets` \",connection)\n",
    "target = attack_table.loc[0]"
   ]
  },
  {
   "cell_type": "code",
   "execution_count": 11,
   "metadata": {},
   "outputs": [
    {
     "data": {
      "text/plain": [
       "128148"
      ]
     },
     "execution_count": 11,
     "metadata": {},
     "output_type": "execute_result"
    }
   ],
   "source": [
    "ground_truth.count()[0]"
   ]
  },
  {
   "cell_type": "code",
   "execution_count": 6,
   "metadata": {},
   "outputs": [
    {
     "data": {
      "text/plain": [
       "capture_id                                     1\n",
       "nb_flows                                       3\n",
       "Flow1               target->danava.canonical.com\n",
       "Flow2               danava.canonical.com->target\n",
       "Flow3               target->danava.canonical.com\n",
       "Flow4                                       None\n",
       "Flow5                                       None\n",
       "nb_Payload_send1                               0\n",
       "nb_Payload_send2                           67874\n",
       "nb_Payload_send3                             173\n",
       "nb_Payload_send4                            None\n",
       "nb_Payload_send5                            None\n",
       "Name: 0, dtype: object"
      ]
     },
     "execution_count": 6,
     "metadata": {},
     "output_type": "execute_result"
    }
   ],
   "source": [
    "target"
   ]
  },
  {
   "cell_type": "code",
   "execution_count": null,
   "metadata": {},
   "outputs": [],
   "source": []
  },
  {
   "cell_type": "code",
   "execution_count": 31,
   "metadata": {},
   "outputs": [],
   "source": [
    "tmp = ground_truth\n",
    "tmp[\"#Depends\"] = tmp[\"Depends\"].map(lambda x: 0 if x == \"\" else len(x.split(\",\")))\n",
    "two_dep_first10 = tmp[tmp[\"#Depends\"] == 2].sort_values(by = \"Size\", ascending=True)[:10]"
   ]
  },
  {
   "cell_type": "code",
   "execution_count": 43,
   "metadata": {},
   "outputs": [
    {
     "data": {
      "text/html": [
       "<div>\n",
       "<style scoped>\n",
       "    .dataframe tbody tr th:only-of-type {\n",
       "        vertical-align: middle;\n",
       "    }\n",
       "\n",
       "    .dataframe tbody tr th {\n",
       "        vertical-align: top;\n",
       "    }\n",
       "\n",
       "    .dataframe thead th {\n",
       "        text-align: right;\n",
       "    }\n",
       "</style>\n",
       "<table border=\"1\" class=\"dataframe\">\n",
       "  <thead>\n",
       "    <tr style=\"text-align: right;\">\n",
       "      <th></th>\n",
       "      <th>capture_id</th>\n",
       "      <th>Package</th>\n",
       "      <th>Version</th>\n",
       "      <th>Architecture</th>\n",
       "      <th>Size</th>\n",
       "      <th>Installed-Size</th>\n",
       "      <th>Priority</th>\n",
       "      <th>Maintainer</th>\n",
       "      <th>SHA1</th>\n",
       "      <th>Description</th>\n",
       "      <th>...</th>\n",
       "      <th>MD5sum</th>\n",
       "      <th>Depends</th>\n",
       "      <th>Homepage</th>\n",
       "      <th>Source</th>\n",
       "      <th>SHA256</th>\n",
       "      <th>Section</th>\n",
       "      <th>Supported</th>\n",
       "      <th>Filename</th>\n",
       "      <th>packageMode</th>\n",
       "      <th>#Depends</th>\n",
       "    </tr>\n",
       "  </thead>\n",
       "  <tbody>\n",
       "    <tr>\n",
       "      <th>54635</th>\n",
       "      <td>1</td>\n",
       "      <td>ulogd-pcap</td>\n",
       "      <td>2.0.3-1ubuntu2</td>\n",
       "      <td>amd64</td>\n",
       "      <td>850</td>\n",
       "      <td>21</td>\n",
       "      <td>optional</td>\n",
       "      <td>Ubuntu Developers &lt;ubuntu-devel-discuss@lists....</td>\n",
       "      <td>ae0c6666c989f607a129c888a3d3c5c7da697ccd</td>\n",
       "      <td>transitional dummy package for ulogd2-pcap</td>\n",
       "      <td>...</td>\n",
       "      <td>9d6eeaccd14d187cad0aa6cccaa08ffc</td>\n",
       "      <td>ulogd2-pcap, ulogd</td>\n",
       "      <td>http://www.netfilter.org/projects/ulogd/</td>\n",
       "      <td>ulogd2</td>\n",
       "      <td>01e0779b9e3d3173a2dd7e1ad87bb7b6f880fee0902f64...</td>\n",
       "      <td>universe/net</td>\n",
       "      <td></td>\n",
       "      <td>pool/universe/u/ulogd2/ulogd-pcap_2.0.3-1ubunt...</td>\n",
       "      <td>releases</td>\n",
       "      <td>2</td>\n",
       "    </tr>\n",
       "    <tr>\n",
       "      <th>118709</th>\n",
       "      <td>1</td>\n",
       "      <td>ulogd-pcap</td>\n",
       "      <td>2.0.3-1ubuntu2</td>\n",
       "      <td>amd64</td>\n",
       "      <td>850</td>\n",
       "      <td>21</td>\n",
       "      <td>optional</td>\n",
       "      <td>Ubuntu Developers &lt;ubuntu-devel-discuss@lists....</td>\n",
       "      <td>ae0c6666c989f607a129c888a3d3c5c7da697ccd</td>\n",
       "      <td>transitional dummy package for ulogd2-pcap</td>\n",
       "      <td>...</td>\n",
       "      <td>9d6eeaccd14d187cad0aa6cccaa08ffc</td>\n",
       "      <td>ulogd2-pcap, ulogd</td>\n",
       "      <td>http://www.netfilter.org/projects/ulogd/</td>\n",
       "      <td>ulogd2</td>\n",
       "      <td>01e0779b9e3d3173a2dd7e1ad87bb7b6f880fee0902f64...</td>\n",
       "      <td>universe/net</td>\n",
       "      <td></td>\n",
       "      <td>pool/universe/u/ulogd2/ulogd-pcap_2.0.3-1ubunt...</td>\n",
       "      <td>source</td>\n",
       "      <td>2</td>\n",
       "    </tr>\n",
       "    <tr>\n",
       "      <th>118710</th>\n",
       "      <td>1</td>\n",
       "      <td>ulogd-pgsql</td>\n",
       "      <td>2.0.3-1ubuntu2</td>\n",
       "      <td>amd64</td>\n",
       "      <td>852</td>\n",
       "      <td>21</td>\n",
       "      <td>optional</td>\n",
       "      <td>Ubuntu Developers &lt;ubuntu-devel-discuss@lists....</td>\n",
       "      <td>23db70cb096da757b31ede02b7a907a578b75d0f</td>\n",
       "      <td>transitional dummy package for ulogd2-pgsql</td>\n",
       "      <td>...</td>\n",
       "      <td>536268e4ab7cd344aec16bb84994e0a9</td>\n",
       "      <td>ulogd2-pgsql, ulogd</td>\n",
       "      <td>http://www.netfilter.org/projects/ulogd/</td>\n",
       "      <td>ulogd2</td>\n",
       "      <td>0c610d54d82b1c72abeb55227c2214518550f018ef9c90...</td>\n",
       "      <td>universe/net</td>\n",
       "      <td></td>\n",
       "      <td>pool/universe/u/ulogd2/ulogd-pgsql_2.0.3-1ubun...</td>\n",
       "      <td>source</td>\n",
       "      <td>2</td>\n",
       "    </tr>\n",
       "    <tr>\n",
       "      <th>54636</th>\n",
       "      <td>1</td>\n",
       "      <td>ulogd-pgsql</td>\n",
       "      <td>2.0.3-1ubuntu2</td>\n",
       "      <td>amd64</td>\n",
       "      <td>852</td>\n",
       "      <td>21</td>\n",
       "      <td>optional</td>\n",
       "      <td>Ubuntu Developers &lt;ubuntu-devel-discuss@lists....</td>\n",
       "      <td>23db70cb096da757b31ede02b7a907a578b75d0f</td>\n",
       "      <td>transitional dummy package for ulogd2-pgsql</td>\n",
       "      <td>...</td>\n",
       "      <td>536268e4ab7cd344aec16bb84994e0a9</td>\n",
       "      <td>ulogd2-pgsql, ulogd</td>\n",
       "      <td>http://www.netfilter.org/projects/ulogd/</td>\n",
       "      <td>ulogd2</td>\n",
       "      <td>0c610d54d82b1c72abeb55227c2214518550f018ef9c90...</td>\n",
       "      <td>universe/net</td>\n",
       "      <td></td>\n",
       "      <td>pool/universe/u/ulogd2/ulogd-pgsql_2.0.3-1ubun...</td>\n",
       "      <td>releases</td>\n",
       "      <td>2</td>\n",
       "    </tr>\n",
       "    <tr>\n",
       "      <th>54634</th>\n",
       "      <td>1</td>\n",
       "      <td>ulogd-mysql</td>\n",
       "      <td>2.0.3-1ubuntu2</td>\n",
       "      <td>amd64</td>\n",
       "      <td>852</td>\n",
       "      <td>21</td>\n",
       "      <td>optional</td>\n",
       "      <td>Ubuntu Developers &lt;ubuntu-devel-discuss@lists....</td>\n",
       "      <td>bb7f16cd28296a6ec09b86bd0ff807d1ee027d29</td>\n",
       "      <td>transitional dummy package for ulogd2-mysql</td>\n",
       "      <td>...</td>\n",
       "      <td>3bc786b2219f4d9126dd22049658c867</td>\n",
       "      <td>ulogd2-mysql, ulogd</td>\n",
       "      <td>http://www.netfilter.org/projects/ulogd/</td>\n",
       "      <td>ulogd2</td>\n",
       "      <td>08154924f1df00c9d6a8228c4fb822af4c0b3671f2b287...</td>\n",
       "      <td>universe/net</td>\n",
       "      <td></td>\n",
       "      <td>pool/universe/u/ulogd2/ulogd-mysql_2.0.3-1ubun...</td>\n",
       "      <td>releases</td>\n",
       "      <td>2</td>\n",
       "    </tr>\n",
       "  </tbody>\n",
       "</table>\n",
       "<p>5 rows × 24 columns</p>\n",
       "</div>"
      ],
      "text/plain": [
       "        capture_id      Package         Version Architecture  Size  \\\n",
       "54635            1   ulogd-pcap  2.0.3-1ubuntu2        amd64   850   \n",
       "118709           1   ulogd-pcap  2.0.3-1ubuntu2        amd64   850   \n",
       "118710           1  ulogd-pgsql  2.0.3-1ubuntu2        amd64   852   \n",
       "54636            1  ulogd-pgsql  2.0.3-1ubuntu2        amd64   852   \n",
       "54634            1  ulogd-mysql  2.0.3-1ubuntu2        amd64   852   \n",
       "\n",
       "        Installed-Size  Priority  \\\n",
       "54635               21  optional   \n",
       "118709              21  optional   \n",
       "118710              21  optional   \n",
       "54636               21  optional   \n",
       "54634               21  optional   \n",
       "\n",
       "                                               Maintainer  \\\n",
       "54635   Ubuntu Developers <ubuntu-devel-discuss@lists....   \n",
       "118709  Ubuntu Developers <ubuntu-devel-discuss@lists....   \n",
       "118710  Ubuntu Developers <ubuntu-devel-discuss@lists....   \n",
       "54636   Ubuntu Developers <ubuntu-devel-discuss@lists....   \n",
       "54634   Ubuntu Developers <ubuntu-devel-discuss@lists....   \n",
       "\n",
       "                                            SHA1  \\\n",
       "54635   ae0c6666c989f607a129c888a3d3c5c7da697ccd   \n",
       "118709  ae0c6666c989f607a129c888a3d3c5c7da697ccd   \n",
       "118710  23db70cb096da757b31ede02b7a907a578b75d0f   \n",
       "54636   23db70cb096da757b31ede02b7a907a578b75d0f   \n",
       "54634   bb7f16cd28296a6ec09b86bd0ff807d1ee027d29   \n",
       "\n",
       "                                        Description   ...     \\\n",
       "54635    transitional dummy package for ulogd2-pcap   ...      \n",
       "118709   transitional dummy package for ulogd2-pcap   ...      \n",
       "118710  transitional dummy package for ulogd2-pgsql   ...      \n",
       "54636   transitional dummy package for ulogd2-pgsql   ...      \n",
       "54634   transitional dummy package for ulogd2-mysql   ...      \n",
       "\n",
       "                                  MD5sum              Depends  \\\n",
       "54635   9d6eeaccd14d187cad0aa6cccaa08ffc   ulogd2-pcap, ulogd   \n",
       "118709  9d6eeaccd14d187cad0aa6cccaa08ffc   ulogd2-pcap, ulogd   \n",
       "118710  536268e4ab7cd344aec16bb84994e0a9  ulogd2-pgsql, ulogd   \n",
       "54636   536268e4ab7cd344aec16bb84994e0a9  ulogd2-pgsql, ulogd   \n",
       "54634   3bc786b2219f4d9126dd22049658c867  ulogd2-mysql, ulogd   \n",
       "\n",
       "                                        Homepage  Source  \\\n",
       "54635   http://www.netfilter.org/projects/ulogd/  ulogd2   \n",
       "118709  http://www.netfilter.org/projects/ulogd/  ulogd2   \n",
       "118710  http://www.netfilter.org/projects/ulogd/  ulogd2   \n",
       "54636   http://www.netfilter.org/projects/ulogd/  ulogd2   \n",
       "54634   http://www.netfilter.org/projects/ulogd/  ulogd2   \n",
       "\n",
       "                                                   SHA256       Section  \\\n",
       "54635   01e0779b9e3d3173a2dd7e1ad87bb7b6f880fee0902f64...  universe/net   \n",
       "118709  01e0779b9e3d3173a2dd7e1ad87bb7b6f880fee0902f64...  universe/net   \n",
       "118710  0c610d54d82b1c72abeb55227c2214518550f018ef9c90...  universe/net   \n",
       "54636   0c610d54d82b1c72abeb55227c2214518550f018ef9c90...  universe/net   \n",
       "54634   08154924f1df00c9d6a8228c4fb822af4c0b3671f2b287...  universe/net   \n",
       "\n",
       "       Supported                                           Filename  \\\n",
       "54635             pool/universe/u/ulogd2/ulogd-pcap_2.0.3-1ubunt...   \n",
       "118709            pool/universe/u/ulogd2/ulogd-pcap_2.0.3-1ubunt...   \n",
       "118710            pool/universe/u/ulogd2/ulogd-pgsql_2.0.3-1ubun...   \n",
       "54636             pool/universe/u/ulogd2/ulogd-pgsql_2.0.3-1ubun...   \n",
       "54634             pool/universe/u/ulogd2/ulogd-mysql_2.0.3-1ubun...   \n",
       "\n",
       "       packageMode #Depends  \n",
       "54635     releases        2  \n",
       "118709      source        2  \n",
       "118710      source        2  \n",
       "54636     releases        2  \n",
       "54634     releases        2  \n",
       "\n",
       "[5 rows x 24 columns]"
      ]
     },
     "execution_count": 43,
     "metadata": {},
     "output_type": "execute_result"
    }
   ],
   "source": [
    "two_dep_first10.head()"
   ]
  },
  {
   "cell_type": "code",
   "execution_count": 44,
   "metadata": {},
   "outputs": [],
   "source": [
    "\n",
    "two_dep_first10[[\"Package\",\"Version\",\"Architecture\", \"Size\"]].to_csv(path_or_buf=\"two_dep_first10\")"
   ]
  },
  {
   "cell_type": "code",
   "execution_count": 8,
   "metadata": {},
   "outputs": [],
   "source": [
    "extra_size = 283\n",
    "variation = 5"
   ]
  },
  {
   "cell_type": "code",
   "execution_count": 10,
   "metadata": {
    "scrolled": true
   },
   "outputs": [],
   "source": [
    "out = pd.read_csv('/home/alex/Documents/semesterProject/fingerpatch/crawl/sizes.out', names=['size'],header=None)"
   ]
  },
  {
   "cell_type": "code",
   "execution_count": 11,
   "metadata": {
    "scrolled": true
   },
   "outputs": [
    {
     "data": {
      "text/plain": [
       "0.7668824674982894"
      ]
     },
     "execution_count": 11,
     "metadata": {},
     "output_type": "execute_result"
    }
   ],
   "source": [
    "len(out['size'].unique())/len(out)"
   ]
  },
  {
   "cell_type": "code",
   "execution_count": 12,
   "metadata": {},
   "outputs": [
    {
     "data": {
      "text/plain": [
       "False"
      ]
     },
     "execution_count": 12,
     "metadata": {},
     "output_type": "execute_result"
    }
   ],
   "source": [
    "ground_truth['Size'].isnull().any()"
   ]
  },
  {
   "cell_type": "code",
   "execution_count": 23,
   "metadata": {},
   "outputs": [],
   "source": [
    "total_len =len(out)\n",
    "out['count_size'] = \"\"\n",
    "out['#'] = '#'\n",
    "tmp = out.groupby(\"size\").count()\n",
    "tmp = tmp.groupby(\"count_size\").count()\n",
    "total_len = tmp[\"#\"].sum()\n",
    "tmp['#'] = tmp['#'].apply(lambda x: x/total_len)"
   ]
  },
  {
   "cell_type": "code",
   "execution_count": null,
   "metadata": {},
   "outputs": [],
   "source": [
    "total_len =len(out)\n",
    "out['count_size'] = \"\"\n",
    "out['#'] = '#'\n",
    "tmp = out.groupby(\"size\").count()\n",
    "tmp = tmp.groupby(\"count_size\").count()\n",
    "total_len = tmp[\"#\"].sum()\n",
    "tmp['#'] = tmp['#'].apply(lambda x: x/total_len)\n",
    "tmp"
   ]
  },
  {
   "cell_type": "code",
   "execution_count": null,
   "metadata": {},
   "outputs": [],
   "source": [
    "d['test'] = \"t\"\n",
    "s = d.groupby('size')\n",
    "d"
   ]
  },
  {
   "cell_type": "code",
   "execution_count": 24,
   "metadata": {},
   "outputs": [
    {
     "data": {
      "text/html": [
       "<div>\n",
       "<style scoped>\n",
       "    .dataframe tbody tr th:only-of-type {\n",
       "        vertical-align: middle;\n",
       "    }\n",
       "\n",
       "    .dataframe tbody tr th {\n",
       "        vertical-align: top;\n",
       "    }\n",
       "\n",
       "    .dataframe thead th {\n",
       "        text-align: right;\n",
       "    }\n",
       "</style>\n",
       "<table border=\"1\" class=\"dataframe\">\n",
       "  <thead>\n",
       "    <tr style=\"text-align: right;\">\n",
       "      <th></th>\n",
       "      <th>size</th>\n",
       "      <th>test</th>\n",
       "      <th>other</th>\n",
       "    </tr>\n",
       "  </thead>\n",
       "  <tbody>\n",
       "    <tr>\n",
       "      <th>0</th>\n",
       "      <td>1</td>\n",
       "      <td>t</td>\n",
       "      <td>d</td>\n",
       "    </tr>\n",
       "    <tr>\n",
       "      <th>1</th>\n",
       "      <td>2</td>\n",
       "      <td>t</td>\n",
       "      <td>d</td>\n",
       "    </tr>\n",
       "    <tr>\n",
       "      <th>2</th>\n",
       "      <td>4</td>\n",
       "      <td>t</td>\n",
       "      <td>d</td>\n",
       "    </tr>\n",
       "    <tr>\n",
       "      <th>3</th>\n",
       "      <td>1</td>\n",
       "      <td>t</td>\n",
       "      <td>d</td>\n",
       "    </tr>\n",
       "    <tr>\n",
       "      <th>4</th>\n",
       "      <td>4</td>\n",
       "      <td>t</td>\n",
       "      <td>d</td>\n",
       "    </tr>\n",
       "    <tr>\n",
       "      <th>5</th>\n",
       "      <td>2</td>\n",
       "      <td>t</td>\n",
       "      <td>d</td>\n",
       "    </tr>\n",
       "    <tr>\n",
       "      <th>6</th>\n",
       "      <td>4</td>\n",
       "      <td>t</td>\n",
       "      <td>d</td>\n",
       "    </tr>\n",
       "    <tr>\n",
       "      <th>7</th>\n",
       "      <td>1</td>\n",
       "      <td>t</td>\n",
       "      <td>d</td>\n",
       "    </tr>\n",
       "    <tr>\n",
       "      <th>8</th>\n",
       "      <td>5</td>\n",
       "      <td>t</td>\n",
       "      <td>d</td>\n",
       "    </tr>\n",
       "    <tr>\n",
       "      <th>9</th>\n",
       "      <td>4</td>\n",
       "      <td>t</td>\n",
       "      <td>d</td>\n",
       "    </tr>\n",
       "    <tr>\n",
       "      <th>10</th>\n",
       "      <td>6</td>\n",
       "      <td>t</td>\n",
       "      <td>d</td>\n",
       "    </tr>\n",
       "  </tbody>\n",
       "</table>\n",
       "</div>"
      ],
      "text/plain": [
       "    size test other\n",
       "0      1    t     d\n",
       "1      2    t     d\n",
       "2      4    t     d\n",
       "3      1    t     d\n",
       "4      4    t     d\n",
       "5      2    t     d\n",
       "6      4    t     d\n",
       "7      1    t     d\n",
       "8      5    t     d\n",
       "9      4    t     d\n",
       "10     6    t     d"
      ]
     },
     "execution_count": 24,
     "metadata": {},
     "output_type": "execute_result"
    }
   ],
   "source": [
    "d = {'size' : [1, 2, 4, 1 , 4 , 2, 4, 1, 5,4 ,6]}\n",
    "d = pd.DataFrame(data=d)\n",
    "d['test'] = \"t\"\n",
    "d[\"other\"] = \"d\"\n",
    "s = d.groupby('size')\n",
    "d"
   ]
  },
  {
   "cell_type": "code",
   "execution_count": 36,
   "metadata": {},
   "outputs": [],
   "source": [
    "def possible_match(x, size_to_match, average_extra_size ,variation):\n",
    "    if(average_extra_size - variation > size_to_match and average_extra_size +variation<size_to_match):\n",
    "        return True\n",
    "    else:\n",
    "        return False\n",
    "    \n"
   ]
  },
  {
   "cell_type": "code",
   "execution_count": 37,
   "metadata": {},
   "outputs": [
    {
     "data": {
      "text/plain": [
       "False"
      ]
     },
     "execution_count": 37,
     "metadata": {},
     "output_type": "execute_result"
    }
   ],
   "source": [
    "possible_match(32, 32 ,32)"
   ]
  }
 ],
 "metadata": {
  "kernelspec": {
   "display_name": "Python 3",
   "language": "python",
   "name": "python3"
  },
  "language_info": {
   "codemirror_mode": {
    "name": "ipython",
    "version": 3
   },
   "file_extension": ".py",
   "mimetype": "text/x-python",
   "name": "python",
   "nbconvert_exporter": "python",
   "pygments_lexer": "ipython3",
   "version": "3.6.6"
  }
 },
 "nbformat": 4,
 "nbformat_minor": 2
}
