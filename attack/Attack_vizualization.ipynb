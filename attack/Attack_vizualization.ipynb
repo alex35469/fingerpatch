{
 "cells": [
  {
   "cell_type": "markdown",
   "metadata": {},
   "source": [
    "# Attack viz"
   ]
  },
  {
   "cell_type": "code",
   "execution_count": 2,
   "metadata": {},
   "outputs": [],
   "source": [
    "import matplotlib\n",
    "import pandas as pd\n",
    "import pymysql\n",
    "%matplotlib inline"
   ]
  },
  {
   "cell_type": "code",
   "execution_count": 3,
   "metadata": {},
   "outputs": [],
   "source": [
    "connection = pymysql.connect(host='localhost',\n",
    "                             user='fingerpatch',\n",
    "                             password='fingerpatch',\n",
    "                             db='fingerpatch',\n",
    "                             charset='utf8mb4',\n",
    "                             cursorclass=pymysql.cursors.DictCursor)"
   ]
  },
  {
   "cell_type": "code",
   "execution_count": 4,
   "metadata": {},
   "outputs": [],
   "source": [
    "attack_table = pd.read_sql(\"SELECT * FROM `ubuntu_captures` \",connection)\n",
    "ground_truth = pd.read_sql(\"SELECT * FROM `ubuntu_packets` \",connection)\n",
    "target = attack_table.loc[0]"
   ]
  },
  {
   "cell_type": "code",
   "execution_count": 11,
   "metadata": {},
   "outputs": [
    {
     "data": {
      "text/plain": [
       "128148"
      ]
     },
     "execution_count": 11,
     "metadata": {},
     "output_type": "execute_result"
    }
   ],
   "source": [
    "ground_truth.count()[0]"
   ]
  },
  {
   "cell_type": "code",
   "execution_count": 6,
   "metadata": {},
   "outputs": [
    {
     "data": {
      "text/plain": [
       "capture_id                                     1\n",
       "nb_flows                                       3\n",
       "Flow1               target->danava.canonical.com\n",
       "Flow2               danava.canonical.com->target\n",
       "Flow3               target->danava.canonical.com\n",
       "Flow4                                       None\n",
       "Flow5                                       None\n",
       "nb_Payload_send1                               0\n",
       "nb_Payload_send2                           67874\n",
       "nb_Payload_send3                             173\n",
       "nb_Payload_send4                            None\n",
       "nb_Payload_send5                            None\n",
       "Name: 0, dtype: object"
      ]
     },
     "execution_count": 6,
     "metadata": {},
     "output_type": "execute_result"
    }
   ],
   "source": [
    "target"
   ]
  },
  {
   "cell_type": "markdown",
   "metadata": {},
   "source": [
    "## Mounting an Attack for matching a specific capture to a package."
   ]
  },
  {
   "cell_type": "code",
   "execution_count": null,
   "metadata": {},
   "outputs": [],
   "source": []
  },
  {
   "cell_type": "code",
   "execution_count": null,
   "metadata": {},
   "outputs": [],
   "source": []
  },
  {
   "cell_type": "code",
   "execution_count": null,
   "metadata": {},
   "outputs": [],
   "source": []
  },
  {
   "cell_type": "code",
   "execution_count": null,
   "metadata": {},
   "outputs": [],
   "source": []
  },
  {
   "cell_type": "markdown",
   "metadata": {},
   "source": [
    "## Dependens discovery\n",
    "\n",
    "let's take only the packages that have only one depends.\n",
    "\n",
    "Sort them by ascending size"
   ]
  },
  {
   "cell_type": "code",
   "execution_count": 55,
   "metadata": {},
   "outputs": [],
   "source": [
    "tmp = ground_truth\n",
    "tmp[\"#Depends\"] = tmp[\"Depends\"].map(lambda x: 0 if x == \"\" else len(x.split(\",\")))\n",
    "two_dep_first10 = tmp[tmp[\"#Depends\"] == 1].sort_values(by = \"Size\", ascending=True)[:10]"
   ]
  },
  {
   "cell_type": "code",
   "execution_count": 64,
   "metadata": {
    "scrolled": false
   },
   "outputs": [
    {
     "data": {
      "text/plain": [
       "capture_id                                                         1\n",
       "Package                                                      readpst\n",
       "Version                                               0.6.59-1build1\n",
       "Architecture                                                     all\n",
       "Size                                                             796\n",
       "Installed-Size                                                    21\n",
       "Priority                                                    optional\n",
       "Maintainer         Ubuntu Developers <ubuntu-devel-discuss@lists....\n",
       "SHA1                        da3b4b8e1da9e72c3f8a82d03fd620a8590c7186\n",
       "Description            Converts Outlook PST files to mbox and others\n",
       "parsedFrom         packages/archive.ubuntu.com_ubuntu_dists_trust...\n",
       "Description-md5                     3ef2b339ca5bf4fb7de6354b65f7cf59\n",
       "Bugs                      https://bugs.launchpad.net/ubuntu/+filebug\n",
       "Origin                                                        Ubuntu\n",
       "MD5sum                              1ea81920a33318a6a29dfa9e98b0625d\n",
       "Depends                                                    pst-utils\n",
       "Homepage                          http://www.five-ten-sg.com/libpst/\n",
       "Source                                                        libpst\n",
       "SHA256             f2a2ac6eae312389ac0d0c8cda017d2dffbcefe0b98dde...\n",
       "Section                                               universe/utils\n",
       "Supported                                                           \n",
       "Filename           pool/universe/libp/libpst/readpst_0.6.59-1buil...\n",
       "packageMode                                                 releases\n",
       "#Depends                                                           1\n",
       "Name: 51086, dtype: object"
      ]
     },
     "execution_count": 64,
     "metadata": {},
     "output_type": "execute_result"
    }
   ],
   "source": [
    "two_dep_first10.iloc[0]"
   ]
  },
  {
   "cell_type": "markdown",
   "metadata": {},
   "source": [
    "Seeking about that depends"
   ]
  },
  {
   "cell_type": "code",
   "execution_count": 63,
   "metadata": {
    "scrolled": true
   },
   "outputs": [
    {
     "data": {
      "text/html": [
       "<div>\n",
       "<style scoped>\n",
       "    .dataframe tbody tr th:only-of-type {\n",
       "        vertical-align: middle;\n",
       "    }\n",
       "\n",
       "    .dataframe tbody tr th {\n",
       "        vertical-align: top;\n",
       "    }\n",
       "\n",
       "    .dataframe thead th {\n",
       "        text-align: right;\n",
       "    }\n",
       "</style>\n",
       "<table border=\"1\" class=\"dataframe\">\n",
       "  <thead>\n",
       "    <tr style=\"text-align: right;\">\n",
       "      <th></th>\n",
       "      <th>capture_id</th>\n",
       "      <th>Package</th>\n",
       "      <th>Version</th>\n",
       "      <th>Architecture</th>\n",
       "      <th>Size</th>\n",
       "      <th>Installed-Size</th>\n",
       "      <th>Priority</th>\n",
       "      <th>Maintainer</th>\n",
       "      <th>SHA1</th>\n",
       "      <th>Description</th>\n",
       "      <th>...</th>\n",
       "      <th>MD5sum</th>\n",
       "      <th>Depends</th>\n",
       "      <th>Homepage</th>\n",
       "      <th>Source</th>\n",
       "      <th>SHA256</th>\n",
       "      <th>Section</th>\n",
       "      <th>Supported</th>\n",
       "      <th>Filename</th>\n",
       "      <th>packageMode</th>\n",
       "      <th>#Depends</th>\n",
       "    </tr>\n",
       "  </thead>\n",
       "  <tbody>\n",
       "    <tr>\n",
       "      <th>18279</th>\n",
       "      <td>1</td>\n",
       "      <td>pst-utils</td>\n",
       "      <td>0.6.59-1build1</td>\n",
       "      <td>amd64</td>\n",
       "      <td>62092</td>\n",
       "      <td>181</td>\n",
       "      <td>optional</td>\n",
       "      <td>Ubuntu Developers &lt;ubuntu-devel-discuss@lists....</td>\n",
       "      <td>7e5afc4156a87f8c02ae369428ffcbb967111bed</td>\n",
       "      <td>tools for reading Microsoft Outlook PST files</td>\n",
       "      <td>...</td>\n",
       "      <td>f75684e6ddb8a1a651a629de9bd42d5d</td>\n",
       "      <td>libc6 (&gt;= 2.14), libgcc1 (&gt;= 1:4.1.1), libgd3 ...</td>\n",
       "      <td>http://www.five-ten-sg.com/libpst/</td>\n",
       "      <td>libpst</td>\n",
       "      <td>807a10cc7b8062403018d37a6d19cd210bd9f836ae62d9...</td>\n",
       "      <td>utils</td>\n",
       "      <td>9m</td>\n",
       "      <td>pool/main/libp/libpst/pst-utils_0.6.59-1build1...</td>\n",
       "      <td>releases</td>\n",
       "      <td>7</td>\n",
       "    </tr>\n",
       "    <tr>\n",
       "      <th>82353</th>\n",
       "      <td>1</td>\n",
       "      <td>pst-utils</td>\n",
       "      <td>0.6.59-1build1</td>\n",
       "      <td>amd64</td>\n",
       "      <td>62092</td>\n",
       "      <td>181</td>\n",
       "      <td>optional</td>\n",
       "      <td>Ubuntu Developers &lt;ubuntu-devel-discuss@lists....</td>\n",
       "      <td>7e5afc4156a87f8c02ae369428ffcbb967111bed</td>\n",
       "      <td>tools for reading Microsoft Outlook PST files</td>\n",
       "      <td>...</td>\n",
       "      <td>f75684e6ddb8a1a651a629de9bd42d5d</td>\n",
       "      <td>libc6 (&gt;= 2.14), libgcc1 (&gt;= 1:4.1.1), libgd3 ...</td>\n",
       "      <td>http://www.five-ten-sg.com/libpst/</td>\n",
       "      <td>libpst</td>\n",
       "      <td>807a10cc7b8062403018d37a6d19cd210bd9f836ae62d9...</td>\n",
       "      <td>utils</td>\n",
       "      <td>9m</td>\n",
       "      <td>pool/main/libp/libpst/pst-utils_0.6.59-1build1...</td>\n",
       "      <td>source</td>\n",
       "      <td>7</td>\n",
       "    </tr>\n",
       "  </tbody>\n",
       "</table>\n",
       "<p>2 rows × 24 columns</p>\n",
       "</div>"
      ],
      "text/plain": [
       "       capture_id    Package         Version Architecture   Size  \\\n",
       "18279           1  pst-utils  0.6.59-1build1        amd64  62092   \n",
       "82353           1  pst-utils  0.6.59-1build1        amd64  62092   \n",
       "\n",
       "       Installed-Size  Priority  \\\n",
       "18279             181  optional   \n",
       "82353             181  optional   \n",
       "\n",
       "                                              Maintainer  \\\n",
       "18279  Ubuntu Developers <ubuntu-devel-discuss@lists....   \n",
       "82353  Ubuntu Developers <ubuntu-devel-discuss@lists....   \n",
       "\n",
       "                                           SHA1  \\\n",
       "18279  7e5afc4156a87f8c02ae369428ffcbb967111bed   \n",
       "82353  7e5afc4156a87f8c02ae369428ffcbb967111bed   \n",
       "\n",
       "                                         Description   ...     \\\n",
       "18279  tools for reading Microsoft Outlook PST files   ...      \n",
       "82353  tools for reading Microsoft Outlook PST files   ...      \n",
       "\n",
       "                                 MD5sum  \\\n",
       "18279  f75684e6ddb8a1a651a629de9bd42d5d   \n",
       "82353  f75684e6ddb8a1a651a629de9bd42d5d   \n",
       "\n",
       "                                                 Depends  \\\n",
       "18279  libc6 (>= 2.14), libgcc1 (>= 1:4.1.1), libgd3 ...   \n",
       "82353  libc6 (>= 2.14), libgcc1 (>= 1:4.1.1), libgd3 ...   \n",
       "\n",
       "                                 Homepage  Source  \\\n",
       "18279  http://www.five-ten-sg.com/libpst/  libpst   \n",
       "82353  http://www.five-ten-sg.com/libpst/  libpst   \n",
       "\n",
       "                                                  SHA256 Section Supported  \\\n",
       "18279  807a10cc7b8062403018d37a6d19cd210bd9f836ae62d9...   utils        9m   \n",
       "82353  807a10cc7b8062403018d37a6d19cd210bd9f836ae62d9...   utils        9m   \n",
       "\n",
       "                                                Filename packageMode #Depends  \n",
       "18279  pool/main/libp/libpst/pst-utils_0.6.59-1build1...    releases        7  \n",
       "82353  pool/main/libp/libpst/pst-utils_0.6.59-1build1...      source        7  \n",
       "\n",
       "[2 rows x 24 columns]"
      ]
     },
     "execution_count": 63,
     "metadata": {},
     "output_type": "execute_result"
    }
   ],
   "source": [
    "ground_truth[ground_truth[\"Package\"] == two_dep_first10.iloc[0][\"Depends\"]]"
   ]
  },
  {
   "cell_type": "code",
   "execution_count": 46,
   "metadata": {},
   "outputs": [],
   "source": [
    "two_dep_first10[[\"Package\",\"Version\",\"Architecture\", \"Size\"]].to_csv(path_or_buf=\"two_dep_first10\")"
   ]
  },
  {
   "cell_type": "code",
   "execution_count": 8,
   "metadata": {},
   "outputs": [],
   "source": [
    "extra_size = 283\n",
    "variation = 5"
   ]
  },
  {
   "cell_type": "code",
   "execution_count": 10,
   "metadata": {
    "scrolled": true
   },
   "outputs": [],
   "source": [
    "out = pd.read_csv('/home/alex/Documents/semesterProject/fingerpatch/crawl/sizes.out', names=['size'],header=None)"
   ]
  },
  {
   "cell_type": "code",
   "execution_count": 11,
   "metadata": {
    "scrolled": true
   },
   "outputs": [
    {
     "data": {
      "text/plain": [
       "0.7668824674982894"
      ]
     },
     "execution_count": 11,
     "metadata": {},
     "output_type": "execute_result"
    }
   ],
   "source": [
    "len(out['size'].unique())/len(out)"
   ]
  },
  {
   "cell_type": "code",
   "execution_count": 12,
   "metadata": {},
   "outputs": [
    {
     "data": {
      "text/plain": [
       "False"
      ]
     },
     "execution_count": 12,
     "metadata": {},
     "output_type": "execute_result"
    }
   ],
   "source": [
    "ground_truth['Size'].isnull().any()"
   ]
  },
  {
   "cell_type": "code",
   "execution_count": 23,
   "metadata": {},
   "outputs": [],
   "source": [
    "total_len =len(out)\n",
    "out['count_size'] = \"\"\n",
    "out['#'] = '#'\n",
    "tmp = out.groupby(\"size\").count()\n",
    "tmp = tmp.groupby(\"count_size\").count()\n",
    "total_len = tmp[\"#\"].sum()\n",
    "tmp['#'] = tmp['#'].apply(lambda x: x/total_len)"
   ]
  },
  {
   "cell_type": "code",
   "execution_count": null,
   "metadata": {},
   "outputs": [],
   "source": [
    "total_len =len(out)\n",
    "out['count_size'] = \"\"\n",
    "out['#'] = '#'\n",
    "tmp = out.groupby(\"size\").count()\n",
    "tmp = tmp.groupby(\"count_size\").count()\n",
    "total_len = tmp[\"#\"].sum()\n",
    "tmp['#'] = tmp['#'].apply(lambda x: x/total_len)\n",
    "tmp"
   ]
  },
  {
   "cell_type": "code",
   "execution_count": null,
   "metadata": {},
   "outputs": [],
   "source": [
    "d['test'] = \"t\"\n",
    "s = d.groupby('size')\n",
    "d"
   ]
  },
  {
   "cell_type": "code",
   "execution_count": 24,
   "metadata": {},
   "outputs": [
    {
     "data": {
      "text/html": [
       "<div>\n",
       "<style scoped>\n",
       "    .dataframe tbody tr th:only-of-type {\n",
       "        vertical-align: middle;\n",
       "    }\n",
       "\n",
       "    .dataframe tbody tr th {\n",
       "        vertical-align: top;\n",
       "    }\n",
       "\n",
       "    .dataframe thead th {\n",
       "        text-align: right;\n",
       "    }\n",
       "</style>\n",
       "<table border=\"1\" class=\"dataframe\">\n",
       "  <thead>\n",
       "    <tr style=\"text-align: right;\">\n",
       "      <th></th>\n",
       "      <th>size</th>\n",
       "      <th>test</th>\n",
       "      <th>other</th>\n",
       "    </tr>\n",
       "  </thead>\n",
       "  <tbody>\n",
       "    <tr>\n",
       "      <th>0</th>\n",
       "      <td>1</td>\n",
       "      <td>t</td>\n",
       "      <td>d</td>\n",
       "    </tr>\n",
       "    <tr>\n",
       "      <th>1</th>\n",
       "      <td>2</td>\n",
       "      <td>t</td>\n",
       "      <td>d</td>\n",
       "    </tr>\n",
       "    <tr>\n",
       "      <th>2</th>\n",
       "      <td>4</td>\n",
       "      <td>t</td>\n",
       "      <td>d</td>\n",
       "    </tr>\n",
       "    <tr>\n",
       "      <th>3</th>\n",
       "      <td>1</td>\n",
       "      <td>t</td>\n",
       "      <td>d</td>\n",
       "    </tr>\n",
       "    <tr>\n",
       "      <th>4</th>\n",
       "      <td>4</td>\n",
       "      <td>t</td>\n",
       "      <td>d</td>\n",
       "    </tr>\n",
       "    <tr>\n",
       "      <th>5</th>\n",
       "      <td>2</td>\n",
       "      <td>t</td>\n",
       "      <td>d</td>\n",
       "    </tr>\n",
       "    <tr>\n",
       "      <th>6</th>\n",
       "      <td>4</td>\n",
       "      <td>t</td>\n",
       "      <td>d</td>\n",
       "    </tr>\n",
       "    <tr>\n",
       "      <th>7</th>\n",
       "      <td>1</td>\n",
       "      <td>t</td>\n",
       "      <td>d</td>\n",
       "    </tr>\n",
       "    <tr>\n",
       "      <th>8</th>\n",
       "      <td>5</td>\n",
       "      <td>t</td>\n",
       "      <td>d</td>\n",
       "    </tr>\n",
       "    <tr>\n",
       "      <th>9</th>\n",
       "      <td>4</td>\n",
       "      <td>t</td>\n",
       "      <td>d</td>\n",
       "    </tr>\n",
       "    <tr>\n",
       "      <th>10</th>\n",
       "      <td>6</td>\n",
       "      <td>t</td>\n",
       "      <td>d</td>\n",
       "    </tr>\n",
       "  </tbody>\n",
       "</table>\n",
       "</div>"
      ],
      "text/plain": [
       "    size test other\n",
       "0      1    t     d\n",
       "1      2    t     d\n",
       "2      4    t     d\n",
       "3      1    t     d\n",
       "4      4    t     d\n",
       "5      2    t     d\n",
       "6      4    t     d\n",
       "7      1    t     d\n",
       "8      5    t     d\n",
       "9      4    t     d\n",
       "10     6    t     d"
      ]
     },
     "execution_count": 24,
     "metadata": {},
     "output_type": "execute_result"
    }
   ],
   "source": [
    "d = {'size' : [1, 2, 4, 1 , 4 , 2, 4, 1, 5,4 ,6]}\n",
    "d = pd.DataFrame(data=d)\n",
    "d['test'] = \"t\"\n",
    "d[\"other\"] = \"d\"\n",
    "s = d.groupby('size')\n",
    "d"
   ]
  },
  {
   "cell_type": "code",
   "execution_count": 36,
   "metadata": {},
   "outputs": [],
   "source": [
    "def possible_match(x, size_to_match, average_extra_size ,variation):\n",
    "    if(average_extra_size - variation > size_to_match and average_extra_size +variation<size_to_match):\n",
    "        return True\n",
    "    else:\n",
    "        return False\n",
    "    \n"
   ]
  },
  {
   "cell_type": "code",
   "execution_count": 37,
   "metadata": {},
   "outputs": [
    {
     "data": {
      "text/plain": [
       "False"
      ]
     },
     "execution_count": 37,
     "metadata": {},
     "output_type": "execute_result"
    }
   ],
   "source": [
    "possible_match(32, 32 ,32)"
   ]
  },
  {
   "cell_type": "code",
   "execution_count": 54,
   "metadata": {},
   "outputs": [
    {
     "data": {
      "text/plain": [
       "['target->keeton.canonical.com',\n",
       " 'keeton.canonical.com->target',\n",
       " 'target->keeton.canonical.com',\n",
       " 'target->economy.canonical.com',\n",
       " 'target->economy.canonical.com',\n",
       " 'economy.canonical.com->target',\n",
       " 'economy.canonical.com->target',\n",
       " 'target->economy.canonical.com',\n",
       " 'economy.canonical.com->target',\n",
       " 'target->economy.canonical.com',\n",
       " 'target->economy.canonical.com',\n",
       " 'economy.canonical.com->target',\n",
       " 'target->economy.canonical.com']"
      ]
     },
     "execution_count": 54,
     "metadata": {},
     "output_type": "execute_result"
    }
   ],
   "source": [
    "eval(\"['target->keeton.canonical.com', 'keeton.canonical.com->target', 'target->keeton.canonical.com', 'target->economy.canonical.com', 'target->economy.canonical.com', 'economy.canonical.com->target', 'economy.canonical.com->target', 'target->economy.canonical.com', 'economy.canonical.com->target', 'target->economy.canonical.com', 'target->economy.canonical.com', 'economy.canonical.com->target', 'target->economy.canonical.com']\")"
   ]
  },
  {
   "cell_type": "markdown",
   "metadata": {},
   "source": [
    "attack"
   ]
  }
 ],
 "metadata": {
  "kernelspec": {
   "display_name": "Python 3",
   "language": "python",
   "name": "python3"
  },
  "language_info": {
   "codemirror_mode": {
    "name": "ipython",
    "version": 3
   },
   "file_extension": ".py",
   "mimetype": "text/x-python",
   "name": "python",
   "nbconvert_exporter": "python",
   "pygments_lexer": "ipython3",
   "version": "3.6.6"
  }
 },
 "nbformat": 4,
 "nbformat_minor": 2
}
