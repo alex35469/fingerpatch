{
 "cells": [
  {
   "cell_type": "markdown",
   "metadata": {},
   "source": [
    "# Attack viz\n",
    "\n",
    "### Background\n",
    "\n",
    "For a better understanding of the situation, please check the [slides](https://docs.google.com/presentation/d/1oDi0Ds2l3TXghT6AvLKKgyhFA--uFD9d9vGC6eFooss/edit?usp=sharing)  (An epfl authentication is needed to gain access)\n",
    "\n",
    "Here are the following steps that the attacker take in order to carry on his attack: \n",
    "    \n",
    "    1) Extract the information about the packages that the victim can download by crawling all \n",
    "       the metadata in var/lib/   (crawl dir.)\n",
    "       \n",
    "    2) Do some cleaning and statistics about the the freshly crawled data. (attack dir.)\n",
    "    \n",
    "    3) Capture the victims traffic on updates (for now lab condition) (capture dir.)\n",
    "    \n",
    "    4) Match the capture with a specific update (attack dir.)\n",
    "    \n",
    "    \n",
    "\n",
    "We suppose in this notebook that the Attacker already collected the following data:\n",
    " - `ground_through` : where hypothetically all the packages metadata are up-to-date\n",
    " - `attack_table` : Containing the capture of the packages that the attacker wants to match\n",
    " \n",
    " \n",
    "\n",
    "### Table of Content\n",
    "\n",
    " - [Set Up](#Setup)\n",
    " - [Uniqueness investigation & Cleaning ](#cleaning)\n",
    " - Mounting an Attack\n",
    "     - [Relying on HTTP request](#Mounting_an_Attack_HTTP)\n",
    "     - [Relying only on packages size](#Mounting_an_Attack_SIZE)\n",
    "     \n",
    " - [Dependens discovery](#dependens_discovery)\n",
    " - [Kernels Packages](#kernels)\n",
    " \n",
    "\n",
    "## Set up <a id='Setup'></a>"
   ]
  },
  {
   "cell_type": "code",
   "execution_count": 1,
   "metadata": {},
   "outputs": [],
   "source": [
    "import matplotlib\n",
    "import pandas as pd\n",
    "import pymysql\n",
    "import random\n",
    "import tqdm\n",
    "%matplotlib inline"
   ]
  },
  {
   "cell_type": "code",
   "execution_count": 2,
   "metadata": {},
   "outputs": [],
   "source": [
    "# Trying to read the data from the fingerpatch db\n",
    "# Or if it doesnt't work from the csv\n",
    "try :\n",
    "    connection = pymysql.connect(host='localhost',\n",
    "                             user='fingerpatch',\n",
    "                             password='fingerpatch',\n",
    "                             db='fingerpatch',\n",
    "                             charset='utf8mb4',\n",
    "                             cursorclass=pymysql.cursors.DictCursor)\n",
    "    attack_table = pd.read_sql(\"SELECT * FROM `ubuntu_captures` \",connection)\n",
    "    ground_truth = pd.read_sql(\"SELECT * FROM `ubuntu_packets` \",connection)\n",
    "    connection.close()\n",
    "\n",
    "except :\n",
    "    \n",
    "    print(\"No db found, loading from CSV Files\")\n",
    "    \n",
    "    ground_truth = pd.read_csv(\"../crawl/ubuntu_packets.csv\")\n",
    "    attack_table = pd.read_csv(\"../capture/ubuntu_captures.csv\")\n",
    "\n",
    "\n",
    "ground_truth = ground_truth.set_index(\"id\") \n",
    "attack_table = attack_table.set_index(\"capture_id\")"
   ]
  },
  {
   "cell_type": "markdown",
   "metadata": {},
   "source": [
    "<a id='cleaning'></a>\n",
    "## Uniqueness investigation & Cleaning \n",
    "\n",
    "\n",
    "Select interesting columns and remove duplicated rows"
   ]
  },
  {
   "cell_type": "code",
   "execution_count": 3,
   "metadata": {},
   "outputs": [
    {
     "data": {
      "text/plain": [
       "Index(['capture_id', 'Package', 'Version', 'Architecture', 'Size',\n",
       "       'Installed-Size', 'Priority', 'Maintainer', 'SHA1', 'Description',\n",
       "       'parsedFrom', 'Description-md5', 'Bugs', 'Origin', 'MD5sum', 'Depends',\n",
       "       'Homepage', 'Source', 'SHA256', 'Section', 'Supported', 'Filename',\n",
       "       'packageMode'],\n",
       "      dtype='object')"
      ]
     },
     "execution_count": 3,
     "metadata": {},
     "output_type": "execute_result"
    }
   ],
   "source": [
    "ground_truth.columns"
   ]
  },
  {
   "cell_type": "code",
   "execution_count": 4,
   "metadata": {
    "scrolled": true
   },
   "outputs": [
    {
     "name": "stdout",
     "output_type": "stream",
     "text": [
      "Total entries without having cleaned:  128148\n"
     ]
    }
   ],
   "source": [
    "print(\"Total entries without having cleaned: \", len(ground_truth))"
   ]
  },
  {
   "cell_type": "code",
   "execution_count": 5,
   "metadata": {},
   "outputs": [
    {
     "name": "stdout",
     "output_type": "stream",
     "text": [
      "The maximum duplication of rows that have the same Package name and Version is:  1\n",
      "Total entries after having cleaned:  56997\n"
     ]
    }
   ],
   "source": [
    "# Selecting only interessting fields i.e. the attacker has no mean to distinguish two packages that have the same size but different packageMode\n",
    "ground_truth = ground_truth.drop_duplicates(['Package', 'Version', 'Size', 'Depends', 'Architecture'])\n",
    "\n",
    "# Make sure that there is no duplicate information (For a given Package name and Version we have at most one match)\n",
    "print(\"The maximum duplication of rows that have the same Package name and Version is: \", ground_truth.groupby(by=[\"Package\", \"Version\"]).count()[\"SHA1\"].max())\n",
    "\n",
    "# Selecting only interessting columns\n",
    "ground_truth = ground_truth.drop(axis= 1, columns=['capture_id','SHA1', 'Priority', 'Description-md5', 'MD5sum', 'SHA256', 'packageMode' ])\n",
    "\n",
    "ground_truth = ground_truth.fillna(\"\")\n",
    "print(\"Total entries after having cleaned: \", len(ground_truth))"
   ]
  },
  {
   "cell_type": "markdown",
   "metadata": {},
   "source": [
    "<a id='Mounting_an_Attack_HTTP'></a>\n",
    "## Mounting an Attack for matching a specific capture to a package.\n",
    "\n",
    "### Relying on HTTP request\n",
    "The aim here is to find a match from the attacker captured HTTP request to the ground_truth database\n",
    "\n",
    "Let's set the following target we want to match:"
   ]
  },
  {
   "cell_type": "code",
   "execution_count": 9,
   "metadata": {},
   "outputs": [
    {
     "data": {
      "text/plain": [
       "truth_id                                                        42120\n",
       "nb_flows                                                            3\n",
       "HTTP_Seq            ['GET /ubuntu/pool/universe/libs/libswingx-jav...\n",
       "Flows               ['target->economy.canonical.com', 'economy.can...\n",
       "Payload_sent                                                 [0, 163]\n",
       "Payload_received                                            [1444169]\n",
       "matched                                                             1\n",
       "Name: 2, dtype: object"
      ]
     },
     "execution_count": 9,
     "metadata": {},
     "output_type": "execute_result"
    }
   ],
   "source": [
    "target"
   ]
  },
  {
   "cell_type": "code",
   "execution_count": 8,
   "metadata": {},
   "outputs": [
    {
     "data": {
      "text/plain": [
       "\"['GET /ubuntu/pool/universe/libs/libswingx-java/libswingx-java_1.6.2-1_all.deb HTTP/1.1']\""
      ]
     },
     "execution_count": 8,
     "metadata": {},
     "output_type": "execute_result"
    }
   ],
   "source": [
    "target = attack_table.iloc[1]\n",
    "target[\"HTTP_Seq\"]"
   ]
  },
  {
   "cell_type": "code",
   "execution_count": 10,
   "metadata": {},
   "outputs": [
    {
     "name": "stdout",
     "output_type": "stream",
     "text": [
      "\n",
      "And we got the following file name in the ground_truth: \n",
      " pool/universe/libs/libswingx-java/libswingx-java_1.6.2-1_all.deb\n"
     ]
    }
   ],
   "source": [
    "print(\"\\nAnd we got the following file name in the ground_truth: \\n\",ground_truth.loc[42120][\"Filename\"] )"
   ]
  },
  {
   "cell_type": "markdown",
   "metadata": {},
   "source": [
    "Thererfore, we notice that the attribute `Filename` match the HTTP request pretty well, except that, in the HTTP request, the beginning of the root in the url begin with `/ubuntu/` . So if the victim use the pure HTTP protocol, the attacker should be able to match exactly all the package. There are some little issues easy to fix: "
   ]
  },
  {
   "cell_type": "code",
   "execution_count": 8,
   "metadata": {},
   "outputs": [
    {
     "name": "stdout",
     "output_type": "stream",
     "text": [
      "In the ground_truth: \n",
      " pool/main/d/dee/libdee-doc_1.2.7+14.04.20140324-0ubuntu1_all.deb\n",
      "In the attacker's table after having parsed: \n",
      " GET /ubuntu/pool/main/d/dee/libdee-doc_1.2.7%2b14.04.20140324-0ubuntu1_all.deb HTTP/1.1\n"
     ]
    }
   ],
   "source": [
    "print(\"In the ground_truth: \\n\",ground_truth.loc[14404][\"Filename\"])\n",
    "print(\"In the attacker's table after having parsed: \\n\", eval(attack_table.loc[28][\"HTTP_Seq\"])[0][0])"
   ]
  },
  {
   "cell_type": "markdown",
   "metadata": {},
   "source": [
    "Here we see that the HTTP request changes `+` in `%2b`. So we need to parse the HTTP sequence and change it before the matching"
   ]
  },
  {
   "cell_type": "code",
   "execution_count": null,
   "metadata": {},
   "outputs": [],
   "source": [
    "attack_table[\"Http Match\"] = attack_table[\"HTTP_Seq\"].map(lambda x: matchHTTP(x, ground_truth))"
   ]
  },
  {
   "cell_type": "code",
   "execution_count": null,
   "metadata": {},
   "outputs": [],
   "source": [
    "def matchHTTP(x, df):\n",
    "    \"\"\"\n",
    "    x String contraining the filename\n",
    "    To use with a map on the attribute FileName\n",
    "    \"\"\"\n",
    "\n",
    "    requests = x\n",
    "\n",
    "    match = []\n",
    "\n",
    "    for r in requests:\n",
    "        s = r.split(\" \")[1][8:]\n",
    "        if len(s) < 20: # With only 20 character we reckon that the request doesn't contain enough information for a perfect match\n",
    "            continue\n",
    "\n",
    "        s = s.replace(\"%2b\", \"\\+\")\n",
    "        found = df[df.Filename.str.contains(s)]\n",
    "        match += found.index.tolist()\n",
    "\n",
    "    # remove duplicates\n",
    "    match = list(set(match))\n",
    "\n",
    "    return match"
   ]
  },
  {
   "cell_type": "code",
   "execution_count": null,
   "metadata": {},
   "outputs": [],
   "source": [
    "attack_table[[\"truth_id\", \"nb_flows\", \"Http Match\"]].head()"
   ]
  },
  {
   "cell_type": "markdown",
   "metadata": {},
   "source": [
    "We found the perfect match each time. Even though it seems that capture_id = 1 doesn't  "
   ]
  },
  {
   "cell_type": "markdown",
   "metadata": {},
   "source": [
    "<a id='Mounting_an_Attack_SIZE'></a>\n",
    "### Relying on package size\n",
    "\n",
    "We pick the same target as in the previous section"
   ]
  },
  {
   "cell_type": "code",
   "execution_count": null,
   "metadata": {
    "scrolled": true
   },
   "outputs": [],
   "source": [
    "target = attack_table.iloc[0]"
   ]
  },
  {
   "cell_type": "code",
   "execution_count": null,
   "metadata": {},
   "outputs": [],
   "source": [
    "EXTRA_SIZE_AVERAGE = 283   # Made from stats about captured packets\n",
    "EXTRA_SIZE_VARIATION = 5\n",
    "size_to_match = target['nb_Payload_send2']"
   ]
  },
  {
   "cell_type": "code",
   "execution_count": null,
   "metadata": {},
   "outputs": [],
   "source": [
    "def distance_from_expected_average_size(x, size_to_match):\n",
    "    return abs(size_to_match - x - EXTRA_SIZE_AVERAGE)"
   ]
  },
  {
   "cell_type": "code",
   "execution_count": null,
   "metadata": {},
   "outputs": [],
   "source": [
    "ground_truth[\"dist_from_expected_size\"] = ground_truth[\"Size\"].map(lambda x: distance_from_expected_average_size(x, size_to_match))"
   ]
  },
  {
   "cell_type": "code",
   "execution_count": null,
   "metadata": {},
   "outputs": [],
   "source": [
    "ground_truth.sort_values(by=\"dist_from_expected_size\").head()"
   ]
  },
  {
   "cell_type": "markdown",
   "metadata": {},
   "source": [
    "The first one is the one."
   ]
  },
  {
   "cell_type": "code",
   "execution_count": 10,
   "metadata": {},
   "outputs": [
    {
     "data": {
      "text/plain": [
       "truth_id                                                       103746\n",
       "nb_flows                                                            3\n",
       "HTTP_Seq            [['GET /ubuntu/pool/universe/o/opennebula/libo...\n",
       "Flow1                                   target->yukinko.canonical.com\n",
       "Flow2                                   yukinko.canonical.com->target\n",
       "Flow3                                   target->yukinko.canonical.com\n",
       "Flow4                                                            None\n",
       "Flow5                                                            None\n",
       "nb_Payload_send1                                                    0\n",
       "nb_Payload_send2                                                67874\n",
       "nb_Payload_send3                                                  173\n",
       "nb_Payload_send4                                                 None\n",
       "nb_Payload_send5                                                 None\n",
       "Name: 1, dtype: object"
      ]
     },
     "execution_count": 10,
     "metadata": {},
     "output_type": "execute_result"
    }
   ],
   "source": [
    "target"
   ]
  },
  {
   "cell_type": "markdown",
   "metadata": {},
   "source": [
    "<a id='dependens_discovery'></a>\n",
    "## Dependens discovery\n",
    "\n",
    "let's take only the packages that have only one depends.\n",
    "\n",
    "Sort them by ascending size"
   ]
  },
  {
   "cell_type": "code",
   "execution_count": 11,
   "metadata": {},
   "outputs": [],
   "source": [
    "ground_truth = ground_truth.fillna(\"\")\n",
    "ground_truth[\"#Depends\"] = ground_truth[\"Depends\"].map(lambda x: 0 if x == \"\" else len(x.split(\",\")))\n",
    "one_dep_first10 = ground_truth[ground_truth[\"#Depends\"] == 1].sort_values(by = \"Size\", ascending=True)[:10]"
   ]
  },
  {
   "cell_type": "code",
   "execution_count": 12,
   "metadata": {
    "scrolled": false
   },
   "outputs": [
    {
     "data": {
      "text/plain": [
       "Package                                                     readpst\n",
       "Version                                              0.6.59-1build1\n",
       "Architecture                                                    all\n",
       "Size                                                            796\n",
       "Installed-Size                                                   21\n",
       "Maintainer        Ubuntu Developers <ubuntu-devel-discuss@lists....\n",
       "Description           Converts Outlook PST files to mbox and others\n",
       "parsedFrom        packages/archive.ubuntu.com_ubuntu_dists_trust...\n",
       "Bugs                     https://bugs.launchpad.net/ubuntu/+filebug\n",
       "Origin                                                       Ubuntu\n",
       "Depends                                                   pst-utils\n",
       "Homepage                         http://www.five-ten-sg.com/libpst/\n",
       "Source                                                       libpst\n",
       "Section                                              universe/utils\n",
       "Supported                                                          \n",
       "Filename          pool/universe/libp/libpst/readpst_0.6.59-1buil...\n",
       "#Depends                                                          1\n",
       "Name: 51087, dtype: object"
      ]
     },
     "execution_count": 12,
     "metadata": {},
     "output_type": "execute_result"
    }
   ],
   "source": [
    "one_dep_first10.iloc[0]"
   ]
  },
  {
   "cell_type": "markdown",
   "metadata": {},
   "source": [
    "Seeking about that depends"
   ]
  },
  {
   "cell_type": "code",
   "execution_count": 13,
   "metadata": {
    "scrolled": true
   },
   "outputs": [
    {
     "data": {
      "text/html": [
       "<div>\n",
       "<style scoped>\n",
       "    .dataframe tbody tr th:only-of-type {\n",
       "        vertical-align: middle;\n",
       "    }\n",
       "\n",
       "    .dataframe tbody tr th {\n",
       "        vertical-align: top;\n",
       "    }\n",
       "\n",
       "    .dataframe thead th {\n",
       "        text-align: right;\n",
       "    }\n",
       "</style>\n",
       "<table border=\"1\" class=\"dataframe\">\n",
       "  <thead>\n",
       "    <tr style=\"text-align: right;\">\n",
       "      <th></th>\n",
       "      <th>Package</th>\n",
       "      <th>Version</th>\n",
       "      <th>Architecture</th>\n",
       "      <th>Size</th>\n",
       "      <th>Installed-Size</th>\n",
       "      <th>Maintainer</th>\n",
       "      <th>Description</th>\n",
       "      <th>parsedFrom</th>\n",
       "      <th>Bugs</th>\n",
       "      <th>Origin</th>\n",
       "      <th>Depends</th>\n",
       "      <th>Homepage</th>\n",
       "      <th>Source</th>\n",
       "      <th>Section</th>\n",
       "      <th>Supported</th>\n",
       "      <th>Filename</th>\n",
       "      <th>#Depends</th>\n",
       "    </tr>\n",
       "    <tr>\n",
       "      <th>id</th>\n",
       "      <th></th>\n",
       "      <th></th>\n",
       "      <th></th>\n",
       "      <th></th>\n",
       "      <th></th>\n",
       "      <th></th>\n",
       "      <th></th>\n",
       "      <th></th>\n",
       "      <th></th>\n",
       "      <th></th>\n",
       "      <th></th>\n",
       "      <th></th>\n",
       "      <th></th>\n",
       "      <th></th>\n",
       "      <th></th>\n",
       "      <th></th>\n",
       "      <th></th>\n",
       "    </tr>\n",
       "  </thead>\n",
       "  <tbody>\n",
       "    <tr>\n",
       "      <th>18280</th>\n",
       "      <td>pst-utils</td>\n",
       "      <td>0.6.59-1build1</td>\n",
       "      <td>amd64</td>\n",
       "      <td>62092</td>\n",
       "      <td>181</td>\n",
       "      <td>Ubuntu Developers &lt;ubuntu-devel-discuss@lists....</td>\n",
       "      <td>tools for reading Microsoft Outlook PST files</td>\n",
       "      <td>packages/archive.ubuntu.com_ubuntu_dists_trust...</td>\n",
       "      <td>https://bugs.launchpad.net/ubuntu/+filebug</td>\n",
       "      <td>Ubuntu</td>\n",
       "      <td>libc6 (&gt;= 2.14), libgcc1 (&gt;= 1:4.1.1), libgd3 ...</td>\n",
       "      <td>http://www.five-ten-sg.com/libpst/</td>\n",
       "      <td>libpst</td>\n",
       "      <td>utils</td>\n",
       "      <td>9m</td>\n",
       "      <td>pool/main/libp/libpst/pst-utils_0.6.59-1build1...</td>\n",
       "      <td>7</td>\n",
       "    </tr>\n",
       "  </tbody>\n",
       "</table>\n",
       "</div>"
      ],
      "text/plain": [
       "         Package         Version Architecture   Size  Installed-Size  \\\n",
       "id                                                                     \n",
       "18280  pst-utils  0.6.59-1build1        amd64  62092             181   \n",
       "\n",
       "                                              Maintainer  \\\n",
       "id                                                         \n",
       "18280  Ubuntu Developers <ubuntu-devel-discuss@lists....   \n",
       "\n",
       "                                         Description  \\\n",
       "id                                                     \n",
       "18280  tools for reading Microsoft Outlook PST files   \n",
       "\n",
       "                                              parsedFrom  \\\n",
       "id                                                         \n",
       "18280  packages/archive.ubuntu.com_ubuntu_dists_trust...   \n",
       "\n",
       "                                             Bugs  Origin  \\\n",
       "id                                                          \n",
       "18280  https://bugs.launchpad.net/ubuntu/+filebug  Ubuntu   \n",
       "\n",
       "                                                 Depends  \\\n",
       "id                                                         \n",
       "18280  libc6 (>= 2.14), libgcc1 (>= 1:4.1.1), libgd3 ...   \n",
       "\n",
       "                                 Homepage  Source Section Supported  \\\n",
       "id                                                                    \n",
       "18280  http://www.five-ten-sg.com/libpst/  libpst   utils        9m   \n",
       "\n",
       "                                                Filename  #Depends  \n",
       "id                                                                  \n",
       "18280  pool/main/libp/libpst/pst-utils_0.6.59-1build1...         7  "
      ]
     },
     "execution_count": 13,
     "metadata": {},
     "output_type": "execute_result"
    }
   ],
   "source": [
    "ground_truth[ground_truth[\"Package\"] == one_dep_first10.iloc[0][\"Depends\"]]"
   ]
  },
  {
   "cell_type": "markdown",
   "metadata": {},
   "source": [
    "Turns out that this Dependens also have its Dependances"
   ]
  },
  {
   "cell_type": "code",
   "execution_count": 14,
   "metadata": {},
   "outputs": [
    {
     "name": "stdout",
     "output_type": "stream",
     "text": [
      "libc6 (>= 2.14), libgcc1 (>= 1:4.1.1), libgd3 (>= 2.1.0~alpha~), libglib2.0-0 (>= 2.12.0), libgsf-1-114 (>= 1.14.8), libpst4 (>= 0.6.54), libstdc++6 (>= 4.6)\n"
     ]
    }
   ],
   "source": [
    "sub_dependances = ground_truth[ground_truth[\"Package\"] == one_dep_first10.iloc[0][\"Depends\"]].iloc[0][\"Depends\"]\n",
    "print(sub_dependances)"
   ]
  },
  {
   "cell_type": "markdown",
   "metadata": {},
   "source": [
    "#### Once Downloading the package `readpst` we can ideed see that the package doesn't just depends on one single package but many subpackages from that dependance:\n",
    "\n",
    "On the Docker:\n",
    "\n",
    "`The following extra packages will be installed:\n",
    "  fontconfig-config fonts-dejavu-core libfontconfig1 libfreetype6 libgd3\n",
    "  libglib2.0-0 libglib2.0-data libgsf-1-114 libgsf-1-common libjbig0\n",
    "  libjpeg-turbo8 libjpeg8 libpst4 libtiff5 libvpx1 libx11-6 libx11-data\n",
    "  libxau6 libxcb1 libxdmcp6 libxml2 libxpm4 pst-utils sgml-base\n",
    "  shared-mime-info xml-core`\n",
    "  \n",
    "`0 upgraded, 27 newly installed, 0 to remove and 32 not upgraded.\n",
    "Need to get 5664 kB of archives.`\n",
    "\n",
    "\n",
    "On the attacker:\n",
    "\n",
    "`historic =  ['target->danava.canonical.com', 'danava.canonical.com->target', 'target->danava.canonical.com']\n",
    "server_ip =  ['91.189.88.149', '172.100.0.100', '91.189.88.149']\n",
    "server_name =  ['danava.canonical.com', 'target', 'danava.canonical.com']\n",
    "received_Payload =  [5671834]\n",
    "send_Payload =  [0, 4251]`\n",
    "\n",
    "So if we calculate with the tipical extra_size for each downloaded package that we get on the attacker side and knowing that 5664kB is rounded:\n"
   ]
  },
  {
   "cell_type": "code",
   "execution_count": 15,
   "metadata": {},
   "outputs": [
    {
     "ename": "NameError",
     "evalue": "name 'EXTRA_SIZE_AVERAGE' is not defined",
     "output_type": "error",
     "traceback": [
      "\u001b[0;31m---------------------------------------------------------------------------\u001b[0m",
      "\u001b[0;31mNameError\u001b[0m                                 Traceback (most recent call last)",
      "\u001b[0;32m<ipython-input-15-8d7f5529083c>\u001b[0m in \u001b[0;36m<module>\u001b[0;34m\u001b[0m\n\u001b[0;32m----> 1\u001b[0;31m \u001b[0mEXTRA_SIZE_AVERAGE\u001b[0m \u001b[0;34m*\u001b[0m \u001b[0;36m27\u001b[0m \u001b[0;34m+\u001b[0m \u001b[0;36m5664000\u001b[0m\u001b[0;34m\u001b[0m\u001b[0m\n\u001b[0m",
      "\u001b[0;31mNameError\u001b[0m: name 'EXTRA_SIZE_AVERAGE' is not defined"
     ]
    }
   ],
   "source": [
    "EXTRA_SIZE_AVERAGE * 27 + 5664000"
   ]
  },
  {
   "cell_type": "markdown",
   "metadata": {},
   "source": [
    "#### Let's find out what happens if we download the dependance before  \n",
    "\n",
    "While downloading pst-utils (*using apt-get install readpst*):\n",
    "\n",
    "On the victim:\n",
    "\n",
    "`The following extra packages will be installed:\n",
    "  fontconfig-config fonts-dejavu-core libfontconfig1 libfreetype6 libgd3\n",
    "  libglib2.0-0 libglib2.0-data libgsf-1-114 libgsf-1-common libjbig0\n",
    "  libjpeg-turbo8 libjpeg8 libpst4 libtiff5 libvpx1 libx11-6 libx11-data\n",
    "  libxau6 libxcb1 libxdmcp6 libxml2 libxpm4 sgml-base shared-mime-info\n",
    "  xml-core\n",
    "0 upgraded, 26 newly installed, 0 to remove and 32 not upgraded.\n",
    "Need to get 5663 kB of archives.`\n",
    "\n",
    "\n",
    "On the Attacker:\n",
    "\n",
    "`historic =  ['target->keeton.canonical.com', 'keeton.canonical.com->target', 'target->keeton.canonical.com']\n",
    "server_ip =  ['91.189.88.161', '172.100.0.100', '91.189.88.161']\n",
    "server_name =  ['keeton.canonical.com', 'target', 'keeton.canonical.com']\n",
    "received_Payload =  [5670760]\n",
    "send_Payload =  [0, 4085]\n",
    "Ressources cleaned.`\n"
   ]
  },
  {
   "cell_type": "code",
   "execution_count": 16,
   "metadata": {},
   "outputs": [
    {
     "name": "stdout",
     "output_type": "stream",
     "text": [
      " -- Seen By the Attacker -- Difference by downloading the full package and only it's dependances : 1074\n"
     ]
    },
    {
     "ename": "NameError",
     "evalue": "name 'EXTRA_SIZE_AVERAGE' is not defined",
     "output_type": "error",
     "traceback": [
      "\u001b[0;31m---------------------------------------------------------------------------\u001b[0m",
      "\u001b[0;31mNameError\u001b[0m                                 Traceback (most recent call last)",
      "\u001b[0;32m<ipython-input-16-06ae764cb461>\u001b[0m in \u001b[0;36m<module>\u001b[0;34m\u001b[0m\n\u001b[1;32m      1\u001b[0m \u001b[0mprint\u001b[0m\u001b[0;34m(\u001b[0m\u001b[0;34m\" -- Seen By the Attacker -- Difference by downloading the full package and only it's dependances :\"\u001b[0m\u001b[0;34m,\u001b[0m\u001b[0;36m5671834\u001b[0m \u001b[0;34m-\u001b[0m \u001b[0;36m5670760\u001b[0m\u001b[0;34m)\u001b[0m\u001b[0;34m\u001b[0m\u001b[0m\n\u001b[0;32m----> 2\u001b[0;31m \u001b[0mprint\u001b[0m\u001b[0;34m(\u001b[0m\u001b[0;34m\" -- For the ground_truth -- Difference by downloading the full package and only it's dependances :\"\u001b[0m\u001b[0;34m,\u001b[0m\u001b[0;36m796\u001b[0m \u001b[0;34m+\u001b[0m \u001b[0mEXTRA_SIZE_AVERAGE\u001b[0m\u001b[0;34m)\u001b[0m\u001b[0;34m\u001b[0m\u001b[0m\n\u001b[0m",
      "\u001b[0;31mNameError\u001b[0m: name 'EXTRA_SIZE_AVERAGE' is not defined"
     ]
    }
   ],
   "source": [
    "print(\" -- Seen By the Attacker -- Difference by downloading the full package and only it's dependances :\",5671834 - 5670760)\n",
    "print(\" -- For the ground_truth -- Difference by downloading the full package and only it's dependances :\",796 + EXTRA_SIZE_AVERAGE)"
   ]
  },
  {
   "cell_type": "markdown",
   "metadata": {},
   "source": [
    "Now that the dependance is installed on the vicitim's machine, we perfom the update of the principal package:\n",
    "\n",
    "\n",
    "On the victim:\n",
    "\n",
    "`The following NEW packages will be installed:\n",
    "  readpst\n",
    "0 upgraded, 1 newly installed, 0 to remove and 32 not upgraded.\n",
    "Need to get 796 B of archives.\n",
    "After this operation, 21.5 kB of additional disk space will be used.\n",
    "Get:1 http://archive.ubuntu.com/ubuntu/ trusty/universe readpst all 0.6.59-1build1 [796 B]\n",
    "Fetched 796 B in 0s (3656 B/s)   \n",
    "Download complete and in download only mode`\n",
    "\n",
    "On the attacker\n",
    "\n",
    "`historic =  ['target->steelix.canonical.com', 'steelix.canonical.com->target', 'target->steelix.canonical.com']\n",
    "server_ip =  ['91.189.88.152', '172.100.0.100', '91.189.88.152']\n",
    "server_name =  ['steelix.canonical.com', 'target', 'steelix.canonical.com']\n",
    "received_Payload =  [1074]\n",
    "send_Payload =  [0, 155]`\n",
    "\n",
    "\n",
    "Indeed, once the dependance is installed, installing just the package "
   ]
  },
  {
   "cell_type": "code",
   "execution_count": 17,
   "metadata": {},
   "outputs": [
    {
     "data": {
      "text/plain": [
       "278"
      ]
     },
     "execution_count": 17,
     "metadata": {},
     "output_type": "execute_result"
    }
   ],
   "source": [
    "1074 - 796"
   ]
  },
  {
   "cell_type": "markdown",
   "metadata": {},
   "source": [
    "### SumOfDependences & NumberOfDependances"
   ]
  },
  {
   "cell_type": "code",
   "execution_count": 18,
   "metadata": {},
   "outputs": [
    {
     "data": {
      "text/plain": [
       "Package                                                        gcom\n",
       "Version                                                      0.32-2\n",
       "Architecture                                                    all\n",
       "Size                                                            820\n",
       "Installed-Size                                                   20\n",
       "Maintainer        Ubuntu Developers <ubuntu-devel-discuss@lists....\n",
       "Description            datacard control tool - transitional package\n",
       "parsedFrom        packages/archive.ubuntu.com_ubuntu_dists_trust...\n",
       "Bugs                     https://bugs.launchpad.net/ubuntu/+filebug\n",
       "Origin                                                       Ubuntu\n",
       "Depends                                                       comgt\n",
       "Homepage                                  http://www.pharscape.org/\n",
       "Source                                                        comgt\n",
       "Section                                                universe/net\n",
       "Supported                                                          \n",
       "Filename                  pool/universe/c/comgt/gcom_0.32-2_all.deb\n",
       "#Depends                                                          1\n",
       "Name: 26194, dtype: object"
      ]
     },
     "execution_count": 18,
     "metadata": {},
     "output_type": "execute_result"
    }
   ],
   "source": [
    "one_dep_first10.iloc[1]"
   ]
  },
  {
   "cell_type": "code",
   "execution_count": 19,
   "metadata": {},
   "outputs": [
    {
     "data": {
      "text/html": [
       "<div>\n",
       "<style scoped>\n",
       "    .dataframe tbody tr th:only-of-type {\n",
       "        vertical-align: middle;\n",
       "    }\n",
       "\n",
       "    .dataframe tbody tr th {\n",
       "        vertical-align: top;\n",
       "    }\n",
       "\n",
       "    .dataframe thead th {\n",
       "        text-align: right;\n",
       "    }\n",
       "</style>\n",
       "<table border=\"1\" class=\"dataframe\">\n",
       "  <thead>\n",
       "    <tr style=\"text-align: right;\">\n",
       "      <th></th>\n",
       "      <th>Package</th>\n",
       "      <th>Version</th>\n",
       "      <th>Architecture</th>\n",
       "      <th>Size</th>\n",
       "      <th>Installed-Size</th>\n",
       "      <th>Maintainer</th>\n",
       "      <th>Description</th>\n",
       "      <th>parsedFrom</th>\n",
       "      <th>Bugs</th>\n",
       "      <th>Origin</th>\n",
       "      <th>Depends</th>\n",
       "      <th>Homepage</th>\n",
       "      <th>Source</th>\n",
       "      <th>Section</th>\n",
       "      <th>Supported</th>\n",
       "      <th>Filename</th>\n",
       "      <th>#Depends</th>\n",
       "    </tr>\n",
       "    <tr>\n",
       "      <th>id</th>\n",
       "      <th></th>\n",
       "      <th></th>\n",
       "      <th></th>\n",
       "      <th></th>\n",
       "      <th></th>\n",
       "      <th></th>\n",
       "      <th></th>\n",
       "      <th></th>\n",
       "      <th></th>\n",
       "      <th></th>\n",
       "      <th></th>\n",
       "      <th></th>\n",
       "      <th></th>\n",
       "      <th></th>\n",
       "      <th></th>\n",
       "      <th></th>\n",
       "      <th></th>\n",
       "    </tr>\n",
       "  </thead>\n",
       "  <tbody>\n",
       "    <tr>\n",
       "      <th>23140</th>\n",
       "      <td>comgt</td>\n",
       "      <td>0.32-2</td>\n",
       "      <td>amd64</td>\n",
       "      <td>42804</td>\n",
       "      <td>188</td>\n",
       "      <td>Ubuntu Developers &lt;ubuntu-devel-discuss@lists....</td>\n",
       "      <td>Option GlobeTrotter and Vodafone datacard cont...</td>\n",
       "      <td>packages/archive.ubuntu.com_ubuntu_dists_trust...</td>\n",
       "      <td>https://bugs.launchpad.net/ubuntu/+filebug</td>\n",
       "      <td>Ubuntu</td>\n",
       "      <td>libc6 (&gt;= 2.7)</td>\n",
       "      <td>http://www.pharscape.org/</td>\n",
       "      <td></td>\n",
       "      <td>universe/net</td>\n",
       "      <td></td>\n",
       "      <td>pool/universe/c/comgt/comgt_0.32-2_amd64.deb</td>\n",
       "      <td>1</td>\n",
       "    </tr>\n",
       "  </tbody>\n",
       "</table>\n",
       "</div>"
      ],
      "text/plain": [
       "      Package Version Architecture   Size  Installed-Size  \\\n",
       "id                                                          \n",
       "23140   comgt  0.32-2        amd64  42804             188   \n",
       "\n",
       "                                              Maintainer  \\\n",
       "id                                                         \n",
       "23140  Ubuntu Developers <ubuntu-devel-discuss@lists....   \n",
       "\n",
       "                                             Description  \\\n",
       "id                                                         \n",
       "23140  Option GlobeTrotter and Vodafone datacard cont...   \n",
       "\n",
       "                                              parsedFrom  \\\n",
       "id                                                         \n",
       "23140  packages/archive.ubuntu.com_ubuntu_dists_trust...   \n",
       "\n",
       "                                             Bugs  Origin         Depends  \\\n",
       "id                                                                          \n",
       "23140  https://bugs.launchpad.net/ubuntu/+filebug  Ubuntu  libc6 (>= 2.7)   \n",
       "\n",
       "                        Homepage Source       Section Supported  \\\n",
       "id                                                                \n",
       "23140  http://www.pharscape.org/         universe/net             \n",
       "\n",
       "                                           Filename  #Depends  \n",
       "id                                                             \n",
       "23140  pool/universe/c/comgt/comgt_0.32-2_amd64.deb         1  "
      ]
     },
     "execution_count": 19,
     "metadata": {},
     "output_type": "execute_result"
    }
   ],
   "source": [
    "ground_truth[ground_truth[\"Package\"] == \"comgt\"]"
   ]
  },
  {
   "cell_type": "code",
   "execution_count": 20,
   "metadata": {},
   "outputs": [
    {
     "data": {
      "text/html": [
       "<div>\n",
       "<style scoped>\n",
       "    .dataframe tbody tr th:only-of-type {\n",
       "        vertical-align: middle;\n",
       "    }\n",
       "\n",
       "    .dataframe tbody tr th {\n",
       "        vertical-align: top;\n",
       "    }\n",
       "\n",
       "    .dataframe thead th {\n",
       "        text-align: right;\n",
       "    }\n",
       "</style>\n",
       "<table border=\"1\" class=\"dataframe\">\n",
       "  <thead>\n",
       "    <tr style=\"text-align: right;\">\n",
       "      <th></th>\n",
       "      <th>Package</th>\n",
       "      <th>Version</th>\n",
       "      <th>Architecture</th>\n",
       "      <th>Size</th>\n",
       "      <th>Installed-Size</th>\n",
       "      <th>Maintainer</th>\n",
       "      <th>Description</th>\n",
       "      <th>parsedFrom</th>\n",
       "      <th>Bugs</th>\n",
       "      <th>Origin</th>\n",
       "      <th>Depends</th>\n",
       "      <th>Homepage</th>\n",
       "      <th>Source</th>\n",
       "      <th>Section</th>\n",
       "      <th>Supported</th>\n",
       "      <th>Filename</th>\n",
       "      <th>#Depends</th>\n",
       "    </tr>\n",
       "    <tr>\n",
       "      <th>id</th>\n",
       "      <th></th>\n",
       "      <th></th>\n",
       "      <th></th>\n",
       "      <th></th>\n",
       "      <th></th>\n",
       "      <th></th>\n",
       "      <th></th>\n",
       "      <th></th>\n",
       "      <th></th>\n",
       "      <th></th>\n",
       "      <th></th>\n",
       "      <th></th>\n",
       "      <th></th>\n",
       "      <th></th>\n",
       "      <th></th>\n",
       "      <th></th>\n",
       "      <th></th>\n",
       "    </tr>\n",
       "  </thead>\n",
       "  <tbody>\n",
       "    <tr>\n",
       "      <th>1784</th>\n",
       "      <td>libc6</td>\n",
       "      <td>2.19-0ubuntu6.14</td>\n",
       "      <td>amd64</td>\n",
       "      <td>4752538</td>\n",
       "      <td>10508</td>\n",
       "      <td>Ubuntu Developers &lt;ubuntu-devel-discuss@lists....</td>\n",
       "      <td>Embedded GNU C Library: Shared libraries</td>\n",
       "      <td>packages/archive.ubuntu.com_ubuntu_dists_trust...</td>\n",
       "      <td>https://bugs.launchpad.net/ubuntu/+filebug</td>\n",
       "      <td>Ubuntu</td>\n",
       "      <td>libgcc1</td>\n",
       "      <td>http://www.eglibc.org</td>\n",
       "      <td>eglibc</td>\n",
       "      <td>libs</td>\n",
       "      <td>5y</td>\n",
       "      <td>pool/main/e/eglibc/libc6_2.19-0ubuntu6.14_amd6...</td>\n",
       "      <td>1</td>\n",
       "    </tr>\n",
       "    <tr>\n",
       "      <th>14033</th>\n",
       "      <td>libc6</td>\n",
       "      <td>2.19-0ubuntu6</td>\n",
       "      <td>amd64</td>\n",
       "      <td>4729214</td>\n",
       "      <td>10496</td>\n",
       "      <td>Ubuntu Developers &lt;ubuntu-devel-discuss@lists....</td>\n",
       "      <td>Embedded GNU C Library: Shared libraries</td>\n",
       "      <td>packages/archive.ubuntu.com_ubuntu_dists_trust...</td>\n",
       "      <td>https://bugs.launchpad.net/ubuntu/+filebug</td>\n",
       "      <td>Ubuntu</td>\n",
       "      <td>libgcc1</td>\n",
       "      <td>http://www.eglibc.org</td>\n",
       "      <td>eglibc</td>\n",
       "      <td>libs</td>\n",
       "      <td>5y</td>\n",
       "      <td>pool/main/e/eglibc/libc6_2.19-0ubuntu6_amd64.deb</td>\n",
       "      <td>1</td>\n",
       "    </tr>\n",
       "  </tbody>\n",
       "</table>\n",
       "</div>"
      ],
      "text/plain": [
       "      Package           Version Architecture     Size  Installed-Size  \\\n",
       "id                                                                      \n",
       "1784    libc6  2.19-0ubuntu6.14        amd64  4752538           10508   \n",
       "14033   libc6     2.19-0ubuntu6        amd64  4729214           10496   \n",
       "\n",
       "                                              Maintainer  \\\n",
       "id                                                         \n",
       "1784   Ubuntu Developers <ubuntu-devel-discuss@lists....   \n",
       "14033  Ubuntu Developers <ubuntu-devel-discuss@lists....   \n",
       "\n",
       "                                    Description  \\\n",
       "id                                                \n",
       "1784   Embedded GNU C Library: Shared libraries   \n",
       "14033  Embedded GNU C Library: Shared libraries   \n",
       "\n",
       "                                              parsedFrom  \\\n",
       "id                                                         \n",
       "1784   packages/archive.ubuntu.com_ubuntu_dists_trust...   \n",
       "14033  packages/archive.ubuntu.com_ubuntu_dists_trust...   \n",
       "\n",
       "                                             Bugs  Origin  Depends  \\\n",
       "id                                                                   \n",
       "1784   https://bugs.launchpad.net/ubuntu/+filebug  Ubuntu  libgcc1   \n",
       "14033  https://bugs.launchpad.net/ubuntu/+filebug  Ubuntu  libgcc1   \n",
       "\n",
       "                    Homepage  Source Section Supported  \\\n",
       "id                                                       \n",
       "1784   http://www.eglibc.org  eglibc    libs        5y   \n",
       "14033  http://www.eglibc.org  eglibc    libs        5y   \n",
       "\n",
       "                                                Filename  #Depends  \n",
       "id                                                                  \n",
       "1784   pool/main/e/eglibc/libc6_2.19-0ubuntu6.14_amd6...         1  \n",
       "14033   pool/main/e/eglibc/libc6_2.19-0ubuntu6_amd64.deb         1  "
      ]
     },
     "execution_count": 20,
     "metadata": {},
     "output_type": "execute_result"
    }
   ],
   "source": [
    "ground_truth[ground_truth[\"Package\"] == \"libc6\"]"
   ]
  },
  {
   "cell_type": "markdown",
   "metadata": {},
   "source": [
    "Dependances can be ambigious"
   ]
  },
  {
   "cell_type": "code",
   "execution_count": 21,
   "metadata": {},
   "outputs": [
    {
     "name": "stdout",
     "output_type": "stream",
     "text": [
      "python (>= 2.7), python (<< 2.8), python:any (>= 2.7.1-0ubuntu2), base-files (>= 4.0.4)\n",
      "python-bzrlib (<= 2.6.0+bzr6593-1ubuntu1.6.1~), python-bzrlib (>= 2.6.0+bzr6593-1ubuntu1.6), python:any\n"
     ]
    }
   ],
   "source": [
    "print(ground_truth[\"Depends\"].iloc[48])\n",
    "print(ground_truth[\"Depends\"].iloc[405])"
   ]
  },
  {
   "cell_type": "markdown",
   "metadata": {},
   "source": [
    "### Before implementing the recursivity function, we consatated following issues:\n",
    "    - Going through dependances can lead to cycles (ex: comgt->libc6->libgcc1->libc6)\n",
    "        => Can be fixed by keeping a list of seen dependances\n",
    "        \n",
    "    - Many packages with different version can occure (ex: libc6 2.19-0ubuntu6.14 & 2.19-0ubuntu6 not same size)\n",
    "        => Maybe take the most recent one (To gain some time keep only the newest version beforehand)\n",
    "        \n",
    "    - Some packet are already installed by default (like libc6 in our victim's machin)\n",
    "    \n",
    "    - Dependances can be ambigious (ex: python (>= 2.7), python (<< 2.8), python:any (>= 2.7.1-0ubuntu2) )\n",
    "        => Parsing the dependances has to be made carefully \n",
    " \n",
    " Some references:\n",
    " \n",
    " [Depends field format](https://www.debian.org/doc/debian-policy/ch-relationships.html)\n",
    " \n",
    " [Version field format](http://www.fifi.org/doc/debian-policy/policy.html/ch-versions.html)"
   ]
  },
  {
   "cell_type": "code",
   "execution_count": 22,
   "metadata": {},
   "outputs": [],
   "source": [
    "\n",
    "def recursiveOnly(x, summing, df,alreadySeen):\n",
    "    \"\"\"\n",
    "    Doesn't try tu reuse old results\n",
    "    Takes approximatvely 72h to finish\n",
    "    \"\"\"\n",
    "    \n",
    "    xKey = x[\"Package\"] + \" : \"+x[\"Version\"]\n",
    "    \n",
    "    if xKey in alreadySeen:\n",
    "        return (0, {})\n",
    "    \n",
    "    alreadySeen[xKey] = []  \n",
    "    \n",
    "    deps = parseAndFindDep(x[\"Depends\"], df)\n",
    "    \n",
    "    if len(deps) == 0: # Touches the leaves\n",
    "    \n",
    "        return ( x[\"Size\"], {xKey : []})\n",
    "    \n",
    "    \n",
    "    for dep in deps:\n",
    "        \n",
    "        if dep not in alreadySeen:\n",
    "            \n",
    "            newX = df.loc[dep]\n",
    "            s, as_ = recursiveOnly(newX, 0, df, alreadySeen)\n",
    "            \n",
    "                \n",
    "            # Merging\n",
    "            summing += s\n",
    "            alreadySeen = {**as_ , **alreadySeen}\n",
    "            alreadySeen[xKey] += [newX[\"Package\"] + \" : \"+newX[\"Version\"]]\n",
    "    \n",
    "    \n",
    "    summing = summing + x[\"Size\"]\n",
    "    \n",
    "    \n",
    "    return (summing, alreadySeen)    \n",
    "    \n",
    "\n",
    "def computeSumOnDep(x, df):\n",
    "    \n",
    "    \n",
    "    childrens = x[\"Childrens\"]\n",
    "    summingDep = 0\n",
    "    \n",
    "    # We include ourself in the children to count everything\n",
    "    childrens.add(x.name)\n",
    "    \n",
    "    for c in childrens:\n",
    "        summingDep += df.loc[c][\"Size\"]\n",
    "    \n",
    "    df.at[x.name,\"Summing dependances\"] = summingDep\n",
    "    \n",
    "    return summingDep\n",
    "\n",
    "    \n",
    "def recursiveSearchOnDep(x, df,alreadySeen, createTree = True):\n",
    "  \n",
    "    \"\"\" \n",
    "    x : The current data Serie, Assuming that x contains Package, Version, Depends, Size and \n",
    "        Summing dependances, Dependance traces for the dynamic approach\n",
    "        \n",
    "    summing : The sum of the size in Bytes\n",
    "    df is the db we are performing the recursive search\n",
    "    alreadySeen : Dict with the already seen packages + version\"\"\"\n",
    "    \n",
    "    \n",
    "    \n",
    "    \n",
    "    childrens = set()\n",
    "    xKey = x[\"Package\"] + \" : \"+x[\"Version\"]\n",
    "    \n",
    "    # At the end we have to fix the packages that countained loop and couldn't build proprely the childrens \n",
    "    loopers = set()\n",
    "    \n",
    "   # Anti loop\n",
    "    if xKey in alreadySeen:\n",
    "        \n",
    "        # We notifiy the parent that a loop occured\n",
    "        return {}, childrens, True\n",
    "    \n",
    "\n",
    "    \n",
    "    deps = parseAndFindDep(x[\"Depends\"], df)\n",
    "    \n",
    "    \n",
    "    \n",
    "    # Init the trace of the current dep.\n",
    "    myDepTraces = {}\n",
    "    myDepTraces[xKey] = set()\n",
    "    \n",
    "    if len(deps) == 0: # Touches the leaves\n",
    "        \n",
    "        # Fill the df \n",
    "        df.at[x.name,\"Dependance traces\"] = myDepTraces\n",
    "        df.at[x.name, \"Childrens\"] = childrens\n",
    "\n",
    "    \n",
    "        return myDepTraces, childrens, []\n",
    "    \n",
    "\n",
    "    \n",
    "    alreadySeen[xKey] = set()  \n",
    "    \n",
    "    for dep in deps:\n",
    "        \n",
    "\n",
    "        newX = df.loc[dep]\n",
    "        \n",
    "        \n",
    "        depChildren , childrensChildren = newX[\"Dependance traces\"], newX[\"Childrens\"]\n",
    "        newXKey = newX[\"Package\"] + \" : \"+newX[\"Version\"]\n",
    "        \n",
    "        depChildren = eval(str(depChildren))\n",
    "    \n",
    "        if len(depChildren) == 0:\n",
    "            \n",
    "\n",
    "            depChildren, childrensChildren, loop = recursiveSearchOnDep(newX, df, alreadySeen)\n",
    "            \n",
    "            # If we found a loop, we will have to fix it \n",
    "            if loop:\n",
    "                \n",
    "                loopers.add(x.name)\n",
    "            \n",
    "        #print(\"For \", dep, \" we have childrens: \", childrensChildren)\n",
    "        childrens = childrens.union(childrensChildren)\n",
    "        childrens.add(dep)\n",
    "        \n",
    "        alreadySeen = {**alreadySeen, **depChildren}\n",
    "        myDepTraces = {**myDepTraces, **depChildren}\n",
    "        \n",
    "        \n",
    "        myDepTraces[xKey].add(newX[\"Package\"] + \" : \"+newX[\"Version\"])\n",
    "        alreadySeen[xKey].add(newX[\"Package\"] + \" : \"+newX[\"Version\"])\n",
    "                \n",
    "    \n",
    "    # Adding itself in the list of childrens\n",
    "    childrens.add(x.name)\n",
    "                \n",
    "\n",
    "    df.at[x.name,\"Dependance traces\"] = myDepTraces\n",
    "    df.at[x.name, \"Childrens\"] = childrens\n",
    "    \n",
    "    \n",
    "    ## Fix the ones that contained loop\n",
    "    \"\"\"    for l in loopers:\n",
    "        newX = df.loc[l]\n",
    "        recursiveSearchOnDep(newX, df, {})\"\"\"\n",
    "    \n",
    "    return (myDepTraces, childrens, False)\n",
    "\n",
    "\n",
    "\n",
    "\n",
    "    \n",
    "def parseAndFindDep(depString, df):\n",
    "    \"\"\"\n",
    "    Return a list of ubuntu_packages id w.r.t the Dataframe df \n",
    "        which represents the dependances in depString\n",
    "    \"\"\"\n",
    "    ids = list()\n",
    "    \n",
    "    allPckg = df[\"Package\"].unique()\n",
    "\n",
    "    for d in depString.split(\", \"):\n",
    "\n",
    "\n",
    "        for d2 in d.split(\" | \"):\n",
    "\n",
    "            d2 = d2.split(\" (\")\n",
    "\n",
    "            package = d2[0]\n",
    "\n",
    "            #print(package)\n",
    "\n",
    "            version = \"\"\n",
    "            if len(d2) == 2:\n",
    "                # We have more info about the version\n",
    "                (req, version) = d2[1][:-1].split(\" \")\n",
    "\n",
    "                if req == \"<<\" : \n",
    "                    req = \"<\"\n",
    "                if req == \">>\":\n",
    "                    req = \">\"\n",
    "                if req == \"=\":\n",
    "                    req = \"==\"\n",
    "\n",
    "\n",
    "            if package in allPckg:\n",
    "\n",
    "                # TOFIX simple string comparison doesn't work because 2.12.4 > 2.9.3 \n",
    "                package_candidates = df[df[\"Package\"] == package].sort_values(by=\"Version\", ascending=False)\n",
    "                id_ = package_candidates.iloc[0].name\n",
    "\n",
    "                if version != \"\":\n",
    "                    # Restraint further more using the version spec.\n",
    "                    package_candidates = package_candidates.query(\"Version \"+req+\" '\"+version+\"'\")    \n",
    "\n",
    "                    if len(package_candidates) > 0 :\n",
    "                        # just take the most recent one if there are many versions\n",
    "                        id_ = package_candidates.iloc[0].name\n",
    "\n",
    "\n",
    "                # Add it only if it's the first time we add it\n",
    "                if id_ not in ids:\n",
    "                    ids = ids + [id_]\n",
    "\n",
    "                # We found it no need to take the packages after \"|\"\n",
    "                break \n",
    "                \n",
    "    return ids\n",
    "    "
   ]
  },
  {
   "cell_type": "code",
   "execution_count": 23,
   "metadata": {},
   "outputs": [
    {
     "data": {
      "text/plain": [
       "'\\nground_truth[\"Summing dependances\"] = -1\\nground_truth[\"Dependance traces\"] = \"{}\"\\nground_truth[\"Childrens\"] = \"\"\\n\\n#recursiveSearchOnDep(ground_truth.iloc[7512], ground_truth, {})\\nrecursiveSearchOnDep(ground_truth.loc[2077], ground_truth, {})\\nrecursiveSearchOnDep(ground_truth.loc[1784], ground_truth, {})\\n#computeSumOnDep(ground_truth.loc[7428], ground_truth)\\n'"
      ]
     },
     "execution_count": 23,
     "metadata": {},
     "output_type": "execute_result"
    }
   ],
   "source": [
    "## Useful to see if the recursive function behave correctly on a given entry\n",
    "\"\"\"\n",
    "ground_truth[\"Summing dependances\"] = -1\n",
    "ground_truth[\"Dependance traces\"] = \"{}\"\n",
    "ground_truth[\"Childrens\"] = \"\"\n",
    "\n",
    "#recursiveSearchOnDep(ground_truth.iloc[7512], ground_truth, {})\n",
    "recursiveSearchOnDep(ground_truth.loc[2077], ground_truth, {})\n",
    "recursiveSearchOnDep(ground_truth.loc[1784], ground_truth, {})\n",
    "#computeSumOnDep(ground_truth.loc[7428], ground_truth)\n",
    "\"\"\""
   ]
  },
  {
   "cell_type": "code",
   "execution_count": null,
   "metadata": {},
   "outputs": [],
   "source": [
    "ground_truth[\"Summing dependances\"] = -1\n",
    "ground_truth[\"Dependance traces\"] = \"{}\"\n",
    "ground_truth[\"Childrens\"] = \"\"\n",
    "\n",
    "ground_truth = ground_truth.sort_values([\"#Depends\"])\n",
    "\n",
    "tot = len(ground_truth)\n",
    "\n",
    "for _, row in tqdm.tqdm(ground_truth.iterrows(), total=tot):\n",
    "       \n",
    "    \n",
    "    myDepTraces, childrens, _ = recursiveSearchOnDep(row, ground_truth, {}) \n",
    "    \n",
    "    \"\"\"\n",
    "    ground_truth.at[row.name,\"Dependance traces\"] = myDepTraces\n",
    "    ground_truth.at[row.name, \"Childrens\"] = childrens\"\"\"\n",
    "\n",
    "\n",
    "\n",
    "#%time test[\"Summing dependances\"], test[\"Dependance traces\"] = zip(*test.apply(lambda x: recursiveSearchOnDep(x, 0, test, {}), axis = 1))\n"
   ]
  },
  {
   "cell_type": "code",
   "execution_count": 33,
   "metadata": {},
   "outputs": [
    {
     "name": "stderr",
     "output_type": "stream",
     "text": [
      "56997it [10:40,  8.15it/s] \n"
     ]
    }
   ],
   "source": [
    "for _, row in tqdm.tqdm(gt.iterrows()):\n",
    "    \n",
    "    summingDep = computeSumOnDep(row, ground_truth)\n",
    "    gt.at[row.name, \"Summing dependances\"] = summingDep\n",
    "    \n",
    "    "
   ]
  },
  {
   "cell_type": "markdown",
   "metadata": {},
   "source": [
    " Timing:\n",
    " \n",
    " - ___45min___ to go over all the entries and recursively find the dependences\n",
    " - ___7.5min___ to sum the dependences\n",
    " - ___5min___ to build the all tree of dependences (see later)"
   ]
  },
  {
   "cell_type": "markdown",
   "metadata": {},
   "source": [
    "##### -------------------------------------------------------- TEST SECTION ---------------------------------------------------------"
   ]
  },
  {
   "cell_type": "code",
   "execution_count": 28,
   "metadata": {},
   "outputs": [
    {
     "name": "stdout",
     "output_type": "stream",
     "text": [
      "9542\n"
     ]
    },
    {
     "data": {
      "text/plain": [
       "Package                                                                klash\n",
       "Version                                          0.8.11~git20130903-3ubuntu1\n",
       "Architecture                                                           amd64\n",
       "Size                                                                  186636\n",
       "Installed-Size                                                           602\n",
       "Maintainer                 Ubuntu Developers <ubuntu-devel-discuss@lists....\n",
       "Description                GNU Shockwave Flash (SWF) player - Standalone ...\n",
       "parsedFrom                 packages/archive.ubuntu.com_ubuntu_dists_trust...\n",
       "Bugs                              https://bugs.launchpad.net/ubuntu/+filebug\n",
       "Origin                                                                Ubuntu\n",
       "Depends                    gnash-common (= 0.8.11~git20130903-3ubuntu1), ...\n",
       "Homepage                                  http://www.gnu.org/software/gnash/\n",
       "Source                                                                 gnash\n",
       "Section                                                       universe/utils\n",
       "Supported                                                                   \n",
       "Filename                   pool/universe/g/gnash/klash_0.8.11~git20130903...\n",
       "dist_from_expected_size                                               119045\n",
       "#Depends                                                                  10\n",
       "Summing dependances                                                 41540642\n",
       "Dependance traces          {'klash : 0.8.11~git20130903-3ubuntu1': {'libq...\n",
       "Childrens                  {8197, 13834, 13835, 15372, 17423, 13848, 1743...\n",
       "Name: 9542, dtype: object"
      ]
     },
     "execution_count": 28,
     "metadata": {},
     "output_type": "execute_result"
    }
   ],
   "source": [
    "import random\n",
    "r = random.randint(0, 56997)\n",
    "print(r)\n",
    "ground_truth.loc[r]\n",
    "#44449"
   ]
  },
  {
   "cell_type": "code",
   "execution_count": 29,
   "metadata": {},
   "outputs": [
    {
     "name": "stdout",
     "output_type": "stream",
     "text": [
      "There are :  141 subdependences for the Package sisc\n"
     ]
    }
   ],
   "source": [
    "print(\"There are : \" , len(ground_truth.loc[r][\"Dependance traces\"]), \"subdependences for the Package \" + ground_truth.iloc[r][\"Package\"])"
   ]
  },
  {
   "cell_type": "markdown",
   "metadata": {},
   "source": [
    "The trace of the python package"
   ]
  },
  {
   "cell_type": "code",
   "execution_count": 30,
   "metadata": {},
   "outputs": [
    {
     "data": {
      "text/plain": [
       "{'python : 2.7.5-5ubuntu3': {'libpython-stdlib : 2.7.5-5ubuntu3',\n",
       "  'python-minimal : 2.7.5-5ubuntu3',\n",
       "  'python2.7 : 2.7.6-8ubuntu0.4'},\n",
       " 'python2.7 : 2.7.6-8ubuntu0.4': {'libpython2.7-stdlib : 2.7.6-8ubuntu0.4',\n",
       "  'mime-support : 3.54ubuntu1.1',\n",
       "  'python2.7-minimal : 2.7.6-8ubuntu0.4'},\n",
       " 'python2.7-minimal : 2.7.6-8ubuntu0.4': {'libpython2.7-minimal : 2.7.6-8ubuntu0.4',\n",
       "  'zlib1g : 1:1.2.8.dfsg-1ubuntu1.1'},\n",
       " 'libpython2.7-minimal : 2.7.6-8ubuntu0.4': set(),\n",
       " 'zlib1g : 1:1.2.8.dfsg-1ubuntu1.1': {'libc6 : 2.19-0ubuntu6.14'},\n",
       " 'libc6 : 2.19-0ubuntu6.14': {'libgcc1 : 1:4.9.3-0ubuntu4'},\n",
       " 'libgcc1 : 1:4.9.3-0ubuntu4': {'gcc-4.9-base : 4.9.3-0ubuntu4',\n",
       "  'libc6 : 2.19-0ubuntu6.14'},\n",
       " 'gcc-4.9-base : 4.9.3-0ubuntu4': set(),\n",
       " 'libpython2.7-stdlib : 2.7.6-8ubuntu0.4': {'libbz2-1.0 : 1.0.6-5',\n",
       "  'libc6 : 2.19-0ubuntu6.14',\n",
       "  'libdb5.3 : 5.3.28-3ubuntu3.1',\n",
       "  'libexpat1 : 2.1.0-4ubuntu1.4',\n",
       "  'libffi6 : 3.1~rc1+r3.0.13-12ubuntu0.2',\n",
       "  'libncursesw5 : 5.9+20140118-1ubuntu1',\n",
       "  'libpython2.7-minimal : 2.7.6-8ubuntu0.4',\n",
       "  'libreadline6 : 6.3-4ubuntu2',\n",
       "  'libsqlite3-0 : 3.8.2-1ubuntu2.1',\n",
       "  'libssl1.0.0 : 1.0.1f-1ubuntu2.26',\n",
       "  'libtinfo5 : 5.9+20140118-1ubuntu1',\n",
       "  'mime-support : 3.54ubuntu1.1'},\n",
       " 'mime-support : 3.54ubuntu1.1': set(),\n",
       " 'libbz2-1.0 : 1.0.6-5': {'libc6 : 2.19-0ubuntu6.14'},\n",
       " 'libdb5.3 : 5.3.28-3ubuntu3.1': {'libc6 : 2.19-0ubuntu6.14'},\n",
       " 'libexpat1 : 2.1.0-4ubuntu1.4': {'libc6 : 2.19-0ubuntu6.14'},\n",
       " 'libffi6 : 3.1~rc1+r3.0.13-12ubuntu0.2': {'libc6 : 2.19-0ubuntu6.14'},\n",
       " 'libncursesw5 : 5.9+20140118-1ubuntu1': {'libc6 : 2.19-0ubuntu6.14',\n",
       "  'libtinfo5 : 5.9+20140118-1ubuntu1'},\n",
       " 'libtinfo5 : 5.9+20140118-1ubuntu1': {'libc6 : 2.19-0ubuntu6.14'},\n",
       " 'libreadline6 : 6.3-4ubuntu2': {'libc6 : 2.19-0ubuntu6.14',\n",
       "  'libtinfo5 : 5.9+20140118-1ubuntu1',\n",
       "  'readline-common : 6.3-4ubuntu2'},\n",
       " 'readline-common : 6.3-4ubuntu2': {'dpkg : 1.17.5ubuntu5.8'},\n",
       " 'dpkg : 1.17.5ubuntu5.8': set(),\n",
       " 'libsqlite3-0 : 3.8.2-1ubuntu2.1': {'libc6 : 2.19-0ubuntu6.14'},\n",
       " 'libssl1.0.0 : 1.0.1f-1ubuntu2.26': {'debconf : 1.5.51ubuntu2',\n",
       "  'libc6 : 2.19-0ubuntu6.14'},\n",
       " 'debconf : 1.5.51ubuntu2': set(),\n",
       " 'python-minimal : 2.7.5-5ubuntu3': {'dpkg : 1.17.5ubuntu5.8',\n",
       "  'python2.7-minimal : 2.7.6-8ubuntu0.4'},\n",
       " 'libpython-stdlib : 2.7.5-5ubuntu3': {'libpython2.7-stdlib : 2.7.6-8ubuntu0.4'}}"
      ]
     },
     "execution_count": 30,
     "metadata": {},
     "output_type": "execute_result"
    }
   ],
   "source": [
    "ground_truth[ground_truth[\"Package\"] == \"python\"].iloc[0][\"Dependance traces\"]"
   ]
  },
  {
   "cell_type": "code",
   "execution_count": null,
   "metadata": {},
   "outputs": [],
   "source": [
    "ground_truth[ground_truddth[\"Package\"] == \"python-minimal\" ]#.iloc[0][\"Depends\"]"
   ]
  },
  {
   "cell_type": "code",
   "execution_count": 31,
   "metadata": {},
   "outputs": [
    {
     "name": "stdout",
     "output_type": "stream",
     "text": [
      "All the dependences for the package python: \n"
     ]
    },
    {
     "data": {
      "text/plain": [
       "24"
      ]
     },
     "execution_count": 31,
     "metadata": {},
     "output_type": "execute_result"
    }
   ],
   "source": [
    "print(\"All the dependences for the package python: \")\n",
    "len(ground_truth.loc[18315][\"Dependance traces\"].keys())"
   ]
  },
  {
   "cell_type": "markdown",
   "metadata": {},
   "source": [
    "##### -------------------------------------------------------- END TEST SECTION ---------------------------------------------------------"
   ]
  },
  {
   "cell_type": "markdown",
   "metadata": {},
   "source": [
    "#### quantifing the percentages of ___what can be done___ and ___what cannot___\n",
    "\n",
    "1) Computing the elements involved in packages + Version."
   ]
  },
  {
   "cell_type": "code",
   "execution_count": 32,
   "metadata": {},
   "outputs": [
    {
     "data": {
      "text/plain": [
       "count    56997.000000\n",
       "mean        50.217485\n",
       "std         75.602141\n",
       "min          1.000000\n",
       "25%          6.000000\n",
       "50%         20.000000\n",
       "75%         64.000000\n",
       "max       1109.000000\n",
       "Name: Elements involved, dtype: float64"
      ]
     },
     "execution_count": 32,
     "metadata": {},
     "output_type": "execute_result"
    }
   ],
   "source": [
    "# The element itself is part of \n",
    "ground_truth[\"Elements involved\"] = ground_truth['Dependance traces'].map(lambda x: len(x))\n",
    "ground_truth[\"Elements involved\"].describe()\n"
   ]
  },
  {
   "cell_type": "markdown",
   "metadata": {},
   "source": [
    "In average, we have 50.21 other dependencies involved when we match exactly one dependance each time. since the median is low, only 20.\n",
    "\n",
    "<font color='red'>Important</font> : We are not considering multiple possibilities for one single dependance.\n",
    " (i.e. when having << we just pick the most recent version. We don't consider all the possibilites. Same for | we just pick the fisrt possible match )"
   ]
  },
  {
   "cell_type": "code",
   "execution_count": 33,
   "metadata": {},
   "outputs": [
    {
     "data": {
      "text/plain": [
       "<matplotlib.axes._subplots.AxesSubplot at 0x11b941f28>"
      ]
     },
     "execution_count": 33,
     "metadata": {},
     "output_type": "execute_result"
    },
    {
     "data": {
      "image/png": "[encoded data removed]",
      "text/plain": [
       "<Figure size 432x288 with 1 Axes>"
      ]
     },
     "metadata": {},
     "output_type": "display_data"
    }
   ],
   "source": [
    "ground_truth[\"Elements involved\"].plot.hist(bins = 98, xlim=[0,300])"
   ]
  },
  {
   "cell_type": "markdown",
   "metadata": {},
   "source": [
    "Seems like it follows a nice exponnential distribution"
   ]
  },
  {
   "cell_type": "code",
   "execution_count": 34,
   "metadata": {},
   "outputs": [],
   "source": [
    "def analyseDep(depString):\n",
    "    \"\"\"\n",
    "    Extract interessting numbers about dependances specificaton\n",
    "    \"\"\"\n",
    "    ids = list()\n",
    "    \n",
    "    eq = 0\n",
    "    beq = 0\n",
    "    leq = 0\n",
    "    lessThan = 0\n",
    "    biggerThan = 0\n",
    "    alternatives = 0\n",
    "    noSpec = 0\n",
    "    \n",
    "    \n",
    "\n",
    "    for d in depString.split(\", \"):\n",
    "        \n",
    "        alternatives += len(d.split(\" | \")) - 1\n",
    "        \n",
    "        for d2 in d.split(\" | \"):\n",
    "\n",
    "            d2 = d2.split(\" (\")\n",
    "\n",
    "            package = d2[0]\n",
    "\n",
    "            version = \"\"\n",
    "            if len(d2) == 2:\n",
    "                # We have more info about the version\n",
    "                (req, version) = d2[1][:-1].split(\" \")\n",
    "\n",
    "                if req == \"<<\" :\n",
    "                    lessThan +=1 \n",
    "                    req = \"<\"\n",
    "                    \n",
    "                if req == \"<=\":\n",
    "                    leq +=1\n",
    "                    \n",
    "                if req == \"=\":\n",
    "                    req = \"==\"\n",
    "                    eq +=1\n",
    "                    \n",
    "                if req == \">=\":\n",
    "                    beq +=1\n",
    "                    \n",
    "                if req == \">>\":\n",
    "                    req = \">\"\n",
    "                    biggerThan += 1\n",
    "            \n",
    "            else:\n",
    "                # No info about the version\n",
    "                noSpec +=1\n",
    "                \n",
    "    return lessThan, leq, eq, beq, biggerThan, noSpec, alternatives\n",
    "\n",
    "ground_truth[\"<<\"], ground_truth[\"<=\"], ground_truth[\"=\"], ground_truth[\">=\"], ground_truth[\">>\"], ground_truth[\"noSpec\"], ground_truth[\"alternatives\"] = zip(*ground_truth[\"Depends\"].map(analyseDep))                           "
   ]
  },
  {
   "cell_type": "code",
   "execution_count": 35,
   "metadata": {},
   "outputs": [
    {
     "data": {
      "text/plain": [
       "<<                4212\n",
       "<=                  38\n",
       "=                19854\n",
       ">=              119179\n",
       ">>                 513\n",
       "noSpec           98732\n",
       "alternatives     10715\n",
       "dtype: int64"
      ]
     },
     "execution_count": 35,
     "metadata": {},
     "output_type": "execute_result"
    }
   ],
   "source": [
    "version_spe = ground_truth[[\"<<\", \"<=\", \"=\", \">=\", \">>\", \"noSpec\", \"alternatives\"]].sum()\n",
    "version_spe"
   ]
  },
  {
   "cell_type": "markdown",
   "metadata": {},
   "source": [
    "Using percentage we have"
   ]
  },
  {
   "cell_type": "code",
   "execution_count": 36,
   "metadata": {},
   "outputs": [
    {
     "data": {
      "text/plain": [
       "<<               1.663%\n",
       "<=               0.015%\n",
       "=                7.840%\n",
       ">=              47.061%\n",
       ">>               0.203%\n",
       "noSpec          38.987%\n",
       "alternatives     4.231%\n",
       "dtype: object"
      ]
     },
     "execution_count": 36,
     "metadata": {},
     "output_type": "execute_result"
    }
   ],
   "source": [
    "total = ground_truth[[\"<<\", \"<=\", \"=\", \">=\", \">>\", \"noSpec\", \"alternatives\"]].sum().sum()\n",
    "version_spe = ground_truth[[\"<<\", \"<=\", \"=\", \">=\", \">>\", \"noSpec\", \"alternatives\"]].sum().map(lambda x: x/total * 100)\n",
    "ground_truth[[\"<<\", \"<=\", \"=\", \">=\", \">>\", \"noSpec\", \"alternatives\"]].sum().map(lambda x: \"{0:.3f}%\".format(x/total * 100))\n"
   ]
  },
  {
   "cell_type": "markdown",
   "metadata": {},
   "source": [
    "##### Visualization of the previous countities"
   ]
  },
  {
   "cell_type": "code",
   "execution_count": 37,
   "metadata": {},
   "outputs": [
    {
     "data": {
      "text/plain": [
       "<matplotlib.axes._subplots.AxesSubplot at 0x11fb67a90>"
      ]
     },
     "execution_count": 37,
     "metadata": {},
     "output_type": "execute_result"
    },
    {
     "data": {
      "image/png": "[encoded data removed]",
      "text/plain": [
       "<Figure size 432x288 with 1 Axes>"
      ]
     },
     "metadata": {},
     "output_type": "display_data"
    }
   ],
   "source": [
    "version_spe.plot.barh(x = \"percentage\", xlim = [0,50])"
   ]
  },
  {
   "cell_type": "markdown",
   "metadata": {},
   "source": [
    "Here we see that the proportion of `<=` and `>>` is negligible compare to the rest. Indeed, generlly we don't specify that we want strictly higher than a specific version we will rather say this version or higher. Same applies for `<=`, we want stricly less than a specific version in general. \n",
    "\n",
    "The vast majority is in `>=` and no spec. "
   ]
  },
  {
   "cell_type": "markdown",
   "metadata": {},
   "source": [
    "### Building the dependances trees as a dictionnary"
   ]
  },
  {
   "cell_type": "code",
   "execution_count": null,
   "metadata": {},
   "outputs": [],
   "source": [
    "All_traces = dict()\n",
    "for index, row in tqdm.tqdm(ground_truth.iterrows()):\n",
    "    All_traces = {**All_traces, **row['Dependance traces']}\n",
    "    \n"
   ]
  },
  {
   "cell_type": "code",
   "execution_count": 39,
   "metadata": {},
   "outputs": [
    {
     "data": {
      "text/plain": [
       "{'libbz2-1.0 : 1.0.6-5',\n",
       " 'libc6 : 2.19-0ubuntu6.14',\n",
       " 'libdb5.3 : 5.3.28-3ubuntu3.1',\n",
       " 'libgdbm3 : 1.8.3-12build1',\n",
       " 'perl-base : 5.18.2-2ubuntu1.6',\n",
       " 'perl-modules : 5.18.2-2ubuntu1.6',\n",
       " 'zlib1g : 1:1.2.8.dfsg-1ubuntu1.1'}"
      ]
     },
     "execution_count": 39,
     "metadata": {},
     "output_type": "execute_result"
    }
   ],
   "source": [
    "All_traces[\"perl : 5.18.2-2ubuntu1.6\"]"
   ]
  },
  {
   "cell_type": "code",
   "execution_count": 40,
   "metadata": {},
   "outputs": [
    {
     "data": {
      "text/plain": [
       "{'libc6 : 2.19-0ubuntu6.14'}"
      ]
     },
     "execution_count": 40,
     "metadata": {},
     "output_type": "execute_result"
    }
   ],
   "source": [
    "All_traces[\"zlib1g : 1:1.2.8.dfsg-1ubuntu1.1\"]"
   ]
  },
  {
   "cell_type": "code",
   "execution_count": 41,
   "metadata": {},
   "outputs": [
    {
     "data": {
      "text/plain": [
       "{'libgcc1 : 1:4.9.3-0ubuntu4'}"
      ]
     },
     "execution_count": 41,
     "metadata": {},
     "output_type": "execute_result"
    }
   ],
   "source": [
    "All_traces[\"libc6 : 2.19-0ubuntu6.14\"]"
   ]
  },
  {
   "cell_type": "code",
   "execution_count": 42,
   "metadata": {},
   "outputs": [
    {
     "data": {
      "text/plain": [
       "{'gcc-4.9-base : 4.9.3-0ubuntu4', 'libc6 : 2.19-0ubuntu6.14'}"
      ]
     },
     "execution_count": 42,
     "metadata": {},
     "output_type": "execute_result"
    }
   ],
   "source": [
    "All_traces['libgcc1 : 1:4.9.3-0ubuntu4']"
   ]
  },
  {
   "cell_type": "code",
   "execution_count": 43,
   "metadata": {},
   "outputs": [
    {
     "data": {
      "text/plain": [
       "set()"
      ]
     },
     "execution_count": 43,
     "metadata": {},
     "output_type": "execute_result"
    }
   ],
   "source": [
    "All_traces[\"gcc-4.9-base : 4.9.3-0ubuntu4\"]"
   ]
  },
  {
   "cell_type": "markdown",
   "metadata": {},
   "source": [
    "###### Top 5 of Package requiring the most # of dependences"
   ]
  },
  {
   "cell_type": "code",
   "execution_count": 44,
   "metadata": {},
   "outputs": [
    {
     "data": {
      "text/html": [
       "<div>\n",
       "<style scoped>\n",
       "    .dataframe tbody tr th:only-of-type {\n",
       "        vertical-align: middle;\n",
       "    }\n",
       "\n",
       "    .dataframe tbody tr th {\n",
       "        vertical-align: top;\n",
       "    }\n",
       "\n",
       "    .dataframe thead th {\n",
       "        text-align: right;\n",
       "    }\n",
       "</style>\n",
       "<table border=\"1\" class=\"dataframe\">\n",
       "  <thead>\n",
       "    <tr style=\"text-align: right;\">\n",
       "      <th></th>\n",
       "      <th>Package</th>\n",
       "      <th>Version</th>\n",
       "      <th>Size</th>\n",
       "      <th>Dependance traces</th>\n",
       "      <th>Elements involved</th>\n",
       "      <th>Summing dependances</th>\n",
       "    </tr>\n",
       "    <tr>\n",
       "      <th>id</th>\n",
       "      <th></th>\n",
       "      <th></th>\n",
       "      <th></th>\n",
       "      <th></th>\n",
       "      <th></th>\n",
       "      <th></th>\n",
       "    </tr>\n",
       "  </thead>\n",
       "  <tbody>\n",
       "    <tr>\n",
       "      <th>29528</th>\n",
       "      <td>kubuntu-full</td>\n",
       "      <td>1.308</td>\n",
       "      <td>2626</td>\n",
       "      <td>{'kubuntu-full : 1.308': {'kde-runtime : 4:4.1...</td>\n",
       "      <td>1109</td>\n",
       "      <td>736776922</td>\n",
       "    </tr>\n",
       "    <tr>\n",
       "      <th>9612</th>\n",
       "      <td>kubuntu-full</td>\n",
       "      <td>1.308.1.2</td>\n",
       "      <td>2660</td>\n",
       "      <td>{'kubuntu-full : 1.308.1.2': {'kde-runtime : 4...</td>\n",
       "      <td>1109</td>\n",
       "      <td>736776956</td>\n",
       "    </tr>\n",
       "    <tr>\n",
       "      <th>26944</th>\n",
       "      <td>gnome-desktop-environment</td>\n",
       "      <td>1:3.8+4ubuntu3</td>\n",
       "      <td>3130</td>\n",
       "      <td>{'gnome-desktop-environment : 1:3.8+4ubuntu3':...</td>\n",
       "      <td>1080</td>\n",
       "      <td>453541476</td>\n",
       "    </tr>\n",
       "    <tr>\n",
       "      <th>26915</th>\n",
       "      <td>gnome</td>\n",
       "      <td>1:3.8+4ubuntu3</td>\n",
       "      <td>2830</td>\n",
       "      <td>{'gnome : 1:3.8+4ubuntu3': {'cheese : 3.10.2-0...</td>\n",
       "      <td>1079</td>\n",
       "      <td>453538346</td>\n",
       "    </tr>\n",
       "    <tr>\n",
       "      <th>54490</th>\n",
       "      <td>ubuntu-touch</td>\n",
       "      <td>1.126</td>\n",
       "      <td>2466</td>\n",
       "      <td>{'ubuntu-touch : 1.126': {'qtdeclarative5-qtmu...</td>\n",
       "      <td>1063</td>\n",
       "      <td>405727828</td>\n",
       "    </tr>\n",
       "  </tbody>\n",
       "</table>\n",
       "</div>"
      ],
      "text/plain": [
       "                         Package         Version  Size  \\\n",
       "id                                                       \n",
       "29528               kubuntu-full           1.308  2626   \n",
       "9612                kubuntu-full       1.308.1.2  2660   \n",
       "26944  gnome-desktop-environment  1:3.8+4ubuntu3  3130   \n",
       "26915                      gnome  1:3.8+4ubuntu3  2830   \n",
       "54490               ubuntu-touch           1.126  2466   \n",
       "\n",
       "                                       Dependance traces  Elements involved  \\\n",
       "id                                                                            \n",
       "29528  {'kubuntu-full : 1.308': {'kde-runtime : 4:4.1...               1109   \n",
       "9612   {'kubuntu-full : 1.308.1.2': {'kde-runtime : 4...               1109   \n",
       "26944  {'gnome-desktop-environment : 1:3.8+4ubuntu3':...               1080   \n",
       "26915  {'gnome : 1:3.8+4ubuntu3': {'cheese : 3.10.2-0...               1079   \n",
       "54490  {'ubuntu-touch : 1.126': {'qtdeclarative5-qtmu...               1063   \n",
       "\n",
       "       Summing dependances  \n",
       "id                          \n",
       "29528            736776922  \n",
       "9612             736776956  \n",
       "26944            453541476  \n",
       "26915            453538346  \n",
       "54490            405727828  "
      ]
     },
     "execution_count": 44,
     "metadata": {},
     "output_type": "execute_result"
    }
   ],
   "source": [
    "ground_truth[[\"Package\", \"Version\", \"Size\", \"Dependance traces\",\"Elements involved\",\"Summing dependances\" ]].sort_values(\"Elements involved\", ascending=False).iloc[0:5]"
   ]
  },
  {
   "cell_type": "markdown",
   "metadata": {},
   "source": [
    "###### Top 5 of Package requiring the most space"
   ]
  },
  {
   "cell_type": "code",
   "execution_count": 147,
   "metadata": {},
   "outputs": [
    {
     "data": {
      "text/html": [
       "<div>\n",
       "<style scoped>\n",
       "    .dataframe tbody tr th:only-of-type {\n",
       "        vertical-align: middle;\n",
       "    }\n",
       "\n",
       "    .dataframe tbody tr th {\n",
       "        vertical-align: top;\n",
       "    }\n",
       "\n",
       "    .dataframe thead th {\n",
       "        text-align: right;\n",
       "    }\n",
       "</style>\n",
       "<table border=\"1\" class=\"dataframe\">\n",
       "  <thead>\n",
       "    <tr style=\"text-align: right;\">\n",
       "      <th></th>\n",
       "      <th>Package</th>\n",
       "      <th>Version</th>\n",
       "      <th>Size</th>\n",
       "      <th>Dependance traces</th>\n",
       "      <th>Elements involved</th>\n",
       "      <th>Summing dependances</th>\n",
       "    </tr>\n",
       "    <tr>\n",
       "      <th>id</th>\n",
       "      <th></th>\n",
       "      <th></th>\n",
       "      <th></th>\n",
       "      <th></th>\n",
       "      <th></th>\n",
       "      <th></th>\n",
       "    </tr>\n",
       "  </thead>\n",
       "  <tbody>\n",
       "    <tr>\n",
       "      <th>11355</th>\n",
       "      <td>texlive-full</td>\n",
       "      <td>2013.20140215-1ubuntu0.1</td>\n",
       "      <td>14542</td>\n",
       "      <td>{'texlive-full : 2013.20140215-1ubuntu0.1': {'...</td>\n",
       "      <td>281</td>\n",
       "      <td>1684150276</td>\n",
       "    </tr>\n",
       "    <tr>\n",
       "      <th>53769</th>\n",
       "      <td>texlive-full</td>\n",
       "      <td>2013.20140215-1</td>\n",
       "      <td>14502</td>\n",
       "      <td>{'texlive-full : 2013.20140215-1': {'texlive-f...</td>\n",
       "      <td>281</td>\n",
       "      <td>1684150236</td>\n",
       "    </tr>\n",
       "    <tr>\n",
       "      <th>20985</th>\n",
       "      <td>0ad-dbg</td>\n",
       "      <td>0.0.15+dfsg-3</td>\n",
       "      <td>55484348</td>\n",
       "      <td>{'0ad-dbg : 0.0.15+dfsg-3': {'0ad : 0.0.15+dfs...</td>\n",
       "      <td>165</td>\n",
       "      <td>1145821568</td>\n",
       "    </tr>\n",
       "    <tr>\n",
       "      <th>25283</th>\n",
       "      <td>flightgear</td>\n",
       "      <td>3.0.0-1</td>\n",
       "      <td>3834076</td>\n",
       "      <td>{'flightgear : 3.0.0-1': {'libglu1-mesa : 9.0....</td>\n",
       "      <td>268</td>\n",
       "      <td>1090723236</td>\n",
       "    </tr>\n",
       "    <tr>\n",
       "      <th>20982</th>\n",
       "      <td>0ad</td>\n",
       "      <td>0.0.15+dfsg-3</td>\n",
       "      <td>2561358</td>\n",
       "      <td>{'0ad : 0.0.15+dfsg-3': {'libxml2 : 2.9.1+dfsg...</td>\n",
       "      <td>164</td>\n",
       "      <td>1090337220</td>\n",
       "    </tr>\n",
       "  </tbody>\n",
       "</table>\n",
       "</div>"
      ],
      "text/plain": [
       "            Package                   Version      Size  \\\n",
       "id                                                        \n",
       "11355  texlive-full  2013.20140215-1ubuntu0.1     14542   \n",
       "53769  texlive-full           2013.20140215-1     14502   \n",
       "20985       0ad-dbg             0.0.15+dfsg-3  55484348   \n",
       "25283    flightgear                   3.0.0-1   3834076   \n",
       "20982           0ad             0.0.15+dfsg-3   2561358   \n",
       "\n",
       "                                       Dependance traces  Elements involved  \\\n",
       "id                                                                            \n",
       "11355  {'texlive-full : 2013.20140215-1ubuntu0.1': {'...                281   \n",
       "53769  {'texlive-full : 2013.20140215-1': {'texlive-f...                281   \n",
       "20985  {'0ad-dbg : 0.0.15+dfsg-3': {'0ad : 0.0.15+dfs...                165   \n",
       "25283  {'flightgear : 3.0.0-1': {'libglu1-mesa : 9.0....                268   \n",
       "20982  {'0ad : 0.0.15+dfsg-3': {'libxml2 : 2.9.1+dfsg...                164   \n",
       "\n",
       "       Summing dependances  \n",
       "id                          \n",
       "11355           1684150276  \n",
       "53769           1684150236  \n",
       "20985           1145821568  \n",
       "25283           1090723236  \n",
       "20982           1090337220  "
      ]
     },
     "execution_count": 147,
     "metadata": {},
     "output_type": "execute_result"
    }
   ],
   "source": [
    "ground_truth[[\"Package\", \"Version\", \"Size\", \"Dependance traces\",\"Elements involved\",\"Summing dependances\" ]].sort_values(\"Summing dependances\", ascending=False).iloc[0:5]"
   ]
  },
  {
   "cell_type": "markdown",
   "metadata": {},
   "source": [
    "Let's group our list by size and by sum of dependances:"
   ]
  },
  {
   "cell_type": "code",
   "execution_count": 93,
   "metadata": {},
   "outputs": [
    {
     "name": "stdout",
     "output_type": "stream",
     "text": [
      "43710\n"
     ]
    },
    {
     "data": {
      "text/plain": [
       "Package\n",
       "1    0.830611\n",
       "2    0.110867\n",
       "3    0.035941\n",
       "4    0.012560\n",
       "5    0.004850\n",
       "Name: Version, dtype: float64"
      ]
     },
     "execution_count": 93,
     "metadata": {},
     "output_type": "execute_result"
    }
   ],
   "source": [
    "bySize = ground_truth.groupby(by=\"Size\").count().groupby(by = \"Package\").count()\n",
    "total = bySize[\"Version\"].sum()\n",
    "print(total)\n",
    "bySize[\"Version\"].map(lambda x : x/total).sort_values(ascending = False).head()"
   ]
  },
  {
   "cell_type": "code",
   "execution_count": 94,
   "metadata": {},
   "outputs": [
    {
     "data": {
      "text/plain": [
       "Package\n",
       "1    0.981139\n",
       "2    0.017589\n",
       "3    0.000860\n",
       "4    0.000233\n",
       "5    0.000090\n",
       "6    0.000018\n",
       "7    0.000054\n",
       "9    0.000018\n",
       "Name: Version, dtype: float64"
      ]
     },
     "execution_count": 94,
     "metadata": {},
     "output_type": "execute_result"
    }
   ],
   "source": [
    "includingDep = ground_truth.groupby(by=\"Summing dependances\").count().groupby(by = \"Package\").count()\n",
    "total = includingDep[\"Version\"].sum()\n",
    "includingDep[\"Version\"].map(lambda x : x/total)"
   ]
  },
  {
   "cell_type": "code",
   "execution_count": 95,
   "metadata": {},
   "outputs": [
    {
     "data": {
      "text/plain": [
       "1    0.856584\n",
       "2    0.106516\n",
       "3    0.022322\n",
       "4    0.008270\n",
       "5    0.003207\n",
       "dtype: float64"
      ]
     },
     "execution_count": 95,
     "metadata": {},
     "output_type": "execute_result"
    }
   ],
   "source": [
    "both = ground_truth[\"Size\"].append(ground_truth[\"Summing dependances\"])\n",
    "grouped = both.groupby(both).count()\n",
    "uniqueness = grouped.groupby(grouped).count().sort_values(ascending = False)\n",
    "total = uniqueness.sum()\n",
    "uniqueness.map(lambda x : x/total).head()"
   ]
  },
  {
   "cell_type": "markdown",
   "metadata": {},
   "source": [
    "#### Most frequent dependences"
   ]
  },
  {
   "cell_type": "code",
   "execution_count": null,
   "metadata": {},
   "outputs": [],
   "source": [
    "\n",
    "for _, row in tqdm.tqdm(ground_truth.iterrows(), total=tot ):\n",
    "    \n",
    "    \n",
    "    d[row.name] = ground_truth[\"Childrens\"].map(lambda childrens: row.name in childrens).sum()\n",
    "\n",
    "    \n",
    "s = pd.Series(d, name='Dependence Frequency')\n",
    "ground_truth = ground_truth.assign( Frequency= s)\n"
   ]
  },
  {
   "cell_type": "code",
   "execution_count": 92,
   "metadata": {},
   "outputs": [
    {
     "data": {
      "text/html": [
       "<div>\n",
       "<style scoped>\n",
       "    .dataframe tbody tr th:only-of-type {\n",
       "        vertical-align: middle;\n",
       "    }\n",
       "\n",
       "    .dataframe tbody tr th {\n",
       "        vertical-align: top;\n",
       "    }\n",
       "\n",
       "    .dataframe thead th {\n",
       "        text-align: right;\n",
       "    }\n",
       "</style>\n",
       "<table border=\"1\" class=\"dataframe\">\n",
       "  <thead>\n",
       "    <tr style=\"text-align: right;\">\n",
       "      <th></th>\n",
       "      <th>Package</th>\n",
       "      <th>Version</th>\n",
       "      <th>Size</th>\n",
       "      <th>Dependance traces</th>\n",
       "      <th>Elements involved</th>\n",
       "      <th>Summing dependances</th>\n",
       "      <th>Frequency</th>\n",
       "    </tr>\n",
       "    <tr>\n",
       "      <th>id</th>\n",
       "      <th></th>\n",
       "      <th></th>\n",
       "      <th></th>\n",
       "      <th></th>\n",
       "      <th></th>\n",
       "      <th></th>\n",
       "      <th></th>\n",
       "    </tr>\n",
       "  </thead>\n",
       "  <tbody>\n",
       "    <tr>\n",
       "      <th>751</th>\n",
       "      <td>gcc-4.9-base</td>\n",
       "      <td>4.9.3-0ubuntu4</td>\n",
       "      <td>15146</td>\n",
       "      <td>{'gcc-4.9-base : 4.9.3-0ubuntu4': {}}</td>\n",
       "      <td>1</td>\n",
       "      <td>15146</td>\n",
       "      <td>48385</td>\n",
       "    </tr>\n",
       "    <tr>\n",
       "      <th>2077</th>\n",
       "      <td>libgcc1</td>\n",
       "      <td>1:4.9.3-0ubuntu4</td>\n",
       "      <td>39194</td>\n",
       "      <td>{'libgcc1 : 1:4.9.3-0ubuntu4': {'gcc-4.9-base ...</td>\n",
       "      <td>3</td>\n",
       "      <td>4806878</td>\n",
       "      <td>48382</td>\n",
       "    </tr>\n",
       "    <tr>\n",
       "      <th>1784</th>\n",
       "      <td>libc6</td>\n",
       "      <td>2.19-0ubuntu6.14</td>\n",
       "      <td>4752538</td>\n",
       "      <td>{'libc6 : 2.19-0ubuntu6.14': {'libgcc1 : 1:4.9...</td>\n",
       "      <td>3</td>\n",
       "      <td>4806878</td>\n",
       "      <td>48382</td>\n",
       "    </tr>\n",
       "    <tr>\n",
       "      <th>8618</th>\n",
       "      <td>zlib1g</td>\n",
       "      <td>1:1.2.8.dfsg-1ubuntu1.1</td>\n",
       "      <td>49800</td>\n",
       "      <td>{'zlib1g : 1:1.2.8.dfsg-1ubuntu1.1': {'libc6 :...</td>\n",
       "      <td>4</td>\n",
       "      <td>4856678</td>\n",
       "      <td>33164</td>\n",
       "    </tr>\n",
       "    <tr>\n",
       "      <th>12011</th>\n",
       "      <td>debconf</td>\n",
       "      <td>1.5.51ubuntu2</td>\n",
       "      <td>136156</td>\n",
       "      <td>{'debconf : 1.5.51ubuntu2': {}}</td>\n",
       "      <td>1</td>\n",
       "      <td>136156</td>\n",
       "      <td>27592</td>\n",
       "    </tr>\n",
       "    <tr>\n",
       "      <th>14027</th>\n",
       "      <td>libbz2-1.0</td>\n",
       "      <td>1.0.6-5</td>\n",
       "      <td>33946</td>\n",
       "      <td>{'libbz2-1.0 : 1.0.6-5': {'libc6 : 2.19-0ubunt...</td>\n",
       "      <td>4</td>\n",
       "      <td>4840824</td>\n",
       "      <td>25507</td>\n",
       "    </tr>\n",
       "    <tr>\n",
       "      <th>2826</th>\n",
       "      <td>libpcre3</td>\n",
       "      <td>1:8.31-2ubuntu2.3</td>\n",
       "      <td>144410</td>\n",
       "      <td>{'libpcre3 : 1:8.31-2ubuntu2.3': {'libc6 : 2.1...</td>\n",
       "      <td>4</td>\n",
       "      <td>4951288</td>\n",
       "      <td>22205</td>\n",
       "    </tr>\n",
       "    <tr>\n",
       "      <th>2008</th>\n",
       "      <td>libffi6</td>\n",
       "      <td>3.1~rc1+r3.0.13-12ubuntu0.2</td>\n",
       "      <td>17864</td>\n",
       "      <td>{'libffi6 : 3.1~rc1+r3.0.13-12ubuntu0.2': {'li...</td>\n",
       "      <td>4</td>\n",
       "      <td>4824742</td>\n",
       "      <td>22112</td>\n",
       "    </tr>\n",
       "    <tr>\n",
       "      <th>3162</th>\n",
       "      <td>libselinux1</td>\n",
       "      <td>2.2.2-1ubuntu0.1</td>\n",
       "      <td>58690</td>\n",
       "      <td>{'libselinux1 : 2.2.2-1ubuntu0.1': {'libpcre3 ...</td>\n",
       "      <td>5</td>\n",
       "      <td>5009978</td>\n",
       "      <td>21588</td>\n",
       "    </tr>\n",
       "    <tr>\n",
       "      <th>515</th>\n",
       "      <td>dpkg</td>\n",
       "      <td>1.17.5ubuntu5.8</td>\n",
       "      <td>1957810</td>\n",
       "      <td>{'dpkg : 1.17.5ubuntu5.8': {}}</td>\n",
       "      <td>1</td>\n",
       "      <td>1957810</td>\n",
       "      <td>20873</td>\n",
       "    </tr>\n",
       "  </tbody>\n",
       "</table>\n",
       "</div>"
      ],
      "text/plain": [
       "            Package                      Version     Size  \\\n",
       "id                                                          \n",
       "751    gcc-4.9-base               4.9.3-0ubuntu4    15146   \n",
       "2077        libgcc1             1:4.9.3-0ubuntu4    39194   \n",
       "1784          libc6             2.19-0ubuntu6.14  4752538   \n",
       "8618         zlib1g      1:1.2.8.dfsg-1ubuntu1.1    49800   \n",
       "12011       debconf                1.5.51ubuntu2   136156   \n",
       "14027    libbz2-1.0                      1.0.6-5    33946   \n",
       "2826       libpcre3            1:8.31-2ubuntu2.3   144410   \n",
       "2008        libffi6  3.1~rc1+r3.0.13-12ubuntu0.2    17864   \n",
       "3162    libselinux1             2.2.2-1ubuntu0.1    58690   \n",
       "515            dpkg              1.17.5ubuntu5.8  1957810   \n",
       "\n",
       "                                       Dependance traces  Elements involved  \\\n",
       "id                                                                            \n",
       "751                {'gcc-4.9-base : 4.9.3-0ubuntu4': {}}                  1   \n",
       "2077   {'libgcc1 : 1:4.9.3-0ubuntu4': {'gcc-4.9-base ...                  3   \n",
       "1784   {'libc6 : 2.19-0ubuntu6.14': {'libgcc1 : 1:4.9...                  3   \n",
       "8618   {'zlib1g : 1:1.2.8.dfsg-1ubuntu1.1': {'libc6 :...                  4   \n",
       "12011                    {'debconf : 1.5.51ubuntu2': {}}                  1   \n",
       "14027  {'libbz2-1.0 : 1.0.6-5': {'libc6 : 2.19-0ubunt...                  4   \n",
       "2826   {'libpcre3 : 1:8.31-2ubuntu2.3': {'libc6 : 2.1...                  4   \n",
       "2008   {'libffi6 : 3.1~rc1+r3.0.13-12ubuntu0.2': {'li...                  4   \n",
       "3162   {'libselinux1 : 2.2.2-1ubuntu0.1': {'libpcre3 ...                  5   \n",
       "515                       {'dpkg : 1.17.5ubuntu5.8': {}}                  1   \n",
       "\n",
       "       Summing dependances  Frequency  \n",
       "id                                     \n",
       "751                  15146      48385  \n",
       "2077               4806878      48382  \n",
       "1784               4806878      48382  \n",
       "8618               4856678      33164  \n",
       "12011               136156      27592  \n",
       "14027              4840824      25507  \n",
       "2826               4951288      22205  \n",
       "2008               4824742      22112  \n",
       "3162               5009978      21588  \n",
       "515                1957810      20873  "
      ]
     },
     "execution_count": 92,
     "metadata": {},
     "output_type": "execute_result"
    }
   ],
   "source": [
    "ground_truth = ground_truth.assign( Frequency= s)\n",
    "ground_truth[[\"Package\", \"Version\", \"Size\", \"Dependance traces\",\"Elements involved\",\"Summing dependances\", \"Frequency\" ]].sort_values(by=\"Frequency\", ascending=False).head(10)"
   ]
  },
  {
   "cell_type": "code",
   "execution_count": 49,
   "metadata": {},
   "outputs": [
    {
     "data": {
      "text/plain": [
       "True"
      ]
     },
     "execution_count": 49,
     "metadata": {},
     "output_type": "execute_result"
    }
   ],
   "source": [
    "d = set()\n",
    "d.add(\"Yoo\")\n",
    "\"Yoo\" in d"
   ]
  },
  {
   "cell_type": "code",
   "execution_count": 93,
   "metadata": {},
   "outputs": [
    {
     "data": {
      "text/plain": [
       "count    56997.000000\n",
       "mean        50.236030\n",
       "std        700.517587\n",
       "min          1.000000\n",
       "25%          1.000000\n",
       "50%          1.000000\n",
       "75%          3.000000\n",
       "max      48385.000000\n",
       "Name: Frequency, dtype: float64"
      ]
     },
     "execution_count": 93,
     "metadata": {},
     "output_type": "execute_result"
    }
   ],
   "source": [
    "ground_truth[\"Frequency\"].describe()"
   ]
  },
  {
   "cell_type": "code",
   "execution_count": 97,
   "metadata": {},
   "outputs": [],
   "source": [
    "ground_truth[\"Freq in %\"] = ground_truth[\"Frequency\"].map(lambda x : x/len(ground_truth) )"
   ]
  },
  {
   "cell_type": "code",
   "execution_count": 99,
   "metadata": {},
   "outputs": [
    {
     "data": {
      "text/html": [
       "<div>\n",
       "<style scoped>\n",
       "    .dataframe tbody tr th:only-of-type {\n",
       "        vertical-align: middle;\n",
       "    }\n",
       "\n",
       "    .dataframe tbody tr th {\n",
       "        vertical-align: top;\n",
       "    }\n",
       "\n",
       "    .dataframe thead th {\n",
       "        text-align: right;\n",
       "    }\n",
       "</style>\n",
       "<table border=\"1\" class=\"dataframe\">\n",
       "  <thead>\n",
       "    <tr style=\"text-align: right;\">\n",
       "      <th></th>\n",
       "      <th>Package</th>\n",
       "      <th>Version</th>\n",
       "      <th>Size</th>\n",
       "      <th>Dependance traces</th>\n",
       "      <th>Elements involved</th>\n",
       "      <th>Summing dependances</th>\n",
       "      <th>Freq in %</th>\n",
       "    </tr>\n",
       "    <tr>\n",
       "      <th>id</th>\n",
       "      <th></th>\n",
       "      <th></th>\n",
       "      <th></th>\n",
       "      <th></th>\n",
       "      <th></th>\n",
       "      <th></th>\n",
       "      <th></th>\n",
       "    </tr>\n",
       "  </thead>\n",
       "  <tbody>\n",
       "    <tr>\n",
       "      <th>751</th>\n",
       "      <td>gcc-4.9-base</td>\n",
       "      <td>4.9.3-0ubuntu4</td>\n",
       "      <td>15146</td>\n",
       "      <td>{'gcc-4.9-base : 4.9.3-0ubuntu4': {}}</td>\n",
       "      <td>1</td>\n",
       "      <td>15146</td>\n",
       "      <td>0.848904</td>\n",
       "    </tr>\n",
       "    <tr>\n",
       "      <th>2077</th>\n",
       "      <td>libgcc1</td>\n",
       "      <td>1:4.9.3-0ubuntu4</td>\n",
       "      <td>39194</td>\n",
       "      <td>{'libgcc1 : 1:4.9.3-0ubuntu4': {'gcc-4.9-base ...</td>\n",
       "      <td>3</td>\n",
       "      <td>4806878</td>\n",
       "      <td>0.848852</td>\n",
       "    </tr>\n",
       "    <tr>\n",
       "      <th>1784</th>\n",
       "      <td>libc6</td>\n",
       "      <td>2.19-0ubuntu6.14</td>\n",
       "      <td>4752538</td>\n",
       "      <td>{'libc6 : 2.19-0ubuntu6.14': {'libgcc1 : 1:4.9...</td>\n",
       "      <td>3</td>\n",
       "      <td>4806878</td>\n",
       "      <td>0.848852</td>\n",
       "    </tr>\n",
       "    <tr>\n",
       "      <th>8618</th>\n",
       "      <td>zlib1g</td>\n",
       "      <td>1:1.2.8.dfsg-1ubuntu1.1</td>\n",
       "      <td>49800</td>\n",
       "      <td>{'zlib1g : 1:1.2.8.dfsg-1ubuntu1.1': {'libc6 :...</td>\n",
       "      <td>4</td>\n",
       "      <td>4856678</td>\n",
       "      <td>0.581855</td>\n",
       "    </tr>\n",
       "    <tr>\n",
       "      <th>12011</th>\n",
       "      <td>debconf</td>\n",
       "      <td>1.5.51ubuntu2</td>\n",
       "      <td>136156</td>\n",
       "      <td>{'debconf : 1.5.51ubuntu2': {}}</td>\n",
       "      <td>1</td>\n",
       "      <td>136156</td>\n",
       "      <td>0.484096</td>\n",
       "    </tr>\n",
       "    <tr>\n",
       "      <th>14027</th>\n",
       "      <td>libbz2-1.0</td>\n",
       "      <td>1.0.6-5</td>\n",
       "      <td>33946</td>\n",
       "      <td>{'libbz2-1.0 : 1.0.6-5': {'libc6 : 2.19-0ubunt...</td>\n",
       "      <td>4</td>\n",
       "      <td>4840824</td>\n",
       "      <td>0.447515</td>\n",
       "    </tr>\n",
       "    <tr>\n",
       "      <th>2826</th>\n",
       "      <td>libpcre3</td>\n",
       "      <td>1:8.31-2ubuntu2.3</td>\n",
       "      <td>144410</td>\n",
       "      <td>{'libpcre3 : 1:8.31-2ubuntu2.3': {'libc6 : 2.1...</td>\n",
       "      <td>4</td>\n",
       "      <td>4951288</td>\n",
       "      <td>0.389582</td>\n",
       "    </tr>\n",
       "    <tr>\n",
       "      <th>2008</th>\n",
       "      <td>libffi6</td>\n",
       "      <td>3.1~rc1+r3.0.13-12ubuntu0.2</td>\n",
       "      <td>17864</td>\n",
       "      <td>{'libffi6 : 3.1~rc1+r3.0.13-12ubuntu0.2': {'li...</td>\n",
       "      <td>4</td>\n",
       "      <td>4824742</td>\n",
       "      <td>0.387950</td>\n",
       "    </tr>\n",
       "    <tr>\n",
       "      <th>3162</th>\n",
       "      <td>libselinux1</td>\n",
       "      <td>2.2.2-1ubuntu0.1</td>\n",
       "      <td>58690</td>\n",
       "      <td>{'libselinux1 : 2.2.2-1ubuntu0.1': {'libpcre3 ...</td>\n",
       "      <td>5</td>\n",
       "      <td>5009978</td>\n",
       "      <td>0.378757</td>\n",
       "    </tr>\n",
       "    <tr>\n",
       "      <th>515</th>\n",
       "      <td>dpkg</td>\n",
       "      <td>1.17.5ubuntu5.8</td>\n",
       "      <td>1957810</td>\n",
       "      <td>{'dpkg : 1.17.5ubuntu5.8': {}}</td>\n",
       "      <td>1</td>\n",
       "      <td>1957810</td>\n",
       "      <td>0.366212</td>\n",
       "    </tr>\n",
       "  </tbody>\n",
       "</table>\n",
       "</div>"
      ],
      "text/plain": [
       "            Package                      Version     Size  \\\n",
       "id                                                          \n",
       "751    gcc-4.9-base               4.9.3-0ubuntu4    15146   \n",
       "2077        libgcc1             1:4.9.3-0ubuntu4    39194   \n",
       "1784          libc6             2.19-0ubuntu6.14  4752538   \n",
       "8618         zlib1g      1:1.2.8.dfsg-1ubuntu1.1    49800   \n",
       "12011       debconf                1.5.51ubuntu2   136156   \n",
       "14027    libbz2-1.0                      1.0.6-5    33946   \n",
       "2826       libpcre3            1:8.31-2ubuntu2.3   144410   \n",
       "2008        libffi6  3.1~rc1+r3.0.13-12ubuntu0.2    17864   \n",
       "3162    libselinux1             2.2.2-1ubuntu0.1    58690   \n",
       "515            dpkg              1.17.5ubuntu5.8  1957810   \n",
       "\n",
       "                                       Dependance traces  Elements involved  \\\n",
       "id                                                                            \n",
       "751                {'gcc-4.9-base : 4.9.3-0ubuntu4': {}}                  1   \n",
       "2077   {'libgcc1 : 1:4.9.3-0ubuntu4': {'gcc-4.9-base ...                  3   \n",
       "1784   {'libc6 : 2.19-0ubuntu6.14': {'libgcc1 : 1:4.9...                  3   \n",
       "8618   {'zlib1g : 1:1.2.8.dfsg-1ubuntu1.1': {'libc6 :...                  4   \n",
       "12011                    {'debconf : 1.5.51ubuntu2': {}}                  1   \n",
       "14027  {'libbz2-1.0 : 1.0.6-5': {'libc6 : 2.19-0ubunt...                  4   \n",
       "2826   {'libpcre3 : 1:8.31-2ubuntu2.3': {'libc6 : 2.1...                  4   \n",
       "2008   {'libffi6 : 3.1~rc1+r3.0.13-12ubuntu0.2': {'li...                  4   \n",
       "3162   {'libselinux1 : 2.2.2-1ubuntu0.1': {'libpcre3 ...                  5   \n",
       "515                       {'dpkg : 1.17.5ubuntu5.8': {}}                  1   \n",
       "\n",
       "       Summing dependances  Freq in %  \n",
       "id                                     \n",
       "751                  15146   0.848904  \n",
       "2077               4806878   0.848852  \n",
       "1784               4806878   0.848852  \n",
       "8618               4856678   0.581855  \n",
       "12011               136156   0.484096  \n",
       "14027              4840824   0.447515  \n",
       "2826               4951288   0.389582  \n",
       "2008               4824742   0.387950  \n",
       "3162               5009978   0.378757  \n",
       "515                1957810   0.366212  "
      ]
     },
     "execution_count": 99,
     "metadata": {},
     "output_type": "execute_result"
    }
   ],
   "source": [
    "ground_truth[[\"Package\", \"Version\", \"Size\", \"Dependance traces\",\"Elements involved\",\"Summing dependances\", \"Freq in %\" ]].sort_values(by=\"Freq in %\", ascending=False).head(10)"
   ]
  },
  {
   "cell_type": "code",
   "execution_count": 107,
   "metadata": {},
   "outputs": [
    {
     "name": "stdout",
     "output_type": "stream",
     "text": [
      "208 Package Involved in more than 5% \n",
      "139 Package Involved in more than 10% \n",
      "77 Package Involved in more than 15% \n",
      "57 Package Involved in more than 20% \n"
     ]
    }
   ],
   "source": [
    "f1 = len(ground_truth[ground_truth[\"Freq in %\"] > 0.05])\n",
    "f2 = len(ground_truth[ground_truth[\"Freq in %\"] > 0.1])\n",
    "f3 = len(ground_truth[ground_truth[\"Freq in %\"] > 0.15])\n",
    "f4 = len(ground_truth[ground_truth[\"Freq in %\"] > 0.2])\n",
    "\n",
    "\n",
    "print(\"{} Package Involved in more than 5% \".format(f1))\n",
    "print(\"{} Package Involved in more than 10% \".format(f2))\n",
    "print(\"{} Package Involved in more than 15% \".format(f3))\n",
    "print(\"{} Package Involved in more than 20% \".format(f4))"
   ]
  },
  {
   "cell_type": "code",
   "execution_count": 8,
   "metadata": {},
   "outputs": [
    {
     "name": "stdout",
     "output_type": "stream",
     "text": [
      "Attack_vizualization.ipynb   cleaned_and_expanded_gt_Final.csv  matching.py\r\n",
      "captured_no_dependances.csv  clean_substract_gt.py              packets\r\n",
      "cleaned_and_expanded_gt.csv  csv_to_sql.py                      ubuntu_captures\r\n"
     ]
    }
   ],
   "source": [
    "ls"
   ]
  },
  {
   "cell_type": "code",
   "execution_count": 3,
   "metadata": {},
   "outputs": [],
   "source": [
    "gt = pd.read_csv(\"../attack/cleaned_and_expanded_gt.csv\")\n",
    "gt = gt.set_index(\"id\")"
   ]
  },
  {
   "cell_type": "code",
   "execution_count": 21,
   "metadata": {
    "scrolled": true
   },
   "outputs": [
    {
     "data": {
      "text/html": [
       "<div>\n",
       "<style scoped>\n",
       "    .dataframe tbody tr th:only-of-type {\n",
       "        vertical-align: middle;\n",
       "    }\n",
       "\n",
       "    .dataframe tbody tr th {\n",
       "        vertical-align: top;\n",
       "    }\n",
       "\n",
       "    .dataframe thead th {\n",
       "        text-align: right;\n",
       "    }\n",
       "</style>\n",
       "<table border=\"1\" class=\"dataframe\">\n",
       "  <thead>\n",
       "    <tr style=\"text-align: right;\">\n",
       "      <th></th>\n",
       "      <th>Package</th>\n",
       "      <th>Version</th>\n",
       "      <th>Size</th>\n",
       "      <th>Filename</th>\n",
       "      <th>Summing dependances</th>\n",
       "      <th>Elements involved</th>\n",
       "      <th>Childrens</th>\n",
       "      <th>Frequency</th>\n",
       "      <th>Freq in p</th>\n",
       "    </tr>\n",
       "    <tr>\n",
       "      <th>id</th>\n",
       "      <th></th>\n",
       "      <th></th>\n",
       "      <th></th>\n",
       "      <th></th>\n",
       "      <th></th>\n",
       "      <th></th>\n",
       "      <th></th>\n",
       "      <th></th>\n",
       "      <th></th>\n",
       "    </tr>\n",
       "  </thead>\n",
       "  <tbody>\n",
       "    <tr>\n",
       "      <th>11665</th>\n",
       "      <td>anthy-common</td>\n",
       "      <td>9100h-23ubuntu2</td>\n",
       "      <td>2505838</td>\n",
       "      <td>pool/main/a/anthy/anthy-common_9100h-23ubuntu2...</td>\n",
       "      <td>2505838.0</td>\n",
       "      <td>1</td>\n",
       "      <td>{11665}</td>\n",
       "      <td>15</td>\n",
       "      <td>0.000263</td>\n",
       "    </tr>\n",
       "    <tr>\n",
       "      <th>29129</th>\n",
       "      <td>kdepim-doc</td>\n",
       "      <td>4:4.13.0-0ubuntu1</td>\n",
       "      <td>5009690</td>\n",
       "      <td>pool/universe/k/kdepim/kdepim-doc_4.13.0-0ubun...</td>\n",
       "      <td>5009690.0</td>\n",
       "      <td>1</td>\n",
       "      <td>{29129}</td>\n",
       "      <td>1</td>\n",
       "      <td>0.000018</td>\n",
       "    </tr>\n",
       "    <tr>\n",
       "      <th>17217</th>\n",
       "      <td>libwebkitgtk-1.0-common</td>\n",
       "      <td>2.4.0-1ubuntu2</td>\n",
       "      <td>107038</td>\n",
       "      <td>pool/main/w/webkitgtk/libwebkitgtk-1.0-common_...</td>\n",
       "      <td>107038.0</td>\n",
       "      <td>1</td>\n",
       "      <td>{17217}</td>\n",
       "      <td>1</td>\n",
       "      <td>0.000018</td>\n",
       "    </tr>\n",
       "    <tr>\n",
       "      <th>53329</th>\n",
       "      <td>sword-text-tr</td>\n",
       "      <td>1.2-0ubuntu2</td>\n",
       "      <td>1275362</td>\n",
       "      <td>pool/universe/s/sword-text-tr/sword-text-tr_1....</td>\n",
       "      <td>1275362.0</td>\n",
       "      <td>1</td>\n",
       "      <td>{53329}</td>\n",
       "      <td>1</td>\n",
       "      <td>0.000018</td>\n",
       "    </tr>\n",
       "    <tr>\n",
       "      <th>17220</th>\n",
       "      <td>libwebkitgtk-3.0-common</td>\n",
       "      <td>2.4.0-1ubuntu2</td>\n",
       "      <td>106726</td>\n",
       "      <td>pool/main/w/webkitgtk/libwebkitgtk-3.0-common_...</td>\n",
       "      <td>106726.0</td>\n",
       "      <td>1</td>\n",
       "      <td>{17220}</td>\n",
       "      <td>1</td>\n",
       "      <td>0.000018</td>\n",
       "    </tr>\n",
       "    <tr>\n",
       "      <th>53328</th>\n",
       "      <td>sword-text-swahili</td>\n",
       "      <td>1.1-0ubuntu1</td>\n",
       "      <td>368046</td>\n",
       "      <td>pool/universe/s/sword-text-swahili/sword-text-...</td>\n",
       "      <td>368046.0</td>\n",
       "      <td>1</td>\n",
       "      <td>{53328}</td>\n",
       "      <td>1</td>\n",
       "      <td>0.000018</td>\n",
       "    </tr>\n",
       "    <tr>\n",
       "      <th>17222</th>\n",
       "      <td>libwebkitgtk-common-dev</td>\n",
       "      <td>2.4.0-1ubuntu2</td>\n",
       "      <td>61680</td>\n",
       "      <td>pool/main/w/webkitgtk/libwebkitgtk-common-dev_...</td>\n",
       "      <td>61680.0</td>\n",
       "      <td>1</td>\n",
       "      <td>{17222}</td>\n",
       "      <td>3</td>\n",
       "      <td>0.000053</td>\n",
       "    </tr>\n",
       "    <tr>\n",
       "      <th>46727</th>\n",
       "      <td>outdoors-theme</td>\n",
       "      <td>0.1-0ubuntu2</td>\n",
       "      <td>9330</td>\n",
       "      <td>pool/universe/o/outdoors-theme/outdoors-theme_...</td>\n",
       "      <td>9330.0</td>\n",
       "      <td>1</td>\n",
       "      <td>{46727}</td>\n",
       "      <td>1</td>\n",
       "      <td>0.000018</td>\n",
       "    </tr>\n",
       "    <tr>\n",
       "      <th>39173</th>\n",
       "      <td>libnetbeans-cvsclient-java</td>\n",
       "      <td>6.5-2</td>\n",
       "      <td>348516</td>\n",
       "      <td>pool/universe/n/netbeans-cvsclient/libnetbeans...</td>\n",
       "      <td>348516.0</td>\n",
       "      <td>1</td>\n",
       "      <td>{39173}</td>\n",
       "      <td>97</td>\n",
       "      <td>0.001702</td>\n",
       "    </tr>\n",
       "    <tr>\n",
       "      <th>46725</th>\n",
       "      <td>otrs2-doc-en</td>\n",
       "      <td>20131212-1</td>\n",
       "      <td>5642042</td>\n",
       "      <td>pool/universe/o/otrs2-doc/otrs2-doc-en_2013121...</td>\n",
       "      <td>5642042.0</td>\n",
       "      <td>1</td>\n",
       "      <td>{46725}</td>\n",
       "      <td>1</td>\n",
       "      <td>0.000018</td>\n",
       "    </tr>\n",
       "    <tr>\n",
       "      <th>29123</th>\n",
       "      <td>kdenlive-data</td>\n",
       "      <td>0.9.6-5ubuntu1</td>\n",
       "      <td>3799714</td>\n",
       "      <td>pool/universe/k/kdenlive/kdenlive-data_0.9.6-5...</td>\n",
       "      <td>3799714.0</td>\n",
       "      <td>1</td>\n",
       "      <td>{29123}</td>\n",
       "      <td>3</td>\n",
       "      <td>0.000053</td>\n",
       "    </tr>\n",
       "    <tr>\n",
       "      <th>17232</th>\n",
       "      <td>libwibble-dev</td>\n",
       "      <td>1.1-1</td>\n",
       "      <td>1929560</td>\n",
       "      <td>pool/main/libw/libwibble/libwibble-dev_1.1-1_a...</td>\n",
       "      <td>1929560.0</td>\n",
       "      <td>1</td>\n",
       "      <td>{17232}</td>\n",
       "      <td>3</td>\n",
       "      <td>0.000053</td>\n",
       "    </tr>\n",
       "    <tr>\n",
       "      <th>49460</th>\n",
       "      <td>python-pytest-instafail-doc</td>\n",
       "      <td>0.1.0-1</td>\n",
       "      <td>5134</td>\n",
       "      <td>pool/universe/p/pytest-instafail/python-pytest...</td>\n",
       "      <td>5134.0</td>\n",
       "      <td>1</td>\n",
       "      <td>{49460}</td>\n",
       "      <td>1</td>\n",
       "      <td>0.000018</td>\n",
       "    </tr>\n",
       "    <tr>\n",
       "      <th>17236</th>\n",
       "      <td>libwmf-doc</td>\n",
       "      <td>0.2.8.4-10.3ubuntu1</td>\n",
       "      <td>290942</td>\n",
       "      <td>pool/main/libw/libwmf/libwmf-doc_0.2.8.4-10.3u...</td>\n",
       "      <td>290942.0</td>\n",
       "      <td>1</td>\n",
       "      <td>{17236}</td>\n",
       "      <td>1</td>\n",
       "      <td>0.000018</td>\n",
       "    </tr>\n",
       "    <tr>\n",
       "      <th>53327</th>\n",
       "      <td>sword-text-sparv</td>\n",
       "      <td>1.6-1</td>\n",
       "      <td>1551406</td>\n",
       "      <td>pool/universe/s/sword-text-sparv/sword-text-sp...</td>\n",
       "      <td>1551406.0</td>\n",
       "      <td>1</td>\n",
       "      <td>{53327}</td>\n",
       "      <td>1</td>\n",
       "      <td>0.000018</td>\n",
       "    </tr>\n",
       "    <tr>\n",
       "      <th>29106</th>\n",
       "      <td>kdegames-mahjongg-data</td>\n",
       "      <td>4:4.13.0-0ubuntu1</td>\n",
       "      <td>1620408</td>\n",
       "      <td>pool/universe/libk/libkmahjongg/kdegames-mahjo...</td>\n",
       "      <td>1620408.0</td>\n",
       "      <td>1</td>\n",
       "      <td>{29106}</td>\n",
       "      <td>1</td>\n",
       "      <td>0.000018</td>\n",
       "    </tr>\n",
       "    <tr>\n",
       "      <th>53326</th>\n",
       "      <td>sword-text-kjv</td>\n",
       "      <td>2.5-1</td>\n",
       "      <td>3553432</td>\n",
       "      <td>pool/universe/s/sword-text-kjv/sword-text-kjv_...</td>\n",
       "      <td>3553432.0</td>\n",
       "      <td>1</td>\n",
       "      <td>{53326}</td>\n",
       "      <td>1</td>\n",
       "      <td>0.000018</td>\n",
       "    </tr>\n",
       "    <tr>\n",
       "      <th>46724</th>\n",
       "      <td>otrs2-doc-de</td>\n",
       "      <td>20131212-1</td>\n",
       "      <td>5054872</td>\n",
       "      <td>pool/universe/o/otrs2-doc/otrs2-doc-de_2013121...</td>\n",
       "      <td>5054872.0</td>\n",
       "      <td>1</td>\n",
       "      <td>{46724}</td>\n",
       "      <td>1</td>\n",
       "      <td>0.000018</td>\n",
       "    </tr>\n",
       "    <tr>\n",
       "      <th>17240</th>\n",
       "      <td>libwnck-3-common</td>\n",
       "      <td>3.4.7-0ubuntu3</td>\n",
       "      <td>18728</td>\n",
       "      <td>pool/main/libw/libwnck3/libwnck-3-common_3.4.7...</td>\n",
       "      <td>18728.0</td>\n",
       "      <td>1</td>\n",
       "      <td>{17240}</td>\n",
       "      <td>1</td>\n",
       "      <td>0.000018</td>\n",
       "    </tr>\n",
       "    <tr>\n",
       "      <th>53325</th>\n",
       "      <td>sword-text-gerlut1545</td>\n",
       "      <td>1.2-0ubuntu2</td>\n",
       "      <td>1466148</td>\n",
       "      <td>pool/universe/s/sword-text-gerlut1545/sword-te...</td>\n",
       "      <td>1466148.0</td>\n",
       "      <td>1</td>\n",
       "      <td>{53325}</td>\n",
       "      <td>1</td>\n",
       "      <td>0.000018</td>\n",
       "    </tr>\n",
       "    <tr>\n",
       "      <th>39205</th>\n",
       "      <td>libnetty-java</td>\n",
       "      <td>1:3.2.6.Final-2</td>\n",
       "      <td>671370</td>\n",
       "      <td>pool/universe/n/netty/libnetty-java_3.2.6.Fina...</td>\n",
       "      <td>671370.0</td>\n",
       "      <td>1</td>\n",
       "      <td>{39205}</td>\n",
       "      <td>15</td>\n",
       "      <td>0.000263</td>\n",
       "    </tr>\n",
       "    <tr>\n",
       "      <th>39206</th>\n",
       "      <td>libnetty3.1-java</td>\n",
       "      <td>3.1.0.CR1-1</td>\n",
       "      <td>517624</td>\n",
       "      <td>pool/universe/n/netty3.1/libnetty3.1-java_3.1....</td>\n",
       "      <td>517624.0</td>\n",
       "      <td>1</td>\n",
       "      <td>{39206}</td>\n",
       "      <td>1</td>\n",
       "      <td>0.000018</td>\n",
       "    </tr>\n",
       "    <tr>\n",
       "      <th>17242</th>\n",
       "      <td>libwnck-common</td>\n",
       "      <td>1:2.30.7-0ubuntu4</td>\n",
       "      <td>16378</td>\n",
       "      <td>pool/main/libw/libwnck/libwnck-common_2.30.7-0...</td>\n",
       "      <td>16378.0</td>\n",
       "      <td>1</td>\n",
       "      <td>{17242}</td>\n",
       "      <td>161</td>\n",
       "      <td>0.002825</td>\n",
       "    </tr>\n",
       "    <tr>\n",
       "      <th>53324</th>\n",
       "      <td>sword-text-dutsvv</td>\n",
       "      <td>1.4-0ubuntu1</td>\n",
       "      <td>1536900</td>\n",
       "      <td>pool/universe/s/sword-text-dutsvv/sword-text-d...</td>\n",
       "      <td>1536900.0</td>\n",
       "      <td>1</td>\n",
       "      <td>{53324}</td>\n",
       "      <td>1</td>\n",
       "      <td>0.000018</td>\n",
       "    </tr>\n",
       "    <tr>\n",
       "      <th>53330</th>\n",
       "      <td>sword-text-web</td>\n",
       "      <td>1.4-3</td>\n",
       "      <td>1368528</td>\n",
       "      <td>pool/universe/s/sword-text-web/sword-text-web_...</td>\n",
       "      <td>1368528.0</td>\n",
       "      <td>1</td>\n",
       "      <td>{53330}</td>\n",
       "      <td>1</td>\n",
       "      <td>0.000018</td>\n",
       "    </tr>\n",
       "    <tr>\n",
       "      <th>46730</th>\n",
       "      <td>overgod-data</td>\n",
       "      <td>1.0-4</td>\n",
       "      <td>1579224</td>\n",
       "      <td>pool/universe/o/overgod/overgod-data_1.0-4_all...</td>\n",
       "      <td>1579224.0</td>\n",
       "      <td>1</td>\n",
       "      <td>{46730}</td>\n",
       "      <td>2</td>\n",
       "      <td>0.000035</td>\n",
       "    </tr>\n",
       "    <tr>\n",
       "      <th>53331</th>\n",
       "      <td>sword-text-wlc</td>\n",
       "      <td>1.3-0ubuntu1</td>\n",
       "      <td>2002512</td>\n",
       "      <td>pool/universe/s/sword-text-wlc/sword-text-wlc_...</td>\n",
       "      <td>2002512.0</td>\n",
       "      <td>1</td>\n",
       "      <td>{53331}</td>\n",
       "      <td>1</td>\n",
       "      <td>0.000018</td>\n",
       "    </tr>\n",
       "    <tr>\n",
       "      <th>29132</th>\n",
       "      <td>kdepim-mobileui-data</td>\n",
       "      <td>4:4.13.0-0ubuntu1</td>\n",
       "      <td>956276</td>\n",
       "      <td>pool/universe/k/kdepim/kdepim-mobileui-data_4....</td>\n",
       "      <td>956276.0</td>\n",
       "      <td>1</td>\n",
       "      <td>{29132}</td>\n",
       "      <td>7</td>\n",
       "      <td>0.000123</td>\n",
       "    </tr>\n",
       "    <tr>\n",
       "      <th>46748</th>\n",
       "      <td>owncloud-client-l10n</td>\n",
       "      <td>1.5.0+dfsg-4ubuntu1</td>\n",
       "      <td>163404</td>\n",
       "      <td>pool/universe/o/owncloud-client/owncloud-clien...</td>\n",
       "      <td>163404.0</td>\n",
       "      <td>1</td>\n",
       "      <td>{46748}</td>\n",
       "      <td>4</td>\n",
       "      <td>0.000070</td>\n",
       "    </tr>\n",
       "    <tr>\n",
       "      <th>29201</th>\n",
       "      <td>kernel-patch-scripts</td>\n",
       "      <td>0.99.36+nmu1</td>\n",
       "      <td>6362</td>\n",
       "      <td>pool/universe/d/dh-kpatches/kernel-patch-scrip...</td>\n",
       "      <td>6362.0</td>\n",
       "      <td>1</td>\n",
       "      <td>{29201}</td>\n",
       "      <td>1</td>\n",
       "      <td>0.000018</td>\n",
       "    </tr>\n",
       "    <tr>\n",
       "      <th>...</th>\n",
       "      <td>...</td>\n",
       "      <td>...</td>\n",
       "      <td>...</td>\n",
       "      <td>...</td>\n",
       "      <td>...</td>\n",
       "      <td>...</td>\n",
       "      <td>...</td>\n",
       "      <td>...</td>\n",
       "      <td>...</td>\n",
       "    </tr>\n",
       "    <tr>\n",
       "      <th>39447</th>\n",
       "      <td>libodn-ocaml-dev</td>\n",
       "      <td>0.0.11-1build1</td>\n",
       "      <td>28804</td>\n",
       "      <td>pool/universe/o/ocaml-data-notation/libodn-oca...</td>\n",
       "      <td>28804.0</td>\n",
       "      <td>1</td>\n",
       "      <td>{39447}</td>\n",
       "      <td>1</td>\n",
       "      <td>0.000018</td>\n",
       "    </tr>\n",
       "    <tr>\n",
       "      <th>39402</th>\n",
       "      <td>libocamlgraph-viewer-ocaml-dev</td>\n",
       "      <td>1.8.3-1build1</td>\n",
       "      <td>184678</td>\n",
       "      <td>pool/universe/o/ocamlgraph/libocamlgraph-viewe...</td>\n",
       "      <td>184678.0</td>\n",
       "      <td>1</td>\n",
       "      <td>{39402}</td>\n",
       "      <td>1</td>\n",
       "      <td>0.000018</td>\n",
       "    </tr>\n",
       "    <tr>\n",
       "      <th>39345</th>\n",
       "      <td>liboasis-ocaml-dev</td>\n",
       "      <td>0.3.0-4</td>\n",
       "      <td>445342</td>\n",
       "      <td>pool/universe/o/oasis/liboasis-ocaml-dev_0.3.0...</td>\n",
       "      <td>445342.0</td>\n",
       "      <td>1</td>\n",
       "      <td>{39345}</td>\n",
       "      <td>2</td>\n",
       "      <td>0.000035</td>\n",
       "    </tr>\n",
       "    <tr>\n",
       "      <th>41919</th>\n",
       "      <td>libssreflect-ocaml-dev</td>\n",
       "      <td>1.5~rc1-3</td>\n",
       "      <td>61652</td>\n",
       "      <td>pool/universe/s/ssreflect/libssreflect-ocaml-d...</td>\n",
       "      <td>61652.0</td>\n",
       "      <td>1</td>\n",
       "      <td>{41919}</td>\n",
       "      <td>1</td>\n",
       "      <td>0.000018</td>\n",
       "    </tr>\n",
       "    <tr>\n",
       "      <th>41207</th>\n",
       "      <td>librss-ocaml-dev</td>\n",
       "      <td>2.2.1-3build1</td>\n",
       "      <td>38080</td>\n",
       "      <td>pool/universe/o/ocamlrss/librss-ocaml-dev_2.2....</td>\n",
       "      <td>38080.0</td>\n",
       "      <td>1</td>\n",
       "      <td>{41207}</td>\n",
       "      <td>1</td>\n",
       "      <td>0.000018</td>\n",
       "    </tr>\n",
       "    <tr>\n",
       "      <th>32661</th>\n",
       "      <td>libexpect-ocaml-dev</td>\n",
       "      <td>0.0.3-1build1</td>\n",
       "      <td>18232</td>\n",
       "      <td>pool/universe/o/ocaml-expect/libexpect-ocaml-d...</td>\n",
       "      <td>18232.0</td>\n",
       "      <td>1</td>\n",
       "      <td>{32661}</td>\n",
       "      <td>1</td>\n",
       "      <td>0.000018</td>\n",
       "    </tr>\n",
       "    <tr>\n",
       "      <th>35068</th>\n",
       "      <td>libghc-tasty-hunit-dev</td>\n",
       "      <td>0.4.1-1</td>\n",
       "      <td>7494</td>\n",
       "      <td>pool/universe/h/haskell-tasty-hunit/libghc-tas...</td>\n",
       "      <td>7494.0</td>\n",
       "      <td>1</td>\n",
       "      <td>{35068}</td>\n",
       "      <td>2</td>\n",
       "      <td>0.000035</td>\n",
       "    </tr>\n",
       "    <tr>\n",
       "      <th>38435</th>\n",
       "      <td>libmikmatch-ocaml-dev</td>\n",
       "      <td>1.0.6-4</td>\n",
       "      <td>415246</td>\n",
       "      <td>pool/universe/m/mikmatch/libmikmatch-ocaml-dev...</td>\n",
       "      <td>415246.0</td>\n",
       "      <td>1</td>\n",
       "      <td>{38435}</td>\n",
       "      <td>1</td>\n",
       "      <td>0.000018</td>\n",
       "    </tr>\n",
       "    <tr>\n",
       "      <th>29858</th>\n",
       "      <td>libaac-tactics-ocaml-dev</td>\n",
       "      <td>0.4-2</td>\n",
       "      <td>43922</td>\n",
       "      <td>pool/universe/a/aac-tactics/libaac-tactics-oca...</td>\n",
       "      <td>43922.0</td>\n",
       "      <td>1</td>\n",
       "      <td>{29858}</td>\n",
       "      <td>1</td>\n",
       "      <td>0.000018</td>\n",
       "    </tr>\n",
       "    <tr>\n",
       "      <th>38002</th>\n",
       "      <td>liblwt-ssl-ocaml-dev</td>\n",
       "      <td>2.4.3-4</td>\n",
       "      <td>11656</td>\n",
       "      <td>pool/universe/l/lwt/liblwt-ssl-ocaml-dev_2.4.3...</td>\n",
       "      <td>11656.0</td>\n",
       "      <td>1</td>\n",
       "      <td>{38002}</td>\n",
       "      <td>1</td>\n",
       "      <td>0.000018</td>\n",
       "    </tr>\n",
       "    <tr>\n",
       "      <th>34828</th>\n",
       "      <td>libghc-regex-pcre-dev</td>\n",
       "      <td>0.94.4-2</td>\n",
       "      <td>164178</td>\n",
       "      <td>pool/universe/h/haskell-regex-pcre/libghc-rege...</td>\n",
       "      <td>164178.0</td>\n",
       "      <td>1</td>\n",
       "      <td>{34828}</td>\n",
       "      <td>2</td>\n",
       "      <td>0.000035</td>\n",
       "    </tr>\n",
       "    <tr>\n",
       "      <th>34822</th>\n",
       "      <td>libghc-regex-base-dev</td>\n",
       "      <td>0.93.2-4</td>\n",
       "      <td>82308</td>\n",
       "      <td>pool/universe/h/haskell-regex-base/libghc-rege...</td>\n",
       "      <td>82308.0</td>\n",
       "      <td>1</td>\n",
       "      <td>{34822}</td>\n",
       "      <td>4</td>\n",
       "      <td>0.000070</td>\n",
       "    </tr>\n",
       "    <tr>\n",
       "      <th>42784</th>\n",
       "      <td>libtyxml-ocaml-dev</td>\n",
       "      <td>2.2.0-4</td>\n",
       "      <td>404342</td>\n",
       "      <td>pool/universe/t/tyxml/libtyxml-ocaml-dev_2.2.0...</td>\n",
       "      <td>404342.0</td>\n",
       "      <td>1</td>\n",
       "      <td>{42784}</td>\n",
       "      <td>1</td>\n",
       "      <td>0.000018</td>\n",
       "    </tr>\n",
       "    <tr>\n",
       "      <th>35072</th>\n",
       "      <td>libghc-tasty-quickcheck-dev</td>\n",
       "      <td>0.3.1-1build1</td>\n",
       "      <td>30840</td>\n",
       "      <td>pool/universe/h/haskell-tasty-quickcheck/libgh...</td>\n",
       "      <td>30840.0</td>\n",
       "      <td>1</td>\n",
       "      <td>{35072}</td>\n",
       "      <td>2</td>\n",
       "      <td>0.000035</td>\n",
       "    </tr>\n",
       "    <tr>\n",
       "      <th>34371</th>\n",
       "      <td>libghc-iproute-dev</td>\n",
       "      <td>1.2.11-1build1</td>\n",
       "      <td>89244</td>\n",
       "      <td>pool/universe/h/haskell-iproute/libghc-iproute...</td>\n",
       "      <td>89244.0</td>\n",
       "      <td>1</td>\n",
       "      <td>{34371}</td>\n",
       "      <td>2</td>\n",
       "      <td>0.000035</td>\n",
       "    </tr>\n",
       "    <tr>\n",
       "      <th>37617</th>\n",
       "      <td>liblablgtk-extras-ocaml-dev</td>\n",
       "      <td>1.4-2</td>\n",
       "      <td>343398</td>\n",
       "      <td>pool/universe/l/lablgtk-extras/liblablgtk-extr...</td>\n",
       "      <td>343398.0</td>\n",
       "      <td>1</td>\n",
       "      <td>{37617}</td>\n",
       "      <td>1</td>\n",
       "      <td>0.000018</td>\n",
       "    </tr>\n",
       "    <tr>\n",
       "      <th>30536</th>\n",
       "      <td>libben-ocaml-dev</td>\n",
       "      <td>0.6.6ubuntu2</td>\n",
       "      <td>95146</td>\n",
       "      <td>pool/universe/b/ben/libben-ocaml-dev_0.6.6ubun...</td>\n",
       "      <td>95146.0</td>\n",
       "      <td>1</td>\n",
       "      <td>{30536}</td>\n",
       "      <td>1</td>\n",
       "      <td>0.000018</td>\n",
       "    </tr>\n",
       "    <tr>\n",
       "      <th>34837</th>\n",
       "      <td>libghc-regex-tdfa-utf8-dev</td>\n",
       "      <td>1.0-7</td>\n",
       "      <td>36246</td>\n",
       "      <td>pool/universe/h/haskell-regex-tdfa-utf8/libghc...</td>\n",
       "      <td>36246.0</td>\n",
       "      <td>1</td>\n",
       "      <td>{34837}</td>\n",
       "      <td>2</td>\n",
       "      <td>0.000035</td>\n",
       "    </tr>\n",
       "    <tr>\n",
       "      <th>33963</th>\n",
       "      <td>libghc-ftphs-dev</td>\n",
       "      <td>1.0.9.1-1</td>\n",
       "      <td>186294</td>\n",
       "      <td>pool/universe/f/ftphs/libghc-ftphs-dev_1.0.9.1...</td>\n",
       "      <td>186294.0</td>\n",
       "      <td>1</td>\n",
       "      <td>{33963}</td>\n",
       "      <td>2</td>\n",
       "      <td>0.000035</td>\n",
       "    </tr>\n",
       "    <tr>\n",
       "      <th>39398</th>\n",
       "      <td>libobus-ocaml-dev</td>\n",
       "      <td>1.1.5-3build1</td>\n",
       "      <td>798922</td>\n",
       "      <td>pool/universe/o/obus/libobus-ocaml-dev_1.1.5-3...</td>\n",
       "      <td>798922.0</td>\n",
       "      <td>1</td>\n",
       "      <td>{39398}</td>\n",
       "      <td>1</td>\n",
       "      <td>0.000018</td>\n",
       "    </tr>\n",
       "    <tr>\n",
       "      <th>34389</th>\n",
       "      <td>libghc-json-dev</td>\n",
       "      <td>0.5-4build1</td>\n",
       "      <td>321252</td>\n",
       "      <td>pool/universe/h/haskell-json/libghc-json-dev_0...</td>\n",
       "      <td>321252.0</td>\n",
       "      <td>1</td>\n",
       "      <td>{34389}</td>\n",
       "      <td>2</td>\n",
       "      <td>0.000035</td>\n",
       "    </tr>\n",
       "    <tr>\n",
       "      <th>34834</th>\n",
       "      <td>libghc-regex-tdfa-dev</td>\n",
       "      <td>1.1.8-4build1</td>\n",
       "      <td>3323918</td>\n",
       "      <td>pool/universe/h/haskell-regex-tdfa/libghc-rege...</td>\n",
       "      <td>3323918.0</td>\n",
       "      <td>1</td>\n",
       "      <td>{34834}</td>\n",
       "      <td>2</td>\n",
       "      <td>0.000035</td>\n",
       "    </tr>\n",
       "    <tr>\n",
       "      <th>34714</th>\n",
       "      <td>libghc-pointed-dev</td>\n",
       "      <td>4.0-1</td>\n",
       "      <td>19628</td>\n",
       "      <td>pool/universe/h/haskell-pointed/libghc-pointed...</td>\n",
       "      <td>19628.0</td>\n",
       "      <td>1</td>\n",
       "      <td>{34714}</td>\n",
       "      <td>2</td>\n",
       "      <td>0.000035</td>\n",
       "    </tr>\n",
       "    <tr>\n",
       "      <th>34401</th>\n",
       "      <td>libghc-language-c-dev</td>\n",
       "      <td>0.4.2-4build1</td>\n",
       "      <td>2841546</td>\n",
       "      <td>pool/universe/h/haskell-language-c/libghc-lang...</td>\n",
       "      <td>2841546.0</td>\n",
       "      <td>1</td>\n",
       "      <td>{34401}</td>\n",
       "      <td>2</td>\n",
       "      <td>0.000035</td>\n",
       "    </tr>\n",
       "    <tr>\n",
       "      <th>35075</th>\n",
       "      <td>libghc-tasty-rerun-dev</td>\n",
       "      <td>1.0.1-1</td>\n",
       "      <td>34772</td>\n",
       "      <td>pool/universe/h/haskell-tasty-rerun/libghc-tas...</td>\n",
       "      <td>34772.0</td>\n",
       "      <td>1</td>\n",
       "      <td>{35075}</td>\n",
       "      <td>2</td>\n",
       "      <td>0.000035</td>\n",
       "    </tr>\n",
       "    <tr>\n",
       "      <th>35061</th>\n",
       "      <td>libghc-tasty-dev</td>\n",
       "      <td>0.7-1</td>\n",
       "      <td>98038</td>\n",
       "      <td>pool/universe/h/haskell-tasty/libghc-tasty-dev...</td>\n",
       "      <td>98038.0</td>\n",
       "      <td>1</td>\n",
       "      <td>{35061}</td>\n",
       "      <td>2</td>\n",
       "      <td>0.000035</td>\n",
       "    </tr>\n",
       "    <tr>\n",
       "      <th>33839</th>\n",
       "      <td>libghc-dns-dev</td>\n",
       "      <td>1.0.0-1build2</td>\n",
       "      <td>141272</td>\n",
       "      <td>pool/universe/h/haskell-dns/libghc-dns-dev_1.0...</td>\n",
       "      <td>141272.0</td>\n",
       "      <td>1</td>\n",
       "      <td>{33839}</td>\n",
       "      <td>2</td>\n",
       "      <td>0.000035</td>\n",
       "    </tr>\n",
       "    <tr>\n",
       "      <th>34801</th>\n",
       "      <td>libghc-reducers-dev</td>\n",
       "      <td>3.10.1.1-1</td>\n",
       "      <td>164264</td>\n",
       "      <td>pool/universe/h/haskell-reducers/libghc-reduce...</td>\n",
       "      <td>164264.0</td>\n",
       "      <td>1</td>\n",
       "      <td>{34801}</td>\n",
       "      <td>2</td>\n",
       "      <td>0.000035</td>\n",
       "    </tr>\n",
       "    <tr>\n",
       "      <th>32487</th>\n",
       "      <td>libeliom-ocaml-dev</td>\n",
       "      <td>3.0.3-4build2</td>\n",
       "      <td>1014154</td>\n",
       "      <td>pool/universe/e/eliom/libeliom-ocaml-dev_3.0.3...</td>\n",
       "      <td>1014154.0</td>\n",
       "      <td>1</td>\n",
       "      <td>{32487}</td>\n",
       "      <td>2</td>\n",
       "      <td>0.000035</td>\n",
       "    </tr>\n",
       "    <tr>\n",
       "      <th>33397</th>\n",
       "      <td>libghc-agda-dev</td>\n",
       "      <td>2.3.2.2-1</td>\n",
       "      <td>13586672</td>\n",
       "      <td>pool/universe/a/agda/libghc-agda-dev_2.3.2.2-1...</td>\n",
       "      <td>13586672.0</td>\n",
       "      <td>1</td>\n",
       "      <td>{33397}</td>\n",
       "      <td>4</td>\n",
       "      <td>0.000070</td>\n",
       "    </tr>\n",
       "  </tbody>\n",
       "</table>\n",
       "<p>6315 rows × 9 columns</p>\n",
       "</div>"
      ],
      "text/plain": [
       "                              Package              Version      Size  \\\n",
       "id                                                                     \n",
       "11665                    anthy-common      9100h-23ubuntu2   2505838   \n",
       "29129                      kdepim-doc    4:4.13.0-0ubuntu1   5009690   \n",
       "17217         libwebkitgtk-1.0-common       2.4.0-1ubuntu2    107038   \n",
       "53329                   sword-text-tr         1.2-0ubuntu2   1275362   \n",
       "17220         libwebkitgtk-3.0-common       2.4.0-1ubuntu2    106726   \n",
       "53328              sword-text-swahili         1.1-0ubuntu1    368046   \n",
       "17222         libwebkitgtk-common-dev       2.4.0-1ubuntu2     61680   \n",
       "46727                  outdoors-theme         0.1-0ubuntu2      9330   \n",
       "39173      libnetbeans-cvsclient-java                6.5-2    348516   \n",
       "46725                    otrs2-doc-en           20131212-1   5642042   \n",
       "29123                   kdenlive-data       0.9.6-5ubuntu1   3799714   \n",
       "17232                   libwibble-dev                1.1-1   1929560   \n",
       "49460     python-pytest-instafail-doc              0.1.0-1      5134   \n",
       "17236                      libwmf-doc  0.2.8.4-10.3ubuntu1    290942   \n",
       "53327                sword-text-sparv                1.6-1   1551406   \n",
       "29106          kdegames-mahjongg-data    4:4.13.0-0ubuntu1   1620408   \n",
       "53326                  sword-text-kjv                2.5-1   3553432   \n",
       "46724                    otrs2-doc-de           20131212-1   5054872   \n",
       "17240                libwnck-3-common       3.4.7-0ubuntu3     18728   \n",
       "53325           sword-text-gerlut1545         1.2-0ubuntu2   1466148   \n",
       "39205                   libnetty-java      1:3.2.6.Final-2    671370   \n",
       "39206                libnetty3.1-java          3.1.0.CR1-1    517624   \n",
       "17242                  libwnck-common    1:2.30.7-0ubuntu4     16378   \n",
       "53324               sword-text-dutsvv         1.4-0ubuntu1   1536900   \n",
       "53330                  sword-text-web                1.4-3   1368528   \n",
       "46730                    overgod-data                1.0-4   1579224   \n",
       "53331                  sword-text-wlc         1.3-0ubuntu1   2002512   \n",
       "29132            kdepim-mobileui-data    4:4.13.0-0ubuntu1    956276   \n",
       "46748            owncloud-client-l10n  1.5.0+dfsg-4ubuntu1    163404   \n",
       "29201            kernel-patch-scripts         0.99.36+nmu1      6362   \n",
       "...                               ...                  ...       ...   \n",
       "39447                libodn-ocaml-dev       0.0.11-1build1     28804   \n",
       "39402  libocamlgraph-viewer-ocaml-dev        1.8.3-1build1    184678   \n",
       "39345              liboasis-ocaml-dev              0.3.0-4    445342   \n",
       "41919          libssreflect-ocaml-dev            1.5~rc1-3     61652   \n",
       "41207                librss-ocaml-dev        2.2.1-3build1     38080   \n",
       "32661             libexpect-ocaml-dev        0.0.3-1build1     18232   \n",
       "35068          libghc-tasty-hunit-dev              0.4.1-1      7494   \n",
       "38435           libmikmatch-ocaml-dev              1.0.6-4    415246   \n",
       "29858        libaac-tactics-ocaml-dev                0.4-2     43922   \n",
       "38002            liblwt-ssl-ocaml-dev              2.4.3-4     11656   \n",
       "34828           libghc-regex-pcre-dev             0.94.4-2    164178   \n",
       "34822           libghc-regex-base-dev             0.93.2-4     82308   \n",
       "42784              libtyxml-ocaml-dev              2.2.0-4    404342   \n",
       "35072     libghc-tasty-quickcheck-dev        0.3.1-1build1     30840   \n",
       "34371              libghc-iproute-dev       1.2.11-1build1     89244   \n",
       "37617     liblablgtk-extras-ocaml-dev                1.4-2    343398   \n",
       "30536                libben-ocaml-dev         0.6.6ubuntu2     95146   \n",
       "34837      libghc-regex-tdfa-utf8-dev                1.0-7     36246   \n",
       "33963                libghc-ftphs-dev            1.0.9.1-1    186294   \n",
       "39398               libobus-ocaml-dev        1.1.5-3build1    798922   \n",
       "34389                 libghc-json-dev          0.5-4build1    321252   \n",
       "34834           libghc-regex-tdfa-dev        1.1.8-4build1   3323918   \n",
       "34714              libghc-pointed-dev                4.0-1     19628   \n",
       "34401           libghc-language-c-dev        0.4.2-4build1   2841546   \n",
       "35075          libghc-tasty-rerun-dev              1.0.1-1     34772   \n",
       "35061                libghc-tasty-dev                0.7-1     98038   \n",
       "33839                  libghc-dns-dev        1.0.0-1build2    141272   \n",
       "34801             libghc-reducers-dev           3.10.1.1-1    164264   \n",
       "32487              libeliom-ocaml-dev        3.0.3-4build2   1014154   \n",
       "33397                 libghc-agda-dev            2.3.2.2-1  13586672   \n",
       "\n",
       "                                                Filename  Summing dependances  \\\n",
       "id                                                                              \n",
       "11665  pool/main/a/anthy/anthy-common_9100h-23ubuntu2...            2505838.0   \n",
       "29129  pool/universe/k/kdepim/kdepim-doc_4.13.0-0ubun...            5009690.0   \n",
       "17217  pool/main/w/webkitgtk/libwebkitgtk-1.0-common_...             107038.0   \n",
       "53329  pool/universe/s/sword-text-tr/sword-text-tr_1....            1275362.0   \n",
       "17220  pool/main/w/webkitgtk/libwebkitgtk-3.0-common_...             106726.0   \n",
       "53328  pool/universe/s/sword-text-swahili/sword-text-...             368046.0   \n",
       "17222  pool/main/w/webkitgtk/libwebkitgtk-common-dev_...              61680.0   \n",
       "46727  pool/universe/o/outdoors-theme/outdoors-theme_...               9330.0   \n",
       "39173  pool/universe/n/netbeans-cvsclient/libnetbeans...             348516.0   \n",
       "46725  pool/universe/o/otrs2-doc/otrs2-doc-en_2013121...            5642042.0   \n",
       "29123  pool/universe/k/kdenlive/kdenlive-data_0.9.6-5...            3799714.0   \n",
       "17232  pool/main/libw/libwibble/libwibble-dev_1.1-1_a...            1929560.0   \n",
       "49460  pool/universe/p/pytest-instafail/python-pytest...               5134.0   \n",
       "17236  pool/main/libw/libwmf/libwmf-doc_0.2.8.4-10.3u...             290942.0   \n",
       "53327  pool/universe/s/sword-text-sparv/sword-text-sp...            1551406.0   \n",
       "29106  pool/universe/libk/libkmahjongg/kdegames-mahjo...            1620408.0   \n",
       "53326  pool/universe/s/sword-text-kjv/sword-text-kjv_...            3553432.0   \n",
       "46724  pool/universe/o/otrs2-doc/otrs2-doc-de_2013121...            5054872.0   \n",
       "17240  pool/main/libw/libwnck3/libwnck-3-common_3.4.7...              18728.0   \n",
       "53325  pool/universe/s/sword-text-gerlut1545/sword-te...            1466148.0   \n",
       "39205  pool/universe/n/netty/libnetty-java_3.2.6.Fina...             671370.0   \n",
       "39206  pool/universe/n/netty3.1/libnetty3.1-java_3.1....             517624.0   \n",
       "17242  pool/main/libw/libwnck/libwnck-common_2.30.7-0...              16378.0   \n",
       "53324  pool/universe/s/sword-text-dutsvv/sword-text-d...            1536900.0   \n",
       "53330  pool/universe/s/sword-text-web/sword-text-web_...            1368528.0   \n",
       "46730  pool/universe/o/overgod/overgod-data_1.0-4_all...            1579224.0   \n",
       "53331  pool/universe/s/sword-text-wlc/sword-text-wlc_...            2002512.0   \n",
       "29132  pool/universe/k/kdepim/kdepim-mobileui-data_4....             956276.0   \n",
       "46748  pool/universe/o/owncloud-client/owncloud-clien...             163404.0   \n",
       "29201  pool/universe/d/dh-kpatches/kernel-patch-scrip...               6362.0   \n",
       "...                                                  ...                  ...   \n",
       "39447  pool/universe/o/ocaml-data-notation/libodn-oca...              28804.0   \n",
       "39402  pool/universe/o/ocamlgraph/libocamlgraph-viewe...             184678.0   \n",
       "39345  pool/universe/o/oasis/liboasis-ocaml-dev_0.3.0...             445342.0   \n",
       "41919  pool/universe/s/ssreflect/libssreflect-ocaml-d...              61652.0   \n",
       "41207  pool/universe/o/ocamlrss/librss-ocaml-dev_2.2....              38080.0   \n",
       "32661  pool/universe/o/ocaml-expect/libexpect-ocaml-d...              18232.0   \n",
       "35068  pool/universe/h/haskell-tasty-hunit/libghc-tas...               7494.0   \n",
       "38435  pool/universe/m/mikmatch/libmikmatch-ocaml-dev...             415246.0   \n",
       "29858  pool/universe/a/aac-tactics/libaac-tactics-oca...              43922.0   \n",
       "38002  pool/universe/l/lwt/liblwt-ssl-ocaml-dev_2.4.3...              11656.0   \n",
       "34828  pool/universe/h/haskell-regex-pcre/libghc-rege...             164178.0   \n",
       "34822  pool/universe/h/haskell-regex-base/libghc-rege...              82308.0   \n",
       "42784  pool/universe/t/tyxml/libtyxml-ocaml-dev_2.2.0...             404342.0   \n",
       "35072  pool/universe/h/haskell-tasty-quickcheck/libgh...              30840.0   \n",
       "34371  pool/universe/h/haskell-iproute/libghc-iproute...              89244.0   \n",
       "37617  pool/universe/l/lablgtk-extras/liblablgtk-extr...             343398.0   \n",
       "30536  pool/universe/b/ben/libben-ocaml-dev_0.6.6ubun...              95146.0   \n",
       "34837  pool/universe/h/haskell-regex-tdfa-utf8/libghc...              36246.0   \n",
       "33963  pool/universe/f/ftphs/libghc-ftphs-dev_1.0.9.1...             186294.0   \n",
       "39398  pool/universe/o/obus/libobus-ocaml-dev_1.1.5-3...             798922.0   \n",
       "34389  pool/universe/h/haskell-json/libghc-json-dev_0...             321252.0   \n",
       "34834  pool/universe/h/haskell-regex-tdfa/libghc-rege...            3323918.0   \n",
       "34714  pool/universe/h/haskell-pointed/libghc-pointed...              19628.0   \n",
       "34401  pool/universe/h/haskell-language-c/libghc-lang...            2841546.0   \n",
       "35075  pool/universe/h/haskell-tasty-rerun/libghc-tas...              34772.0   \n",
       "35061  pool/universe/h/haskell-tasty/libghc-tasty-dev...              98038.0   \n",
       "33839  pool/universe/h/haskell-dns/libghc-dns-dev_1.0...             141272.0   \n",
       "34801  pool/universe/h/haskell-reducers/libghc-reduce...             164264.0   \n",
       "32487  pool/universe/e/eliom/libeliom-ocaml-dev_3.0.3...            1014154.0   \n",
       "33397  pool/universe/a/agda/libghc-agda-dev_2.3.2.2-1...           13586672.0   \n",
       "\n",
       "       Elements involved Childrens  Frequency  Freq in p  \n",
       "id                                                        \n",
       "11665                  1   {11665}         15   0.000263  \n",
       "29129                  1   {29129}          1   0.000018  \n",
       "17217                  1   {17217}          1   0.000018  \n",
       "53329                  1   {53329}          1   0.000018  \n",
       "17220                  1   {17220}          1   0.000018  \n",
       "53328                  1   {53328}          1   0.000018  \n",
       "17222                  1   {17222}          3   0.000053  \n",
       "46727                  1   {46727}          1   0.000018  \n",
       "39173                  1   {39173}         97   0.001702  \n",
       "46725                  1   {46725}          1   0.000018  \n",
       "29123                  1   {29123}          3   0.000053  \n",
       "17232                  1   {17232}          3   0.000053  \n",
       "49460                  1   {49460}          1   0.000018  \n",
       "17236                  1   {17236}          1   0.000018  \n",
       "53327                  1   {53327}          1   0.000018  \n",
       "29106                  1   {29106}          1   0.000018  \n",
       "53326                  1   {53326}          1   0.000018  \n",
       "46724                  1   {46724}          1   0.000018  \n",
       "17240                  1   {17240}          1   0.000018  \n",
       "53325                  1   {53325}          1   0.000018  \n",
       "39205                  1   {39205}         15   0.000263  \n",
       "39206                  1   {39206}          1   0.000018  \n",
       "17242                  1   {17242}        161   0.002825  \n",
       "53324                  1   {53324}          1   0.000018  \n",
       "53330                  1   {53330}          1   0.000018  \n",
       "46730                  1   {46730}          2   0.000035  \n",
       "53331                  1   {53331}          1   0.000018  \n",
       "29132                  1   {29132}          7   0.000123  \n",
       "46748                  1   {46748}          4   0.000070  \n",
       "29201                  1   {29201}          1   0.000018  \n",
       "...                  ...       ...        ...        ...  \n",
       "39447                  1   {39447}          1   0.000018  \n",
       "39402                  1   {39402}          1   0.000018  \n",
       "39345                  1   {39345}          2   0.000035  \n",
       "41919                  1   {41919}          1   0.000018  \n",
       "41207                  1   {41207}          1   0.000018  \n",
       "32661                  1   {32661}          1   0.000018  \n",
       "35068                  1   {35068}          2   0.000035  \n",
       "38435                  1   {38435}          1   0.000018  \n",
       "29858                  1   {29858}          1   0.000018  \n",
       "38002                  1   {38002}          1   0.000018  \n",
       "34828                  1   {34828}          2   0.000035  \n",
       "34822                  1   {34822}          4   0.000070  \n",
       "42784                  1   {42784}          1   0.000018  \n",
       "35072                  1   {35072}          2   0.000035  \n",
       "34371                  1   {34371}          2   0.000035  \n",
       "37617                  1   {37617}          1   0.000018  \n",
       "30536                  1   {30536}          1   0.000018  \n",
       "34837                  1   {34837}          2   0.000035  \n",
       "33963                  1   {33963}          2   0.000035  \n",
       "39398                  1   {39398}          1   0.000018  \n",
       "34389                  1   {34389}          2   0.000035  \n",
       "34834                  1   {34834}          2   0.000035  \n",
       "34714                  1   {34714}          2   0.000035  \n",
       "34401                  1   {34401}          2   0.000035  \n",
       "35075                  1   {35075}          2   0.000035  \n",
       "35061                  1   {35061}          2   0.000035  \n",
       "33839                  1   {33839}          2   0.000035  \n",
       "34801                  1   {34801}          2   0.000035  \n",
       "32487                  1   {32487}          2   0.000035  \n",
       "33397                  1   {33397}          4   0.000070  \n",
       "\n",
       "[6315 rows x 9 columns]"
      ]
     },
     "execution_count": 21,
     "metadata": {},
     "output_type": "execute_result"
    }
   ],
   "source": [
    "gt[gt[\"Elements involved\"] == 1]"
   ]
  },
  {
   "cell_type": "markdown",
   "metadata": {},
   "source": [
    "#### Problem found while capturing `gstreamer1.0-plugins-base`"
   ]
  },
  {
   "cell_type": "markdown",
   "metadata": {},
   "source": [
    "On the docker: \n",
    "\n",
    "` \n",
    "The following NEW packages will be installed:\n",
    "  gstreamer1.0-plugins-base iso-codes libasound2 libasound2-data\n",
    "  libcdparanoia0 libdrm-intel1 libdrm-nouveau2 libdrm-radeon1 libelf1\n",
    "  libgl1-mesa-dri libgl1-mesa-glx libglapi-mesa libglib2.0-0 libglib2.0-data\n",
    "  libglu1-mesa libgstreamer-plugins-base1.0-0 libgstreamer1.0-0 libllvm3.4\n",
    "  libogg0 liborc-0.4-0 libpciaccess0 libtheora0 libtxc-dxtn-s2tc0\n",
    "  libvisual-0.4-0 libvisual-0.4-plugins libvorbis0a libvorbisenc2 libx11-6\n",
    "  libx11-data libx11-xcb1 libxau6 libxcb-dri2-0 libxcb-dri3-0 libxcb-glx0\n",
    "  libxcb-present0 libxcb-sync1 libxcb1 libxdamage1 libxdmcp6 libxext6\n",
    "  libxfixes3 libxml2 libxshmfence1 libxxf86vm1 sgml-base shared-mime-info\n",
    "  xml-core\n",
    "  0 upgraded, 47 newly installed, 0 to remove and 33 not upgraded.\n",
    "`\n",
    "\n",
    "So 47 newly dependences\n",
    "Much more than what we can see when going through the dep field (19 deps)"
   ]
  },
  {
   "cell_type": "code",
   "execution_count": 25,
   "metadata": {},
   "outputs": [
    {
     "data": {
      "text/plain": [
       "Package                                   gstreamer1.0-plugins-base\n",
       "Version                                                     1.2.3-1\n",
       "Architecture                                                  amd64\n",
       "Size                                                         485946\n",
       "Installed-Size                                                 1739\n",
       "Maintainer        Ubuntu Developers <ubuntu-devel-discuss@lists....\n",
       "Description                   GStreamer plugins from the \"base\" set\n",
       "parsedFrom        packages/archive.ubuntu.com_ubuntu_dists_trust...\n",
       "Bugs                     https://bugs.launchpad.net/ubuntu/+filebug\n",
       "Origin                                                       Ubuntu\n",
       "Depends           libc6 (>= 2.14), libcdparanoia0 (>= 3.10.2+deb...\n",
       "Homepage          http://gstreamer.freedesktop.org/modules/gst-p...\n",
       "Source                                          gst-plugins-base1.0\n",
       "Section                                                        libs\n",
       "Supported                                                        5y\n",
       "Filename          pool/main/g/gst-plugins-base1.0/gstreamer1.0-p...\n",
       "Name: 12794, dtype: object"
      ]
     },
     "execution_count": 25,
     "metadata": {},
     "output_type": "execute_result"
    }
   ],
   "source": [
    "ground_truth.loc[12794]"
   ]
  },
  {
   "cell_type": "code",
   "execution_count": 16,
   "metadata": {},
   "outputs": [
    {
     "data": {
      "text/plain": [
       "'libc6 (>= 2.14), libcdparanoia0 (>= 3.10.2+debian), libglib2.0-0 (>= 2.37.3), libgstreamer1.0-0 (>= 1.2.0), libogg0 (>= 1.0rc3), liborc-0.4-0 (>= 1:0.4.18), libtheora0 (>= 1.0), libvisual-0.4-0 (>= 0.4.0-4), libvorbis0a (>= 1.1.2), libvorbisenc2 (>= 1.1.2), libgstreamer-plugins-base1.0-0 (>= 1.2.3)'"
      ]
     },
     "execution_count": 16,
     "metadata": {},
     "output_type": "execute_result"
    }
   ],
   "source": [
    "ground_truth[ground_truth[\"Package\"] == \"gstreamer1.0-plugins-base\"][\"Depends\"].iloc[1]"
   ]
  },
  {
   "cell_type": "code",
   "execution_count": 34,
   "metadata": {},
   "outputs": [
    {
     "data": {
      "text/plain": [
       "'libc6 (>= 2.14), libglib2.0-0 (>= 2.37.3), libgstreamer1.0-0 (>= 1.2.0), liborc-0.4-0 (>= 1:0.4.18), zlib1g (>= 1:1.1.4), iso-codes'"
      ]
     },
     "execution_count": 34,
     "metadata": {},
     "output_type": "execute_result"
    }
   ],
   "source": [
    "ground_truth[ground_truth[\"Package\"] == \"libgstreamer-plugins-base1.0-0\"][\"Depends\"].iloc[0]"
   ]
  },
  {
   "cell_type": "code",
   "execution_count": 41,
   "metadata": {},
   "outputs": [
    {
     "data": {
      "text/plain": [
       "'libc6 (>= 2.14)'"
      ]
     },
     "execution_count": 41,
     "metadata": {},
     "output_type": "execute_result"
    }
   ],
   "source": [
    "ground_truth[ground_truth[\"Package\"] == \"liborc-0.4-0\"][\"Depends\"].iloc[0]"
   ]
  },
  {
   "cell_type": "code",
   "execution_count": 89,
   "metadata": {},
   "outputs": [
    {
     "data": {
      "text/html": [
       "<div>\n",
       "<style scoped>\n",
       "    .dataframe tbody tr th:only-of-type {\n",
       "        vertical-align: middle;\n",
       "    }\n",
       "\n",
       "    .dataframe tbody tr th {\n",
       "        vertical-align: top;\n",
       "    }\n",
       "\n",
       "    .dataframe thead th {\n",
       "        text-align: right;\n",
       "    }\n",
       "</style>\n",
       "<table border=\"1\" class=\"dataframe\">\n",
       "  <thead>\n",
       "    <tr style=\"text-align: right;\">\n",
       "      <th></th>\n",
       "      <th>Package</th>\n",
       "      <th>Version</th>\n",
       "      <th>Architecture</th>\n",
       "      <th>Size</th>\n",
       "      <th>Installed-Size</th>\n",
       "      <th>Maintainer</th>\n",
       "      <th>Description</th>\n",
       "      <th>parsedFrom</th>\n",
       "      <th>Bugs</th>\n",
       "      <th>Origin</th>\n",
       "      <th>Depends</th>\n",
       "      <th>Homepage</th>\n",
       "      <th>Source</th>\n",
       "      <th>Section</th>\n",
       "      <th>Supported</th>\n",
       "      <th>Filename</th>\n",
       "    </tr>\n",
       "    <tr>\n",
       "      <th>id</th>\n",
       "      <th></th>\n",
       "      <th></th>\n",
       "      <th></th>\n",
       "      <th></th>\n",
       "      <th></th>\n",
       "      <th></th>\n",
       "      <th></th>\n",
       "      <th></th>\n",
       "      <th></th>\n",
       "      <th></th>\n",
       "      <th></th>\n",
       "      <th></th>\n",
       "      <th></th>\n",
       "      <th></th>\n",
       "      <th></th>\n",
       "      <th></th>\n",
       "    </tr>\n",
       "  </thead>\n",
       "  <tbody>\n",
       "    <tr>\n",
       "      <th>13023</th>\n",
       "      <td>iso-codes</td>\n",
       "      <td>3.52-1</td>\n",
       "      <td>all</td>\n",
       "      <td>2072544</td>\n",
       "      <td>15207</td>\n",
       "      <td>Ubuntu Developers &lt;ubuntu-devel-discuss@lists....</td>\n",
       "      <td>ISO language, territory, currency, script code...</td>\n",
       "      <td>packages/archive.ubuntu.com_ubuntu_dists_trust...</td>\n",
       "      <td>https://bugs.launchpad.net/ubuntu/+filebug</td>\n",
       "      <td>Ubuntu</td>\n",
       "      <td></td>\n",
       "      <td>http://pkg-isocodes.alioth.debian.org/</td>\n",
       "      <td></td>\n",
       "      <td>libs</td>\n",
       "      <td>5y</td>\n",
       "      <td>pool/main/i/iso-codes/iso-codes_3.52-1_all.deb</td>\n",
       "    </tr>\n",
       "  </tbody>\n",
       "</table>\n",
       "</div>"
      ],
      "text/plain": [
       "         Package Version Architecture     Size  Installed-Size  \\\n",
       "id                                                               \n",
       "13023  iso-codes  3.52-1          all  2072544           15207   \n",
       "\n",
       "                                              Maintainer  \\\n",
       "id                                                         \n",
       "13023  Ubuntu Developers <ubuntu-devel-discuss@lists....   \n",
       "\n",
       "                                             Description  \\\n",
       "id                                                         \n",
       "13023  ISO language, territory, currency, script code...   \n",
       "\n",
       "                                              parsedFrom  \\\n",
       "id                                                         \n",
       "13023  packages/archive.ubuntu.com_ubuntu_dists_trust...   \n",
       "\n",
       "                                             Bugs  Origin Depends  \\\n",
       "id                                                                  \n",
       "13023  https://bugs.launchpad.net/ubuntu/+filebug  Ubuntu           \n",
       "\n",
       "                                     Homepage Source Section Supported  \\\n",
       "id                                                                       \n",
       "13023  http://pkg-isocodes.alioth.debian.org/           libs        5y   \n",
       "\n",
       "                                             Filename  \n",
       "id                                                     \n",
       "13023  pool/main/i/iso-codes/iso-codes_3.52-1_all.deb  "
      ]
     },
     "execution_count": 89,
     "metadata": {},
     "output_type": "execute_result"
    }
   ],
   "source": [
    "ground_truth[ground_truth[\"Package\"] == \"iso-codes\"]"
   ]
  },
  {
   "cell_type": "code",
   "execution_count": 82,
   "metadata": {},
   "outputs": [
    {
     "data": {
      "text/plain": [
       "'libc6 (>= 2.17), libffi6 (>= 3.0.4), libpcre3, libselinux1 (>= 1.32), zlib1g (>= 1:1.2.2)'"
      ]
     },
     "execution_count": 82,
     "metadata": {},
     "output_type": "execute_result"
    }
   ],
   "source": [
    "ground_truth[ground_truth[\"Package\"] == \"libglib2.0-0\"][\"Depends\"].iloc[0]"
   ]
  },
  {
   "cell_type": "code",
   "execution_count": 92,
   "metadata": {},
   "outputs": [
    {
     "data": {
      "text/plain": [
       "[1784]"
      ]
     },
     "execution_count": 92,
     "metadata": {},
     "output_type": "execute_result"
    }
   ],
   "source": [
    "parseAndFindDep(ground_truth[ground_truth[\"Package\"] == \"libffi6\"][\"Depends\"].iloc[0], ground_truth)"
   ]
  },
  {
   "cell_type": "code",
   "execution_count": 84,
   "metadata": {},
   "outputs": [
    {
     "data": {
      "text/plain": [
       "Package                                                    libpcre3\n",
       "Version                                           1:8.31-2ubuntu2.3\n",
       "Architecture                                                  amd64\n",
       "Size                                                         144410\n",
       "Installed-Size                                                  464\n",
       "Maintainer        Ubuntu Developers <ubuntu-devel-discuss@lists....\n",
       "Description       Perl 5 Compatible Regular Expression Library -...\n",
       "parsedFrom        packages/archive.ubuntu.com_ubuntu_dists_trust...\n",
       "Bugs                     https://bugs.launchpad.net/ubuntu/+filebug\n",
       "Origin                                                       Ubuntu\n",
       "Depends                                             libc6 (>= 2.14)\n",
       "Homepage                                                           \n",
       "Source                                                        pcre3\n",
       "Section                                                        libs\n",
       "Supported                                                        5y\n",
       "Filename          pool/main/p/pcre3/libpcre3_8.31-2ubuntu2.3_amd...\n",
       "Name: 2826, dtype: object"
      ]
     },
     "execution_count": 84,
     "metadata": {},
     "output_type": "execute_result"
    }
   ],
   "source": [
    "ground_truth.loc[2826]"
   ]
  },
  {
   "cell_type": "code",
   "execution_count": 26,
   "metadata": {},
   "outputs": [],
   "source": [
    "x =gt.loc[12794]"
   ]
  },
  {
   "cell_type": "code",
   "execution_count": 32,
   "metadata": {},
   "outputs": [],
   "source": [
    "x = ground_truth.loc[12794]"
   ]
  },
  {
   "cell_type": "code",
   "execution_count": 40,
   "metadata": {},
   "outputs": [],
   "source": [
    "ground_truth[\"Summing dependances\"] = -1\n",
    "ground_truth[\"Dependance traces\"] = \"{}\"\n",
    "ground_truth[\"Childrens\"] = \"\"\n",
    "\n",
    "trace , childrens , _ =recursiveSearchOnDep(df=ground_truth, x=x, alreadySeen={})"
   ]
  },
  {
   "cell_type": "code",
   "execution_count": 41,
   "metadata": {},
   "outputs": [
    {
     "data": {
      "text/plain": [
       "{751,\n",
       " 1784,\n",
       " 2008,\n",
       " 2077,\n",
       " 2234,\n",
       " 2285,\n",
       " 2289,\n",
       " 2826,\n",
       " 3162,\n",
       " 3330,\n",
       " 3331,\n",
       " 8618,\n",
       " 12794,\n",
       " 13023,\n",
       " 14106,\n",
       " 15921,\n",
       " 15956,\n",
       " 16979,\n",
       " 17160}"
      ]
     },
     "execution_count": 41,
     "metadata": {},
     "output_type": "execute_result"
    }
   ],
   "source": [
    "childrens"
   ]
  },
  {
   "cell_type": "code",
   "execution_count": 43,
   "metadata": {},
   "outputs": [
    {
     "data": {
      "text/plain": [
       "19"
      ]
     },
     "execution_count": 43,
     "metadata": {},
     "output_type": "execute_result"
    }
   ],
   "source": [
    "len(childrens)"
   ]
  },
  {
   "cell_type": "code",
   "execution_count": 46,
   "metadata": {},
   "outputs": [
    {
     "name": "stdout",
     "output_type": "stream",
     "text": [
      "gstreamer1.0-plugins-base : 1.2.3-1\n",
      "libc6 : 2.19-0ubuntu6.14\n",
      "libgcc1 : 1:4.9.3-0ubuntu4\n",
      "gcc-4.9-base : 4.9.3-0ubuntu4\n",
      "libcdparanoia0 : 3.10.2+debian-11\n",
      "libglib2.0-0 : 2.40.2-0ubuntu1.1\n",
      "libffi6 : 3.1~rc1+r3.0.13-12ubuntu0.2\n",
      "libpcre3 : 1:8.31-2ubuntu2.3\n",
      "libselinux1 : 2.2.2-1ubuntu0.1\n",
      "zlib1g : 1:1.2.8.dfsg-1ubuntu1.1\n",
      "libgstreamer1.0-0 : 1.2.4-0ubuntu1.1\n",
      "libogg0 : 1.3.1-1ubuntu1\n",
      "liborc-0.4-0 : 1:0.4.18-1ubuntu1\n",
      "libtheora0 : 1.1.1+dfsg.1-3.2\n",
      "libvisual-0.4-0 : 0.4.0-5\n",
      "libvorbis0a : 1.3.2-1.3ubuntu1.2\n",
      "libvorbisenc2 : 1.3.2-1.3ubuntu1.2\n",
      "libgstreamer-plugins-base1.0-0 : 1.2.4-1~ubuntu2.1\n",
      "iso-codes : 3.52-1\n"
     ]
    }
   ],
   "source": [
    "for k in trace.keys():\n",
    "    print(k)"
   ]
  },
  {
   "cell_type": "markdown",
   "metadata": {},
   "source": [
    "\n",
    "### Kernels Packets <a id='kernels'></a>"
   ]
  },
  {
   "cell_type": "code",
   "execution_count": 87,
   "metadata": {},
   "outputs": [
    {
     "name": "stdout",
     "output_type": "stream",
     "text": [
      "Only  14  containing 'kernel' keyword\n"
     ]
    }
   ],
   "source": [
    "print(\"Only \",len(gt[gt.Package.str.contains(\"kernel-\")]),\" containing 'kernel' keyword\")"
   ]
  },
  {
   "cell_type": "code",
   "execution_count": 93,
   "metadata": {},
   "outputs": [],
   "source": [
    "kernel_keyword = gt[gt.Package.str.contains(\"kernel-\")]"
   ]
  },
  {
   "cell_type": "code",
   "execution_count": 94,
   "metadata": {},
   "outputs": [],
   "source": [
    "lin_im = gt[gt.Package.str.contains(\"linux-image\")]"
   ]
  },
  {
   "cell_type": "code",
   "execution_count": 95,
   "metadata": {},
   "outputs": [
    {
     "name": "stdout",
     "output_type": "stream",
     "text": [
      "774  Packages containing linux-image key words\n"
     ]
    }
   ],
   "source": [
    "print(len(lin_im), \" Packages containing linux-image key words\")"
   ]
  },
  {
   "cell_type": "code",
   "execution_count": 96,
   "metadata": {},
   "outputs": [
    {
     "name": "stdout",
     "output_type": "stream",
     "text": [
      "788\n"
     ]
    }
   ],
   "source": [
    "kernel_package = pd.concat([kernel_keyword, lin_im])\n",
    "print(len(kernel_package))"
   ]
  },
  {
   "cell_type": "code",
   "execution_count": 115,
   "metadata": {},
   "outputs": [
    {
     "data": {
      "text/html": [
       "<div>\n",
       "<style scoped>\n",
       "    .dataframe tbody tr th:only-of-type {\n",
       "        vertical-align: middle;\n",
       "    }\n",
       "\n",
       "    .dataframe tbody tr th {\n",
       "        vertical-align: top;\n",
       "    }\n",
       "\n",
       "    .dataframe thead th {\n",
       "        text-align: right;\n",
       "    }\n",
       "</style>\n",
       "<table border=\"1\" class=\"dataframe\">\n",
       "  <thead>\n",
       "    <tr style=\"text-align: right;\">\n",
       "      <th></th>\n",
       "      <th>Package</th>\n",
       "      <th>Version</th>\n",
       "      <th>Size</th>\n",
       "      <th>Filename</th>\n",
       "      <th>Summing dependances</th>\n",
       "      <th>Elements involved</th>\n",
       "      <th>Childrens</th>\n",
       "      <th>Frequency</th>\n",
       "      <th>Freq in p</th>\n",
       "    </tr>\n",
       "    <tr>\n",
       "      <th>id</th>\n",
       "      <th></th>\n",
       "      <th></th>\n",
       "      <th></th>\n",
       "      <th></th>\n",
       "      <th></th>\n",
       "      <th></th>\n",
       "      <th></th>\n",
       "      <th></th>\n",
       "      <th></th>\n",
       "    </tr>\n",
       "  </thead>\n",
       "  <tbody>\n",
       "    <tr>\n",
       "      <th>5170</th>\n",
       "      <td>linux-image-3.13.0-88-lowlatency</td>\n",
       "      <td>3.13.0-88.135</td>\n",
       "      <td>51867966</td>\n",
       "      <td>pool/main/l/linux/linux-image-3.13.0-88-lowlat...</td>\n",
       "      <td>64944322.0</td>\n",
       "      <td>54</td>\n",
       "      <td>{2434, 515, 2438, 1031, 1032, 2826, 1784, 1666...</td>\n",
       "      <td>1</td>\n",
       "      <td>0.000018</td>\n",
       "    </tr>\n",
       "    <tr>\n",
       "      <th>5096</th>\n",
       "      <td>linux-image-3.13.0-36-lowlatency</td>\n",
       "      <td>3.13.0-36.63</td>\n",
       "      <td>51852296</td>\n",
       "      <td>pool/main/l/linux/linux-image-3.13.0-36-lowlat...</td>\n",
       "      <td>64928652.0</td>\n",
       "      <td>54</td>\n",
       "      <td>{2434, 515, 2438, 1031, 1032, 2826, 1784, 1666...</td>\n",
       "      <td>1</td>\n",
       "      <td>0.000018</td>\n",
       "    </tr>\n",
       "    <tr>\n",
       "      <th>5421</th>\n",
       "      <td>linux-image-4.4.0-57-generic</td>\n",
       "      <td>4.4.0-57.78~14.04.1</td>\n",
       "      <td>20331018</td>\n",
       "      <td>pool/main/l/linux-lts-xenial/linux-image-4.4.0...</td>\n",
       "      <td>33407374.0</td>\n",
       "      <td>54</td>\n",
       "      <td>{2434, 515, 2438, 1031, 1032, 2826, 1784, 1666...</td>\n",
       "      <td>3</td>\n",
       "      <td>0.000053</td>\n",
       "    </tr>\n",
       "    <tr>\n",
       "      <th>5432</th>\n",
       "      <td>linux-image-4.4.0-66-lowlatency</td>\n",
       "      <td>4.4.0-66.87~14.04.1</td>\n",
       "      <td>56679430</td>\n",
       "      <td>pool/main/l/linux-lts-xenial/linux-image-4.4.0...</td>\n",
       "      <td>69755786.0</td>\n",
       "      <td>54</td>\n",
       "      <td>{2434, 515, 2438, 1031, 1032, 2826, 1784, 1666...</td>\n",
       "      <td>2</td>\n",
       "      <td>0.000035</td>\n",
       "    </tr>\n",
       "    <tr>\n",
       "      <th>5207</th>\n",
       "      <td>linux-image-3.16.0-40-generic</td>\n",
       "      <td>3.16.0-40.54~14.04.1</td>\n",
       "      <td>16141230</td>\n",
       "      <td>pool/main/l/linux-lts-utopic/linux-image-3.16....</td>\n",
       "      <td>29217586.0</td>\n",
       "      <td>54</td>\n",
       "      <td>{2434, 515, 2438, 1031, 1032, 2826, 1784, 1666...</td>\n",
       "      <td>3</td>\n",
       "      <td>0.000053</td>\n",
       "    </tr>\n",
       "  </tbody>\n",
       "</table>\n",
       "</div>"
      ],
      "text/plain": [
       "                               Package               Version      Size  \\\n",
       "id                                                                       \n",
       "5170  linux-image-3.13.0-88-lowlatency         3.13.0-88.135  51867966   \n",
       "5096  linux-image-3.13.0-36-lowlatency          3.13.0-36.63  51852296   \n",
       "5421      linux-image-4.4.0-57-generic   4.4.0-57.78~14.04.1  20331018   \n",
       "5432   linux-image-4.4.0-66-lowlatency   4.4.0-66.87~14.04.1  56679430   \n",
       "5207     linux-image-3.16.0-40-generic  3.16.0-40.54~14.04.1  16141230   \n",
       "\n",
       "                                               Filename  Summing dependances  \\\n",
       "id                                                                             \n",
       "5170  pool/main/l/linux/linux-image-3.13.0-88-lowlat...           64944322.0   \n",
       "5096  pool/main/l/linux/linux-image-3.13.0-36-lowlat...           64928652.0   \n",
       "5421  pool/main/l/linux-lts-xenial/linux-image-4.4.0...           33407374.0   \n",
       "5432  pool/main/l/linux-lts-xenial/linux-image-4.4.0...           69755786.0   \n",
       "5207  pool/main/l/linux-lts-utopic/linux-image-3.16....           29217586.0   \n",
       "\n",
       "      Elements involved                                          Childrens  \\\n",
       "id                                                                           \n",
       "5170                 54  {2434, 515, 2438, 1031, 1032, 2826, 1784, 1666...   \n",
       "5096                 54  {2434, 515, 2438, 1031, 1032, 2826, 1784, 1666...   \n",
       "5421                 54  {2434, 515, 2438, 1031, 1032, 2826, 1784, 1666...   \n",
       "5432                 54  {2434, 515, 2438, 1031, 1032, 2826, 1784, 1666...   \n",
       "5207                 54  {2434, 515, 2438, 1031, 1032, 2826, 1784, 1666...   \n",
       "\n",
       "      Frequency  Freq in p  \n",
       "id                          \n",
       "5170          1   0.000018  \n",
       "5096          1   0.000018  \n",
       "5421          3   0.000053  \n",
       "5432          2   0.000035  \n",
       "5207          3   0.000053  "
      ]
     },
     "execution_count": 115,
     "metadata": {},
     "output_type": "execute_result"
    }
   ],
   "source": [
    "lin_im.sample(5)"
   ]
  },
  {
   "cell_type": "code",
   "execution_count": 116,
   "metadata": {},
   "outputs": [
    {
     "data": {
      "text/html": [
       "<div>\n",
       "<style scoped>\n",
       "    .dataframe tbody tr th:only-of-type {\n",
       "        vertical-align: middle;\n",
       "    }\n",
       "\n",
       "    .dataframe tbody tr th {\n",
       "        vertical-align: top;\n",
       "    }\n",
       "\n",
       "    .dataframe thead th {\n",
       "        text-align: right;\n",
       "    }\n",
       "</style>\n",
       "<table border=\"1\" class=\"dataframe\">\n",
       "  <thead>\n",
       "    <tr style=\"text-align: right;\">\n",
       "      <th></th>\n",
       "      <th>Size</th>\n",
       "      <th>Summing dependances</th>\n",
       "      <th>Elements involved</th>\n",
       "      <th>Frequency</th>\n",
       "      <th>Freq in p</th>\n",
       "    </tr>\n",
       "  </thead>\n",
       "  <tbody>\n",
       "    <tr>\n",
       "      <th>count</th>\n",
       "      <td>7.880000e+02</td>\n",
       "      <td>7.880000e+02</td>\n",
       "      <td>788.000000</td>\n",
       "      <td>788.000000</td>\n",
       "      <td>788.000000</td>\n",
       "    </tr>\n",
       "    <tr>\n",
       "      <th>mean</th>\n",
       "      <td>3.294224e+07</td>\n",
       "      <td>5.566601e+07</td>\n",
       "      <td>52.782995</td>\n",
       "      <td>2.361675</td>\n",
       "      <td>0.000041</td>\n",
       "    </tr>\n",
       "    <tr>\n",
       "      <th>std</th>\n",
       "      <td>1.759478e+07</td>\n",
       "      <td>2.090533e+07</td>\n",
       "      <td>12.304372</td>\n",
       "      <td>4.347066</td>\n",
       "      <td>0.000076</td>\n",
       "    </tr>\n",
       "    <tr>\n",
       "      <th>min</th>\n",
       "      <td>1.754000e+03</td>\n",
       "      <td>6.362000e+03</td>\n",
       "      <td>1.000000</td>\n",
       "      <td>1.000000</td>\n",
       "      <td>0.000018</td>\n",
       "    </tr>\n",
       "    <tr>\n",
       "      <th>25%</th>\n",
       "      <td>1.668948e+07</td>\n",
       "      <td>3.031361e+07</td>\n",
       "      <td>54.000000</td>\n",
       "      <td>1.000000</td>\n",
       "      <td>0.000018</td>\n",
       "    </tr>\n",
       "    <tr>\n",
       "      <th>50%</th>\n",
       "      <td>3.673875e+07</td>\n",
       "      <td>6.582589e+07</td>\n",
       "      <td>54.000000</td>\n",
       "      <td>2.000000</td>\n",
       "      <td>0.000035</td>\n",
       "    </tr>\n",
       "    <tr>\n",
       "      <th>75%</th>\n",
       "      <td>5.190063e+07</td>\n",
       "      <td>6.885237e+07</td>\n",
       "      <td>60.000000</td>\n",
       "      <td>3.000000</td>\n",
       "      <td>0.000053</td>\n",
       "    </tr>\n",
       "    <tr>\n",
       "      <th>max</th>\n",
       "      <td>5.736519e+07</td>\n",
       "      <td>1.064733e+08</td>\n",
       "      <td>104.000000</td>\n",
       "      <td>82.000000</td>\n",
       "      <td>0.001439</td>\n",
       "    </tr>\n",
       "  </tbody>\n",
       "</table>\n",
       "</div>"
      ],
      "text/plain": [
       "               Size  Summing dependances  Elements involved   Frequency  \\\n",
       "count  7.880000e+02         7.880000e+02         788.000000  788.000000   \n",
       "mean   3.294224e+07         5.566601e+07          52.782995    2.361675   \n",
       "std    1.759478e+07         2.090533e+07          12.304372    4.347066   \n",
       "min    1.754000e+03         6.362000e+03           1.000000    1.000000   \n",
       "25%    1.668948e+07         3.031361e+07          54.000000    1.000000   \n",
       "50%    3.673875e+07         6.582589e+07          54.000000    2.000000   \n",
       "75%    5.190063e+07         6.885237e+07          60.000000    3.000000   \n",
       "max    5.736519e+07         1.064733e+08         104.000000   82.000000   \n",
       "\n",
       "        Freq in p  \n",
       "count  788.000000  \n",
       "mean     0.000041  \n",
       "std      0.000076  \n",
       "min      0.000018  \n",
       "25%      0.000018  \n",
       "50%      0.000035  \n",
       "75%      0.000053  \n",
       "max      0.001439  "
      ]
     },
     "execution_count": 116,
     "metadata": {},
     "output_type": "execute_result"
    }
   ],
   "source": [
    "kernel_package.describe()\n"
   ]
  },
  {
   "cell_type": "code",
   "execution_count": 59,
   "metadata": {},
   "outputs": [
    {
     "data": {
      "text/html": [
       "<div>\n",
       "<style scoped>\n",
       "    .dataframe tbody tr th:only-of-type {\n",
       "        vertical-align: middle;\n",
       "    }\n",
       "\n",
       "    .dataframe tbody tr th {\n",
       "        vertical-align: top;\n",
       "    }\n",
       "\n",
       "    .dataframe thead th {\n",
       "        text-align: right;\n",
       "    }\n",
       "</style>\n",
       "<table border=\"1\" class=\"dataframe\">\n",
       "  <thead>\n",
       "    <tr style=\"text-align: right;\">\n",
       "      <th></th>\n",
       "      <th>Size</th>\n",
       "      <th>Summing dependances</th>\n",
       "      <th>Elements involved</th>\n",
       "      <th>Frequency</th>\n",
       "      <th>Freq in p</th>\n",
       "    </tr>\n",
       "  </thead>\n",
       "  <tbody>\n",
       "    <tr>\n",
       "      <th>count</th>\n",
       "      <td>5.699700e+04</td>\n",
       "      <td>5.699700e+04</td>\n",
       "      <td>56997.000000</td>\n",
       "      <td>56997.000000</td>\n",
       "      <td>56997.000000</td>\n",
       "    </tr>\n",
       "    <tr>\n",
       "      <th>mean</th>\n",
       "      <td>2.105541e+06</td>\n",
       "      <td>2.306398e+07</td>\n",
       "      <td>50.236030</td>\n",
       "      <td>50.236030</td>\n",
       "      <td>0.000881</td>\n",
       "    </tr>\n",
       "    <tr>\n",
       "      <th>std</th>\n",
       "      <td>1.645952e+07</td>\n",
       "      <td>4.099916e+07</td>\n",
       "      <td>75.622314</td>\n",
       "      <td>700.517587</td>\n",
       "      <td>0.012290</td>\n",
       "    </tr>\n",
       "    <tr>\n",
       "      <th>min</th>\n",
       "      <td>7.960000e+02</td>\n",
       "      <td>1.542000e+03</td>\n",
       "      <td>1.000000</td>\n",
       "      <td>1.000000</td>\n",
       "      <td>0.000018</td>\n",
       "    </tr>\n",
       "    <tr>\n",
       "      <th>25%</th>\n",
       "      <td>1.600400e+04</td>\n",
       "      <td>5.331534e+06</td>\n",
       "      <td>6.000000</td>\n",
       "      <td>1.000000</td>\n",
       "      <td>0.000018</td>\n",
       "    </tr>\n",
       "    <tr>\n",
       "      <th>50%</th>\n",
       "      <td>6.307400e+04</td>\n",
       "      <td>1.303021e+07</td>\n",
       "      <td>20.000000</td>\n",
       "      <td>1.000000</td>\n",
       "      <td>0.000018</td>\n",
       "    </tr>\n",
       "    <tr>\n",
       "      <th>75%</th>\n",
       "      <td>3.913900e+05</td>\n",
       "      <td>2.372991e+07</td>\n",
       "      <td>64.000000</td>\n",
       "      <td>3.000000</td>\n",
       "      <td>0.000053</td>\n",
       "    </tr>\n",
       "    <tr>\n",
       "      <th>max</th>\n",
       "      <td>1.067972e+09</td>\n",
       "      <td>1.684150e+09</td>\n",
       "      <td>1109.000000</td>\n",
       "      <td>48385.000000</td>\n",
       "      <td>0.848904</td>\n",
       "    </tr>\n",
       "  </tbody>\n",
       "</table>\n",
       "</div>"
      ],
      "text/plain": [
       "               Size  Summing dependances  Elements involved     Frequency  \\\n",
       "count  5.699700e+04         5.699700e+04       56997.000000  56997.000000   \n",
       "mean   2.105541e+06         2.306398e+07          50.236030     50.236030   \n",
       "std    1.645952e+07         4.099916e+07          75.622314    700.517587   \n",
       "min    7.960000e+02         1.542000e+03           1.000000      1.000000   \n",
       "25%    1.600400e+04         5.331534e+06           6.000000      1.000000   \n",
       "50%    6.307400e+04         1.303021e+07          20.000000      1.000000   \n",
       "75%    3.913900e+05         2.372991e+07          64.000000      3.000000   \n",
       "max    1.067972e+09         1.684150e+09        1109.000000  48385.000000   \n",
       "\n",
       "          Freq in p  \n",
       "count  56997.000000  \n",
       "mean       0.000881  \n",
       "std        0.012290  \n",
       "min        0.000018  \n",
       "25%        0.000018  \n",
       "50%        0.000018  \n",
       "75%        0.000053  \n",
       "max        0.848904  "
      ]
     },
     "execution_count": 59,
     "metadata": {},
     "output_type": "execute_result"
    }
   ],
   "source": [
    "gt.describe()"
   ]
  },
  {
   "cell_type": "markdown",
   "metadata": {},
   "source": [
    "In average, the kernel packages are approximatively 10 times bigger\n",
    "\n",
    "Not a lot of variation in the distribution of the elements involved, which is approximatively the overall mean: 53 elements involved per packages"
   ]
  },
  {
   "cell_type": "code",
   "execution_count": 36,
   "metadata": {},
   "outputs": [
    {
     "data": {
      "text/plain": [
       "<matplotlib.axes._subplots.AxesSubplot at 0x7fed7bccab70>"
      ]
     },
     "execution_count": 36,
     "metadata": {},
     "output_type": "execute_result"
    },
    {
     "data": {
      "image/png": "[encoded data removed]",
      "text/plain": [
       "<Figure size 432x288 with 1 Axes>"
      ]
     },
     "metadata": {
      "needs_background": "light"
     },
     "output_type": "display_data"
    }
   ],
   "source": [
    "lin_im.Size.plot.hist(bins = 50)"
   ]
  },
  {
   "cell_type": "markdown",
   "metadata": {},
   "source": [
    "##### COMPARING w.r.t their dependences #####"
   ]
  },
  {
   "cell_type": "code",
   "execution_count": 117,
   "metadata": {},
   "outputs": [
    {
     "data": {
      "text/plain": [
       "count    774.000000\n",
       "mean      52.980620\n",
       "std       11.272395\n",
       "min       14.000000\n",
       "25%       54.000000\n",
       "50%       54.000000\n",
       "75%       60.000000\n",
       "max       66.000000\n",
       "Name: Elements involved, dtype: float64"
      ]
     },
     "execution_count": 117,
     "metadata": {},
     "output_type": "execute_result"
    }
   ],
   "source": [
    "lin_im[\"Elements involved\"].describe()"
   ]
  },
  {
   "cell_type": "code",
   "execution_count": 118,
   "metadata": {},
   "outputs": [
    {
     "data": {
      "text/plain": [
       "count    56997.000000\n",
       "mean        50.236030\n",
       "std         75.622314\n",
       "min          1.000000\n",
       "25%          6.000000\n",
       "50%         20.000000\n",
       "75%         64.000000\n",
       "max       1109.000000\n",
       "Name: Elements involved, dtype: float64"
      ]
     },
     "execution_count": 118,
     "metadata": {},
     "output_type": "execute_result"
    }
   ],
   "source": [
    "gt[\"Elements involved\"].describe()"
   ]
  },
  {
   "cell_type": "code",
   "execution_count": 121,
   "metadata": {},
   "outputs": [
    {
     "data": {
      "text/html": [
       "<div>\n",
       "<style scoped>\n",
       "    .dataframe tbody tr th:only-of-type {\n",
       "        vertical-align: middle;\n",
       "    }\n",
       "\n",
       "    .dataframe tbody tr th {\n",
       "        vertical-align: top;\n",
       "    }\n",
       "\n",
       "    .dataframe thead th {\n",
       "        text-align: right;\n",
       "    }\n",
       "</style>\n",
       "<table border=\"1\" class=\"dataframe\">\n",
       "  <thead>\n",
       "    <tr style=\"text-align: right;\">\n",
       "      <th></th>\n",
       "      <th>Version</th>\n",
       "      <th>Filename</th>\n",
       "      <th>Summing dependances</th>\n",
       "      <th>Elements involved</th>\n",
       "      <th>Childrens</th>\n",
       "      <th>Frequency</th>\n",
       "      <th>Freq in p</th>\n",
       "    </tr>\n",
       "    <tr>\n",
       "      <th>Package</th>\n",
       "      <th></th>\n",
       "      <th></th>\n",
       "      <th></th>\n",
       "      <th></th>\n",
       "      <th></th>\n",
       "      <th></th>\n",
       "      <th></th>\n",
       "    </tr>\n",
       "  </thead>\n",
       "  <tbody>\n",
       "    <tr>\n",
       "      <th>1</th>\n",
       "      <td>758</td>\n",
       "      <td>758</td>\n",
       "      <td>758</td>\n",
       "      <td>758</td>\n",
       "      <td>758</td>\n",
       "      <td>758</td>\n",
       "      <td>758</td>\n",
       "    </tr>\n",
       "    <tr>\n",
       "      <th>2</th>\n",
       "      <td>7</td>\n",
       "      <td>7</td>\n",
       "      <td>7</td>\n",
       "      <td>7</td>\n",
       "      <td>7</td>\n",
       "      <td>7</td>\n",
       "      <td>7</td>\n",
       "    </tr>\n",
       "    <tr>\n",
       "      <th>3</th>\n",
       "      <td>3</td>\n",
       "      <td>3</td>\n",
       "      <td>3</td>\n",
       "      <td>3</td>\n",
       "      <td>3</td>\n",
       "      <td>3</td>\n",
       "      <td>3</td>\n",
       "    </tr>\n",
       "    <tr>\n",
       "      <th>7</th>\n",
       "      <td>1</td>\n",
       "      <td>1</td>\n",
       "      <td>1</td>\n",
       "      <td>1</td>\n",
       "      <td>1</td>\n",
       "      <td>1</td>\n",
       "      <td>1</td>\n",
       "    </tr>\n",
       "  </tbody>\n",
       "</table>\n",
       "</div>"
      ],
      "text/plain": [
       "         Version  Filename  Summing dependances  Elements involved  Childrens  \\\n",
       "Package                                                                         \n",
       "1            758       758                  758                758        758   \n",
       "2              7         7                    7                  7          7   \n",
       "3              3         3                    3                  3          3   \n",
       "7              1         1                    1                  1          1   \n",
       "\n",
       "         Frequency  Freq in p  \n",
       "Package                        \n",
       "1              758        758  \n",
       "2                7          7  \n",
       "3                3          3  \n",
       "7                1          1  "
      ]
     },
     "execution_count": 121,
     "metadata": {},
     "output_type": "execute_result"
    }
   ],
   "source": [
    "g = kernel_package.groupby(\"Size\").count()\n",
    "g.groupby(\"Package\").count()"
   ]
  },
  {
   "cell_type": "code",
   "execution_count": 124,
   "metadata": {},
   "outputs": [
    {
     "name": "stderr",
     "output_type": "stream",
     "text": [
      "788it [00:00, 1157.71it/s]\n"
     ]
    }
   ],
   "source": [
    "uniqueness = []\n",
    "for index, row in tqdm.tqdm(kernel_package.iterrows()):\n",
    "    uniqueness += [len(gt[gt[\"Size\"] == row['Size']])]"
   ]
  },
  {
   "cell_type": "code",
   "execution_count": 129,
   "metadata": {},
   "outputs": [],
   "source": [
    "from collections import Counter\n",
    "cnt = Counter()"
   ]
  },
  {
   "cell_type": "code",
   "execution_count": 148,
   "metadata": {},
   "outputs": [
    {
     "name": "stdout",
     "output_type": "stream",
     "text": [
      "#unique:  3  at  0.012690355329949238  %\n",
      "#unique:  1  at  0.9314720812182741  %\n",
      "#unique:  2  at  0.01015228426395939  %\n",
      "#unique:  4  at  0.005076142131979695  %\n",
      "#unique:  40  at  0.0025380710659898475  %\n",
      "#unique:  47  at  0.0038071065989847717  %\n",
      "#unique:  41  at  0.008883248730964468  %\n",
      "#unique:  7  at  0.0025380710659898475  %\n",
      "#unique:  6  at  0.006345177664974619  %\n",
      "#unique:  44  at  0.0038071065989847717  %\n",
      "#unique:  19  at  0.0025380710659898475  %\n",
      "#unique:  9  at  0.006345177664974619  %\n",
      "#unique:  5  at  0.0038071065989847717  %\n"
     ]
    }
   ],
   "source": [
    "for x in uniqueness:\n",
    "    cnt[x] +=1\n",
    "    \n",
    "total =0\n",
    "for x, y in cnt.items():\n",
    "    total +=  y\n",
    "\n",
    "p = 0\n",
    "for x, y in cnt.items():\n",
    "    print(\"#unique: \",x, \" at \", y/total, \" %\" )\n",
    "    p+=y/total"
   ]
  },
  {
   "cell_type": "code",
   "execution_count": 147,
   "metadata": {},
   "outputs": [
    {
     "data": {
      "text/plain": [
       "Counter({3: 100,\n",
       "         1: 7340,\n",
       "         2: 80,\n",
       "         4: 40,\n",
       "         40: 20,\n",
       "         47: 30,\n",
       "         41: 70,\n",
       "         7: 20,\n",
       "         6: 50,\n",
       "         44: 30,\n",
       "         19: 20,\n",
       "         9: 50,\n",
       "         5: 30})"
      ]
     },
     "execution_count": 147,
     "metadata": {},
     "output_type": "execute_result"
    }
   ],
   "source": [
    "cnt"
   ]
  }
 ],
 "metadata": {
  "kernelspec": {
   "display_name": "Python 3",
   "language": "python",
   "name": "python3"
  },
  "language_info": {
   "codemirror_mode": {
    "name": "ipython",
    "version": 3
   },
   "file_extension": ".py",
   "mimetype": "text/x-python",
   "name": "python",
   "nbconvert_exporter": "python",
   "pygments_lexer": "ipython3",
   "version": "3.6.6"
  }
 },
 "nbformat": 4,
 "nbformat_minor": 2
}
