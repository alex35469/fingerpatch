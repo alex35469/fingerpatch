{
 "cells": [
  {
   "cell_type": "markdown",
   "metadata": {},
   "source": [
    "# Attack viz\n",
    "\n",
    "### Table of Content\n",
    "\n",
    " - [Set Up](#Setup)\n",
    " - [Uniqueness investigation & Cleaning ](#cleaning)\n",
    " - [Mounting an Attack](#Mounting_an_Attack)\n",
    " - [Dependens discovery](#dependens_discovery)\n",
    "\n",
    "## Set up <a id='Setup'></a>"
   ]
  },
  {
   "cell_type": "code",
   "execution_count": 1,
   "metadata": {},
   "outputs": [],
   "source": [
    "import matplotlib\n",
    "import pandas as pd\n",
    "import pymysql\n",
    "import random\n",
    "import tqdm\n",
    "%matplotlib inline"
   ]
  },
  {
   "cell_type": "code",
   "execution_count": 2,
   "metadata": {},
   "outputs": [
    {
     "name": "stdout",
     "output_type": "stream",
     "text": [
      "No db found, loading from CSV Files\n"
     ]
    }
   ],
   "source": [
    "# Trying to read the data from the fingerpatch db\n",
    "# Or if it doesnt't work from the csv\n",
    "try :\n",
    "    connection = pymysql.connect(host='localhost',\n",
    "                             user='fingerpatch',\n",
    "                             password='fingerpatch',\n",
    "                             db='fingerpatch',\n",
    "                             charset='utf8mb4',\n",
    "                             cursorclass=pymysql.cursors.DictCursor)\n",
    "    attack_table = pd.read_sql(\"SELECT * FROM `ubuntu_captures` \",connection)\n",
    "    ground_truth = pd.read_sql(\"SELECT * FROM `ubuntu_packets` \",connection)\n",
    "    connection.close()\n",
    "\n",
    "except :\n",
    "    \n",
    "    print(\"No db found, loading from CSV Files\")\n",
    "    \n",
    "    ground_truth = pd.read_csv(\"../crawl/ubuntu_packets.csv\")\n",
    "    attack_table = pd.read_csv(\"../capture/ubuntu_captures.csv\")\n",
    "\n",
    "\n",
    "ground_truth = ground_truth.set_index(\"id\") \n",
    "attack_table = attack_table.set_index(\"capture_id\")"
   ]
  },
  {
   "cell_type": "markdown",
   "metadata": {},
   "source": [
    "<a id='cleaning'></a>\n",
    "## Uniqueness investigation & Cleaning \n",
    "\n",
    "\n",
    "Select interesting columns and remove duplicated rows"
   ]
  },
  {
   "cell_type": "code",
   "execution_count": 3,
   "metadata": {},
   "outputs": [
    {
     "data": {
      "text/plain": [
       "Index(['capture_id', 'Package', 'Version', 'Architecture', 'Size',\n",
       "       'Installed-Size', 'Priority', 'Maintainer', 'SHA1', 'Description',\n",
       "       'parsedFrom', 'Description-md5', 'Bugs', 'Origin', 'MD5sum', 'Depends',\n",
       "       'Homepage', 'Source', 'SHA256', 'Section', 'Supported', 'Filename',\n",
       "       'packageMode'],\n",
       "      dtype='object')"
      ]
     },
     "execution_count": 3,
     "metadata": {},
     "output_type": "execute_result"
    }
   ],
   "source": [
    "ground_truth.columns"
   ]
  },
  {
   "cell_type": "code",
   "execution_count": 4,
   "metadata": {},
   "outputs": [
    {
     "name": "stdout",
     "output_type": "stream",
     "text": [
      "Total entries without having cleaned:  128148\n"
     ]
    }
   ],
   "source": [
    "print(\"Total entries without having cleaned: \", len(ground_truth))"
   ]
  },
  {
   "cell_type": "code",
   "execution_count": 5,
   "metadata": {},
   "outputs": [
    {
     "name": "stdout",
     "output_type": "stream",
     "text": [
      "The maximum duplication of rows that have the same Package name and Version is:  1\n",
      "Total entries after having cleaned:  56997\n"
     ]
    }
   ],
   "source": [
    "# Selecting only interessting fields i.e. the attacker has no mean to distinguish two packages that have the same size but different packageMode\n",
    "ground_truth = ground_truth.drop_duplicates(['Package', 'Version', 'Size', 'Depends', 'Architecture'])\n",
    "\n",
    "# Make sure that there is no duplicate information (For a given Package name and Version we have at most one match)\n",
    "print(\"The maximum duplication of rows that have the same Package name and Version is: \", ground_truth.groupby(by=[\"Package\", \"Version\"]).count()[\"SHA1\"].max())\n",
    "\n",
    "# Selecting only interessting columns\n",
    "ground_truth = ground_truth.drop(axis= 1, columns=['capture_id','SHA1', 'Priority', 'Description-md5', 'MD5sum', 'SHA256', 'packageMode' ])\n",
    "\n",
    "ground_truth = ground_truth.fillna(\"\")\n",
    "print(\"Total entries after having cleaned: \", len(ground_truth))"
   ]
  },
  {
   "cell_type": "markdown",
   "metadata": {},
   "source": [
    "<a id='Mounting_an_Attack'></a>\n",
    "## Mounting an Attack for matching a specific capture to a package.\n",
    "##### Relying on package size"
   ]
  },
  {
   "cell_type": "code",
   "execution_count": 6,
   "metadata": {
    "scrolled": true
   },
   "outputs": [
    {
     "data": {
      "text/plain": [
       "truth_id                                                       103746\n",
       "nb_flows                                                            3\n",
       "HTTP_Seq            [['GET /ubuntu/pool/universe/o/opennebula/libo...\n",
       "Flow1                                   target->yukinko.canonical.com\n",
       "Flow2                                   yukinko.canonical.com->target\n",
       "Flow3                                   target->yukinko.canonical.com\n",
       "Flow4                                                             NaN\n",
       "Flow5                                                             NaN\n",
       "nb_Payload_send1                                                    0\n",
       "nb_Payload_send2                                                67874\n",
       "nb_Payload_send3                                                  173\n",
       "nb_Payload_send4                                                  NaN\n",
       "nb_Payload_send5                                                  NaN\n",
       "Name: 1, dtype: object"
      ]
     },
     "execution_count": 6,
     "metadata": {},
     "output_type": "execute_result"
    }
   ],
   "source": [
    "target = attack_table.iloc[0]\n",
    "target"
   ]
  },
  {
   "cell_type": "code",
   "execution_count": 7,
   "metadata": {},
   "outputs": [],
   "source": [
    "EXTRA_SIZE_AVERAGE = 283   # Made from stats about captured packets\n",
    "EXTRA_SIZE_VARIATION = 5\n",
    "size_to_match = target['nb_Payload_send2']"
   ]
  },
  {
   "cell_type": "code",
   "execution_count": 8,
   "metadata": {},
   "outputs": [],
   "source": [
    "def distance_from_expected_average_size(x, size_to_match):\n",
    "    return abs(size_to_match - x - EXTRA_SIZE_AVERAGE)"
   ]
  },
  {
   "cell_type": "code",
   "execution_count": 9,
   "metadata": {},
   "outputs": [],
   "source": [
    "ground_truth[\"dist_from_expected_size\"] = ground_truth[\"Size\"].map(lambda x: distance_from_expected_average_size(x, size_to_match))"
   ]
  },
  {
   "cell_type": "code",
   "execution_count": 10,
   "metadata": {},
   "outputs": [
    {
     "data": {
      "text/html": [
       "<div>\n",
       "<style scoped>\n",
       "    .dataframe tbody tr th:only-of-type {\n",
       "        vertical-align: middle;\n",
       "    }\n",
       "\n",
       "    .dataframe tbody tr th {\n",
       "        vertical-align: top;\n",
       "    }\n",
       "\n",
       "    .dataframe thead th {\n",
       "        text-align: right;\n",
       "    }\n",
       "</style>\n",
       "<table border=\"1\" class=\"dataframe\">\n",
       "  <thead>\n",
       "    <tr style=\"text-align: right;\">\n",
       "      <th></th>\n",
       "      <th>Package</th>\n",
       "      <th>Version</th>\n",
       "      <th>Architecture</th>\n",
       "      <th>Size</th>\n",
       "      <th>Installed-Size</th>\n",
       "      <th>Maintainer</th>\n",
       "      <th>Description</th>\n",
       "      <th>parsedFrom</th>\n",
       "      <th>Bugs</th>\n",
       "      <th>Origin</th>\n",
       "      <th>Depends</th>\n",
       "      <th>Homepage</th>\n",
       "      <th>Source</th>\n",
       "      <th>Section</th>\n",
       "      <th>Supported</th>\n",
       "      <th>Filename</th>\n",
       "      <th>dist_from_expected_size</th>\n",
       "    </tr>\n",
       "    <tr>\n",
       "      <th>id</th>\n",
       "      <th></th>\n",
       "      <th></th>\n",
       "      <th></th>\n",
       "      <th></th>\n",
       "      <th></th>\n",
       "      <th></th>\n",
       "      <th></th>\n",
       "      <th></th>\n",
       "      <th></th>\n",
       "      <th></th>\n",
       "      <th></th>\n",
       "      <th></th>\n",
       "      <th></th>\n",
       "      <th></th>\n",
       "      <th></th>\n",
       "      <th></th>\n",
       "      <th></th>\n",
       "    </tr>\n",
       "  </thead>\n",
       "  <tbody>\n",
       "    <tr>\n",
       "      <th>39672</th>\n",
       "      <td>libopennebula-java-doc</td>\n",
       "      <td>3.4.1-4.1ubuntu1</td>\n",
       "      <td>all</td>\n",
       "      <td>67592</td>\n",
       "      <td>1194</td>\n",
       "      <td>Ubuntu Developers &lt;ubuntu-devel-discuss@lists....</td>\n",
       "      <td>Java bindings for OpenNebula Cloud API (OCA) -...</td>\n",
       "      <td>packages/archive.ubuntu.com_ubuntu_dists_trust...</td>\n",
       "      <td>https://bugs.launchpad.net/ubuntu/+filebug</td>\n",
       "      <td>Ubuntu</td>\n",
       "      <td></td>\n",
       "      <td>http://opennebula.org/</td>\n",
       "      <td>opennebula</td>\n",
       "      <td>universe/doc</td>\n",
       "      <td></td>\n",
       "      <td>pool/universe/o/opennebula/libopennebula-java-...</td>\n",
       "      <td>1</td>\n",
       "    </tr>\n",
       "    <tr>\n",
       "      <th>41519</th>\n",
       "      <td>libshisa-dev</td>\n",
       "      <td>1.0.2-3ubuntu2</td>\n",
       "      <td>amd64</td>\n",
       "      <td>67594</td>\n",
       "      <td>385</td>\n",
       "      <td>Ubuntu Developers &lt;ubuntu-devel-discuss@lists....</td>\n",
       "      <td>Development files for the Shishi Kerberos v5 K...</td>\n",
       "      <td>packages/archive.ubuntu.com_ubuntu_dists_trust...</td>\n",
       "      <td>https://bugs.launchpad.net/ubuntu/+filebug</td>\n",
       "      <td>Ubuntu</td>\n",
       "      <td>libshisa0 (= 1.0.2-3ubuntu2), libshishi-dev (=...</td>\n",
       "      <td>http://www.gnu.org/software/shishi/</td>\n",
       "      <td>shishi</td>\n",
       "      <td>universe/libdevel</td>\n",
       "      <td></td>\n",
       "      <td>pool/universe/s/shishi/libshisa-dev_1.0.2-3ubu...</td>\n",
       "      <td>3</td>\n",
       "    </tr>\n",
       "    <tr>\n",
       "      <th>14154</th>\n",
       "      <td>libcloog-isl-dev</td>\n",
       "      <td>0.18.2-1</td>\n",
       "      <td>amd64</td>\n",
       "      <td>67588</td>\n",
       "      <td>377</td>\n",
       "      <td>Ubuntu Developers &lt;ubuntu-devel-discuss@lists....</td>\n",
       "      <td>Chunky Loop Generator (development files)</td>\n",
       "      <td>packages/archive.ubuntu.com_ubuntu_dists_trust...</td>\n",
       "      <td>https://bugs.launchpad.net/ubuntu/+filebug</td>\n",
       "      <td>Ubuntu</td>\n",
       "      <td>libisl-dev (&gt;= 0.11), libgmp-dev, libcloog-isl...</td>\n",
       "      <td>http://www.CLooG.org</td>\n",
       "      <td>cloog</td>\n",
       "      <td>libdevel</td>\n",
       "      <td>9m</td>\n",
       "      <td>pool/main/c/cloog/libcloog-isl-dev_0.18.2-1_am...</td>\n",
       "      <td>3</td>\n",
       "    </tr>\n",
       "    <tr>\n",
       "      <th>34922</th>\n",
       "      <td>libghc-shakespeare-i18n-prof</td>\n",
       "      <td>1.0.0.2-4build1</td>\n",
       "      <td>amd64</td>\n",
       "      <td>67582</td>\n",
       "      <td>429</td>\n",
       "      <td>Ubuntu Developers &lt;ubuntu-devel-discuss@lists....</td>\n",
       "      <td>type-based approach to internationalization; p...</td>\n",
       "      <td>packages/archive.ubuntu.com_ubuntu_dists_trust...</td>\n",
       "      <td>https://bugs.launchpad.net/ubuntu/+filebug</td>\n",
       "      <td>Ubuntu</td>\n",
       "      <td>libghc-shakespeare-i18n-dev (= 1.0.0.2-4build1...</td>\n",
       "      <td>http://hackage.haskell.org/package/shakespeare...</td>\n",
       "      <td>haskell-shakespeare-i18n</td>\n",
       "      <td>universe/haskell</td>\n",
       "      <td></td>\n",
       "      <td>pool/universe/h/haskell-shakespeare-i18n/libgh...</td>\n",
       "      <td>9</td>\n",
       "    </tr>\n",
       "    <tr>\n",
       "      <th>26685</th>\n",
       "      <td>gkrellmoon</td>\n",
       "      <td>0.6-5</td>\n",
       "      <td>amd64</td>\n",
       "      <td>67578</td>\n",
       "      <td>320</td>\n",
       "      <td>Ubuntu MOTU Developers &lt;ubuntu-motu@lists.ubun...</td>\n",
       "      <td>Gkrellm Moon Clock Plugin</td>\n",
       "      <td>packages/archive.ubuntu.com_ubuntu_dists_trust...</td>\n",
       "      <td>https://bugs.launchpad.net/ubuntu/+filebug</td>\n",
       "      <td>Ubuntu</td>\n",
       "      <td>gkrellm (&gt;= 2.0.0), libatk1.0-0 (&gt;= 1.13.2), l...</td>\n",
       "      <td></td>\n",
       "      <td></td>\n",
       "      <td>universe/x11</td>\n",
       "      <td></td>\n",
       "      <td>pool/universe/g/gkrellmoon/gkrellmoon_0.6-5_am...</td>\n",
       "      <td>13</td>\n",
       "    </tr>\n",
       "  </tbody>\n",
       "</table>\n",
       "</div>"
      ],
      "text/plain": [
       "                            Package           Version Architecture   Size  \\\n",
       "id                                                                          \n",
       "39672        libopennebula-java-doc  3.4.1-4.1ubuntu1          all  67592   \n",
       "41519                  libshisa-dev    1.0.2-3ubuntu2        amd64  67594   \n",
       "14154              libcloog-isl-dev          0.18.2-1        amd64  67588   \n",
       "34922  libghc-shakespeare-i18n-prof   1.0.0.2-4build1        amd64  67582   \n",
       "26685                    gkrellmoon             0.6-5        amd64  67578   \n",
       "\n",
       "       Installed-Size                                         Maintainer  \\\n",
       "id                                                                         \n",
       "39672            1194  Ubuntu Developers <ubuntu-devel-discuss@lists....   \n",
       "41519             385  Ubuntu Developers <ubuntu-devel-discuss@lists....   \n",
       "14154             377  Ubuntu Developers <ubuntu-devel-discuss@lists....   \n",
       "34922             429  Ubuntu Developers <ubuntu-devel-discuss@lists....   \n",
       "26685             320  Ubuntu MOTU Developers <ubuntu-motu@lists.ubun...   \n",
       "\n",
       "                                             Description  \\\n",
       "id                                                         \n",
       "39672  Java bindings for OpenNebula Cloud API (OCA) -...   \n",
       "41519  Development files for the Shishi Kerberos v5 K...   \n",
       "14154          Chunky Loop Generator (development files)   \n",
       "34922  type-based approach to internationalization; p...   \n",
       "26685                          Gkrellm Moon Clock Plugin   \n",
       "\n",
       "                                              parsedFrom  \\\n",
       "id                                                         \n",
       "39672  packages/archive.ubuntu.com_ubuntu_dists_trust...   \n",
       "41519  packages/archive.ubuntu.com_ubuntu_dists_trust...   \n",
       "14154  packages/archive.ubuntu.com_ubuntu_dists_trust...   \n",
       "34922  packages/archive.ubuntu.com_ubuntu_dists_trust...   \n",
       "26685  packages/archive.ubuntu.com_ubuntu_dists_trust...   \n",
       "\n",
       "                                             Bugs  Origin  \\\n",
       "id                                                          \n",
       "39672  https://bugs.launchpad.net/ubuntu/+filebug  Ubuntu   \n",
       "41519  https://bugs.launchpad.net/ubuntu/+filebug  Ubuntu   \n",
       "14154  https://bugs.launchpad.net/ubuntu/+filebug  Ubuntu   \n",
       "34922  https://bugs.launchpad.net/ubuntu/+filebug  Ubuntu   \n",
       "26685  https://bugs.launchpad.net/ubuntu/+filebug  Ubuntu   \n",
       "\n",
       "                                                 Depends  \\\n",
       "id                                                         \n",
       "39672                                                      \n",
       "41519  libshisa0 (= 1.0.2-3ubuntu2), libshishi-dev (=...   \n",
       "14154  libisl-dev (>= 0.11), libgmp-dev, libcloog-isl...   \n",
       "34922  libghc-shakespeare-i18n-dev (= 1.0.0.2-4build1...   \n",
       "26685  gkrellm (>= 2.0.0), libatk1.0-0 (>= 1.13.2), l...   \n",
       "\n",
       "                                                Homepage  \\\n",
       "id                                                         \n",
       "39672                             http://opennebula.org/   \n",
       "41519                http://www.gnu.org/software/shishi/   \n",
       "14154                               http://www.CLooG.org   \n",
       "34922  http://hackage.haskell.org/package/shakespeare...   \n",
       "26685                                                      \n",
       "\n",
       "                         Source            Section Supported  \\\n",
       "id                                                             \n",
       "39672                opennebula       universe/doc             \n",
       "41519                    shishi  universe/libdevel             \n",
       "14154                     cloog           libdevel        9m   \n",
       "34922  haskell-shakespeare-i18n   universe/haskell             \n",
       "26685                                 universe/x11             \n",
       "\n",
       "                                                Filename  \\\n",
       "id                                                         \n",
       "39672  pool/universe/o/opennebula/libopennebula-java-...   \n",
       "41519  pool/universe/s/shishi/libshisa-dev_1.0.2-3ubu...   \n",
       "14154  pool/main/c/cloog/libcloog-isl-dev_0.18.2-1_am...   \n",
       "34922  pool/universe/h/haskell-shakespeare-i18n/libgh...   \n",
       "26685  pool/universe/g/gkrellmoon/gkrellmoon_0.6-5_am...   \n",
       "\n",
       "       dist_from_expected_size  \n",
       "id                              \n",
       "39672                        1  \n",
       "41519                        3  \n",
       "14154                        3  \n",
       "34922                        9  \n",
       "26685                       13  "
      ]
     },
     "execution_count": 10,
     "metadata": {},
     "output_type": "execute_result"
    }
   ],
   "source": [
    "ground_truth.sort_values(by=\"dist_from_expected_size\").head()"
   ]
  },
  {
   "cell_type": "markdown",
   "metadata": {},
   "source": [
    "The first one is the one."
   ]
  },
  {
   "cell_type": "code",
   "execution_count": 11,
   "metadata": {},
   "outputs": [
    {
     "data": {
      "text/plain": [
       "truth_id                                                       103746\n",
       "nb_flows                                                            3\n",
       "HTTP_Seq            [['GET /ubuntu/pool/universe/o/opennebula/libo...\n",
       "Flow1                                   target->yukinko.canonical.com\n",
       "Flow2                                   yukinko.canonical.com->target\n",
       "Flow3                                   target->yukinko.canonical.com\n",
       "Flow4                                                             NaN\n",
       "Flow5                                                             NaN\n",
       "nb_Payload_send1                                                    0\n",
       "nb_Payload_send2                                                67874\n",
       "nb_Payload_send3                                                  173\n",
       "nb_Payload_send4                                                  NaN\n",
       "nb_Payload_send5                                                  NaN\n",
       "Name: 1, dtype: object"
      ]
     },
     "execution_count": 11,
     "metadata": {},
     "output_type": "execute_result"
    }
   ],
   "source": [
    "target"
   ]
  },
  {
   "cell_type": "markdown",
   "metadata": {},
   "source": [
    "<a id='dependens_discovery'></a>\n",
    "## Dependens discovery\n",
    "\n",
    "let's take only the packages that have only one depends.\n",
    "\n",
    "Sort them by ascending size"
   ]
  },
  {
   "cell_type": "code",
   "execution_count": 12,
   "metadata": {},
   "outputs": [],
   "source": [
    "ground_truth = ground_truth.fillna(\"\")\n",
    "ground_truth[\"#Depends\"] = ground_truth[\"Depends\"].map(lambda x: 0 if x == \"\" else len(x.split(\",\")))\n",
    "one_dep_first10 = ground_truth[ground_truth[\"#Depends\"] == 1].sort_values(by = \"Size\", ascending=True)[:10]"
   ]
  },
  {
   "cell_type": "code",
   "execution_count": 13,
   "metadata": {
    "scrolled": false
   },
   "outputs": [
    {
     "data": {
      "text/plain": [
       "Package                                                              readpst\n",
       "Version                                                       0.6.59-1build1\n",
       "Architecture                                                             all\n",
       "Size                                                                     796\n",
       "Installed-Size                                                            21\n",
       "Maintainer                 Ubuntu Developers <ubuntu-devel-discuss@lists....\n",
       "Description                    Converts Outlook PST files to mbox and others\n",
       "parsedFrom                 packages/archive.ubuntu.com_ubuntu_dists_trust...\n",
       "Bugs                              https://bugs.launchpad.net/ubuntu/+filebug\n",
       "Origin                                                                Ubuntu\n",
       "Depends                                                            pst-utils\n",
       "Homepage                                  http://www.five-ten-sg.com/libpst/\n",
       "Source                                                                libpst\n",
       "Section                                                       universe/utils\n",
       "Supported                                                                   \n",
       "Filename                   pool/universe/libp/libpst/readpst_0.6.59-1buil...\n",
       "dist_from_expected_size                                                66795\n",
       "#Depends                                                                   1\n",
       "Name: 51087, dtype: object"
      ]
     },
     "execution_count": 13,
     "metadata": {},
     "output_type": "execute_result"
    }
   ],
   "source": [
    "one_dep_first10.iloc[0]"
   ]
  },
  {
   "cell_type": "markdown",
   "metadata": {},
   "source": [
    "Seeking about that depends"
   ]
  },
  {
   "cell_type": "code",
   "execution_count": 14,
   "metadata": {
    "scrolled": true
   },
   "outputs": [
    {
     "data": {
      "text/html": [
       "<div>\n",
       "<style scoped>\n",
       "    .dataframe tbody tr th:only-of-type {\n",
       "        vertical-align: middle;\n",
       "    }\n",
       "\n",
       "    .dataframe tbody tr th {\n",
       "        vertical-align: top;\n",
       "    }\n",
       "\n",
       "    .dataframe thead th {\n",
       "        text-align: right;\n",
       "    }\n",
       "</style>\n",
       "<table border=\"1\" class=\"dataframe\">\n",
       "  <thead>\n",
       "    <tr style=\"text-align: right;\">\n",
       "      <th></th>\n",
       "      <th>Package</th>\n",
       "      <th>Version</th>\n",
       "      <th>Architecture</th>\n",
       "      <th>Size</th>\n",
       "      <th>Installed-Size</th>\n",
       "      <th>Maintainer</th>\n",
       "      <th>Description</th>\n",
       "      <th>parsedFrom</th>\n",
       "      <th>Bugs</th>\n",
       "      <th>Origin</th>\n",
       "      <th>Depends</th>\n",
       "      <th>Homepage</th>\n",
       "      <th>Source</th>\n",
       "      <th>Section</th>\n",
       "      <th>Supported</th>\n",
       "      <th>Filename</th>\n",
       "      <th>dist_from_expected_size</th>\n",
       "      <th>#Depends</th>\n",
       "    </tr>\n",
       "    <tr>\n",
       "      <th>id</th>\n",
       "      <th></th>\n",
       "      <th></th>\n",
       "      <th></th>\n",
       "      <th></th>\n",
       "      <th></th>\n",
       "      <th></th>\n",
       "      <th></th>\n",
       "      <th></th>\n",
       "      <th></th>\n",
       "      <th></th>\n",
       "      <th></th>\n",
       "      <th></th>\n",
       "      <th></th>\n",
       "      <th></th>\n",
       "      <th></th>\n",
       "      <th></th>\n",
       "      <th></th>\n",
       "      <th></th>\n",
       "    </tr>\n",
       "  </thead>\n",
       "  <tbody>\n",
       "    <tr>\n",
       "      <th>18280</th>\n",
       "      <td>pst-utils</td>\n",
       "      <td>0.6.59-1build1</td>\n",
       "      <td>amd64</td>\n",
       "      <td>62092</td>\n",
       "      <td>181</td>\n",
       "      <td>Ubuntu Developers &lt;ubuntu-devel-discuss@lists....</td>\n",
       "      <td>tools for reading Microsoft Outlook PST files</td>\n",
       "      <td>packages/archive.ubuntu.com_ubuntu_dists_trust...</td>\n",
       "      <td>https://bugs.launchpad.net/ubuntu/+filebug</td>\n",
       "      <td>Ubuntu</td>\n",
       "      <td>libc6 (&gt;= 2.14), libgcc1 (&gt;= 1:4.1.1), libgd3 ...</td>\n",
       "      <td>http://www.five-ten-sg.com/libpst/</td>\n",
       "      <td>libpst</td>\n",
       "      <td>utils</td>\n",
       "      <td>9m</td>\n",
       "      <td>pool/main/libp/libpst/pst-utils_0.6.59-1build1...</td>\n",
       "      <td>5499</td>\n",
       "      <td>7</td>\n",
       "    </tr>\n",
       "  </tbody>\n",
       "</table>\n",
       "</div>"
      ],
      "text/plain": [
       "         Package         Version Architecture   Size  Installed-Size  \\\n",
       "id                                                                     \n",
       "18280  pst-utils  0.6.59-1build1        amd64  62092             181   \n",
       "\n",
       "                                              Maintainer  \\\n",
       "id                                                         \n",
       "18280  Ubuntu Developers <ubuntu-devel-discuss@lists....   \n",
       "\n",
       "                                         Description  \\\n",
       "id                                                     \n",
       "18280  tools for reading Microsoft Outlook PST files   \n",
       "\n",
       "                                              parsedFrom  \\\n",
       "id                                                         \n",
       "18280  packages/archive.ubuntu.com_ubuntu_dists_trust...   \n",
       "\n",
       "                                             Bugs  Origin  \\\n",
       "id                                                          \n",
       "18280  https://bugs.launchpad.net/ubuntu/+filebug  Ubuntu   \n",
       "\n",
       "                                                 Depends  \\\n",
       "id                                                         \n",
       "18280  libc6 (>= 2.14), libgcc1 (>= 1:4.1.1), libgd3 ...   \n",
       "\n",
       "                                 Homepage  Source Section Supported  \\\n",
       "id                                                                    \n",
       "18280  http://www.five-ten-sg.com/libpst/  libpst   utils        9m   \n",
       "\n",
       "                                                Filename  \\\n",
       "id                                                         \n",
       "18280  pool/main/libp/libpst/pst-utils_0.6.59-1build1...   \n",
       "\n",
       "       dist_from_expected_size  #Depends  \n",
       "id                                        \n",
       "18280                     5499         7  "
      ]
     },
     "execution_count": 14,
     "metadata": {},
     "output_type": "execute_result"
    }
   ],
   "source": [
    "ground_truth[ground_truth[\"Package\"] == one_dep_first10.iloc[0][\"Depends\"]]"
   ]
  },
  {
   "cell_type": "markdown",
   "metadata": {},
   "source": [
    "Turns out that this Dependens also have its Dependances"
   ]
  },
  {
   "cell_type": "code",
   "execution_count": 15,
   "metadata": {},
   "outputs": [
    {
     "name": "stdout",
     "output_type": "stream",
     "text": [
      "libc6 (>= 2.14), libgcc1 (>= 1:4.1.1), libgd3 (>= 2.1.0~alpha~), libglib2.0-0 (>= 2.12.0), libgsf-1-114 (>= 1.14.8), libpst4 (>= 0.6.54), libstdc++6 (>= 4.6)\n"
     ]
    }
   ],
   "source": [
    "sub_dependances = ground_truth[ground_truth[\"Package\"] == one_dep_first10.iloc[0][\"Depends\"]].iloc[0][\"Depends\"]\n",
    "print(sub_dependances)"
   ]
  },
  {
   "cell_type": "markdown",
   "metadata": {},
   "source": [
    "#### Once Downloading the package `readpst` we can ideed see that the package doesn't just depends on one single package but many subpackages from that dependance:\n",
    "\n",
    "On the Docker:\n",
    "\n",
    "`The following extra packages will be installed:\n",
    "  fontconfig-config fonts-dejavu-core libfontconfig1 libfreetype6 libgd3\n",
    "  libglib2.0-0 libglib2.0-data libgsf-1-114 libgsf-1-common libjbig0\n",
    "  libjpeg-turbo8 libjpeg8 libpst4 libtiff5 libvpx1 libx11-6 libx11-data\n",
    "  libxau6 libxcb1 libxdmcp6 libxml2 libxpm4 pst-utils sgml-base\n",
    "  shared-mime-info xml-core`\n",
    "  \n",
    "`0 upgraded, 27 newly installed, 0 to remove and 32 not upgraded.\n",
    "Need to get 5664 kB of archives.`\n",
    "\n",
    "\n",
    "On the attacker:\n",
    "\n",
    "`historic =  ['target->danava.canonical.com', 'danava.canonical.com->target', 'target->danava.canonical.com']\n",
    "server_ip =  ['91.189.88.149', '172.100.0.100', '91.189.88.149']\n",
    "server_name =  ['danava.canonical.com', 'target', 'danava.canonical.com']\n",
    "received_Payload =  [5671834]\n",
    "send_Payload =  [0, 4251]`\n",
    "\n",
    "So if we calculate with the tipical extra_size for each downloaded package that we get on the attacker side and knowing that 5664kB is rounded:\n"
   ]
  },
  {
   "cell_type": "code",
   "execution_count": 16,
   "metadata": {},
   "outputs": [
    {
     "data": {
      "text/plain": [
       "5671641"
      ]
     },
     "execution_count": 16,
     "metadata": {},
     "output_type": "execute_result"
    }
   ],
   "source": [
    "EXTRA_SIZE_AVERAGE * 27 + 5664000"
   ]
  },
  {
   "cell_type": "markdown",
   "metadata": {},
   "source": [
    "#### Let's find out what happens if we download the dependance before  \n",
    "\n",
    "While downloading pst-utils (*using apt-get install readpst*):\n",
    "\n",
    "On the victim:\n",
    "\n",
    "`The following extra packages will be installed:\n",
    "  fontconfig-config fonts-dejavu-core libfontconfig1 libfreetype6 libgd3\n",
    "  libglib2.0-0 libglib2.0-data libgsf-1-114 libgsf-1-common libjbig0\n",
    "  libjpeg-turbo8 libjpeg8 libpst4 libtiff5 libvpx1 libx11-6 libx11-data\n",
    "  libxau6 libxcb1 libxdmcp6 libxml2 libxpm4 sgml-base shared-mime-info\n",
    "  xml-core\n",
    "0 upgraded, 26 newly installed, 0 to remove and 32 not upgraded.\n",
    "Need to get 5663 kB of archives.`\n",
    "\n",
    "\n",
    "On the Attacker:\n",
    "\n",
    "`historic =  ['target->keeton.canonical.com', 'keeton.canonical.com->target', 'target->keeton.canonical.com']\n",
    "server_ip =  ['91.189.88.161', '172.100.0.100', '91.189.88.161']\n",
    "server_name =  ['keeton.canonical.com', 'target', 'keeton.canonical.com']\n",
    "received_Payload =  [5670760]\n",
    "send_Payload =  [0, 4085]\n",
    "Ressources cleaned.`\n"
   ]
  },
  {
   "cell_type": "code",
   "execution_count": 17,
   "metadata": {},
   "outputs": [
    {
     "name": "stdout",
     "output_type": "stream",
     "text": [
      " -- Seen By the Attacker -- Difference by downloading the full package and only it's dependances : 1074\n",
      " -- For the ground_truth -- Difference by downloading the full package and only it's dependances : 1079\n"
     ]
    }
   ],
   "source": [
    "print(\" -- Seen By the Attacker -- Difference by downloading the full package and only it's dependances :\",5671834 - 5670760)\n",
    "print(\" -- For the ground_truth -- Difference by downloading the full package and only it's dependances :\",796 + EXTRA_SIZE_AVERAGE)"
   ]
  },
  {
   "cell_type": "markdown",
   "metadata": {},
   "source": [
    "Now that the dependance is installed on the vicitim's machine, we perfom the update of the principal package:\n",
    "\n",
    "\n",
    "On the victim:\n",
    "\n",
    "`The following NEW packages will be installed:\n",
    "  readpst\n",
    "0 upgraded, 1 newly installed, 0 to remove and 32 not upgraded.\n",
    "Need to get 796 B of archives.\n",
    "After this operation, 21.5 kB of additional disk space will be used.\n",
    "Get:1 http://archive.ubuntu.com/ubuntu/ trusty/universe readpst all 0.6.59-1build1 [796 B]\n",
    "Fetched 796 B in 0s (3656 B/s)   \n",
    "Download complete and in download only mode`\n",
    "\n",
    "On the attacker\n",
    "\n",
    "`historic =  ['target->steelix.canonical.com', 'steelix.canonical.com->target', 'target->steelix.canonical.com']\n",
    "server_ip =  ['91.189.88.152', '172.100.0.100', '91.189.88.152']\n",
    "server_name =  ['steelix.canonical.com', 'target', 'steelix.canonical.com']\n",
    "received_Payload =  [1074]\n",
    "send_Payload =  [0, 155]`\n",
    "\n",
    "\n",
    "Indeed, once the dependance is installed, installing just the package "
   ]
  },
  {
   "cell_type": "code",
   "execution_count": 18,
   "metadata": {},
   "outputs": [
    {
     "data": {
      "text/plain": [
       "278"
      ]
     },
     "execution_count": 18,
     "metadata": {},
     "output_type": "execute_result"
    }
   ],
   "source": [
    "1074 - 796"
   ]
  },
  {
   "cell_type": "markdown",
   "metadata": {},
   "source": [
    "### SumOfDependences & NumberOfDependances"
   ]
  },
  {
   "cell_type": "code",
   "execution_count": 19,
   "metadata": {},
   "outputs": [
    {
     "data": {
      "text/plain": [
       "Package                                                                 gcom\n",
       "Version                                                               0.32-2\n",
       "Architecture                                                             all\n",
       "Size                                                                     820\n",
       "Installed-Size                                                            20\n",
       "Maintainer                 Ubuntu Developers <ubuntu-devel-discuss@lists....\n",
       "Description                     datacard control tool - transitional package\n",
       "parsedFrom                 packages/archive.ubuntu.com_ubuntu_dists_trust...\n",
       "Bugs                              https://bugs.launchpad.net/ubuntu/+filebug\n",
       "Origin                                                                Ubuntu\n",
       "Depends                                                                comgt\n",
       "Homepage                                           http://www.pharscape.org/\n",
       "Source                                                                 comgt\n",
       "Section                                                         universe/net\n",
       "Supported                                                                   \n",
       "Filename                           pool/universe/c/comgt/gcom_0.32-2_all.deb\n",
       "dist_from_expected_size                                                66771\n",
       "#Depends                                                                   1\n",
       "Name: 26194, dtype: object"
      ]
     },
     "execution_count": 19,
     "metadata": {},
     "output_type": "execute_result"
    }
   ],
   "source": [
    "one_dep_first10.iloc[1]"
   ]
  },
  {
   "cell_type": "code",
   "execution_count": 20,
   "metadata": {},
   "outputs": [
    {
     "data": {
      "text/html": [
       "<div>\n",
       "<style scoped>\n",
       "    .dataframe tbody tr th:only-of-type {\n",
       "        vertical-align: middle;\n",
       "    }\n",
       "\n",
       "    .dataframe tbody tr th {\n",
       "        vertical-align: top;\n",
       "    }\n",
       "\n",
       "    .dataframe thead th {\n",
       "        text-align: right;\n",
       "    }\n",
       "</style>\n",
       "<table border=\"1\" class=\"dataframe\">\n",
       "  <thead>\n",
       "    <tr style=\"text-align: right;\">\n",
       "      <th></th>\n",
       "      <th>Package</th>\n",
       "      <th>Version</th>\n",
       "      <th>Architecture</th>\n",
       "      <th>Size</th>\n",
       "      <th>Installed-Size</th>\n",
       "      <th>Maintainer</th>\n",
       "      <th>Description</th>\n",
       "      <th>parsedFrom</th>\n",
       "      <th>Bugs</th>\n",
       "      <th>Origin</th>\n",
       "      <th>Depends</th>\n",
       "      <th>Homepage</th>\n",
       "      <th>Source</th>\n",
       "      <th>Section</th>\n",
       "      <th>Supported</th>\n",
       "      <th>Filename</th>\n",
       "      <th>dist_from_expected_size</th>\n",
       "      <th>#Depends</th>\n",
       "    </tr>\n",
       "    <tr>\n",
       "      <th>id</th>\n",
       "      <th></th>\n",
       "      <th></th>\n",
       "      <th></th>\n",
       "      <th></th>\n",
       "      <th></th>\n",
       "      <th></th>\n",
       "      <th></th>\n",
       "      <th></th>\n",
       "      <th></th>\n",
       "      <th></th>\n",
       "      <th></th>\n",
       "      <th></th>\n",
       "      <th></th>\n",
       "      <th></th>\n",
       "      <th></th>\n",
       "      <th></th>\n",
       "      <th></th>\n",
       "      <th></th>\n",
       "    </tr>\n",
       "  </thead>\n",
       "  <tbody>\n",
       "    <tr>\n",
       "      <th>23140</th>\n",
       "      <td>comgt</td>\n",
       "      <td>0.32-2</td>\n",
       "      <td>amd64</td>\n",
       "      <td>42804</td>\n",
       "      <td>188</td>\n",
       "      <td>Ubuntu Developers &lt;ubuntu-devel-discuss@lists....</td>\n",
       "      <td>Option GlobeTrotter and Vodafone datacard cont...</td>\n",
       "      <td>packages/archive.ubuntu.com_ubuntu_dists_trust...</td>\n",
       "      <td>https://bugs.launchpad.net/ubuntu/+filebug</td>\n",
       "      <td>Ubuntu</td>\n",
       "      <td>libc6 (&gt;= 2.7)</td>\n",
       "      <td>http://www.pharscape.org/</td>\n",
       "      <td></td>\n",
       "      <td>universe/net</td>\n",
       "      <td></td>\n",
       "      <td>pool/universe/c/comgt/comgt_0.32-2_amd64.deb</td>\n",
       "      <td>24787</td>\n",
       "      <td>1</td>\n",
       "    </tr>\n",
       "  </tbody>\n",
       "</table>\n",
       "</div>"
      ],
      "text/plain": [
       "      Package Version Architecture   Size  Installed-Size  \\\n",
       "id                                                          \n",
       "23140   comgt  0.32-2        amd64  42804             188   \n",
       "\n",
       "                                              Maintainer  \\\n",
       "id                                                         \n",
       "23140  Ubuntu Developers <ubuntu-devel-discuss@lists....   \n",
       "\n",
       "                                             Description  \\\n",
       "id                                                         \n",
       "23140  Option GlobeTrotter and Vodafone datacard cont...   \n",
       "\n",
       "                                              parsedFrom  \\\n",
       "id                                                         \n",
       "23140  packages/archive.ubuntu.com_ubuntu_dists_trust...   \n",
       "\n",
       "                                             Bugs  Origin         Depends  \\\n",
       "id                                                                          \n",
       "23140  https://bugs.launchpad.net/ubuntu/+filebug  Ubuntu  libc6 (>= 2.7)   \n",
       "\n",
       "                        Homepage Source       Section Supported  \\\n",
       "id                                                                \n",
       "23140  http://www.pharscape.org/         universe/net             \n",
       "\n",
       "                                           Filename  dist_from_expected_size  \\\n",
       "id                                                                             \n",
       "23140  pool/universe/c/comgt/comgt_0.32-2_amd64.deb                    24787   \n",
       "\n",
       "       #Depends  \n",
       "id               \n",
       "23140         1  "
      ]
     },
     "execution_count": 20,
     "metadata": {},
     "output_type": "execute_result"
    }
   ],
   "source": [
    "ground_truth[ground_truth[\"Package\"] == \"comgt\"]"
   ]
  },
  {
   "cell_type": "code",
   "execution_count": 21,
   "metadata": {},
   "outputs": [
    {
     "data": {
      "text/html": [
       "<div>\n",
       "<style scoped>\n",
       "    .dataframe tbody tr th:only-of-type {\n",
       "        vertical-align: middle;\n",
       "    }\n",
       "\n",
       "    .dataframe tbody tr th {\n",
       "        vertical-align: top;\n",
       "    }\n",
       "\n",
       "    .dataframe thead th {\n",
       "        text-align: right;\n",
       "    }\n",
       "</style>\n",
       "<table border=\"1\" class=\"dataframe\">\n",
       "  <thead>\n",
       "    <tr style=\"text-align: right;\">\n",
       "      <th></th>\n",
       "      <th>Package</th>\n",
       "      <th>Version</th>\n",
       "      <th>Architecture</th>\n",
       "      <th>Size</th>\n",
       "      <th>Installed-Size</th>\n",
       "      <th>Maintainer</th>\n",
       "      <th>Description</th>\n",
       "      <th>parsedFrom</th>\n",
       "      <th>Bugs</th>\n",
       "      <th>Origin</th>\n",
       "      <th>Depends</th>\n",
       "      <th>Homepage</th>\n",
       "      <th>Source</th>\n",
       "      <th>Section</th>\n",
       "      <th>Supported</th>\n",
       "      <th>Filename</th>\n",
       "      <th>dist_from_expected_size</th>\n",
       "      <th>#Depends</th>\n",
       "    </tr>\n",
       "    <tr>\n",
       "      <th>id</th>\n",
       "      <th></th>\n",
       "      <th></th>\n",
       "      <th></th>\n",
       "      <th></th>\n",
       "      <th></th>\n",
       "      <th></th>\n",
       "      <th></th>\n",
       "      <th></th>\n",
       "      <th></th>\n",
       "      <th></th>\n",
       "      <th></th>\n",
       "      <th></th>\n",
       "      <th></th>\n",
       "      <th></th>\n",
       "      <th></th>\n",
       "      <th></th>\n",
       "      <th></th>\n",
       "      <th></th>\n",
       "    </tr>\n",
       "  </thead>\n",
       "  <tbody>\n",
       "    <tr>\n",
       "      <th>1784</th>\n",
       "      <td>libc6</td>\n",
       "      <td>2.19-0ubuntu6.14</td>\n",
       "      <td>amd64</td>\n",
       "      <td>4752538</td>\n",
       "      <td>10508</td>\n",
       "      <td>Ubuntu Developers &lt;ubuntu-devel-discuss@lists....</td>\n",
       "      <td>Embedded GNU C Library: Shared libraries</td>\n",
       "      <td>packages/archive.ubuntu.com_ubuntu_dists_trust...</td>\n",
       "      <td>https://bugs.launchpad.net/ubuntu/+filebug</td>\n",
       "      <td>Ubuntu</td>\n",
       "      <td>libgcc1</td>\n",
       "      <td>http://www.eglibc.org</td>\n",
       "      <td>eglibc</td>\n",
       "      <td>libs</td>\n",
       "      <td>5y</td>\n",
       "      <td>pool/main/e/eglibc/libc6_2.19-0ubuntu6.14_amd6...</td>\n",
       "      <td>4684947</td>\n",
       "      <td>1</td>\n",
       "    </tr>\n",
       "    <tr>\n",
       "      <th>14033</th>\n",
       "      <td>libc6</td>\n",
       "      <td>2.19-0ubuntu6</td>\n",
       "      <td>amd64</td>\n",
       "      <td>4729214</td>\n",
       "      <td>10496</td>\n",
       "      <td>Ubuntu Developers &lt;ubuntu-devel-discuss@lists....</td>\n",
       "      <td>Embedded GNU C Library: Shared libraries</td>\n",
       "      <td>packages/archive.ubuntu.com_ubuntu_dists_trust...</td>\n",
       "      <td>https://bugs.launchpad.net/ubuntu/+filebug</td>\n",
       "      <td>Ubuntu</td>\n",
       "      <td>libgcc1</td>\n",
       "      <td>http://www.eglibc.org</td>\n",
       "      <td>eglibc</td>\n",
       "      <td>libs</td>\n",
       "      <td>5y</td>\n",
       "      <td>pool/main/e/eglibc/libc6_2.19-0ubuntu6_amd64.deb</td>\n",
       "      <td>4661623</td>\n",
       "      <td>1</td>\n",
       "    </tr>\n",
       "  </tbody>\n",
       "</table>\n",
       "</div>"
      ],
      "text/plain": [
       "      Package           Version Architecture     Size  Installed-Size  \\\n",
       "id                                                                      \n",
       "1784    libc6  2.19-0ubuntu6.14        amd64  4752538           10508   \n",
       "14033   libc6     2.19-0ubuntu6        amd64  4729214           10496   \n",
       "\n",
       "                                              Maintainer  \\\n",
       "id                                                         \n",
       "1784   Ubuntu Developers <ubuntu-devel-discuss@lists....   \n",
       "14033  Ubuntu Developers <ubuntu-devel-discuss@lists....   \n",
       "\n",
       "                                    Description  \\\n",
       "id                                                \n",
       "1784   Embedded GNU C Library: Shared libraries   \n",
       "14033  Embedded GNU C Library: Shared libraries   \n",
       "\n",
       "                                              parsedFrom  \\\n",
       "id                                                         \n",
       "1784   packages/archive.ubuntu.com_ubuntu_dists_trust...   \n",
       "14033  packages/archive.ubuntu.com_ubuntu_dists_trust...   \n",
       "\n",
       "                                             Bugs  Origin  Depends  \\\n",
       "id                                                                   \n",
       "1784   https://bugs.launchpad.net/ubuntu/+filebug  Ubuntu  libgcc1   \n",
       "14033  https://bugs.launchpad.net/ubuntu/+filebug  Ubuntu  libgcc1   \n",
       "\n",
       "                    Homepage  Source Section Supported  \\\n",
       "id                                                       \n",
       "1784   http://www.eglibc.org  eglibc    libs        5y   \n",
       "14033  http://www.eglibc.org  eglibc    libs        5y   \n",
       "\n",
       "                                                Filename  \\\n",
       "id                                                         \n",
       "1784   pool/main/e/eglibc/libc6_2.19-0ubuntu6.14_amd6...   \n",
       "14033   pool/main/e/eglibc/libc6_2.19-0ubuntu6_amd64.deb   \n",
       "\n",
       "       dist_from_expected_size  #Depends  \n",
       "id                                        \n",
       "1784                   4684947         1  \n",
       "14033                  4661623         1  "
      ]
     },
     "execution_count": 21,
     "metadata": {},
     "output_type": "execute_result"
    }
   ],
   "source": [
    "ground_truth[ground_truth[\"Package\"] == \"libc6\"]"
   ]
  },
  {
   "cell_type": "markdown",
   "metadata": {},
   "source": [
    "Dependances can be ambigious"
   ]
  },
  {
   "cell_type": "code",
   "execution_count": 22,
   "metadata": {},
   "outputs": [
    {
     "name": "stdout",
     "output_type": "stream",
     "text": [
      "python (>= 2.7), python (<< 2.8), python:any (>= 2.7.1-0ubuntu2), base-files (>= 4.0.4)\n",
      "python-bzrlib (<= 2.6.0+bzr6593-1ubuntu1.6.1~), python-bzrlib (>= 2.6.0+bzr6593-1ubuntu1.6), python:any\n"
     ]
    }
   ],
   "source": [
    "print(ground_truth[\"Depends\"].iloc[48])\n",
    "print(ground_truth[\"Depends\"].iloc[405])"
   ]
  },
  {
   "cell_type": "markdown",
   "metadata": {},
   "source": [
    "### Before implementing the recursivity function, we consatated following issues:\n",
    "    - Going through dependances can lead to cycles (ex: comgt->libc6->libgcc1->libc6)\n",
    "        => Can be fixed by keeping a list of seen dependances\n",
    "        \n",
    "    - Many packages with different version can occure (ex: libc6 2.19-0ubuntu6.14 & 2.19-0ubuntu6 not same size)\n",
    "        => Maybe take the most recent one (To gain some time keep only the newest version beforehand)\n",
    "        \n",
    "    - Some packet are already installed by default (like libc6 in our victim's machin)\n",
    "    \n",
    "    - Dependances can be ambigious (ex: python (>= 2.7), python (<< 2.8), python:any (>= 2.7.1-0ubuntu2) )\n",
    "        => Parsing the dependances has to be made carefully \n",
    " \n",
    " Some references:\n",
    " \n",
    " [Depends field format](https://www.debian.org/doc/debian-policy/ch-relationships.html)\n",
    " \n",
    " [Version field format](http://www.fifi.org/doc/debian-policy/policy.html/ch-versions.html)"
   ]
  },
  {
   "cell_type": "code",
   "execution_count": 23,
   "metadata": {},
   "outputs": [],
   "source": [
    "\n",
    "def recursiveSearchOnDep(x, summing, df,alreadySeen):\n",
    "    \"\"\"\n",
    "    x : The current data Serie, Assuming that x contains Package, Version, Depends, Size and \n",
    "        Summing dependances, Dependance traces for the dynamic approach\n",
    "        \n",
    "    summing : The sum of the size in Bytes\n",
    "    df is the db we are performing the recursive search\n",
    "    alreadySeen : Dict with the already seen packages + version\n",
    "    \"\"\"\n",
    "    \n",
    "    xKey = x[\"Package\"] + \" : \"+x[\"Version\"]\n",
    "    if xKey in alreadySeen:\n",
    "        return (summing, alreadySeen)\n",
    "    \n",
    "    alreadySeen[xKey] = []  \n",
    "    \n",
    "    deps = parseAndFindDep(x[\"Depends\"], df)\n",
    "    \n",
    "    if len(deps) == 0: # Touches the leaves\n",
    "        \n",
    "        # Fill the df \n",
    "        df.at[x.name, \"Summing dependances\"] = x[\"Size\"]\n",
    "        df.at[x.name,\"Dependance traces\"] = alreadySeen\n",
    "    \n",
    "        return ( x[\"Size\"], alreadySeen)\n",
    "    \n",
    "    \n",
    "    for dep in deps:\n",
    "        \n",
    "        if dep not in alreadySeen:\n",
    "            newX = df.loc[dep]\n",
    "\n",
    "            \n",
    "            s, as_ = newX[\"Summing dependances\"], newX[\"Dependance traces\"]\n",
    "            \n",
    "            if s == -1:\n",
    "\n",
    "                # Meaning we never saw it before\n",
    "                s, as_ = recursiveSearchOnDep(newX, 0, df, alreadySeen)\n",
    "            \n",
    "                \n",
    "            # Merging\n",
    "            summing += s\n",
    "            alreadySeen = {**as_ , **alreadySeen}\n",
    "            alreadySeen[xKey] += [newX[\"Package\"] + \" : \"+newX[\"Version\"]]\n",
    "    \n",
    "    \n",
    "    summing = summing + x[\"Size\"]\n",
    "    \n",
    "    df.at[x.name, \"Summing dependances\"] = summing\n",
    "    df.at[x.name,\"Dependance traces\"] = alreadySeen\n",
    "    \n",
    "    return (summing, alreadySeen)\n",
    "    \n",
    "    "
   ]
  },
  {
   "cell_type": "code",
   "execution_count": 111,
   "metadata": {},
   "outputs": [],
   "source": [
    "\n",
    "\n",
    "def parseAndFindDep(depString, df):\n",
    "    \"\"\"\n",
    "    Return a list of ubuntu_packages id which represents the\n",
    "    \"\"\"\n",
    "    ids = list()\n",
    "    \n",
    "    allPckg = df[\"Package\"].unique()\n",
    "\n",
    "    for d in depString.split(\", \"):\n",
    "\n",
    "\n",
    "        for d2 in d.split(\" | \"):\n",
    "\n",
    "            d2 = d2.split(\" (\")\n",
    "\n",
    "            package = d2[0]\n",
    "\n",
    "            #print(package)\n",
    "\n",
    "            version = \"\"\n",
    "            if len(d2) == 2:\n",
    "                # We have more info about the version\n",
    "                (req, version) = d2[1][:-1].split(\" \")\n",
    "\n",
    "                if req == \"<<\" : \n",
    "                    req = \"<\"\n",
    "                if req == \">>\":\n",
    "                    req = \">\"\n",
    "                if req == \"=\":\n",
    "                    req = \"==\"\n",
    "\n",
    "\n",
    "            if package in allPckg:\n",
    "\n",
    "                # TOFIX simple string comparison doesn't work because 2.12.4 > 2.9.3 \n",
    "                package_candidates = df[df[\"Package\"] == package].sort_values(by=\"Version\", ascending=False)\n",
    "                id_ = package_candidates.iloc[0].name\n",
    "\n",
    "                if version != \"\":\n",
    "                    # Restraint further more using the version spec.\n",
    "                    package_candidates = package_candidates.query(\"Version \"+req+\" '\"+version+\"'\")    \n",
    "\n",
    "                    if len(package_candidates) > 0 :\n",
    "                        # just take the most recent one if there are many versions\n",
    "                        id_ = package_candidates.iloc[0].name\n",
    "\n",
    "\n",
    "                # Add it only if it's the first time we add it\n",
    "                if id_ not in ids:\n",
    "                    ids = ids + [id_]\n",
    "\n",
    "                # We found it no need to take the packages after \"|\"\n",
    "                break \n",
    "                \n",
    "    return ids\n",
    "        \n",
    "        "
   ]
  },
  {
   "cell_type": "code",
   "execution_count": 25,
   "metadata": {},
   "outputs": [
    {
     "name": "stderr",
     "output_type": "stream",
     "text": [
      "100%|██████████| 56997/56997 [47:37<00:00,  1.02s/it]  \n"
     ]
    }
   ],
   "source": [
    "ground_truth[\"Summing dependances\"] = -1\n",
    "ground_truth[\"Dependance traces\"] = \"{}\"\n",
    " \n",
    "ground_truth = ground_truth.sort_values([\"#Depends\"])\n",
    "\n",
    "for _, row in tqdm.tqdm(ground_truth.iterrows(), total=len(ground_truth)):\n",
    "       \n",
    "    # We don't even enter in the recursion if we already computed it\n",
    "    if row[\"Summing dependances\"] == -1:\n",
    "        _, _ = recursiveSearchOnDep(row,  0, ground_truth, {}) \n",
    "    \n",
    "    #ground_truth.at[row.name, \"Summing dependances\"] = summing\n",
    "    #ground_truth.at[row.name,\"Dependance traces\"] = alreadySeen\n",
    "\n",
    "\n",
    "\n",
    "\n",
    "#%time test[\"Summing dependances\"], test[\"Dependance traces\"] = zip(*test.apply(lambda x: recursiveSearchOnDep(x, 0, test, {}), axis = 1))\n"
   ]
  },
  {
   "cell_type": "code",
   "execution_count": 26,
   "metadata": {},
   "outputs": [],
   "source": [
    "## Saving the table for reuse.\n",
    "ground_truth.to_csv(\"gt_with_dep.csv\")"
   ]
  },
  {
   "cell_type": "code",
   "execution_count": 35,
   "metadata": {},
   "outputs": [
    {
     "data": {
      "text/plain": [
       "id\n",
       "997      20100518ubuntu10.14.04.1\n",
       "51110                    8.26-1.1\n",
       "23984                0.20030921-4\n",
       "21300                    0.8.7-14\n",
       "988        8:6.7.7.10-6ubuntu3.12\n",
       "43045                     1.5.2-4\n",
       "23891                2014.02.17-1\n",
       "44522                   1.0.5.1-2\n",
       "Name: Version, dtype: object"
      ]
     },
     "execution_count": 35,
     "metadata": {},
     "output_type": "execute_result"
    }
   ],
   "source": [
    "ground_truth.iloc[4242:4250][\"Version\"]"
   ]
  },
  {
   "cell_type": "markdown",
   "metadata": {},
   "source": [
    "Taking one random package:"
   ]
  },
  {
   "cell_type": "code",
   "execution_count": 285,
   "metadata": {},
   "outputs": [
    {
     "name": "stdout",
     "output_type": "stream",
     "text": [
      "18205\n"
     ]
    },
    {
     "data": {
      "text/plain": [
       "Package                                                         weather-util\n",
       "Version                                                                2.0-1\n",
       "Architecture                                                             all\n",
       "Size                                                                   27922\n",
       "Installed-Size                                                           153\n",
       "Maintainer                 Ubuntu Developers <ubuntu-devel-discuss@lists....\n",
       "Description                command-line tool to obtain weather conditions...\n",
       "parsedFrom                 packages/archive.ubuntu.com_ubuntu_dists_trust...\n",
       "Bugs                              https://bugs.launchpad.net/ubuntu/+filebug\n",
       "Origin                                                                Ubuntu\n",
       "Depends                                                 python (>= 2.6.6-3~)\n",
       "Homepage                                   http://fungi.yuggoth.org/weather/\n",
       "Source                                                                      \n",
       "Section                                                       universe/utils\n",
       "Supported                                                                   \n",
       "Filename                   pool/universe/w/weather-util/weather-util_2.0-...\n",
       "dist_from_expected_size                                                39669\n",
       "#Depends                                                                   1\n",
       "Summing dependances                                                143946636\n",
       "Dependance traces          {'gcc-4.9-base : 4.9.3-0ubuntu4': [], 'perl-ba...\n",
       "Name: 55265, dtype: object"
      ]
     },
     "execution_count": 285,
     "metadata": {},
     "output_type": "execute_result"
    }
   ],
   "source": [
    "import random\n",
    "r = random.randint(0, 56997)\n",
    "print(r)\n",
    "ground_truth.iloc[r]"
   ]
  },
  {
   "cell_type": "code",
   "execution_count": 292,
   "metadata": {},
   "outputs": [
    {
     "name": "stdout",
     "output_type": "stream",
     "text": [
      "There are :  62 subdependences for the Package weather-util\n"
     ]
    }
   ],
   "source": [
    "print(\"There are : \" , len(ground_truth.iloc[r][\"Dependance traces\"]), \"subdependences for the Package \" + ground_truth.iloc[r][\"Package\"])"
   ]
  },
  {
   "cell_type": "code",
   "execution_count": 106,
   "metadata": {},
   "outputs": [
    {
     "data": {
      "text/html": [
       "<div>\n",
       "<style scoped>\n",
       "    .dataframe tbody tr th:only-of-type {\n",
       "        vertical-align: middle;\n",
       "    }\n",
       "\n",
       "    .dataframe tbody tr th {\n",
       "        vertical-align: top;\n",
       "    }\n",
       "\n",
       "    .dataframe thead th {\n",
       "        text-align: right;\n",
       "    }\n",
       "</style>\n",
       "<table border=\"1\" class=\"dataframe\">\n",
       "  <thead>\n",
       "    <tr style=\"text-align: right;\">\n",
       "      <th></th>\n",
       "      <th>Package</th>\n",
       "      <th>Version</th>\n",
       "      <th>Architecture</th>\n",
       "      <th>Size</th>\n",
       "      <th>Installed-Size</th>\n",
       "      <th>Maintainer</th>\n",
       "      <th>Description</th>\n",
       "      <th>parsedFrom</th>\n",
       "      <th>Bugs</th>\n",
       "      <th>Origin</th>\n",
       "      <th>Depends</th>\n",
       "      <th>Homepage</th>\n",
       "      <th>Source</th>\n",
       "      <th>Section</th>\n",
       "      <th>Supported</th>\n",
       "      <th>Filename</th>\n",
       "      <th>dist_from_expected_size</th>\n",
       "      <th>#Depends</th>\n",
       "      <th>Summing dependances</th>\n",
       "      <th>Dependance traces</th>\n",
       "    </tr>\n",
       "    <tr>\n",
       "      <th>id</th>\n",
       "      <th></th>\n",
       "      <th></th>\n",
       "      <th></th>\n",
       "      <th></th>\n",
       "      <th></th>\n",
       "      <th></th>\n",
       "      <th></th>\n",
       "      <th></th>\n",
       "      <th></th>\n",
       "      <th></th>\n",
       "      <th></th>\n",
       "      <th></th>\n",
       "      <th></th>\n",
       "      <th></th>\n",
       "      <th></th>\n",
       "      <th></th>\n",
       "      <th></th>\n",
       "      <th></th>\n",
       "      <th></th>\n",
       "      <th></th>\n",
       "    </tr>\n",
       "  </thead>\n",
       "  <tbody>\n",
       "    <tr>\n",
       "      <th>45579</th>\n",
       "      <td>nautilus-image-manipulator</td>\n",
       "      <td>1.3-1.1</td>\n",
       "      <td>all</td>\n",
       "      <td>201348</td>\n",
       "      <td>697</td>\n",
       "      <td>Ubuntu Developers &lt;ubuntu-devel-discuss@lists....</td>\n",
       "      <td>Resize and send images from Nautilus</td>\n",
       "      <td>packages/archive.ubuntu.com_ubuntu_dists_trust...</td>\n",
       "      <td>https://bugs.launchpad.net/ubuntu/+filebug</td>\n",
       "      <td>Ubuntu</td>\n",
       "      <td>python:any (&gt;= 2.7.1-0ubuntu2), nautilus, pyth...</td>\n",
       "      <td>https://launchpad.net/nautilus-image-manipulator</td>\n",
       "      <td></td>\n",
       "      <td>universe/gnome</td>\n",
       "      <td></td>\n",
       "      <td>pool/universe/n/nautilus-image-manipulator/nau...</td>\n",
       "      <td>133757</td>\n",
       "      <td>10</td>\n",
       "      <td>46198883014</td>\n",
       "      <td>{'gcc-4.9-base : 4.9.3-0ubuntu4': [], 'perl-ba...</td>\n",
       "    </tr>\n",
       "  </tbody>\n",
       "</table>\n",
       "</div>"
      ],
      "text/plain": [
       "                          Package  Version Architecture    Size  \\\n",
       "id                                                                \n",
       "45579  nautilus-image-manipulator  1.3-1.1          all  201348   \n",
       "\n",
       "       Installed-Size                                         Maintainer  \\\n",
       "id                                                                         \n",
       "45579             697  Ubuntu Developers <ubuntu-devel-discuss@lists....   \n",
       "\n",
       "                                Description  \\\n",
       "id                                            \n",
       "45579  Resize and send images from Nautilus   \n",
       "\n",
       "                                              parsedFrom  \\\n",
       "id                                                         \n",
       "45579  packages/archive.ubuntu.com_ubuntu_dists_trust...   \n",
       "\n",
       "                                             Bugs  Origin  \\\n",
       "id                                                          \n",
       "45579  https://bugs.launchpad.net/ubuntu/+filebug  Ubuntu   \n",
       "\n",
       "                                                 Depends  \\\n",
       "id                                                         \n",
       "45579  python:any (>= 2.7.1-0ubuntu2), nautilus, pyth...   \n",
       "\n",
       "                                               Homepage Source  \\\n",
       "id                                                               \n",
       "45579  https://launchpad.net/nautilus-image-manipulator          \n",
       "\n",
       "              Section Supported  \\\n",
       "id                                \n",
       "45579  universe/gnome             \n",
       "\n",
       "                                                Filename  \\\n",
       "id                                                         \n",
       "45579  pool/universe/n/nautilus-image-manipulator/nau...   \n",
       "\n",
       "       dist_from_expected_size  #Depends  Summing dependances  \\\n",
       "id                                                              \n",
       "45579                   133757        10          46198883014   \n",
       "\n",
       "                                       Dependance traces  \n",
       "id                                                        \n",
       "45579  {'gcc-4.9-base : 4.9.3-0ubuntu4': [], 'perl-ba...  "
      ]
     },
     "execution_count": 106,
     "metadata": {},
     "output_type": "execute_result"
    }
   ],
   "source": [
    "r = random.randint(0, 59000)\n",
    "ground_truth[ground_truth[\"Package\"] == ground_truth.iloc[r][\"Package\"]]"
   ]
  },
  {
   "cell_type": "code",
   "execution_count": null,
   "metadata": {},
   "outputs": [],
   "source": [
    "print(\"All the dependences for the package python: \")\n",
    "ground_truth.loc[18315][\"Dependance traces\"]"
   ]
  },
  {
   "cell_type": "markdown",
   "metadata": {},
   "source": [
    "#### quantifing the percentages of ___what can be done___ and ___what cannot___\n",
    "\n",
    "1) Computing the elements involved in packages + Version."
   ]
  },
  {
   "cell_type": "code",
   "execution_count": 110,
   "metadata": {},
   "outputs": [
    {
     "data": {
      "text/plain": [
       "count    56997.000000\n",
       "mean       404.317578\n",
       "std        543.554721\n",
       "min          0.000000\n",
       "25%         10.000000\n",
       "50%        114.000000\n",
       "75%        711.000000\n",
       "max       3247.000000\n",
       "Name: Elements involved, dtype: float64"
      ]
     },
     "execution_count": 110,
     "metadata": {},
     "output_type": "execute_result"
    }
   ],
   "source": [
    "ground_truth[\"Elements involved\"] = ground_truth['Dependance traces'].map(lambda x: len(x) - 1)\n",
    "ground_truth[\"Elements involved\"].describe()"
   ]
  },
  {
   "cell_type": "markdown",
   "metadata": {},
   "source": [
    "In average, we have 404 other dependencies involved when we match exactly one dependance each time. With huge standard deviation. \n",
    "\n",
    "<font color='red'>Important</font> : We are not considering multiple possibilities for one single dependance.\n",
    " (i.e. when having << we just pick the most recent version. We don't consider all the possibilites. Same for | we just pick the fisrt possible match )"
   ]
  },
  {
   "cell_type": "code",
   "execution_count": 121,
   "metadata": {},
   "outputs": [],
   "source": [
    "def analyseDep(depString):\n",
    "    \"\"\"\n",
    "    Extract interessting numbers about dependances specificaton\n",
    "    \"\"\"\n",
    "    ids = list()\n",
    "    \n",
    "    eq = 0\n",
    "    beq = 0\n",
    "    leq = 0\n",
    "    lessThan = 0\n",
    "    biggerThan = 0\n",
    "    alternatives = 0\n",
    "    noSpec = 0\n",
    "    \n",
    "    \n",
    "\n",
    "    for d in depString.split(\", \"):\n",
    "        \n",
    "        alternatives += len(d.split(\" | \")) - 1\n",
    "        \n",
    "        for d2 in d.split(\" | \"):\n",
    "\n",
    "            d2 = d2.split(\" (\")\n",
    "\n",
    "            package = d2[0]\n",
    "\n",
    "            version = \"\"\n",
    "            if len(d2) == 2:\n",
    "                # We have more info about the version\n",
    "                (req, version) = d2[1][:-1].split(\" \")\n",
    "\n",
    "                if req == \"<<\" :\n",
    "                    lessThan +=1 \n",
    "                    req = \"<\"\n",
    "                    \n",
    "                if req == \"<=\":\n",
    "                    leq +=1\n",
    "                    \n",
    "                if req == \"=\":\n",
    "                    req = \"==\"\n",
    "                    eq +=1\n",
    "                    \n",
    "                if req == \">=\":\n",
    "                    beq +=1\n",
    "                    \n",
    "                if req == \">>\":\n",
    "                    req = \">\"\n",
    "                    biggerThan += 1\n",
    "            \n",
    "            else:\n",
    "                # No info about the version\n",
    "                noSpec +=1\n",
    "                \n",
    "    return lessThan, leq, eq, beq, biggerThan, noSpec, alternatives\n",
    "\n",
    "ground_truth[\"<<\"], ground_truth[\"<=\"], ground_truth[\"=\"], ground_truth[\">=\"], ground_truth[\">>\"], ground_truth[\"noSpec\"], ground_truth[\"alternatives\"] = zip(*ground_truth[\"Depends\"].map(analyseDep))                           "
   ]
  },
  {
   "cell_type": "code",
   "execution_count": 129,
   "metadata": {},
   "outputs": [
    {
     "data": {
      "text/plain": [
       "<<                4212\n",
       "<=                  38\n",
       "=                19854\n",
       ">=              119179\n",
       ">>                 513\n",
       "noSpec           98732\n",
       "alternatives     10715\n",
       "dtype: int64"
      ]
     },
     "execution_count": 129,
     "metadata": {},
     "output_type": "execute_result"
    }
   ],
   "source": [
    "ground_truth[[\"<<\", \"<=\", \"=\", \">=\", \">>\", \"noSpec\", \"alternatives\"]].sum()"
   ]
  },
  {
   "cell_type": "markdown",
   "metadata": {},
   "source": [
    "Using percentage we have"
   ]
  },
  {
   "cell_type": "code",
   "execution_count": 152,
   "metadata": {},
   "outputs": [
    {
     "data": {
      "text/plain": [
       "<<               1.663%\n",
       "<=               0.015%\n",
       "=                7.840%\n",
       ">=              47.061%\n",
       ">>               0.203%\n",
       "noSpec          38.987%\n",
       "alternatives     4.231%\n",
       "dtype: object"
      ]
     },
     "execution_count": 152,
     "metadata": {},
     "output_type": "execute_result"
    }
   ],
   "source": [
    "total = ground_truth[[\"<<\", \"<=\", \"=\", \">=\", \">>\", \"noSpec\", \"alternatives\"]].sum().sum()\n",
    "ground_truth[[\"<<\", \"<=\", \"=\", \">=\", \">>\", \"noSpec\", \"alternatives\"]].sum().map(lambda x: \"{0:.3f}%\".format(x/total * 100))"
   ]
  },
  {
   "cell_type": "markdown",
   "metadata": {},
   "source": [
    "### Building the dependances trees as a dictionnary"
   ]
  },
  {
   "cell_type": "code",
   "execution_count": null,
   "metadata": {},
   "outputs": [],
   "source": [
    "All_traces = dict()\n",
    "for index, row in ground_truth.iterrows():\n",
    "    All_traces = {**All_traces, **row['Dependance traces']}\n",
    "    \n",
    "All_traces"
   ]
  },
  {
   "cell_type": "code",
   "execution_count": 393,
   "metadata": {},
   "outputs": [
    {
     "data": {
      "text/plain": [
       "['perl-base : 5.18.2-2ubuntu1.6',\n",
       " 'perl-modules : 5.18.2-2ubuntu1.6',\n",
       " 'libbz2-1.0 : 1.0.6-5',\n",
       " 'libc6 : 2.19-0ubuntu6.14',\n",
       " 'libdb5.3 : 5.3.28-3ubuntu3.1',\n",
       " 'libgdbm3 : 1.8.3-12build1',\n",
       " 'zlib1g : 1:1.2.8.dfsg-1ubuntu1.1',\n",
       " 'perl-modules : 5.18.2-2ubuntu1.6',\n",
       " 'libbz2-1.0 : 1.0.6-5',\n",
       " 'libc6 : 2.19-0ubuntu6.14',\n",
       " 'libdb5.3 : 5.3.28-3ubuntu3.1',\n",
       " 'libgdbm3 : 1.8.3-12build1',\n",
       " 'zlib1g : 1:1.2.8.dfsg-1ubuntu1.1']"
      ]
     },
     "execution_count": 393,
     "metadata": {},
     "output_type": "execute_result"
    }
   ],
   "source": [
    "All_traces[\"perl : 5.18.2-2ubuntu1.6\"]"
   ]
  },
  {
   "cell_type": "code",
   "execution_count": 394,
   "metadata": {},
   "outputs": [
    {
     "data": {
      "text/plain": [
       "['libc6 : 2.19-0ubuntu6.14']"
      ]
     },
     "execution_count": 394,
     "metadata": {},
     "output_type": "execute_result"
    }
   ],
   "source": [
    "All_traces[\"zlib1g : 1:1.2.8.dfsg-1ubuntu1.1\"]"
   ]
  },
  {
   "cell_type": "code",
   "execution_count": 395,
   "metadata": {},
   "outputs": [
    {
     "data": {
      "text/plain": [
       "['libgcc1 : 1:4.9.3-0ubuntu4', 'libgcc1 : 1:4.9.3-0ubuntu4']"
      ]
     },
     "execution_count": 395,
     "metadata": {},
     "output_type": "execute_result"
    }
   ],
   "source": [
    "All_traces[\"libc6 : 2.19-0ubuntu6.14\"]"
   ]
  },
  {
   "cell_type": "markdown",
   "metadata": {},
   "source": [
    "Let's group our list by size and by sum of dependances:"
   ]
  },
  {
   "cell_type": "code",
   "execution_count": 385,
   "metadata": {},
   "outputs": [
    {
     "name": "stdout",
     "output_type": "stream",
     "text": [
      "43710\n"
     ]
    },
    {
     "data": {
      "text/plain": [
       "Package\n",
       "1    0.830611\n",
       "2    0.110867\n",
       "3    0.035941\n",
       "4    0.012560\n",
       "5    0.004850\n",
       "Name: Version, dtype: float64"
      ]
     },
     "execution_count": 385,
     "metadata": {},
     "output_type": "execute_result"
    }
   ],
   "source": [
    "bySize = ground_truth.groupby(by=\"Size\").count().groupby(by = \"Package\").count()\n",
    "total = bySize[\"Version\"].sum()\n",
    "print(total)\n",
    "bySize[\"Version\"].map(lambda x : x/total).sort_values(ascending = False).head()"
   ]
  },
  {
   "cell_type": "code",
   "execution_count": 383,
   "metadata": {},
   "outputs": [
    {
     "data": {
      "text/plain": [
       "Package\n",
       "1    0.990101\n",
       "2    0.009065\n",
       "3    0.000568\n",
       "4    0.000160\n",
       "5    0.000071\n",
       "6    0.000018\n",
       "7    0.000018\n",
       "Name: Version, dtype: float64"
      ]
     },
     "execution_count": 383,
     "metadata": {},
     "output_type": "execute_result"
    }
   ],
   "source": [
    "includingDep = ground_truth.groupby(by=\"Summing dependances\").count().groupby(by = \"Package\").count()\n",
    "total = includingDep[\"Version\"].sum()\n",
    "includingDep[\"Version\"].map(lambda x : x/total)"
   ]
  },
  {
   "cell_type": "code",
   "execution_count": 384,
   "metadata": {},
   "outputs": [
    {
     "data": {
      "text/plain": [
       "1    0.862716\n",
       "2    0.100886\n",
       "3    0.021990\n",
       "4    0.008180\n",
       "5    0.003178\n",
       "dtype: float64"
      ]
     },
     "execution_count": 384,
     "metadata": {},
     "output_type": "execute_result"
    }
   ],
   "source": [
    "both = ground_truth[\"Size\"].append(ground_truth[\"Summing dependances\"])\n",
    "grouped = both.groupby(both).count()\n",
    "uniqueness = grouped.groupby(grouped).count().sort_values(ascending = False)\n",
    "total = uniqueness.sum()\n",
    "uniqueness.map(lambda x : x/total).head()"
   ]
  },
  {
   "cell_type": "markdown",
   "metadata": {},
   "source": [
    "Remarques & Questions: \n",
    "\n",
    "    - We are just focusing on apt-get install not on apt-get upgrade for a software updates\n",
    "    \n",
    "    - All what we are doing it's just for one specific ubuntu release\n",
    "    \n",
    "    - When is the midterm presentation, how long should it last?\n",
    "    \n"
   ]
  }
 ],
 "metadata": {
  "kernelspec": {
   "display_name": "Python 3",
   "language": "python",
   "name": "python3"
  },
  "language_info": {
   "codemirror_mode": {
    "name": "ipython",
    "version": 3
   },
   "file_extension": ".py",
   "mimetype": "text/x-python",
   "name": "python",
   "nbconvert_exporter": "python",
   "pygments_lexer": "ipython3",
   "version": "3.6.5"
  }
 },
 "nbformat": 4,
 "nbformat_minor": 2
}
