{
 "cells": [
  {
   "cell_type": "markdown",
   "metadata": {},
   "source": [
    "# Attack viz\n",
    "\n",
    "### Background\n",
    "\n",
    "For a better understanding of the situation, please check the [slides](https://docs.google.com/presentation/d/1oDi0Ds2l3TXghT6AvLKKgyhFA--uFD9d9vGC6eFooss/edit?usp=sharing)  (An epfl authentication is needed to gain access)\n",
    "\n",
    "Here are the following steps that the attacker take in order to carry on his attack: \n",
    "    \n",
    "    1) Extract the information about the packages that the victim can download by crawling all \n",
    "       the metadata in var/lib/   (crawl dir.)\n",
    "       \n",
    "    2) Do some cleaning and statistics about the the freshly crawled data. (attack dir.)\n",
    "    \n",
    "    3) Capture the victims traffic on updates (for now lab condition) (capture dir.)\n",
    "    \n",
    "    4) Match the capture with a specific update (attack dir.)\n",
    "    \n",
    "    \n",
    "\n",
    "We suppose in this notebook that the Attacker already collected/process the following data:\n",
    " - `ground_through` : where hypothetically all the packages metadata are up-to-date\n",
    " - `gt` : the cleaned version of `ground_truth` processed by the attacker\n",
    " - `attack_table` : Containing the capture of the packages that the attacker wants to match\n",
    " - `*_old` : old version of the above\n",
    "\n",
    " __Please Run Setup before jumping to sections__\n",
    "\n",
    "### Table of Content <a id = 'tc'></a>\n",
    "\n",
    " - [Set Up](#Setup)\n",
    " - [Uniqueness investigation & Cleaning ](#cleaning)\n",
    " - Mounting an Attack\n",
    "     - [Relying on HTTP request](#Mounting_an_Attack_HTTP)\n",
    "     - [Relying only on packages size](#Mounting_an_Attack_SIZE)\n",
    "     \n",
    " - [Dependens discovery](#dependens_discovery)\n",
    " - [Gstreamer](#gstreamer)\n",
    " - [Kernel Packages](#kernels)\n",
    " - [Changement over Time of crawled packages](#time_changement)\n",
    " - [Unicity](#unicity)\n",
    " - [Signature](#signatures)\n",
    " \n",
    "<a id='Setup'></a>\n",
    "## Set up "
   ]
  },
  {
   "cell_type": "code",
   "execution_count": 103,
   "metadata": {},
   "outputs": [],
   "source": [
    "import pandas as pd\n",
    "import pymysql\n",
    "import matplotlib.pyplot as plt\n",
    "import random\n",
    "from tqdm import tqdm, tqdm_pandas, tqdm_notebook\n",
    "%matplotlib inline\n",
    "\n",
    "\n",
    "# Helper function to load a table \n",
    "def load_fingerpatch(table, dbname = \"fingerpatch\"):\n",
    "    \"\"\"Load table in the dbname and format it\"\"\"\n",
    "    \n",
    "    connection = pymysql.connect(host='localhost',\n",
    "                                 user='fingerpatch',\n",
    "                                 password='fingerpatch',\n",
    "                                 db=dbname,\n",
    "                                 charset='utf8mb4',\n",
    "                                 cursorclass=pymysql.cursors.DictCursor)\n",
    "    df = pd.read_sql(\"SELECT * FROM `\"+table+\"` \",connection)\n",
    "    connection.close()\n",
    "    \n",
    "    if table == \"ubuntu_packets\":\n",
    "        df = df.set_index(\"id\")\n",
    "            \n",
    "    if table == \"ubuntu_cleaned_packets\":\n",
    "        df = df.set_index(\"id\")\n",
    "        df[\"Childrens\"] = df[\"Childrens\"].map(eval)\n",
    "\n",
    "            \n",
    "    if table == \"ubuntu_captures\":\n",
    "        df = df.set_index(\"capture_id\")\n",
    "        df[\"HTTP_Seq\"] = df[\"HTTP_Seq\"].map(eval)\n",
    "        df[\"Payload_received\"] = df[\"Payload_received\"].map(eval)\n",
    "        df[\"Payload_sent\"] = df[\"Payload_sent\"].map(eval)\n",
    "        df[\"Flows\"] = df[\"Flows\"].map(eval)        \n",
    "        \n",
    "    return df"
   ]
  },
  {
   "cell_type": "markdown",
   "metadata": {},
   "source": [
    "<a id='cleaning'></a>\n",
    "## Uniqueness investigation & Cleaning \n",
    "\n",
    "This step is taken by the attacker at the very beginning. Once he crawled the raw packages, he has to clean his data. This is an intermediate step before getting the `gt` dataframe.\n",
    "\n",
    "\n",
    "Select interesting columns and remove duplicated rows"
   ]
  },
  {
   "cell_type": "code",
   "execution_count": 77,
   "metadata": {},
   "outputs": [
    {
     "data": {
      "text/plain": [
       "Index(['capture_id', 'Package', 'Version', 'Architecture', 'Size',\n",
       "       'Installed-Size', 'Priority', 'Maintainer', 'SHA1', 'Description',\n",
       "       'parsedFrom', 'Description-md5', 'Bugs', 'Origin', 'MD5sum', 'Depends',\n",
       "       'Homepage', 'Source', 'SHA256', 'Section', 'Supported', 'Filename',\n",
       "       'packageMode'],\n",
       "      dtype='object')"
      ]
     },
     "execution_count": 77,
     "metadata": {},
     "output_type": "execute_result"
    }
   ],
   "source": [
    "ground_truth = load_fingerpatch(dbname=\"fingerpatch\", table=\"ubuntu_packets\" )\n",
    "ground_truth.columns"
   ]
  },
  {
   "cell_type": "code",
   "execution_count": 78,
   "metadata": {
    "scrolled": true
   },
   "outputs": [
    {
     "name": "stdout",
     "output_type": "stream",
     "text": [
      "Total entries without having cleaned:  129060\n"
     ]
    }
   ],
   "source": [
    "print(\"Total entries without having cleaned: \", len(ground_truth))"
   ]
  },
  {
   "cell_type": "code",
   "execution_count": 79,
   "metadata": {},
   "outputs": [
    {
     "name": "stdout",
     "output_type": "stream",
     "text": [
      "The maximum duplication of rows that have the same Package name and Version is:  1\n",
      "Total entries after having cleaned:  57125\n"
     ]
    }
   ],
   "source": [
    "# Selecting only interessting fields i.e. the attacker has no mean to distinguish two packages that have the same size but different packageMode\n",
    "ground_truth = ground_truth.drop_duplicates(['Package', 'Version', 'Size', 'Depends', 'Architecture'])\n",
    "\n",
    "# Make sure that there is no duplicate information (For a given Package name and Version we have at most one match)\n",
    "print(\"The maximum duplication of rows that have the same Package name and Version is: \", ground_truth.groupby(by=[\"Package\", \"Version\"]).count()[\"SHA1\"].max())\n",
    "\n",
    "# Selecting only interessting columns\n",
    "ground_truth = ground_truth.drop(axis= 1, columns=['capture_id','SHA1', 'Priority', 'Description-md5', 'MD5sum', 'SHA256', 'packageMode' ])\n",
    "\n",
    "ground_truth = ground_truth.fillna(\"\")\n",
    "print(\"Total entries after having cleaned: \", len(ground_truth))"
   ]
  },
  {
   "cell_type": "markdown",
   "metadata": {},
   "source": [
    "<a id='Mounting_an_Attack_HTTP'></a>\n",
    "## Mounting an Attack for matching a specific capture to a package.\n",
    "\n",
    "[Table of content](#tc)\n",
    "\n",
    "### Relying on HTTP request\n",
    "The aim here is to find a match from the attacker's captured HTTP request to the ground_truth database\n",
    "\n",
    "Let's set the following target we want to match:"
   ]
  },
  {
   "cell_type": "code",
   "execution_count": 104,
   "metadata": {},
   "outputs": [
    {
     "data": {
      "text/plain": [
       "truth_id                                                        42120\n",
       "nb_flows                                                            3\n",
       "HTTP_Seq            [GET /ubuntu/pool/universe/libs/libswingx-java...\n",
       "Flows               [target->economy.canonical.com, economy.canoni...\n",
       "Payload_sent                                                 [0, 163]\n",
       "Payload_received                                            [1444169]\n",
       "matched                                                             1\n",
       "Name: 2, dtype: object"
      ]
     },
     "execution_count": 104,
     "metadata": {},
     "output_type": "execute_result"
    }
   ],
   "source": [
    "gt =load_fingerpatch(dbname=\"fingerpatch_old\", table=\"ubuntu_cleaned_packets\" )\n",
    "attack_table = load_fingerpatch(dbname=\"fingerpatch_old\", table=\"ubuntu_captures\")\n",
    "target = attack_table.iloc[1]\n",
    "target"
   ]
  },
  {
   "cell_type": "code",
   "execution_count": 105,
   "metadata": {},
   "outputs": [
    {
     "data": {
      "text/plain": [
       "['GET /ubuntu/pool/universe/libs/libswingx-java/libswingx-java_1.6.2-1_all.deb HTTP/1.1']"
      ]
     },
     "execution_count": 105,
     "metadata": {},
     "output_type": "execute_result"
    }
   ],
   "source": [
    "target[\"HTTP_Seq\"]"
   ]
  },
  {
   "cell_type": "code",
   "execution_count": 106,
   "metadata": {},
   "outputs": [
    {
     "name": "stdout",
     "output_type": "stream",
     "text": [
      "\n",
      "And we got the following file name in the ground_truth: \n",
      "\n",
      " pool/universe/libs/libswingx-java/libswingx-java_1.6.2-1_all.deb\n"
     ]
    }
   ],
   "source": [
    "print(\"\\nAnd we got the following file name in the ground_truth: \\n\\n\",gt.loc[42120][\"Filename\"] )"
   ]
  },
  {
   "cell_type": "markdown",
   "metadata": {},
   "source": [
    "Thererfore, we notice that the attribute `Filename` match the HTTP request pretty well, except that, in the HTTP request, the beginning of the root in the url begin with `/ubuntu/` . So if the victim use the pure HTTP protocol, the attacker should be able to match exactly all the package. There are some little issues easy to fix: "
   ]
  },
  {
   "cell_type": "code",
   "execution_count": 107,
   "metadata": {},
   "outputs": [
    {
     "name": "stdout",
     "output_type": "stream",
     "text": [
      "In the ground_truth: \n",
      "\n",
      " pool/universe/f/freepops/freepops-updater-fltk_0.2.9-8_amd64.deb\n",
      "\n",
      "In the attacker's table after having parsed: \n",
      "\n",
      " GET /ubuntu/pool/main/d/dee/libdee-doc_1.2.7%2b14.04.20140324-0ubuntu1_all.deb HTTP/1.1\n"
     ]
    }
   ],
   "source": [
    "print(\"In the ground_truth: \\n\\n\",ground_truth.loc[14404][\"Filename\"])\n",
    "print(\"\\nIn the attacker's table after having parsed: \\n\\n\", attack_table.loc[32][\"HTTP_Seq\"][0])"
   ]
  },
  {
   "cell_type": "markdown",
   "metadata": {},
   "source": [
    "Here we see that the HTTP request changes `+` in `%2b`. So we need to parse the HTTP sequence and change it before the matching"
   ]
  },
  {
   "cell_type": "code",
   "execution_count": 108,
   "metadata": {},
   "outputs": [],
   "source": [
    "def matchHTTP(x, df):\n",
    "    \"\"\"\n",
    "    x String contraining the filename\n",
    "    To use with a map on the attribute FileName\n",
    "    \"\"\"\n",
    "\n",
    "    requests = x\n",
    "\n",
    "    match = []\n",
    "    \n",
    "\n",
    "    for r in requests:\n",
    "        s = r.split(\" \")[1][8:]\n",
    "        if len(s) < 20: # With only 20 character we reckon that the request doesn't contain enough information for a perfect match\n",
    "            continue\n",
    "\n",
    "        s = s.replace(\"%2b\", \"\\+\")\n",
    "        found = df[df.Filename.str.contains(s)]\n",
    "        match += found.index.tolist()\n",
    "\n",
    "    # remove duplicates\n",
    "    match = list(set(match))\n",
    "\n",
    "    return match\n",
    "\n",
    "attack_table[\"Http Match\"] = attack_table[\"HTTP_Seq\"].map(lambda x: matchHTTP(x, gt))"
   ]
  },
  {
   "cell_type": "code",
   "execution_count": 109,
   "metadata": {},
   "outputs": [
    {
     "data": {
      "text/html": [
       "<div>\n",
       "<style scoped>\n",
       "    .dataframe tbody tr th:only-of-type {\n",
       "        vertical-align: middle;\n",
       "    }\n",
       "\n",
       "    .dataframe tbody tr th {\n",
       "        vertical-align: top;\n",
       "    }\n",
       "\n",
       "    .dataframe thead th {\n",
       "        text-align: right;\n",
       "    }\n",
       "</style>\n",
       "<table border=\"1\" class=\"dataframe\">\n",
       "  <thead>\n",
       "    <tr style=\"text-align: right;\">\n",
       "      <th></th>\n",
       "      <th>truth_id</th>\n",
       "      <th>nb_flows</th>\n",
       "      <th>Http Match</th>\n",
       "    </tr>\n",
       "    <tr>\n",
       "      <th>capture_id</th>\n",
       "      <th></th>\n",
       "      <th></th>\n",
       "      <th></th>\n",
       "    </tr>\n",
       "  </thead>\n",
       "  <tbody>\n",
       "    <tr>\n",
       "      <th>28</th>\n",
       "      <td>17242</td>\n",
       "      <td>3</td>\n",
       "      <td>[17242]</td>\n",
       "    </tr>\n",
       "    <tr>\n",
       "      <th>29</th>\n",
       "      <td>29129</td>\n",
       "      <td>3</td>\n",
       "      <td>[29129]</td>\n",
       "    </tr>\n",
       "    <tr>\n",
       "      <th>30</th>\n",
       "      <td>39206</td>\n",
       "      <td>3</td>\n",
       "      <td>[39206]</td>\n",
       "    </tr>\n",
       "    <tr>\n",
       "      <th>31</th>\n",
       "      <td>17242</td>\n",
       "      <td>3</td>\n",
       "      <td>[17242]</td>\n",
       "    </tr>\n",
       "    <tr>\n",
       "      <th>32</th>\n",
       "      <td>14404</td>\n",
       "      <td>3</td>\n",
       "      <td>[14404]</td>\n",
       "    </tr>\n",
       "  </tbody>\n",
       "</table>\n",
       "</div>"
      ],
      "text/plain": [
       "            truth_id  nb_flows Http Match\n",
       "capture_id                               \n",
       "28             17242         3    [17242]\n",
       "29             29129         3    [29129]\n",
       "30             39206         3    [39206]\n",
       "31             17242         3    [17242]\n",
       "32             14404         3    [14404]"
      ]
     },
     "execution_count": 109,
     "metadata": {},
     "output_type": "execute_result"
    }
   ],
   "source": [
    "attack_table[[\"truth_id\", \"nb_flows\", \"Http Match\"]].tail()"
   ]
  },
  {
   "cell_type": "markdown",
   "metadata": {},
   "source": [
    "We found the perfect match each time we could capture the HTTP Seq."
   ]
  },
  {
   "cell_type": "markdown",
   "metadata": {},
   "source": [
    "<a id='Mounting_an_Attack_SIZE'></a>\n",
    "### Relying on package size\n",
    "\n",
    "We pick the same target as in the previous section"
   ]
  },
  {
   "cell_type": "code",
   "execution_count": 114,
   "metadata": {
    "scrolled": true
   },
   "outputs": [
    {
     "data": {
      "text/plain": [
       "truth_id                                                        14404\n",
       "nb_flows                                                            3\n",
       "HTTP_Seq            [GET /ubuntu/pool/main/d/dee/libdee-doc_1.2.7%...\n",
       "Flows               [target->yukinko.canonical.com, yukinko.canoni...\n",
       "Payload_sent                                                 [0, 165]\n",
       "Payload_received                                              [58743]\n",
       "matched                                                             0\n",
       "Http Match                                                    [14404]\n",
       "Name: 32, dtype: object"
      ]
     },
     "execution_count": 114,
     "metadata": {},
     "output_type": "execute_result"
    }
   ],
   "source": [
    "target = attack_table.loc[32]\n",
    "target"
   ]
  },
  {
   "cell_type": "code",
   "execution_count": 125,
   "metadata": {},
   "outputs": [],
   "source": [
    "EXTRA_SIZE_AVERAGE = 283   # Made from stats about captured packets\n",
    "EXTRA_SIZE_VARIATION = 5"
   ]
  },
  {
   "cell_type": "code",
   "execution_count": 126,
   "metadata": {},
   "outputs": [],
   "source": [
    "# When matching with Size\n",
    "def distance_from_expected_average_size(x, size_to_match):\n",
    "    return abs(size_to_match - x[\"Summing dependances\"] - (EXTRA_SIZE_AVERAGE * x[\"Elements involved\"]))\n",
    "\n",
    "gt[\"dist_from_expected_size\"] = gt.apply(lambda x: distance_from_expected_average_size(x, sum(target['Payload_received']) ), axis = 1)"
   ]
  },
  {
   "cell_type": "code",
   "execution_count": 132,
   "metadata": {},
   "outputs": [
    {
     "data": {
      "text/html": [
       "<div>\n",
       "<style scoped>\n",
       "    .dataframe tbody tr th:only-of-type {\n",
       "        vertical-align: middle;\n",
       "    }\n",
       "\n",
       "    .dataframe tbody tr th {\n",
       "        vertical-align: top;\n",
       "    }\n",
       "\n",
       "    .dataframe thead th {\n",
       "        text-align: right;\n",
       "    }\n",
       "</style>\n",
       "<table border=\"1\" class=\"dataframe\">\n",
       "  <thead>\n",
       "    <tr style=\"text-align: right;\">\n",
       "      <th></th>\n",
       "      <th>Package</th>\n",
       "      <th>Version</th>\n",
       "      <th>Size</th>\n",
       "      <th>Filename</th>\n",
       "      <th>Summing dependances</th>\n",
       "      <th>Elements involved</th>\n",
       "      <th>Childrens</th>\n",
       "      <th>Frequency</th>\n",
       "      <th>Freq in p</th>\n",
       "      <th>dist_from_expected_size</th>\n",
       "    </tr>\n",
       "    <tr>\n",
       "      <th>id</th>\n",
       "      <th></th>\n",
       "      <th></th>\n",
       "      <th></th>\n",
       "      <th></th>\n",
       "      <th></th>\n",
       "      <th></th>\n",
       "      <th></th>\n",
       "      <th></th>\n",
       "      <th></th>\n",
       "      <th></th>\n",
       "    </tr>\n",
       "  </thead>\n",
       "  <tbody>\n",
       "    <tr>\n",
       "      <th>14404</th>\n",
       "      <td>libdee-doc</td>\n",
       "      <td>1.2.7+14.04.20140324-0ubuntu1</td>\n",
       "      <td>58462</td>\n",
       "      <td>pool/main/d/dee/libdee-doc_1.2.7+14.04.2014032...</td>\n",
       "      <td>58462</td>\n",
       "      <td>1</td>\n",
       "      <td>{14404}</td>\n",
       "      <td>1</td>\n",
       "      <td>0</td>\n",
       "      <td>2</td>\n",
       "    </tr>\n",
       "    <tr>\n",
       "      <th>49384</th>\n",
       "      <td>python-pyme-doc</td>\n",
       "      <td>1:0.8.1-2build1</td>\n",
       "      <td>58478</td>\n",
       "      <td>pool/universe/p/pyme/python-pyme-doc_0.8.1-2bu...</td>\n",
       "      <td>58478</td>\n",
       "      <td>1</td>\n",
       "      <td>{49384}</td>\n",
       "      <td>1</td>\n",
       "      <td>0</td>\n",
       "      <td>18</td>\n",
       "    </tr>\n",
       "    <tr>\n",
       "      <th>2516</th>\n",
       "      <td>libmbim-glib-doc</td>\n",
       "      <td>1.6.0-2ubuntu0.1</td>\n",
       "      <td>58366</td>\n",
       "      <td>pool/main/libm/libmbim/libmbim-glib-doc_1.6.0-...</td>\n",
       "      <td>58366</td>\n",
       "      <td>1</td>\n",
       "      <td>{2516}</td>\n",
       "      <td>1</td>\n",
       "      <td>0</td>\n",
       "      <td>94</td>\n",
       "    </tr>\n",
       "    <tr>\n",
       "      <th>15284</th>\n",
       "      <td>libjarjar-java-doc</td>\n",
       "      <td>1.4+svn142-3</td>\n",
       "      <td>58572</td>\n",
       "      <td>pool/main/j/jarjar/libjarjar-java-doc_1.4+svn1...</td>\n",
       "      <td>58572</td>\n",
       "      <td>1</td>\n",
       "      <td>{15284}</td>\n",
       "      <td>1</td>\n",
       "      <td>0</td>\n",
       "      <td>112</td>\n",
       "    </tr>\n",
       "    <tr>\n",
       "      <th>33252</th>\n",
       "      <td>libgentlyweb-utils-java</td>\n",
       "      <td>1.5-1</td>\n",
       "      <td>58594</td>\n",
       "      <td>pool/universe/g/gentlyweb-utils/libgentlyweb-u...</td>\n",
       "      <td>58594</td>\n",
       "      <td>1</td>\n",
       "      <td>{33252}</td>\n",
       "      <td>6</td>\n",
       "      <td>0</td>\n",
       "      <td>134</td>\n",
       "    </tr>\n",
       "  </tbody>\n",
       "</table>\n",
       "</div>"
      ],
      "text/plain": [
       "                       Package                        Version   Size  \\\n",
       "id                                                                     \n",
       "14404               libdee-doc  1.2.7+14.04.20140324-0ubuntu1  58462   \n",
       "49384          python-pyme-doc                1:0.8.1-2build1  58478   \n",
       "2516          libmbim-glib-doc               1.6.0-2ubuntu0.1  58366   \n",
       "15284       libjarjar-java-doc                   1.4+svn142-3  58572   \n",
       "33252  libgentlyweb-utils-java                          1.5-1  58594   \n",
       "\n",
       "                                                Filename  Summing dependances  \\\n",
       "id                                                                              \n",
       "14404  pool/main/d/dee/libdee-doc_1.2.7+14.04.2014032...                58462   \n",
       "49384  pool/universe/p/pyme/python-pyme-doc_0.8.1-2bu...                58478   \n",
       "2516   pool/main/libm/libmbim/libmbim-glib-doc_1.6.0-...                58366   \n",
       "15284  pool/main/j/jarjar/libjarjar-java-doc_1.4+svn1...                58572   \n",
       "33252  pool/universe/g/gentlyweb-utils/libgentlyweb-u...                58594   \n",
       "\n",
       "       Elements involved Childrens  Frequency  Freq in p  \\\n",
       "id                                                         \n",
       "14404                  1   {14404}          1          0   \n",
       "49384                  1   {49384}          1          0   \n",
       "2516                   1    {2516}          1          0   \n",
       "15284                  1   {15284}          1          0   \n",
       "33252                  1   {33252}          6          0   \n",
       "\n",
       "       dist_from_expected_size  \n",
       "id                              \n",
       "14404                        2  \n",
       "49384                       18  \n",
       "2516                        94  \n",
       "15284                      112  \n",
       "33252                      134  "
      ]
     },
     "execution_count": 132,
     "metadata": {},
     "output_type": "execute_result"
    }
   ],
   "source": [
    "gt.sort_values(by=\"dist_from_expected_size\").head()"
   ]
  },
  {
   "cell_type": "markdown",
   "metadata": {},
   "source": [
    "The first one is the one."
   ]
  },
  {
   "cell_type": "code",
   "execution_count": 128,
   "metadata": {},
   "outputs": [
    {
     "data": {
      "text/plain": [
       "truth_id                                                        14404\n",
       "nb_flows                                                            3\n",
       "HTTP_Seq            [GET /ubuntu/pool/main/d/dee/libdee-doc_1.2.7%...\n",
       "Flows               [target->yukinko.canonical.com, yukinko.canoni...\n",
       "Payload_sent                                                 [0, 165]\n",
       "Payload_received                                              [58743]\n",
       "matched                                                             0\n",
       "Http Match                                                    [14404]\n",
       "Name: 32, dtype: object"
      ]
     },
     "execution_count": 128,
     "metadata": {},
     "output_type": "execute_result"
    }
   ],
   "source": [
    "target"
   ]
  },
  {
   "cell_type": "markdown",
   "metadata": {},
   "source": [
    "<a id='dependens_discovery'></a>\n",
    "## Dependens discovery\n",
    "\n",
    "[Table of content](#tc)\n",
    "\n",
    "\n",
    "\n",
    "Let's create an attribute `#Depends` which compute the number of Dependences a specific Package contains\n",
    "and take a Package that has only one Dependence."
   ]
  },
  {
   "cell_type": "code",
   "execution_count": 163,
   "metadata": {},
   "outputs": [
    {
     "data": {
      "text/plain": [
       "Package            readpst\n",
       "Version     0.6.59-1build1\n",
       "Depends          pst-utils\n",
       "#Depends                 1\n",
       "Name: 51087, dtype: object"
      ]
     },
     "execution_count": 163,
     "metadata": {},
     "output_type": "execute_result"
    }
   ],
   "source": [
    "ground_truth =load_fingerpatch(dbname=\"fingerpatch_old\", table=\"ubuntu_packets\" )\n",
    "\n",
    "ground_truth = ground_truth.fillna(\"\")\n",
    "ground_truth[\"#Depends\"] = ground_truth[\"Depends\"].map(lambda x: 0 if x == \"\" else len(x.split(\",\")))\n",
    "\n",
    "# Take the smallest packet that have only one Dependences\n",
    "one_dep_first10 = ground_truth[ground_truth[\"#Depends\"] == 1].sort_values(by = \"Size\", ascending=True)[:10]\n",
    "one_dep = one_dep_first10.iloc[0]\n",
    "one_dep[[\"Package\", \"Version\", \"Depends\", \"#Depends\"]]"
   ]
  },
  {
   "cell_type": "markdown",
   "metadata": {},
   "source": [
    "Seeking about that depends"
   ]
  },
  {
   "cell_type": "code",
   "execution_count": 164,
   "metadata": {
    "scrolled": true
   },
   "outputs": [
    {
     "data": {
      "text/plain": [
       "Package                                             pst-utils\n",
       "Version                                        0.6.59-1build1\n",
       "Depends     libc6 (>= 2.14), libgcc1 (>= 1:4.1.1), libgd3 ...\n",
       "#Depends                                                    7\n",
       "Size                                                    62092\n",
       "Name: 18280, dtype: object"
      ]
     },
     "execution_count": 164,
     "metadata": {},
     "output_type": "execute_result"
    }
   ],
   "source": [
    "ground_truth[ground_truth[\"Package\"] == one_dep[\"Depends\"]].iloc[0][[\"Package\", \"Version\", \"Depends\",\"#Depends\", \"Size\"]]"
   ]
  },
  {
   "cell_type": "markdown",
   "metadata": {},
   "source": [
    "Turns out that this Dependens also have its Dependances"
   ]
  },
  {
   "cell_type": "markdown",
   "metadata": {},
   "source": [
    "#### Once Downloading the package `readpst` we can ideed see that the package doesn't just depends on one single package but many subpackages from that dependance:\n",
    "\n",
    "On the Docker:\n",
    "\n",
    "`The following extra packages will be installed:\n",
    "  fontconfig-config fonts-dejavu-core libfontconfig1 libfreetype6 libgd3\n",
    "  libglib2.0-0 libglib2.0-data libgsf-1-114 libgsf-1-common libjbig0\n",
    "  libjpeg-turbo8 libjpeg8 libpst4 libtiff5 libvpx1 libx11-6 libx11-data\n",
    "  libxau6 libxcb1 libxdmcp6 libxml2 libxpm4 pst-utils sgml-base\n",
    "  shared-mime-info xml-core`\n",
    "  \n",
    "`0 upgraded, 27 newly installed, 0 to remove and 32 not upgraded.\n",
    "Need to get 5664 kB of archives.`\n",
    "\n",
    "\n",
    "On the attacker:\n",
    "\n",
    "`historic =  ['target->danava.canonical.com', 'danava.canonical.com->target', 'target->danava.canonical.com']\n",
    "server_ip =  ['91.189.88.149', '172.100.0.100', '91.189.88.149']\n",
    "server_name =  ['danava.canonical.com', 'target', 'danava.canonical.com']\n",
    "received_Payload =  [5671834]\n",
    "send_Payload =  [0, 4251]`\n",
    "\n",
    "So if we calculate with the tipical extra_size for each downloaded package that we get on the attacker side and knowing that 5664kB is rounded:\n"
   ]
  },
  {
   "cell_type": "code",
   "execution_count": 161,
   "metadata": {},
   "outputs": [
    {
     "data": {
      "text/plain": [
       "5671641"
      ]
     },
     "execution_count": 161,
     "metadata": {},
     "output_type": "execute_result"
    }
   ],
   "source": [
    "EXTRA_SIZE_AVERAGE * 27 + 5664000"
   ]
  },
  {
   "cell_type": "markdown",
   "metadata": {},
   "source": [
    "#### Let's find out what happens if we download the dependance before  \n",
    "\n",
    "While downloading pst-utils (*using apt-get install readpst*):\n",
    "\n",
    "On the victim:\n",
    "\n",
    "`The following extra packages will be installed:\n",
    "  fontconfig-config fonts-dejavu-core libfontconfig1 libfreetype6 libgd3\n",
    "  libglib2.0-0 libglib2.0-data libgsf-1-114 libgsf-1-common libjbig0\n",
    "  libjpeg-turbo8 libjpeg8 libpst4 libtiff5 libvpx1 libx11-6 libx11-data\n",
    "  libxau6 libxcb1 libxdmcp6 libxml2 libxpm4 sgml-base shared-mime-info\n",
    "  xml-core\n",
    "0 upgraded, 26 newly installed, 0 to remove and 32 not upgraded.\n",
    "Need to get 5663 kB of archives.`\n",
    "\n",
    "\n",
    "On the Attacker:\n",
    "\n",
    "`historic =  ['target->keeton.canonical.com', 'keeton.canonical.com->target', 'target->keeton.canonical.com']\n",
    "server_ip =  ['91.189.88.161', '172.100.0.100', '91.189.88.161']\n",
    "server_name =  ['keeton.canonical.com', 'target', 'keeton.canonical.com']\n",
    "received_Payload =  [5670760]\n",
    "send_Payload =  [0, 4085]\n",
    "Ressources cleaned.`\n"
   ]
  },
  {
   "cell_type": "code",
   "execution_count": 162,
   "metadata": {},
   "outputs": [
    {
     "name": "stdout",
     "output_type": "stream",
     "text": [
      " -- Seen By the Attacker -- Difference by downloading the full package and only it's dependances : 1074\n",
      " -- For the ground_truth -- Difference by downloading the full package and only it's dependances : 1079\n"
     ]
    }
   ],
   "source": [
    "print(\" -- Seen By the Attacker -- Difference by downloading the full package and only it's dependances :\",5671834 - 5670760)\n",
    "print(\" -- For the ground_truth -- Difference by downloading the full package and only it's dependances :\",796 + EXTRA_SIZE_AVERAGE)"
   ]
  },
  {
   "cell_type": "markdown",
   "metadata": {},
   "source": [
    "Now that the dependance is installed on the vicitim's machine, we perfom the update of the principal package:\n",
    "\n",
    "\n",
    "On the victim:\n",
    "\n",
    "`The following NEW packages will be installed:\n",
    "  readpst\n",
    "0 upgraded, 1 newly installed, 0 to remove and 32 not upgraded.\n",
    "Need to get 796 B of archives.\n",
    "After this operation, 21.5 kB of additional disk space will be used.\n",
    "Get:1 http://archive.ubuntu.com/ubuntu/ trusty/universe readpst all 0.6.59-1build1 [796 B]\n",
    "Fetched 796 B in 0s (3656 B/s)   \n",
    "Download complete and in download only mode`\n",
    "\n",
    "On the attacker\n",
    "\n",
    "`historic =  ['target->steelix.canonical.com', 'steelix.canonical.com->target', 'target->steelix.canonical.com']\n",
    "server_ip =  ['91.189.88.152', '172.100.0.100', '91.189.88.152']\n",
    "server_name =  ['steelix.canonical.com', 'target', 'steelix.canonical.com']\n",
    "received_Payload =  [1074]\n",
    "send_Payload =  [0, 155]`\n",
    "\n",
    "\n",
    "Indeed, once the dependance is installed, installing just the package "
   ]
  },
  {
   "cell_type": "code",
   "execution_count": 17,
   "metadata": {},
   "outputs": [
    {
     "data": {
      "text/plain": [
       "278"
      ]
     },
     "execution_count": 17,
     "metadata": {},
     "output_type": "execute_result"
    }
   ],
   "source": [
    "1074 - 796"
   ]
  },
  {
   "cell_type": "markdown",
   "metadata": {},
   "source": [
    "#### SumOfDependences & NumberOfDependances"
   ]
  },
  {
   "cell_type": "code",
   "execution_count": 169,
   "metadata": {},
   "outputs": [
    {
     "data": {
      "text/plain": [
       "capture_id                                                         1\n",
       "Package                                                         gcom\n",
       "Version                                                       0.32-2\n",
       "Architecture                                                     all\n",
       "Size                                                             820\n",
       "Installed-Size                                                    20\n",
       "Priority                                                    optional\n",
       "Maintainer         Ubuntu Developers <ubuntu-devel-discuss@lists....\n",
       "SHA1                        268fda01f3ca166ad944994e4c20e23ef8d6d3b9\n",
       "Description             datacard control tool - transitional package\n",
       "parsedFrom         packages/archive.ubuntu.com_ubuntu_dists_trust...\n",
       "Description-md5                     e0904494174d371cf653d9f2366a4e96\n",
       "Bugs                      https://bugs.launchpad.net/ubuntu/+filebug\n",
       "Origin                                                        Ubuntu\n",
       "MD5sum                              7ab158aa9ba6e344fe39be9d8e3eec80\n",
       "Depends                                                        comgt\n",
       "Homepage                                   http://www.pharscape.org/\n",
       "Source                                                         comgt\n",
       "SHA256             96c9baa4fc663b4dd7e66505f1cd7c04bbcfd121301888...\n",
       "Section                                                 universe/net\n",
       "Supported                                                           \n",
       "Filename                   pool/universe/c/comgt/gcom_0.32-2_all.deb\n",
       "packageMode                                                   source\n",
       "#Depends                                                           1\n",
       "Name: 90268, dtype: object"
      ]
     },
     "execution_count": 169,
     "metadata": {},
     "output_type": "execute_result"
    }
   ],
   "source": [
    "one_dep_first10.iloc[2]"
   ]
  },
  {
   "cell_type": "code",
   "execution_count": 20,
   "metadata": {},
   "outputs": [
    {
     "data": {
      "text/html": [
       "<div>\n",
       "<style scoped>\n",
       "    .dataframe tbody tr th:only-of-type {\n",
       "        vertical-align: middle;\n",
       "    }\n",
       "\n",
       "    .dataframe tbody tr th {\n",
       "        vertical-align: top;\n",
       "    }\n",
       "\n",
       "    .dataframe thead th {\n",
       "        text-align: right;\n",
       "    }\n",
       "</style>\n",
       "<table border=\"1\" class=\"dataframe\">\n",
       "  <thead>\n",
       "    <tr style=\"text-align: right;\">\n",
       "      <th></th>\n",
       "      <th>Package</th>\n",
       "      <th>Version</th>\n",
       "      <th>Architecture</th>\n",
       "      <th>Size</th>\n",
       "      <th>Installed-Size</th>\n",
       "      <th>Maintainer</th>\n",
       "      <th>Description</th>\n",
       "      <th>parsedFrom</th>\n",
       "      <th>Bugs</th>\n",
       "      <th>Origin</th>\n",
       "      <th>Depends</th>\n",
       "      <th>Homepage</th>\n",
       "      <th>Source</th>\n",
       "      <th>Section</th>\n",
       "      <th>Supported</th>\n",
       "      <th>Filename</th>\n",
       "      <th>#Depends</th>\n",
       "    </tr>\n",
       "    <tr>\n",
       "      <th>id</th>\n",
       "      <th></th>\n",
       "      <th></th>\n",
       "      <th></th>\n",
       "      <th></th>\n",
       "      <th></th>\n",
       "      <th></th>\n",
       "      <th></th>\n",
       "      <th></th>\n",
       "      <th></th>\n",
       "      <th></th>\n",
       "      <th></th>\n",
       "      <th></th>\n",
       "      <th></th>\n",
       "      <th></th>\n",
       "      <th></th>\n",
       "      <th></th>\n",
       "      <th></th>\n",
       "    </tr>\n",
       "  </thead>\n",
       "  <tbody>\n",
       "    <tr>\n",
       "      <th>139974</th>\n",
       "      <td>comgt</td>\n",
       "      <td>0.32-2</td>\n",
       "      <td>amd64</td>\n",
       "      <td>42804</td>\n",
       "      <td>188</td>\n",
       "      <td>Ubuntu Developers &lt;ubuntu-devel-discuss@lists....</td>\n",
       "      <td>Option GlobeTrotter and Vodafone datacard cont...</td>\n",
       "      <td>packages/archive.ubuntu.com_ubuntu_dists_trust...</td>\n",
       "      <td>https://bugs.launchpad.net/ubuntu/+filebug</td>\n",
       "      <td>Ubuntu</td>\n",
       "      <td>libc6 (&gt;= 2.7)</td>\n",
       "      <td>http://www.pharscape.org/</td>\n",
       "      <td></td>\n",
       "      <td>universe/net</td>\n",
       "      <td></td>\n",
       "      <td>pool/universe/c/comgt/comgt_0.32-2_amd64.deb</td>\n",
       "      <td>1</td>\n",
       "    </tr>\n",
       "  </tbody>\n",
       "</table>\n",
       "</div>"
      ],
      "text/plain": [
       "       Package Version Architecture   Size  Installed-Size  \\\n",
       "id                                                           \n",
       "139974   comgt  0.32-2        amd64  42804             188   \n",
       "\n",
       "                                               Maintainer  \\\n",
       "id                                                          \n",
       "139974  Ubuntu Developers <ubuntu-devel-discuss@lists....   \n",
       "\n",
       "                                              Description  \\\n",
       "id                                                          \n",
       "139974  Option GlobeTrotter and Vodafone datacard cont...   \n",
       "\n",
       "                                               parsedFrom  \\\n",
       "id                                                          \n",
       "139974  packages/archive.ubuntu.com_ubuntu_dists_trust...   \n",
       "\n",
       "                                              Bugs  Origin         Depends  \\\n",
       "id                                                                           \n",
       "139974  https://bugs.launchpad.net/ubuntu/+filebug  Ubuntu  libc6 (>= 2.7)   \n",
       "\n",
       "                         Homepage Source       Section Supported  \\\n",
       "id                                                                 \n",
       "139974  http://www.pharscape.org/         universe/net             \n",
       "\n",
       "                                            Filename  #Depends  \n",
       "id                                                              \n",
       "139974  pool/universe/c/comgt/comgt_0.32-2_amd64.deb         1  "
      ]
     },
     "execution_count": 20,
     "metadata": {},
     "output_type": "execute_result"
    }
   ],
   "source": [
    "ground_truth[ground_truth[\"Package\"] == \"comgt\"]"
   ]
  },
  {
   "cell_type": "code",
   "execution_count": 21,
   "metadata": {},
   "outputs": [
    {
     "data": {
      "text/html": [
       "<div>\n",
       "<style scoped>\n",
       "    .dataframe tbody tr th:only-of-type {\n",
       "        vertical-align: middle;\n",
       "    }\n",
       "\n",
       "    .dataframe tbody tr th {\n",
       "        vertical-align: top;\n",
       "    }\n",
       "\n",
       "    .dataframe thead th {\n",
       "        text-align: right;\n",
       "    }\n",
       "</style>\n",
       "<table border=\"1\" class=\"dataframe\">\n",
       "  <thead>\n",
       "    <tr style=\"text-align: right;\">\n",
       "      <th></th>\n",
       "      <th>Package</th>\n",
       "      <th>Version</th>\n",
       "      <th>Architecture</th>\n",
       "      <th>Size</th>\n",
       "      <th>Installed-Size</th>\n",
       "      <th>Maintainer</th>\n",
       "      <th>Description</th>\n",
       "      <th>parsedFrom</th>\n",
       "      <th>Bugs</th>\n",
       "      <th>Origin</th>\n",
       "      <th>Depends</th>\n",
       "      <th>Homepage</th>\n",
       "      <th>Source</th>\n",
       "      <th>Section</th>\n",
       "      <th>Supported</th>\n",
       "      <th>Filename</th>\n",
       "      <th>#Depends</th>\n",
       "    </tr>\n",
       "    <tr>\n",
       "      <th>id</th>\n",
       "      <th></th>\n",
       "      <th></th>\n",
       "      <th></th>\n",
       "      <th></th>\n",
       "      <th></th>\n",
       "      <th></th>\n",
       "      <th></th>\n",
       "      <th></th>\n",
       "      <th></th>\n",
       "      <th></th>\n",
       "      <th></th>\n",
       "      <th></th>\n",
       "      <th></th>\n",
       "      <th></th>\n",
       "      <th></th>\n",
       "      <th></th>\n",
       "      <th></th>\n",
       "    </tr>\n",
       "  </thead>\n",
       "  <tbody>\n",
       "    <tr>\n",
       "      <th>130867</th>\n",
       "      <td>libc6</td>\n",
       "      <td>2.19-0ubuntu6</td>\n",
       "      <td>amd64</td>\n",
       "      <td>4729214</td>\n",
       "      <td>10496</td>\n",
       "      <td>Ubuntu Developers &lt;ubuntu-devel-discuss@lists....</td>\n",
       "      <td>Embedded GNU C Library: Shared libraries</td>\n",
       "      <td>packages/archive.ubuntu.com_ubuntu_dists_trust...</td>\n",
       "      <td>https://bugs.launchpad.net/ubuntu/+filebug</td>\n",
       "      <td>Ubuntu</td>\n",
       "      <td>libgcc1</td>\n",
       "      <td>http://www.eglibc.org</td>\n",
       "      <td>eglibc</td>\n",
       "      <td>libs</td>\n",
       "      <td>5y</td>\n",
       "      <td>pool/main/e/eglibc/libc6_2.19-0ubuntu6_amd64.deb</td>\n",
       "      <td>1</td>\n",
       "    </tr>\n",
       "    <tr>\n",
       "      <th>174814</th>\n",
       "      <td>libc6</td>\n",
       "      <td>2.19-0ubuntu6.14</td>\n",
       "      <td>amd64</td>\n",
       "      <td>4752538</td>\n",
       "      <td>10508</td>\n",
       "      <td>Ubuntu Developers &lt;ubuntu-devel-discuss@lists....</td>\n",
       "      <td>Embedded GNU C Library: Shared libraries</td>\n",
       "      <td>packages/archive.ubuntu.com_ubuntu_dists_trust...</td>\n",
       "      <td>https://bugs.launchpad.net/ubuntu/+filebug</td>\n",
       "      <td>Ubuntu</td>\n",
       "      <td>libgcc1</td>\n",
       "      <td>http://www.eglibc.org</td>\n",
       "      <td>eglibc</td>\n",
       "      <td>libs</td>\n",
       "      <td>5y</td>\n",
       "      <td>pool/main/e/eglibc/libc6_2.19-0ubuntu6.14_amd6...</td>\n",
       "      <td>1</td>\n",
       "    </tr>\n",
       "  </tbody>\n",
       "</table>\n",
       "</div>"
      ],
      "text/plain": [
       "       Package           Version Architecture     Size  Installed-Size  \\\n",
       "id                                                                       \n",
       "130867   libc6     2.19-0ubuntu6        amd64  4729214           10496   \n",
       "174814   libc6  2.19-0ubuntu6.14        amd64  4752538           10508   \n",
       "\n",
       "                                               Maintainer  \\\n",
       "id                                                          \n",
       "130867  Ubuntu Developers <ubuntu-devel-discuss@lists....   \n",
       "174814  Ubuntu Developers <ubuntu-devel-discuss@lists....   \n",
       "\n",
       "                                     Description  \\\n",
       "id                                                 \n",
       "130867  Embedded GNU C Library: Shared libraries   \n",
       "174814  Embedded GNU C Library: Shared libraries   \n",
       "\n",
       "                                               parsedFrom  \\\n",
       "id                                                          \n",
       "130867  packages/archive.ubuntu.com_ubuntu_dists_trust...   \n",
       "174814  packages/archive.ubuntu.com_ubuntu_dists_trust...   \n",
       "\n",
       "                                              Bugs  Origin  Depends  \\\n",
       "id                                                                    \n",
       "130867  https://bugs.launchpad.net/ubuntu/+filebug  Ubuntu  libgcc1   \n",
       "174814  https://bugs.launchpad.net/ubuntu/+filebug  Ubuntu  libgcc1   \n",
       "\n",
       "                     Homepage  Source Section Supported  \\\n",
       "id                                                        \n",
       "130867  http://www.eglibc.org  eglibc    libs        5y   \n",
       "174814  http://www.eglibc.org  eglibc    libs        5y   \n",
       "\n",
       "                                                 Filename  #Depends  \n",
       "id                                                                   \n",
       "130867   pool/main/e/eglibc/libc6_2.19-0ubuntu6_amd64.deb         1  \n",
       "174814  pool/main/e/eglibc/libc6_2.19-0ubuntu6.14_amd6...         1  "
      ]
     },
     "execution_count": 21,
     "metadata": {},
     "output_type": "execute_result"
    }
   ],
   "source": [
    "ground_truth[ground_truth[\"Package\"] == \"libc6\"]"
   ]
  },
  {
   "cell_type": "markdown",
   "metadata": {},
   "source": [
    "Dependances can be ambigious"
   ]
  },
  {
   "cell_type": "code",
   "execution_count": 22,
   "metadata": {},
   "outputs": [
    {
     "name": "stdout",
     "output_type": "stream",
     "text": [
      "python (>= 2.7), python (<< 2.8), python:any (>= 2.7.1-0ubuntu2), base-files (>= 4.0.4)\n",
      "emacs24 | emacs-snapshot, preview-latex-style, dpkg (>= 1.15.4) | install-info, debconf (>= 0.5) | debconf-2.0\n"
     ]
    }
   ],
   "source": [
    "print(ground_truth[\"Depends\"].iloc[48])\n",
    "print(ground_truth[\"Depends\"].iloc[405])"
   ]
  },
  {
   "cell_type": "markdown",
   "metadata": {},
   "source": [
    "### Before implementing the recursivity function, we consatated following issues:\n",
    "    - Going through dependances can lead to cycles (ex: comgt->libc6->libgcc1->libc6)\n",
    "        => Can be fixed by keeping a list of seen dependances\n",
    "        \n",
    "    - Many packages with different version can occure (ex: libc6 2.19-0ubuntu6.14 & 2.19-0ubuntu6 not same size)\n",
    "        => Maybe take the most recent one (To gain some time keep only the newest version beforehand)\n",
    "        \n",
    "    - Some packet are already installed by default (like libc6 in our victim's machin)\n",
    "    \n",
    "    - Dependances can be ambigious (ex: python (>= 2.7), python (<< 2.8), python:any (>= 2.7.1-0ubuntu2) )\n",
    "        => Parsing the dependances has to be made carefully \n",
    " \n",
    " Some references:\n",
    " \n",
    " [Depends field format](https://www.debian.org/doc/debian-policy/ch-relationships.html)\n",
    " \n",
    " [Version field format](http://www.fifi.org/doc/debian-policy/policy.html/ch-versions.html)"
   ]
  },
  {
   "cell_type": "code",
   "execution_count": 23,
   "metadata": {},
   "outputs": [],
   "source": [
    "\n",
    "def recursiveOnly(x, summing, df,alreadySeen):\n",
    "    \"\"\"\n",
    "    Doesn't try tu reuse old results\n",
    "    Takes approximatvely 72h to finish\n",
    "    \"\"\"\n",
    "    \n",
    "    xKey = x[\"Package\"] + \" : \"+x[\"Version\"]\n",
    "    \n",
    "    if xKey in alreadySeen:\n",
    "        return (0, {})\n",
    "    \n",
    "    alreadySeen[xKey] = []  \n",
    "    \n",
    "    deps = parseAndFindDep(x[\"Depends\"], df)\n",
    "    \n",
    "    if len(deps) == 0: # Touches the leaves\n",
    "    \n",
    "        return ( x[\"Size\"], {xKey : []})\n",
    "    \n",
    "    \n",
    "    for dep in deps:\n",
    "        \n",
    "        if dep not in alreadySeen:\n",
    "            \n",
    "            newX = df.loc[dep]\n",
    "            s, as_ = recursiveOnly(newX, 0, df, alreadySeen)\n",
    "            \n",
    "                \n",
    "            # Merging\n",
    "            summing += s\n",
    "            alreadySeen = {**as_ , **alreadySeen}\n",
    "            alreadySeen[xKey] += [newX[\"Package\"] + \" : \"+newX[\"Version\"]]\n",
    "    \n",
    "    \n",
    "    summing = summing + x[\"Size\"]\n",
    "    \n",
    "    \n",
    "    return (summing, alreadySeen)    \n",
    "    \n",
    "\n",
    "def computeSumOnDep(x, df):\n",
    "    \n",
    "    \n",
    "    childrens = x[\"Childrens\"]\n",
    "    summingDep = 0\n",
    "    \n",
    "    # We include ourself in the children to count everything\n",
    "    childrens.add(x.name)\n",
    "    \n",
    "    for c in childrens:\n",
    "        summingDep += df.loc[c][\"Size\"]\n",
    "    \n",
    "    df.at[x.name,\"Summing dependances\"] = summingDep\n",
    "    \n",
    "    return summingDep\n",
    "\n",
    "    \n",
    "def recursiveSearchOnDep(x, df,alreadySeen, createTree = True):\n",
    "  \n",
    "    \"\"\" \n",
    "    x : The current data Serie, Assuming that x contains Package, Version, Depends, Size and \n",
    "        Summing dependances, Dependance traces for the dynamic approach\n",
    "        \n",
    "    summing : The sum of the size in Bytes\n",
    "    df is the db we are performing the recursive search\n",
    "    alreadySeen : Dict with the already seen packages + version\"\"\"\n",
    "    \n",
    "    \n",
    "    \n",
    "    \n",
    "    childrens = set()\n",
    "    xKey = x[\"Package\"] + \" : \"+x[\"Version\"]\n",
    "    \n",
    "    # At the end we have to fix the packages that countained loop and couldn't build proprely the childrens \n",
    "    loopers = set()\n",
    "    \n",
    "   # Anti loop\n",
    "    if xKey in alreadySeen:\n",
    "        \n",
    "        # We notifiy the parent that a loop occured\n",
    "        return {}, childrens, True\n",
    "    \n",
    "\n",
    "    \n",
    "    deps = parseAndFindDep(x[\"Depends\"], df)\n",
    "    \n",
    "    \n",
    "    \n",
    "    # Init the trace of the current dep.\n",
    "    myDepTraces = {}\n",
    "    myDepTraces[xKey] = set()\n",
    "    \n",
    "    if len(deps) == 0: # Touches the leaves\n",
    "        \n",
    "        # Fill the df \n",
    "        df.at[x.name,\"Dependance traces\"] = myDepTraces\n",
    "        df.at[x.name, \"Childrens\"] = childrens\n",
    "\n",
    "    \n",
    "        return myDepTraces, childrens, []\n",
    "    \n",
    "\n",
    "    \n",
    "    alreadySeen[xKey] = set()  \n",
    "    \n",
    "    for dep in deps:\n",
    "        \n",
    "\n",
    "        newX = df.loc[dep]\n",
    "        \n",
    "        \n",
    "        depChildren , childrensChildren = newX[\"Dependance traces\"], newX[\"Childrens\"]\n",
    "        newXKey = newX[\"Package\"] + \" : \"+newX[\"Version\"]\n",
    "        \n",
    "        depChildren = eval(str(depChildren))\n",
    "    \n",
    "        if len(depChildren) == 0:\n",
    "            \n",
    "\n",
    "            depChildren, childrensChildren, loop = recursiveSearchOnDep(newX, df, alreadySeen)\n",
    "            \n",
    "            # If we found a loop, we will have to fix it \n",
    "            if loop:\n",
    "                \n",
    "                loopers.add(x.name)\n",
    "            \n",
    "        #print(\"For \", dep, \" we have childrens: \", childrensChildren)\n",
    "        childrens = childrens.union(childrensChildren)\n",
    "        childrens.add(dep)\n",
    "        \n",
    "        alreadySeen = {**alreadySeen, **depChildren}\n",
    "        myDepTraces = {**myDepTraces, **depChildren}\n",
    "        \n",
    "        \n",
    "        myDepTraces[xKey].add(newX[\"Package\"] + \" : \"+newX[\"Version\"])\n",
    "        alreadySeen[xKey].add(newX[\"Package\"] + \" : \"+newX[\"Version\"])\n",
    "                \n",
    "    \n",
    "    # Adding itself in the list of childrens\n",
    "    childrens.add(x.name)\n",
    "                \n",
    "\n",
    "    df.at[x.name,\"Dependance traces\"] = myDepTraces\n",
    "    df.at[x.name, \"Childrens\"] = childrens\n",
    "    \n",
    "    \n",
    "    ## Fix the ones that contained loop\n",
    "    \"\"\"    for l in loopers:\n",
    "        newX = df.loc[l]\n",
    "        recursiveSearchOnDep(newX, df, {})\"\"\"\n",
    "    \n",
    "    return (myDepTraces, childrens, False)\n",
    "\n",
    "\n",
    "\n",
    "\n",
    "    \n",
    "def parseAndFindDep(depString, df):\n",
    "    \"\"\"\n",
    "    Return a list of ubuntu_packages id w.r.t the Dataframe df \n",
    "        which represents the dependances in depString\n",
    "    \"\"\"\n",
    "    ids = list()\n",
    "    \n",
    "    allPckg = df[\"Package\"].unique()\n",
    "\n",
    "    for d in depString.split(\", \"):\n",
    "\n",
    "\n",
    "        for d2 in d.split(\" | \"):\n",
    "\n",
    "            d2 = d2.split(\" (\")\n",
    "\n",
    "            package = d2[0]\n",
    "\n",
    "            #print(package)\n",
    "\n",
    "            version = \"\"\n",
    "            if len(d2) == 2:\n",
    "                # We have more info about the version\n",
    "                (req, version) = d2[1][:-1].split(\" \")\n",
    "\n",
    "                if req == \"<<\" : \n",
    "                    req = \"<\"\n",
    "                if req == \">>\":\n",
    "                    req = \">\"\n",
    "                if req == \"=\":\n",
    "                    req = \"==\"\n",
    "\n",
    "\n",
    "            if package in allPckg:\n",
    "\n",
    "                # TOFIX simple string comparison doesn't work because 2.12.4 > 2.9.3 \n",
    "                # Fixed : Take the Largest Size attributes instead of trying to take the newest version\n",
    "                package_candidates = df[df[\"Package\"] == package].sort_values(by=\"Version\", ascending=False)\n",
    "                id_ = package_candidates.iloc[0].name\n",
    "\n",
    "                if version != \"\":\n",
    "                    # Restraint further more using the version spec.\n",
    "                    package_candidates = package_candidates.query(\"Version \"+req+\" '\"+version+\"'\")    \n",
    "\n",
    "                    if len(package_candidates) > 0 :\n",
    "                        # just take the most recent one if there are many versions\n",
    "                        id_ = package_candidates.iloc[0].name\n",
    "\n",
    "\n",
    "                # Add it only if it's the first time we add it\n",
    "                if id_ not in ids:\n",
    "                    ids = ids + [id_]\n",
    "\n",
    "                # We found it no need to take the packages after \"|\"\n",
    "                break \n",
    "                \n",
    "    return ids\n",
    "    "
   ]
  },
  {
   "cell_type": "code",
   "execution_count": null,
   "metadata": {},
   "outputs": [],
   "source": [
    "ground_truth[\"Summing dependances\"] = -1\n",
    "ground_truth[\"Dependance traces\"] = \"{}\"\n",
    "ground_truth[\"Childrens\"] = \"\"\n",
    "\n",
    "ground_truth = ground_truth.sort_values([\"#Depends\"])\n",
    "\n",
    "tot = len(ground_truth)\n",
    "\n",
    "\n",
    "\"\"\"\n",
    "for _, row in tqdm(ground_truth.iterrows(), total=tot):\n",
    "       myDepTraces, childrens, _ = recursiveSearchOnDep(row, ground_truth, {}) \n",
    "    \"\"\"\n",
    "\n",
    "\n",
    "ground_truth[\"Summing dependances\"], ground_truth[\"Dependance traces\"] = zip(*ground_truth.progress_apply(lambda x: recursiveSearchOnDep(x, ground_truth, {}), axis = 1))\n"
   ]
  },
  {
   "cell_type": "code",
   "execution_count": 33,
   "metadata": {},
   "outputs": [
    {
     "name": "stderr",
     "output_type": "stream",
     "text": [
      "56997it [10:40,  8.15it/s] \n"
     ]
    }
   ],
   "source": [
    "for _, row in tqdm.tqdm(gt.iterrows()):\n",
    "    \n",
    "    summingDep = computeSumOnDep(row, ground_truth)\n",
    "    gt.at[row.name, \"Summing dependances\"] = summingDep\n",
    "    \n",
    "    "
   ]
  },
  {
   "cell_type": "markdown",
   "metadata": {},
   "source": [
    " Timing:\n",
    " \n",
    " - ___45min___ to go over all the entries and recursively find the dependences\n",
    " - ___7.5min___ to sum the dependences\n",
    " - ___5min___ to build the all tree of dependences (see later)"
   ]
  },
  {
   "cell_type": "markdown",
   "metadata": {},
   "source": [
    "##### -------------------------------------------------------- TEST SECTION ---------------------------------------------------------"
   ]
  },
  {
   "cell_type": "code",
   "execution_count": 28,
   "metadata": {},
   "outputs": [
    {
     "name": "stdout",
     "output_type": "stream",
     "text": [
      "9542\n"
     ]
    },
    {
     "data": {
      "text/plain": [
       "Package                                                                klash\n",
       "Version                                          0.8.11~git20130903-3ubuntu1\n",
       "Architecture                                                           amd64\n",
       "Size                                                                  186636\n",
       "Installed-Size                                                           602\n",
       "Maintainer                 Ubuntu Developers <ubuntu-devel-discuss@lists....\n",
       "Description                GNU Shockwave Flash (SWF) player - Standalone ...\n",
       "parsedFrom                 packages/archive.ubuntu.com_ubuntu_dists_trust...\n",
       "Bugs                              https://bugs.launchpad.net/ubuntu/+filebug\n",
       "Origin                                                                Ubuntu\n",
       "Depends                    gnash-common (= 0.8.11~git20130903-3ubuntu1), ...\n",
       "Homepage                                  http://www.gnu.org/software/gnash/\n",
       "Source                                                                 gnash\n",
       "Section                                                       universe/utils\n",
       "Supported                                                                   \n",
       "Filename                   pool/universe/g/gnash/klash_0.8.11~git20130903...\n",
       "dist_from_expected_size                                               119045\n",
       "#Depends                                                                  10\n",
       "Summing dependances                                                 41540642\n",
       "Dependance traces          {'klash : 0.8.11~git20130903-3ubuntu1': {'libq...\n",
       "Childrens                  {8197, 13834, 13835, 15372, 17423, 13848, 1743...\n",
       "Name: 9542, dtype: object"
      ]
     },
     "execution_count": 28,
     "metadata": {},
     "output_type": "execute_result"
    }
   ],
   "source": [
    "import random\n",
    "r = random.randint(0, 56997)\n",
    "print(r)\n",
    "ground_truth.loc[r]\n",
    "#44449"
   ]
  },
  {
   "cell_type": "code",
   "execution_count": 29,
   "metadata": {},
   "outputs": [
    {
     "name": "stdout",
     "output_type": "stream",
     "text": [
      "There are :  141 subdependences for the Package sisc\n"
     ]
    }
   ],
   "source": [
    "print(\"There are : \" , len(ground_truth.loc[r][\"Dependance traces\"]), \"subdependences for the Package \" + ground_truth.iloc[r][\"Package\"])"
   ]
  },
  {
   "cell_type": "markdown",
   "metadata": {},
   "source": [
    "The trace of the python package"
   ]
  },
  {
   "cell_type": "code",
   "execution_count": 30,
   "metadata": {},
   "outputs": [
    {
     "data": {
      "text/plain": [
       "{'python : 2.7.5-5ubuntu3': {'libpython-stdlib : 2.7.5-5ubuntu3',\n",
       "  'python-minimal : 2.7.5-5ubuntu3',\n",
       "  'python2.7 : 2.7.6-8ubuntu0.4'},\n",
       " 'python2.7 : 2.7.6-8ubuntu0.4': {'libpython2.7-stdlib : 2.7.6-8ubuntu0.4',\n",
       "  'mime-support : 3.54ubuntu1.1',\n",
       "  'python2.7-minimal : 2.7.6-8ubuntu0.4'},\n",
       " 'python2.7-minimal : 2.7.6-8ubuntu0.4': {'libpython2.7-minimal : 2.7.6-8ubuntu0.4',\n",
       "  'zlib1g : 1:1.2.8.dfsg-1ubuntu1.1'},\n",
       " 'libpython2.7-minimal : 2.7.6-8ubuntu0.4': set(),\n",
       " 'zlib1g : 1:1.2.8.dfsg-1ubuntu1.1': {'libc6 : 2.19-0ubuntu6.14'},\n",
       " 'libc6 : 2.19-0ubuntu6.14': {'libgcc1 : 1:4.9.3-0ubuntu4'},\n",
       " 'libgcc1 : 1:4.9.3-0ubuntu4': {'gcc-4.9-base : 4.9.3-0ubuntu4',\n",
       "  'libc6 : 2.19-0ubuntu6.14'},\n",
       " 'gcc-4.9-base : 4.9.3-0ubuntu4': set(),\n",
       " 'libpython2.7-stdlib : 2.7.6-8ubuntu0.4': {'libbz2-1.0 : 1.0.6-5',\n",
       "  'libc6 : 2.19-0ubuntu6.14',\n",
       "  'libdb5.3 : 5.3.28-3ubuntu3.1',\n",
       "  'libexpat1 : 2.1.0-4ubuntu1.4',\n",
       "  'libffi6 : 3.1~rc1+r3.0.13-12ubuntu0.2',\n",
       "  'libncursesw5 : 5.9+20140118-1ubuntu1',\n",
       "  'libpython2.7-minimal : 2.7.6-8ubuntu0.4',\n",
       "  'libreadline6 : 6.3-4ubuntu2',\n",
       "  'libsqlite3-0 : 3.8.2-1ubuntu2.1',\n",
       "  'libssl1.0.0 : 1.0.1f-1ubuntu2.26',\n",
       "  'libtinfo5 : 5.9+20140118-1ubuntu1',\n",
       "  'mime-support : 3.54ubuntu1.1'},\n",
       " 'mime-support : 3.54ubuntu1.1': set(),\n",
       " 'libbz2-1.0 : 1.0.6-5': {'libc6 : 2.19-0ubuntu6.14'},\n",
       " 'libdb5.3 : 5.3.28-3ubuntu3.1': {'libc6 : 2.19-0ubuntu6.14'},\n",
       " 'libexpat1 : 2.1.0-4ubuntu1.4': {'libc6 : 2.19-0ubuntu6.14'},\n",
       " 'libffi6 : 3.1~rc1+r3.0.13-12ubuntu0.2': {'libc6 : 2.19-0ubuntu6.14'},\n",
       " 'libncursesw5 : 5.9+20140118-1ubuntu1': {'libc6 : 2.19-0ubuntu6.14',\n",
       "  'libtinfo5 : 5.9+20140118-1ubuntu1'},\n",
       " 'libtinfo5 : 5.9+20140118-1ubuntu1': {'libc6 : 2.19-0ubuntu6.14'},\n",
       " 'libreadline6 : 6.3-4ubuntu2': {'libc6 : 2.19-0ubuntu6.14',\n",
       "  'libtinfo5 : 5.9+20140118-1ubuntu1',\n",
       "  'readline-common : 6.3-4ubuntu2'},\n",
       " 'readline-common : 6.3-4ubuntu2': {'dpkg : 1.17.5ubuntu5.8'},\n",
       " 'dpkg : 1.17.5ubuntu5.8': set(),\n",
       " 'libsqlite3-0 : 3.8.2-1ubuntu2.1': {'libc6 : 2.19-0ubuntu6.14'},\n",
       " 'libssl1.0.0 : 1.0.1f-1ubuntu2.26': {'debconf : 1.5.51ubuntu2',\n",
       "  'libc6 : 2.19-0ubuntu6.14'},\n",
       " 'debconf : 1.5.51ubuntu2': set(),\n",
       " 'python-minimal : 2.7.5-5ubuntu3': {'dpkg : 1.17.5ubuntu5.8',\n",
       "  'python2.7-minimal : 2.7.6-8ubuntu0.4'},\n",
       " 'libpython-stdlib : 2.7.5-5ubuntu3': {'libpython2.7-stdlib : 2.7.6-8ubuntu0.4'}}"
      ]
     },
     "execution_count": 30,
     "metadata": {},
     "output_type": "execute_result"
    }
   ],
   "source": [
    "ground_truth[ground_truth[\"Package\"] == \"python\"].iloc[0][\"Dependance traces\"]"
   ]
  },
  {
   "cell_type": "code",
   "execution_count": null,
   "metadata": {},
   "outputs": [],
   "source": [
    "ground_truth[ground_truddth[\"Package\"] == \"python-minimal\" ]#.iloc[0][\"Depends\"]"
   ]
  },
  {
   "cell_type": "code",
   "execution_count": 31,
   "metadata": {},
   "outputs": [
    {
     "name": "stdout",
     "output_type": "stream",
     "text": [
      "All the dependences for the package python: \n"
     ]
    },
    {
     "data": {
      "text/plain": [
       "24"
      ]
     },
     "execution_count": 31,
     "metadata": {},
     "output_type": "execute_result"
    }
   ],
   "source": [
    "print(\"All the dependences for the package python: \")\n",
    "len(ground_truth.loc[18315][\"Dependance traces\"].keys())"
   ]
  },
  {
   "cell_type": "markdown",
   "metadata": {},
   "source": [
    "##### -------------------------------------------------------- END TEST SECTION ---------------------------------------------------------"
   ]
  },
  {
   "cell_type": "markdown",
   "metadata": {},
   "source": [
    "#### quantifing the percentages of ___what can be done___ and ___what cannot___\n",
    "\n",
    "1) Computing the elements involved in packages + Version."
   ]
  },
  {
   "cell_type": "code",
   "execution_count": 32,
   "metadata": {},
   "outputs": [
    {
     "data": {
      "text/plain": [
       "count    56997.000000\n",
       "mean        50.217485\n",
       "std         75.602141\n",
       "min          1.000000\n",
       "25%          6.000000\n",
       "50%         20.000000\n",
       "75%         64.000000\n",
       "max       1109.000000\n",
       "Name: Elements involved, dtype: float64"
      ]
     },
     "execution_count": 32,
     "metadata": {},
     "output_type": "execute_result"
    }
   ],
   "source": [
    "# The element itself is part of \n",
    "ground_truth[\"Elements involved\"] = ground_truth['Dependance traces'].map(lambda x: len(x))\n",
    "ground_truth[\"Elements involved\"].describe()\n"
   ]
  },
  {
   "cell_type": "markdown",
   "metadata": {},
   "source": [
    "In average, we have 50.21 other dependencies involved when we match exactly one dependance each time. since the median is low, only 20.\n",
    "\n",
    "<font color='red'>Important</font> : We are not considering multiple possibilities for one single dependance.\n",
    " (i.e. when having << we just pick the most recent version. We don't consider all the possibilites. Same for | we just pick the fisrt possible match )"
   ]
  },
  {
   "cell_type": "code",
   "execution_count": 33,
   "metadata": {},
   "outputs": [
    {
     "data": {
      "text/plain": [
       "<matplotlib.axes._subplots.AxesSubplot at 0x11b941f28>"
      ]
     },
     "execution_count": 33,
     "metadata": {},
     "output_type": "execute_result"
    },
    {
     "data": {
      "image/png": "[encoded data removed]",
      "text/plain": [
       "<Figure size 432x288 with 1 Axes>"
      ]
     },
     "metadata": {},
     "output_type": "display_data"
    }
   ],
   "source": [
    "ground_truth[\"Elements involved\"].plot.hist(bins = 98, xlim=[0,300])"
   ]
  },
  {
   "cell_type": "markdown",
   "metadata": {},
   "source": [
    "Seems like it follows a nice exponnential distribution"
   ]
  },
  {
   "cell_type": "code",
   "execution_count": 34,
   "metadata": {},
   "outputs": [],
   "source": [
    "def analyseDep(depString):\n",
    "    \"\"\"\n",
    "    Extract interessting numbers about dependances specificaton\n",
    "    \"\"\"\n",
    "    ids = list()\n",
    "    \n",
    "    eq = 0\n",
    "    beq = 0\n",
    "    leq = 0\n",
    "    lessThan = 0\n",
    "    biggerThan = 0\n",
    "    alternatives = 0\n",
    "    noSpec = 0\n",
    "    \n",
    "    \n",
    "\n",
    "    for d in depString.split(\", \"):\n",
    "        \n",
    "        alternatives += len(d.split(\" | \")) - 1\n",
    "        \n",
    "        for d2 in d.split(\" | \"):\n",
    "\n",
    "            d2 = d2.split(\" (\")\n",
    "\n",
    "            package = d2[0]\n",
    "\n",
    "            version = \"\"\n",
    "            if len(d2) == 2:\n",
    "                # We have more info about the version\n",
    "                (req, version) = d2[1][:-1].split(\" \")\n",
    "\n",
    "                if req == \"<<\" :\n",
    "                    lessThan +=1 \n",
    "                    req = \"<\"\n",
    "                    \n",
    "                if req == \"<=\":\n",
    "                    leq +=1\n",
    "                    \n",
    "                if req == \"=\":\n",
    "                    req = \"==\"\n",
    "                    eq +=1\n",
    "                    \n",
    "                if req == \">=\":\n",
    "                    beq +=1\n",
    "                    \n",
    "                if req == \">>\":\n",
    "                    req = \">\"\n",
    "                    biggerThan += 1\n",
    "            \n",
    "            else:\n",
    "                # No info about the version\n",
    "                noSpec +=1\n",
    "                \n",
    "    return lessThan, leq, eq, beq, biggerThan, noSpec, alternatives\n",
    "\n",
    "ground_truth[\"<<\"], ground_truth[\"<=\"], ground_truth[\"=\"], ground_truth[\">=\"], ground_truth[\">>\"], ground_truth[\"noSpec\"], ground_truth[\"alternatives\"] = zip(*ground_truth[\"Depends\"].map(analyseDep))                           "
   ]
  },
  {
   "cell_type": "code",
   "execution_count": 35,
   "metadata": {},
   "outputs": [
    {
     "data": {
      "text/plain": [
       "<<                4212\n",
       "<=                  38\n",
       "=                19854\n",
       ">=              119179\n",
       ">>                 513\n",
       "noSpec           98732\n",
       "alternatives     10715\n",
       "dtype: int64"
      ]
     },
     "execution_count": 35,
     "metadata": {},
     "output_type": "execute_result"
    }
   ],
   "source": [
    "version_spe = ground_truth[[\"<<\", \"<=\", \"=\", \">=\", \">>\", \"noSpec\", \"alternatives\"]].sum()\n",
    "version_spe"
   ]
  },
  {
   "cell_type": "markdown",
   "metadata": {},
   "source": [
    "Using percentage we have"
   ]
  },
  {
   "cell_type": "code",
   "execution_count": 36,
   "metadata": {},
   "outputs": [
    {
     "data": {
      "text/plain": [
       "<<               1.663%\n",
       "<=               0.015%\n",
       "=                7.840%\n",
       ">=              47.061%\n",
       ">>               0.203%\n",
       "noSpec          38.987%\n",
       "alternatives     4.231%\n",
       "dtype: object"
      ]
     },
     "execution_count": 36,
     "metadata": {},
     "output_type": "execute_result"
    }
   ],
   "source": [
    "total = ground_truth[[\"<<\", \"<=\", \"=\", \">=\", \">>\", \"noSpec\", \"alternatives\"]].sum().sum()\n",
    "version_spe = ground_truth[[\"<<\", \"<=\", \"=\", \">=\", \">>\", \"noSpec\", \"alternatives\"]].sum().map(lambda x: x/total * 100)\n",
    "ground_truth[[\"<<\", \"<=\", \"=\", \">=\", \">>\", \"noSpec\", \"alternatives\"]].sum().map(lambda x: \"{0:.3f}%\".format(x/total * 100))\n"
   ]
  },
  {
   "cell_type": "markdown",
   "metadata": {},
   "source": [
    "##### Visualization of the previous countities"
   ]
  },
  {
   "cell_type": "code",
   "execution_count": 37,
   "metadata": {},
   "outputs": [
    {
     "data": {
      "text/plain": [
       "<matplotlib.axes._subplots.AxesSubplot at 0x11fb67a90>"
      ]
     },
     "execution_count": 37,
     "metadata": {},
     "output_type": "execute_result"
    },
    {
     "data": {
      "image/png": "[encoded data removed]",
      "text/plain": [
       "<Figure size 432x288 with 1 Axes>"
      ]
     },
     "metadata": {},
     "output_type": "display_data"
    }
   ],
   "source": [
    "version_spe.plot.barh(x = \"percentage\", xlim = [0,50])"
   ]
  },
  {
   "cell_type": "markdown",
   "metadata": {},
   "source": [
    "Here we see that the proportion of `<=` and `>>` is negligible compare to the rest. Indeed, generlly we don't specify that we want strictly higher than a specific version we will rather say this version or higher. Same applies for `<=`, we want stricly less than a specific version in general. \n",
    "\n",
    "The vast majority is in `>=` and no spec. "
   ]
  },
  {
   "cell_type": "markdown",
   "metadata": {},
   "source": [
    "### Building the dependances trees as a dictionnary"
   ]
  },
  {
   "cell_type": "code",
   "execution_count": null,
   "metadata": {},
   "outputs": [],
   "source": [
    "All_traces = dict()\n",
    "for index, row in tqdm.tqdm(ground_truth.iterrows()):\n",
    "    All_traces = {**All_traces, **row['Dependance traces']}\n",
    "    \n"
   ]
  },
  {
   "cell_type": "code",
   "execution_count": 39,
   "metadata": {},
   "outputs": [
    {
     "data": {
      "text/plain": [
       "{'libbz2-1.0 : 1.0.6-5',\n",
       " 'libc6 : 2.19-0ubuntu6.14',\n",
       " 'libdb5.3 : 5.3.28-3ubuntu3.1',\n",
       " 'libgdbm3 : 1.8.3-12build1',\n",
       " 'perl-base : 5.18.2-2ubuntu1.6',\n",
       " 'perl-modules : 5.18.2-2ubuntu1.6',\n",
       " 'zlib1g : 1:1.2.8.dfsg-1ubuntu1.1'}"
      ]
     },
     "execution_count": 39,
     "metadata": {},
     "output_type": "execute_result"
    }
   ],
   "source": [
    "All_traces[\"perl : 5.18.2-2ubuntu1.6\"]"
   ]
  },
  {
   "cell_type": "code",
   "execution_count": 40,
   "metadata": {},
   "outputs": [
    {
     "data": {
      "text/plain": [
       "{'libc6 : 2.19-0ubuntu6.14'}"
      ]
     },
     "execution_count": 40,
     "metadata": {},
     "output_type": "execute_result"
    }
   ],
   "source": [
    "All_traces[\"zlib1g : 1:1.2.8.dfsg-1ubuntu1.1\"]"
   ]
  },
  {
   "cell_type": "code",
   "execution_count": 41,
   "metadata": {},
   "outputs": [
    {
     "data": {
      "text/plain": [
       "{'libgcc1 : 1:4.9.3-0ubuntu4'}"
      ]
     },
     "execution_count": 41,
     "metadata": {},
     "output_type": "execute_result"
    }
   ],
   "source": [
    "All_traces[\"libc6 : 2.19-0ubuntu6.14\"]"
   ]
  },
  {
   "cell_type": "code",
   "execution_count": 42,
   "metadata": {},
   "outputs": [
    {
     "data": {
      "text/plain": [
       "{'gcc-4.9-base : 4.9.3-0ubuntu4', 'libc6 : 2.19-0ubuntu6.14'}"
      ]
     },
     "execution_count": 42,
     "metadata": {},
     "output_type": "execute_result"
    }
   ],
   "source": [
    "All_traces['libgcc1 : 1:4.9.3-0ubuntu4']"
   ]
  },
  {
   "cell_type": "code",
   "execution_count": 43,
   "metadata": {},
   "outputs": [
    {
     "data": {
      "text/plain": [
       "set()"
      ]
     },
     "execution_count": 43,
     "metadata": {},
     "output_type": "execute_result"
    }
   ],
   "source": [
    "All_traces[\"gcc-4.9-base : 4.9.3-0ubuntu4\"]"
   ]
  },
  {
   "cell_type": "markdown",
   "metadata": {},
   "source": [
    "###### Top 5 of Package requiring the most # of dependences"
   ]
  },
  {
   "cell_type": "code",
   "execution_count": 44,
   "metadata": {},
   "outputs": [
    {
     "data": {
      "text/html": [
       "<div>\n",
       "<style scoped>\n",
       "    .dataframe tbody tr th:only-of-type {\n",
       "        vertical-align: middle;\n",
       "    }\n",
       "\n",
       "    .dataframe tbody tr th {\n",
       "        vertical-align: top;\n",
       "    }\n",
       "\n",
       "    .dataframe thead th {\n",
       "        text-align: right;\n",
       "    }\n",
       "</style>\n",
       "<table border=\"1\" class=\"dataframe\">\n",
       "  <thead>\n",
       "    <tr style=\"text-align: right;\">\n",
       "      <th></th>\n",
       "      <th>Package</th>\n",
       "      <th>Version</th>\n",
       "      <th>Size</th>\n",
       "      <th>Dependance traces</th>\n",
       "      <th>Elements involved</th>\n",
       "      <th>Summing dependances</th>\n",
       "    </tr>\n",
       "    <tr>\n",
       "      <th>id</th>\n",
       "      <th></th>\n",
       "      <th></th>\n",
       "      <th></th>\n",
       "      <th></th>\n",
       "      <th></th>\n",
       "      <th></th>\n",
       "    </tr>\n",
       "  </thead>\n",
       "  <tbody>\n",
       "    <tr>\n",
       "      <th>29528</th>\n",
       "      <td>kubuntu-full</td>\n",
       "      <td>1.308</td>\n",
       "      <td>2626</td>\n",
       "      <td>{'kubuntu-full : 1.308': {'kde-runtime : 4:4.1...</td>\n",
       "      <td>1109</td>\n",
       "      <td>736776922</td>\n",
       "    </tr>\n",
       "    <tr>\n",
       "      <th>9612</th>\n",
       "      <td>kubuntu-full</td>\n",
       "      <td>1.308.1.2</td>\n",
       "      <td>2660</td>\n",
       "      <td>{'kubuntu-full : 1.308.1.2': {'kde-runtime : 4...</td>\n",
       "      <td>1109</td>\n",
       "      <td>736776956</td>\n",
       "    </tr>\n",
       "    <tr>\n",
       "      <th>26944</th>\n",
       "      <td>gnome-desktop-environment</td>\n",
       "      <td>1:3.8+4ubuntu3</td>\n",
       "      <td>3130</td>\n",
       "      <td>{'gnome-desktop-environment : 1:3.8+4ubuntu3':...</td>\n",
       "      <td>1080</td>\n",
       "      <td>453541476</td>\n",
       "    </tr>\n",
       "    <tr>\n",
       "      <th>26915</th>\n",
       "      <td>gnome</td>\n",
       "      <td>1:3.8+4ubuntu3</td>\n",
       "      <td>2830</td>\n",
       "      <td>{'gnome : 1:3.8+4ubuntu3': {'cheese : 3.10.2-0...</td>\n",
       "      <td>1079</td>\n",
       "      <td>453538346</td>\n",
       "    </tr>\n",
       "    <tr>\n",
       "      <th>54490</th>\n",
       "      <td>ubuntu-touch</td>\n",
       "      <td>1.126</td>\n",
       "      <td>2466</td>\n",
       "      <td>{'ubuntu-touch : 1.126': {'qtdeclarative5-qtmu...</td>\n",
       "      <td>1063</td>\n",
       "      <td>405727828</td>\n",
       "    </tr>\n",
       "  </tbody>\n",
       "</table>\n",
       "</div>"
      ],
      "text/plain": [
       "                         Package         Version  Size  \\\n",
       "id                                                       \n",
       "29528               kubuntu-full           1.308  2626   \n",
       "9612                kubuntu-full       1.308.1.2  2660   \n",
       "26944  gnome-desktop-environment  1:3.8+4ubuntu3  3130   \n",
       "26915                      gnome  1:3.8+4ubuntu3  2830   \n",
       "54490               ubuntu-touch           1.126  2466   \n",
       "\n",
       "                                       Dependance traces  Elements involved  \\\n",
       "id                                                                            \n",
       "29528  {'kubuntu-full : 1.308': {'kde-runtime : 4:4.1...               1109   \n",
       "9612   {'kubuntu-full : 1.308.1.2': {'kde-runtime : 4...               1109   \n",
       "26944  {'gnome-desktop-environment : 1:3.8+4ubuntu3':...               1080   \n",
       "26915  {'gnome : 1:3.8+4ubuntu3': {'cheese : 3.10.2-0...               1079   \n",
       "54490  {'ubuntu-touch : 1.126': {'qtdeclarative5-qtmu...               1063   \n",
       "\n",
       "       Summing dependances  \n",
       "id                          \n",
       "29528            736776922  \n",
       "9612             736776956  \n",
       "26944            453541476  \n",
       "26915            453538346  \n",
       "54490            405727828  "
      ]
     },
     "execution_count": 44,
     "metadata": {},
     "output_type": "execute_result"
    }
   ],
   "source": [
    "ground_truth[[\"Package\", \"Version\", \"Size\", \"Dependance traces\",\"Elements involved\",\"Summing dependances\" ]].sort_values(\"Elements involved\", ascending=False).iloc[0:5]"
   ]
  },
  {
   "cell_type": "markdown",
   "metadata": {},
   "source": [
    "###### Top 5 of Package requiring the most space"
   ]
  },
  {
   "cell_type": "code",
   "execution_count": 147,
   "metadata": {},
   "outputs": [
    {
     "data": {
      "text/html": [
       "<div>\n",
       "<style scoped>\n",
       "    .dataframe tbody tr th:only-of-type {\n",
       "        vertical-align: middle;\n",
       "    }\n",
       "\n",
       "    .dataframe tbody tr th {\n",
       "        vertical-align: top;\n",
       "    }\n",
       "\n",
       "    .dataframe thead th {\n",
       "        text-align: right;\n",
       "    }\n",
       "</style>\n",
       "<table border=\"1\" class=\"dataframe\">\n",
       "  <thead>\n",
       "    <tr style=\"text-align: right;\">\n",
       "      <th></th>\n",
       "      <th>Package</th>\n",
       "      <th>Version</th>\n",
       "      <th>Size</th>\n",
       "      <th>Dependance traces</th>\n",
       "      <th>Elements involved</th>\n",
       "      <th>Summing dependances</th>\n",
       "    </tr>\n",
       "    <tr>\n",
       "      <th>id</th>\n",
       "      <th></th>\n",
       "      <th></th>\n",
       "      <th></th>\n",
       "      <th></th>\n",
       "      <th></th>\n",
       "      <th></th>\n",
       "    </tr>\n",
       "  </thead>\n",
       "  <tbody>\n",
       "    <tr>\n",
       "      <th>11355</th>\n",
       "      <td>texlive-full</td>\n",
       "      <td>2013.20140215-1ubuntu0.1</td>\n",
       "      <td>14542</td>\n",
       "      <td>{'texlive-full : 2013.20140215-1ubuntu0.1': {'...</td>\n",
       "      <td>281</td>\n",
       "      <td>1684150276</td>\n",
       "    </tr>\n",
       "    <tr>\n",
       "      <th>53769</th>\n",
       "      <td>texlive-full</td>\n",
       "      <td>2013.20140215-1</td>\n",
       "      <td>14502</td>\n",
       "      <td>{'texlive-full : 2013.20140215-1': {'texlive-f...</td>\n",
       "      <td>281</td>\n",
       "      <td>1684150236</td>\n",
       "    </tr>\n",
       "    <tr>\n",
       "      <th>20985</th>\n",
       "      <td>0ad-dbg</td>\n",
       "      <td>0.0.15+dfsg-3</td>\n",
       "      <td>55484348</td>\n",
       "      <td>{'0ad-dbg : 0.0.15+dfsg-3': {'0ad : 0.0.15+dfs...</td>\n",
       "      <td>165</td>\n",
       "      <td>1145821568</td>\n",
       "    </tr>\n",
       "    <tr>\n",
       "      <th>25283</th>\n",
       "      <td>flightgear</td>\n",
       "      <td>3.0.0-1</td>\n",
       "      <td>3834076</td>\n",
       "      <td>{'flightgear : 3.0.0-1': {'libglu1-mesa : 9.0....</td>\n",
       "      <td>268</td>\n",
       "      <td>1090723236</td>\n",
       "    </tr>\n",
       "    <tr>\n",
       "      <th>20982</th>\n",
       "      <td>0ad</td>\n",
       "      <td>0.0.15+dfsg-3</td>\n",
       "      <td>2561358</td>\n",
       "      <td>{'0ad : 0.0.15+dfsg-3': {'libxml2 : 2.9.1+dfsg...</td>\n",
       "      <td>164</td>\n",
       "      <td>1090337220</td>\n",
       "    </tr>\n",
       "  </tbody>\n",
       "</table>\n",
       "</div>"
      ],
      "text/plain": [
       "            Package                   Version      Size  \\\n",
       "id                                                        \n",
       "11355  texlive-full  2013.20140215-1ubuntu0.1     14542   \n",
       "53769  texlive-full           2013.20140215-1     14502   \n",
       "20985       0ad-dbg             0.0.15+dfsg-3  55484348   \n",
       "25283    flightgear                   3.0.0-1   3834076   \n",
       "20982           0ad             0.0.15+dfsg-3   2561358   \n",
       "\n",
       "                                       Dependance traces  Elements involved  \\\n",
       "id                                                                            \n",
       "11355  {'texlive-full : 2013.20140215-1ubuntu0.1': {'...                281   \n",
       "53769  {'texlive-full : 2013.20140215-1': {'texlive-f...                281   \n",
       "20985  {'0ad-dbg : 0.0.15+dfsg-3': {'0ad : 0.0.15+dfs...                165   \n",
       "25283  {'flightgear : 3.0.0-1': {'libglu1-mesa : 9.0....                268   \n",
       "20982  {'0ad : 0.0.15+dfsg-3': {'libxml2 : 2.9.1+dfsg...                164   \n",
       "\n",
       "       Summing dependances  \n",
       "id                          \n",
       "11355           1684150276  \n",
       "53769           1684150236  \n",
       "20985           1145821568  \n",
       "25283           1090723236  \n",
       "20982           1090337220  "
      ]
     },
     "execution_count": 147,
     "metadata": {},
     "output_type": "execute_result"
    }
   ],
   "source": [
    "ground_truth[[\"Package\", \"Version\", \"Size\", \"Dependance traces\",\"Elements involved\",\"Summing dependances\" ]].sort_values(\"Summing dependances\", ascending=False).iloc[0:5]"
   ]
  },
  {
   "cell_type": "markdown",
   "metadata": {},
   "source": [
    "Let's group our list by size and by sum of dependances:"
   ]
  },
  {
   "cell_type": "markdown",
   "metadata": {},
   "source": [
    "#### Most frequent dependences"
   ]
  },
  {
   "cell_type": "code",
   "execution_count": null,
   "metadata": {},
   "outputs": [],
   "source": [
    "\n",
    "for _, row in tqdm.tqdm(ground_truth.iterrows(), total=tot ):\n",
    "    \n",
    "    \n",
    "    d[row.name] = ground_truth[\"Childrens\"].map(lambda childrens: row.name in childrens).sum()\n",
    "\n",
    "    \n",
    "s = pd.Series(d, name='Dependence Frequency')\n",
    "ground_truth = ground_truth.assign( Frequency= s)\n"
   ]
  },
  {
   "cell_type": "code",
   "execution_count": 92,
   "metadata": {},
   "outputs": [
    {
     "data": {
      "text/html": [
       "<div>\n",
       "<style scoped>\n",
       "    .dataframe tbody tr th:only-of-type {\n",
       "        vertical-align: middle;\n",
       "    }\n",
       "\n",
       "    .dataframe tbody tr th {\n",
       "        vertical-align: top;\n",
       "    }\n",
       "\n",
       "    .dataframe thead th {\n",
       "        text-align: right;\n",
       "    }\n",
       "</style>\n",
       "<table border=\"1\" class=\"dataframe\">\n",
       "  <thead>\n",
       "    <tr style=\"text-align: right;\">\n",
       "      <th></th>\n",
       "      <th>Package</th>\n",
       "      <th>Version</th>\n",
       "      <th>Size</th>\n",
       "      <th>Dependance traces</th>\n",
       "      <th>Elements involved</th>\n",
       "      <th>Summing dependances</th>\n",
       "      <th>Frequency</th>\n",
       "    </tr>\n",
       "    <tr>\n",
       "      <th>id</th>\n",
       "      <th></th>\n",
       "      <th></th>\n",
       "      <th></th>\n",
       "      <th></th>\n",
       "      <th></th>\n",
       "      <th></th>\n",
       "      <th></th>\n",
       "    </tr>\n",
       "  </thead>\n",
       "  <tbody>\n",
       "    <tr>\n",
       "      <th>751</th>\n",
       "      <td>gcc-4.9-base</td>\n",
       "      <td>4.9.3-0ubuntu4</td>\n",
       "      <td>15146</td>\n",
       "      <td>{'gcc-4.9-base : 4.9.3-0ubuntu4': {}}</td>\n",
       "      <td>1</td>\n",
       "      <td>15146</td>\n",
       "      <td>48385</td>\n",
       "    </tr>\n",
       "    <tr>\n",
       "      <th>2077</th>\n",
       "      <td>libgcc1</td>\n",
       "      <td>1:4.9.3-0ubuntu4</td>\n",
       "      <td>39194</td>\n",
       "      <td>{'libgcc1 : 1:4.9.3-0ubuntu4': {'gcc-4.9-base ...</td>\n",
       "      <td>3</td>\n",
       "      <td>4806878</td>\n",
       "      <td>48382</td>\n",
       "    </tr>\n",
       "    <tr>\n",
       "      <th>1784</th>\n",
       "      <td>libc6</td>\n",
       "      <td>2.19-0ubuntu6.14</td>\n",
       "      <td>4752538</td>\n",
       "      <td>{'libc6 : 2.19-0ubuntu6.14': {'libgcc1 : 1:4.9...</td>\n",
       "      <td>3</td>\n",
       "      <td>4806878</td>\n",
       "      <td>48382</td>\n",
       "    </tr>\n",
       "    <tr>\n",
       "      <th>8618</th>\n",
       "      <td>zlib1g</td>\n",
       "      <td>1:1.2.8.dfsg-1ubuntu1.1</td>\n",
       "      <td>49800</td>\n",
       "      <td>{'zlib1g : 1:1.2.8.dfsg-1ubuntu1.1': {'libc6 :...</td>\n",
       "      <td>4</td>\n",
       "      <td>4856678</td>\n",
       "      <td>33164</td>\n",
       "    </tr>\n",
       "    <tr>\n",
       "      <th>12011</th>\n",
       "      <td>debconf</td>\n",
       "      <td>1.5.51ubuntu2</td>\n",
       "      <td>136156</td>\n",
       "      <td>{'debconf : 1.5.51ubuntu2': {}}</td>\n",
       "      <td>1</td>\n",
       "      <td>136156</td>\n",
       "      <td>27592</td>\n",
       "    </tr>\n",
       "    <tr>\n",
       "      <th>14027</th>\n",
       "      <td>libbz2-1.0</td>\n",
       "      <td>1.0.6-5</td>\n",
       "      <td>33946</td>\n",
       "      <td>{'libbz2-1.0 : 1.0.6-5': {'libc6 : 2.19-0ubunt...</td>\n",
       "      <td>4</td>\n",
       "      <td>4840824</td>\n",
       "      <td>25507</td>\n",
       "    </tr>\n",
       "    <tr>\n",
       "      <th>2826</th>\n",
       "      <td>libpcre3</td>\n",
       "      <td>1:8.31-2ubuntu2.3</td>\n",
       "      <td>144410</td>\n",
       "      <td>{'libpcre3 : 1:8.31-2ubuntu2.3': {'libc6 : 2.1...</td>\n",
       "      <td>4</td>\n",
       "      <td>4951288</td>\n",
       "      <td>22205</td>\n",
       "    </tr>\n",
       "    <tr>\n",
       "      <th>2008</th>\n",
       "      <td>libffi6</td>\n",
       "      <td>3.1~rc1+r3.0.13-12ubuntu0.2</td>\n",
       "      <td>17864</td>\n",
       "      <td>{'libffi6 : 3.1~rc1+r3.0.13-12ubuntu0.2': {'li...</td>\n",
       "      <td>4</td>\n",
       "      <td>4824742</td>\n",
       "      <td>22112</td>\n",
       "    </tr>\n",
       "    <tr>\n",
       "      <th>3162</th>\n",
       "      <td>libselinux1</td>\n",
       "      <td>2.2.2-1ubuntu0.1</td>\n",
       "      <td>58690</td>\n",
       "      <td>{'libselinux1 : 2.2.2-1ubuntu0.1': {'libpcre3 ...</td>\n",
       "      <td>5</td>\n",
       "      <td>5009978</td>\n",
       "      <td>21588</td>\n",
       "    </tr>\n",
       "    <tr>\n",
       "      <th>515</th>\n",
       "      <td>dpkg</td>\n",
       "      <td>1.17.5ubuntu5.8</td>\n",
       "      <td>1957810</td>\n",
       "      <td>{'dpkg : 1.17.5ubuntu5.8': {}}</td>\n",
       "      <td>1</td>\n",
       "      <td>1957810</td>\n",
       "      <td>20873</td>\n",
       "    </tr>\n",
       "  </tbody>\n",
       "</table>\n",
       "</div>"
      ],
      "text/plain": [
       "            Package                      Version     Size  \\\n",
       "id                                                          \n",
       "751    gcc-4.9-base               4.9.3-0ubuntu4    15146   \n",
       "2077        libgcc1             1:4.9.3-0ubuntu4    39194   \n",
       "1784          libc6             2.19-0ubuntu6.14  4752538   \n",
       "8618         zlib1g      1:1.2.8.dfsg-1ubuntu1.1    49800   \n",
       "12011       debconf                1.5.51ubuntu2   136156   \n",
       "14027    libbz2-1.0                      1.0.6-5    33946   \n",
       "2826       libpcre3            1:8.31-2ubuntu2.3   144410   \n",
       "2008        libffi6  3.1~rc1+r3.0.13-12ubuntu0.2    17864   \n",
       "3162    libselinux1             2.2.2-1ubuntu0.1    58690   \n",
       "515            dpkg              1.17.5ubuntu5.8  1957810   \n",
       "\n",
       "                                       Dependance traces  Elements involved  \\\n",
       "id                                                                            \n",
       "751                {'gcc-4.9-base : 4.9.3-0ubuntu4': {}}                  1   \n",
       "2077   {'libgcc1 : 1:4.9.3-0ubuntu4': {'gcc-4.9-base ...                  3   \n",
       "1784   {'libc6 : 2.19-0ubuntu6.14': {'libgcc1 : 1:4.9...                  3   \n",
       "8618   {'zlib1g : 1:1.2.8.dfsg-1ubuntu1.1': {'libc6 :...                  4   \n",
       "12011                    {'debconf : 1.5.51ubuntu2': {}}                  1   \n",
       "14027  {'libbz2-1.0 : 1.0.6-5': {'libc6 : 2.19-0ubunt...                  4   \n",
       "2826   {'libpcre3 : 1:8.31-2ubuntu2.3': {'libc6 : 2.1...                  4   \n",
       "2008   {'libffi6 : 3.1~rc1+r3.0.13-12ubuntu0.2': {'li...                  4   \n",
       "3162   {'libselinux1 : 2.2.2-1ubuntu0.1': {'libpcre3 ...                  5   \n",
       "515                       {'dpkg : 1.17.5ubuntu5.8': {}}                  1   \n",
       "\n",
       "       Summing dependances  Frequency  \n",
       "id                                     \n",
       "751                  15146      48385  \n",
       "2077               4806878      48382  \n",
       "1784               4806878      48382  \n",
       "8618               4856678      33164  \n",
       "12011               136156      27592  \n",
       "14027              4840824      25507  \n",
       "2826               4951288      22205  \n",
       "2008               4824742      22112  \n",
       "3162               5009978      21588  \n",
       "515                1957810      20873  "
      ]
     },
     "execution_count": 92,
     "metadata": {},
     "output_type": "execute_result"
    }
   ],
   "source": [
    "ground_truth = ground_truth.assign( Frequency= s)\n",
    "ground_truth[[\"Package\", \"Version\", \"Size\", \"Dependance traces\",\"Elements involved\",\"Summing dependances\", \"Frequency\" ]].sort_values(by=\"Frequency\", ascending=False).head(10)"
   ]
  },
  {
   "cell_type": "code",
   "execution_count": 93,
   "metadata": {},
   "outputs": [
    {
     "data": {
      "text/plain": [
       "count    56997.000000\n",
       "mean        50.236030\n",
       "std        700.517587\n",
       "min          1.000000\n",
       "25%          1.000000\n",
       "50%          1.000000\n",
       "75%          3.000000\n",
       "max      48385.000000\n",
       "Name: Frequency, dtype: float64"
      ]
     },
     "execution_count": 93,
     "metadata": {},
     "output_type": "execute_result"
    }
   ],
   "source": [
    "ground_truth[\"Frequency\"].describe()"
   ]
  },
  {
   "cell_type": "code",
   "execution_count": 97,
   "metadata": {},
   "outputs": [],
   "source": [
    "ground_truth[\"Freq in %\"] = ground_truth[\"Frequency\"].map(lambda x : x/len(ground_truth) )"
   ]
  },
  {
   "cell_type": "code",
   "execution_count": 99,
   "metadata": {},
   "outputs": [
    {
     "data": {
      "text/html": [
       "<div>\n",
       "<style scoped>\n",
       "    .dataframe tbody tr th:only-of-type {\n",
       "        vertical-align: middle;\n",
       "    }\n",
       "\n",
       "    .dataframe tbody tr th {\n",
       "        vertical-align: top;\n",
       "    }\n",
       "\n",
       "    .dataframe thead th {\n",
       "        text-align: right;\n",
       "    }\n",
       "</style>\n",
       "<table border=\"1\" class=\"dataframe\">\n",
       "  <thead>\n",
       "    <tr style=\"text-align: right;\">\n",
       "      <th></th>\n",
       "      <th>Package</th>\n",
       "      <th>Version</th>\n",
       "      <th>Size</th>\n",
       "      <th>Dependance traces</th>\n",
       "      <th>Elements involved</th>\n",
       "      <th>Summing dependances</th>\n",
       "      <th>Freq in %</th>\n",
       "    </tr>\n",
       "    <tr>\n",
       "      <th>id</th>\n",
       "      <th></th>\n",
       "      <th></th>\n",
       "      <th></th>\n",
       "      <th></th>\n",
       "      <th></th>\n",
       "      <th></th>\n",
       "      <th></th>\n",
       "    </tr>\n",
       "  </thead>\n",
       "  <tbody>\n",
       "    <tr>\n",
       "      <th>751</th>\n",
       "      <td>gcc-4.9-base</td>\n",
       "      <td>4.9.3-0ubuntu4</td>\n",
       "      <td>15146</td>\n",
       "      <td>{'gcc-4.9-base : 4.9.3-0ubuntu4': {}}</td>\n",
       "      <td>1</td>\n",
       "      <td>15146</td>\n",
       "      <td>0.848904</td>\n",
       "    </tr>\n",
       "    <tr>\n",
       "      <th>2077</th>\n",
       "      <td>libgcc1</td>\n",
       "      <td>1:4.9.3-0ubuntu4</td>\n",
       "      <td>39194</td>\n",
       "      <td>{'libgcc1 : 1:4.9.3-0ubuntu4': {'gcc-4.9-base ...</td>\n",
       "      <td>3</td>\n",
       "      <td>4806878</td>\n",
       "      <td>0.848852</td>\n",
       "    </tr>\n",
       "    <tr>\n",
       "      <th>1784</th>\n",
       "      <td>libc6</td>\n",
       "      <td>2.19-0ubuntu6.14</td>\n",
       "      <td>4752538</td>\n",
       "      <td>{'libc6 : 2.19-0ubuntu6.14': {'libgcc1 : 1:4.9...</td>\n",
       "      <td>3</td>\n",
       "      <td>4806878</td>\n",
       "      <td>0.848852</td>\n",
       "    </tr>\n",
       "    <tr>\n",
       "      <th>8618</th>\n",
       "      <td>zlib1g</td>\n",
       "      <td>1:1.2.8.dfsg-1ubuntu1.1</td>\n",
       "      <td>49800</td>\n",
       "      <td>{'zlib1g : 1:1.2.8.dfsg-1ubuntu1.1': {'libc6 :...</td>\n",
       "      <td>4</td>\n",
       "      <td>4856678</td>\n",
       "      <td>0.581855</td>\n",
       "    </tr>\n",
       "    <tr>\n",
       "      <th>12011</th>\n",
       "      <td>debconf</td>\n",
       "      <td>1.5.51ubuntu2</td>\n",
       "      <td>136156</td>\n",
       "      <td>{'debconf : 1.5.51ubuntu2': {}}</td>\n",
       "      <td>1</td>\n",
       "      <td>136156</td>\n",
       "      <td>0.484096</td>\n",
       "    </tr>\n",
       "    <tr>\n",
       "      <th>14027</th>\n",
       "      <td>libbz2-1.0</td>\n",
       "      <td>1.0.6-5</td>\n",
       "      <td>33946</td>\n",
       "      <td>{'libbz2-1.0 : 1.0.6-5': {'libc6 : 2.19-0ubunt...</td>\n",
       "      <td>4</td>\n",
       "      <td>4840824</td>\n",
       "      <td>0.447515</td>\n",
       "    </tr>\n",
       "    <tr>\n",
       "      <th>2826</th>\n",
       "      <td>libpcre3</td>\n",
       "      <td>1:8.31-2ubuntu2.3</td>\n",
       "      <td>144410</td>\n",
       "      <td>{'libpcre3 : 1:8.31-2ubuntu2.3': {'libc6 : 2.1...</td>\n",
       "      <td>4</td>\n",
       "      <td>4951288</td>\n",
       "      <td>0.389582</td>\n",
       "    </tr>\n",
       "    <tr>\n",
       "      <th>2008</th>\n",
       "      <td>libffi6</td>\n",
       "      <td>3.1~rc1+r3.0.13-12ubuntu0.2</td>\n",
       "      <td>17864</td>\n",
       "      <td>{'libffi6 : 3.1~rc1+r3.0.13-12ubuntu0.2': {'li...</td>\n",
       "      <td>4</td>\n",
       "      <td>4824742</td>\n",
       "      <td>0.387950</td>\n",
       "    </tr>\n",
       "    <tr>\n",
       "      <th>3162</th>\n",
       "      <td>libselinux1</td>\n",
       "      <td>2.2.2-1ubuntu0.1</td>\n",
       "      <td>58690</td>\n",
       "      <td>{'libselinux1 : 2.2.2-1ubuntu0.1': {'libpcre3 ...</td>\n",
       "      <td>5</td>\n",
       "      <td>5009978</td>\n",
       "      <td>0.378757</td>\n",
       "    </tr>\n",
       "    <tr>\n",
       "      <th>515</th>\n",
       "      <td>dpkg</td>\n",
       "      <td>1.17.5ubuntu5.8</td>\n",
       "      <td>1957810</td>\n",
       "      <td>{'dpkg : 1.17.5ubuntu5.8': {}}</td>\n",
       "      <td>1</td>\n",
       "      <td>1957810</td>\n",
       "      <td>0.366212</td>\n",
       "    </tr>\n",
       "  </tbody>\n",
       "</table>\n",
       "</div>"
      ],
      "text/plain": [
       "            Package                      Version     Size  \\\n",
       "id                                                          \n",
       "751    gcc-4.9-base               4.9.3-0ubuntu4    15146   \n",
       "2077        libgcc1             1:4.9.3-0ubuntu4    39194   \n",
       "1784          libc6             2.19-0ubuntu6.14  4752538   \n",
       "8618         zlib1g      1:1.2.8.dfsg-1ubuntu1.1    49800   \n",
       "12011       debconf                1.5.51ubuntu2   136156   \n",
       "14027    libbz2-1.0                      1.0.6-5    33946   \n",
       "2826       libpcre3            1:8.31-2ubuntu2.3   144410   \n",
       "2008        libffi6  3.1~rc1+r3.0.13-12ubuntu0.2    17864   \n",
       "3162    libselinux1             2.2.2-1ubuntu0.1    58690   \n",
       "515            dpkg              1.17.5ubuntu5.8  1957810   \n",
       "\n",
       "                                       Dependance traces  Elements involved  \\\n",
       "id                                                                            \n",
       "751                {'gcc-4.9-base : 4.9.3-0ubuntu4': {}}                  1   \n",
       "2077   {'libgcc1 : 1:4.9.3-0ubuntu4': {'gcc-4.9-base ...                  3   \n",
       "1784   {'libc6 : 2.19-0ubuntu6.14': {'libgcc1 : 1:4.9...                  3   \n",
       "8618   {'zlib1g : 1:1.2.8.dfsg-1ubuntu1.1': {'libc6 :...                  4   \n",
       "12011                    {'debconf : 1.5.51ubuntu2': {}}                  1   \n",
       "14027  {'libbz2-1.0 : 1.0.6-5': {'libc6 : 2.19-0ubunt...                  4   \n",
       "2826   {'libpcre3 : 1:8.31-2ubuntu2.3': {'libc6 : 2.1...                  4   \n",
       "2008   {'libffi6 : 3.1~rc1+r3.0.13-12ubuntu0.2': {'li...                  4   \n",
       "3162   {'libselinux1 : 2.2.2-1ubuntu0.1': {'libpcre3 ...                  5   \n",
       "515                       {'dpkg : 1.17.5ubuntu5.8': {}}                  1   \n",
       "\n",
       "       Summing dependances  Freq in %  \n",
       "id                                     \n",
       "751                  15146   0.848904  \n",
       "2077               4806878   0.848852  \n",
       "1784               4806878   0.848852  \n",
       "8618               4856678   0.581855  \n",
       "12011               136156   0.484096  \n",
       "14027              4840824   0.447515  \n",
       "2826               4951288   0.389582  \n",
       "2008               4824742   0.387950  \n",
       "3162               5009978   0.378757  \n",
       "515                1957810   0.366212  "
      ]
     },
     "execution_count": 99,
     "metadata": {},
     "output_type": "execute_result"
    }
   ],
   "source": [
    "ground_truth[[\"Package\", \"Version\", \"Size\", \"Dependance traces\",\"Elements involved\",\"Summing dependances\", \"Freq in %\" ]].sort_values(by=\"Freq in %\", ascending=False).head(10)"
   ]
  },
  {
   "cell_type": "code",
   "execution_count": 107,
   "metadata": {},
   "outputs": [
    {
     "name": "stdout",
     "output_type": "stream",
     "text": [
      "208 Package Involved in more than 5% \n",
      "139 Package Involved in more than 10% \n",
      "77 Package Involved in more than 15% \n",
      "57 Package Involved in more than 20% \n"
     ]
    }
   ],
   "source": [
    "f1 = len(ground_truth[ground_truth[\"Freq in %\"] > 0.05])\n",
    "f2 = len(ground_truth[ground_truth[\"Freq in %\"] > 0.1])\n",
    "f3 = len(ground_truth[ground_truth[\"Freq in %\"] > 0.15])\n",
    "f4 = len(ground_truth[ground_truth[\"Freq in %\"] > 0.2])\n",
    "\n",
    "\n",
    "print(\"{} Package Involved in more than 5% \".format(f1))\n",
    "print(\"{} Package Involved in more than 10% \".format(f2))\n",
    "print(\"{} Package Involved in more than 15% \".format(f3))\n",
    "print(\"{} Package Involved in more than 20% \".format(f4))"
   ]
  },
  {
   "cell_type": "code",
   "execution_count": 8,
   "metadata": {},
   "outputs": [
    {
     "name": "stdout",
     "output_type": "stream",
     "text": [
      "Attack_vizualization.ipynb   cleaned_and_expanded_gt_Final.csv  matching.py\r\n",
      "captured_no_dependances.csv  clean_substract_gt.py              packets\r\n",
      "cleaned_and_expanded_gt.csv  csv_to_sql.py                      ubuntu_captures\r\n"
     ]
    }
   ],
   "source": [
    "ls"
   ]
  },
  {
   "cell_type": "code",
   "execution_count": 3,
   "metadata": {},
   "outputs": [],
   "source": [
    "gt = pd.read_csv(\"../attack/cleaned_and_expanded_gt.csv\")\n",
    "gt = gt.set_index(\"id\")"
   ]
  },
  {
   "cell_type": "code",
   "execution_count": 21,
   "metadata": {
    "scrolled": true
   },
   "outputs": [
    {
     "data": {
      "text/html": [
       "<div>\n",
       "<style scoped>\n",
       "    .dataframe tbody tr th:only-of-type {\n",
       "        vertical-align: middle;\n",
       "    }\n",
       "\n",
       "    .dataframe tbody tr th {\n",
       "        vertical-align: top;\n",
       "    }\n",
       "\n",
       "    .dataframe thead th {\n",
       "        text-align: right;\n",
       "    }\n",
       "</style>\n",
       "<table border=\"1\" class=\"dataframe\">\n",
       "  <thead>\n",
       "    <tr style=\"text-align: right;\">\n",
       "      <th></th>\n",
       "      <th>Package</th>\n",
       "      <th>Version</th>\n",
       "      <th>Size</th>\n",
       "      <th>Filename</th>\n",
       "      <th>Summing dependances</th>\n",
       "      <th>Elements involved</th>\n",
       "      <th>Childrens</th>\n",
       "      <th>Frequency</th>\n",
       "      <th>Freq in p</th>\n",
       "    </tr>\n",
       "    <tr>\n",
       "      <th>id</th>\n",
       "      <th></th>\n",
       "      <th></th>\n",
       "      <th></th>\n",
       "      <th></th>\n",
       "      <th></th>\n",
       "      <th></th>\n",
       "      <th></th>\n",
       "      <th></th>\n",
       "      <th></th>\n",
       "    </tr>\n",
       "  </thead>\n",
       "  <tbody>\n",
       "    <tr>\n",
       "      <th>11665</th>\n",
       "      <td>anthy-common</td>\n",
       "      <td>9100h-23ubuntu2</td>\n",
       "      <td>2505838</td>\n",
       "      <td>pool/main/a/anthy/anthy-common_9100h-23ubuntu2...</td>\n",
       "      <td>2505838.0</td>\n",
       "      <td>1</td>\n",
       "      <td>{11665}</td>\n",
       "      <td>15</td>\n",
       "      <td>0.000263</td>\n",
       "    </tr>\n",
       "    <tr>\n",
       "      <th>29129</th>\n",
       "      <td>kdepim-doc</td>\n",
       "      <td>4:4.13.0-0ubuntu1</td>\n",
       "      <td>5009690</td>\n",
       "      <td>pool/universe/k/kdepim/kdepim-doc_4.13.0-0ubun...</td>\n",
       "      <td>5009690.0</td>\n",
       "      <td>1</td>\n",
       "      <td>{29129}</td>\n",
       "      <td>1</td>\n",
       "      <td>0.000018</td>\n",
       "    </tr>\n",
       "    <tr>\n",
       "      <th>17217</th>\n",
       "      <td>libwebkitgtk-1.0-common</td>\n",
       "      <td>2.4.0-1ubuntu2</td>\n",
       "      <td>107038</td>\n",
       "      <td>pool/main/w/webkitgtk/libwebkitgtk-1.0-common_...</td>\n",
       "      <td>107038.0</td>\n",
       "      <td>1</td>\n",
       "      <td>{17217}</td>\n",
       "      <td>1</td>\n",
       "      <td>0.000018</td>\n",
       "    </tr>\n",
       "    <tr>\n",
       "      <th>53329</th>\n",
       "      <td>sword-text-tr</td>\n",
       "      <td>1.2-0ubuntu2</td>\n",
       "      <td>1275362</td>\n",
       "      <td>pool/universe/s/sword-text-tr/sword-text-tr_1....</td>\n",
       "      <td>1275362.0</td>\n",
       "      <td>1</td>\n",
       "      <td>{53329}</td>\n",
       "      <td>1</td>\n",
       "      <td>0.000018</td>\n",
       "    </tr>\n",
       "    <tr>\n",
       "      <th>17220</th>\n",
       "      <td>libwebkitgtk-3.0-common</td>\n",
       "      <td>2.4.0-1ubuntu2</td>\n",
       "      <td>106726</td>\n",
       "      <td>pool/main/w/webkitgtk/libwebkitgtk-3.0-common_...</td>\n",
       "      <td>106726.0</td>\n",
       "      <td>1</td>\n",
       "      <td>{17220}</td>\n",
       "      <td>1</td>\n",
       "      <td>0.000018</td>\n",
       "    </tr>\n",
       "    <tr>\n",
       "      <th>53328</th>\n",
       "      <td>sword-text-swahili</td>\n",
       "      <td>1.1-0ubuntu1</td>\n",
       "      <td>368046</td>\n",
       "      <td>pool/universe/s/sword-text-swahili/sword-text-...</td>\n",
       "      <td>368046.0</td>\n",
       "      <td>1</td>\n",
       "      <td>{53328}</td>\n",
       "      <td>1</td>\n",
       "      <td>0.000018</td>\n",
       "    </tr>\n",
       "    <tr>\n",
       "      <th>17222</th>\n",
       "      <td>libwebkitgtk-common-dev</td>\n",
       "      <td>2.4.0-1ubuntu2</td>\n",
       "      <td>61680</td>\n",
       "      <td>pool/main/w/webkitgtk/libwebkitgtk-common-dev_...</td>\n",
       "      <td>61680.0</td>\n",
       "      <td>1</td>\n",
       "      <td>{17222}</td>\n",
       "      <td>3</td>\n",
       "      <td>0.000053</td>\n",
       "    </tr>\n",
       "    <tr>\n",
       "      <th>46727</th>\n",
       "      <td>outdoors-theme</td>\n",
       "      <td>0.1-0ubuntu2</td>\n",
       "      <td>9330</td>\n",
       "      <td>pool/universe/o/outdoors-theme/outdoors-theme_...</td>\n",
       "      <td>9330.0</td>\n",
       "      <td>1</td>\n",
       "      <td>{46727}</td>\n",
       "      <td>1</td>\n",
       "      <td>0.000018</td>\n",
       "    </tr>\n",
       "    <tr>\n",
       "      <th>39173</th>\n",
       "      <td>libnetbeans-cvsclient-java</td>\n",
       "      <td>6.5-2</td>\n",
       "      <td>348516</td>\n",
       "      <td>pool/universe/n/netbeans-cvsclient/libnetbeans...</td>\n",
       "      <td>348516.0</td>\n",
       "      <td>1</td>\n",
       "      <td>{39173}</td>\n",
       "      <td>97</td>\n",
       "      <td>0.001702</td>\n",
       "    </tr>\n",
       "    <tr>\n",
       "      <th>46725</th>\n",
       "      <td>otrs2-doc-en</td>\n",
       "      <td>20131212-1</td>\n",
       "      <td>5642042</td>\n",
       "      <td>pool/universe/o/otrs2-doc/otrs2-doc-en_2013121...</td>\n",
       "      <td>5642042.0</td>\n",
       "      <td>1</td>\n",
       "      <td>{46725}</td>\n",
       "      <td>1</td>\n",
       "      <td>0.000018</td>\n",
       "    </tr>\n",
       "    <tr>\n",
       "      <th>29123</th>\n",
       "      <td>kdenlive-data</td>\n",
       "      <td>0.9.6-5ubuntu1</td>\n",
       "      <td>3799714</td>\n",
       "      <td>pool/universe/k/kdenlive/kdenlive-data_0.9.6-5...</td>\n",
       "      <td>3799714.0</td>\n",
       "      <td>1</td>\n",
       "      <td>{29123}</td>\n",
       "      <td>3</td>\n",
       "      <td>0.000053</td>\n",
       "    </tr>\n",
       "    <tr>\n",
       "      <th>17232</th>\n",
       "      <td>libwibble-dev</td>\n",
       "      <td>1.1-1</td>\n",
       "      <td>1929560</td>\n",
       "      <td>pool/main/libw/libwibble/libwibble-dev_1.1-1_a...</td>\n",
       "      <td>1929560.0</td>\n",
       "      <td>1</td>\n",
       "      <td>{17232}</td>\n",
       "      <td>3</td>\n",
       "      <td>0.000053</td>\n",
       "    </tr>\n",
       "    <tr>\n",
       "      <th>49460</th>\n",
       "      <td>python-pytest-instafail-doc</td>\n",
       "      <td>0.1.0-1</td>\n",
       "      <td>5134</td>\n",
       "      <td>pool/universe/p/pytest-instafail/python-pytest...</td>\n",
       "      <td>5134.0</td>\n",
       "      <td>1</td>\n",
       "      <td>{49460}</td>\n",
       "      <td>1</td>\n",
       "      <td>0.000018</td>\n",
       "    </tr>\n",
       "    <tr>\n",
       "      <th>17236</th>\n",
       "      <td>libwmf-doc</td>\n",
       "      <td>0.2.8.4-10.3ubuntu1</td>\n",
       "      <td>290942</td>\n",
       "      <td>pool/main/libw/libwmf/libwmf-doc_0.2.8.4-10.3u...</td>\n",
       "      <td>290942.0</td>\n",
       "      <td>1</td>\n",
       "      <td>{17236}</td>\n",
       "      <td>1</td>\n",
       "      <td>0.000018</td>\n",
       "    </tr>\n",
       "    <tr>\n",
       "      <th>53327</th>\n",
       "      <td>sword-text-sparv</td>\n",
       "      <td>1.6-1</td>\n",
       "      <td>1551406</td>\n",
       "      <td>pool/universe/s/sword-text-sparv/sword-text-sp...</td>\n",
       "      <td>1551406.0</td>\n",
       "      <td>1</td>\n",
       "      <td>{53327}</td>\n",
       "      <td>1</td>\n",
       "      <td>0.000018</td>\n",
       "    </tr>\n",
       "    <tr>\n",
       "      <th>29106</th>\n",
       "      <td>kdegames-mahjongg-data</td>\n",
       "      <td>4:4.13.0-0ubuntu1</td>\n",
       "      <td>1620408</td>\n",
       "      <td>pool/universe/libk/libkmahjongg/kdegames-mahjo...</td>\n",
       "      <td>1620408.0</td>\n",
       "      <td>1</td>\n",
       "      <td>{29106}</td>\n",
       "      <td>1</td>\n",
       "      <td>0.000018</td>\n",
       "    </tr>\n",
       "    <tr>\n",
       "      <th>53326</th>\n",
       "      <td>sword-text-kjv</td>\n",
       "      <td>2.5-1</td>\n",
       "      <td>3553432</td>\n",
       "      <td>pool/universe/s/sword-text-kjv/sword-text-kjv_...</td>\n",
       "      <td>3553432.0</td>\n",
       "      <td>1</td>\n",
       "      <td>{53326}</td>\n",
       "      <td>1</td>\n",
       "      <td>0.000018</td>\n",
       "    </tr>\n",
       "    <tr>\n",
       "      <th>46724</th>\n",
       "      <td>otrs2-doc-de</td>\n",
       "      <td>20131212-1</td>\n",
       "      <td>5054872</td>\n",
       "      <td>pool/universe/o/otrs2-doc/otrs2-doc-de_2013121...</td>\n",
       "      <td>5054872.0</td>\n",
       "      <td>1</td>\n",
       "      <td>{46724}</td>\n",
       "      <td>1</td>\n",
       "      <td>0.000018</td>\n",
       "    </tr>\n",
       "    <tr>\n",
       "      <th>17240</th>\n",
       "      <td>libwnck-3-common</td>\n",
       "      <td>3.4.7-0ubuntu3</td>\n",
       "      <td>18728</td>\n",
       "      <td>pool/main/libw/libwnck3/libwnck-3-common_3.4.7...</td>\n",
       "      <td>18728.0</td>\n",
       "      <td>1</td>\n",
       "      <td>{17240}</td>\n",
       "      <td>1</td>\n",
       "      <td>0.000018</td>\n",
       "    </tr>\n",
       "    <tr>\n",
       "      <th>53325</th>\n",
       "      <td>sword-text-gerlut1545</td>\n",
       "      <td>1.2-0ubuntu2</td>\n",
       "      <td>1466148</td>\n",
       "      <td>pool/universe/s/sword-text-gerlut1545/sword-te...</td>\n",
       "      <td>1466148.0</td>\n",
       "      <td>1</td>\n",
       "      <td>{53325}</td>\n",
       "      <td>1</td>\n",
       "      <td>0.000018</td>\n",
       "    </tr>\n",
       "    <tr>\n",
       "      <th>39205</th>\n",
       "      <td>libnetty-java</td>\n",
       "      <td>1:3.2.6.Final-2</td>\n",
       "      <td>671370</td>\n",
       "      <td>pool/universe/n/netty/libnetty-java_3.2.6.Fina...</td>\n",
       "      <td>671370.0</td>\n",
       "      <td>1</td>\n",
       "      <td>{39205}</td>\n",
       "      <td>15</td>\n",
       "      <td>0.000263</td>\n",
       "    </tr>\n",
       "    <tr>\n",
       "      <th>39206</th>\n",
       "      <td>libnetty3.1-java</td>\n",
       "      <td>3.1.0.CR1-1</td>\n",
       "      <td>517624</td>\n",
       "      <td>pool/universe/n/netty3.1/libnetty3.1-java_3.1....</td>\n",
       "      <td>517624.0</td>\n",
       "      <td>1</td>\n",
       "      <td>{39206}</td>\n",
       "      <td>1</td>\n",
       "      <td>0.000018</td>\n",
       "    </tr>\n",
       "    <tr>\n",
       "      <th>17242</th>\n",
       "      <td>libwnck-common</td>\n",
       "      <td>1:2.30.7-0ubuntu4</td>\n",
       "      <td>16378</td>\n",
       "      <td>pool/main/libw/libwnck/libwnck-common_2.30.7-0...</td>\n",
       "      <td>16378.0</td>\n",
       "      <td>1</td>\n",
       "      <td>{17242}</td>\n",
       "      <td>161</td>\n",
       "      <td>0.002825</td>\n",
       "    </tr>\n",
       "    <tr>\n",
       "      <th>53324</th>\n",
       "      <td>sword-text-dutsvv</td>\n",
       "      <td>1.4-0ubuntu1</td>\n",
       "      <td>1536900</td>\n",
       "      <td>pool/universe/s/sword-text-dutsvv/sword-text-d...</td>\n",
       "      <td>1536900.0</td>\n",
       "      <td>1</td>\n",
       "      <td>{53324}</td>\n",
       "      <td>1</td>\n",
       "      <td>0.000018</td>\n",
       "    </tr>\n",
       "    <tr>\n",
       "      <th>53330</th>\n",
       "      <td>sword-text-web</td>\n",
       "      <td>1.4-3</td>\n",
       "      <td>1368528</td>\n",
       "      <td>pool/universe/s/sword-text-web/sword-text-web_...</td>\n",
       "      <td>1368528.0</td>\n",
       "      <td>1</td>\n",
       "      <td>{53330}</td>\n",
       "      <td>1</td>\n",
       "      <td>0.000018</td>\n",
       "    </tr>\n",
       "    <tr>\n",
       "      <th>46730</th>\n",
       "      <td>overgod-data</td>\n",
       "      <td>1.0-4</td>\n",
       "      <td>1579224</td>\n",
       "      <td>pool/universe/o/overgod/overgod-data_1.0-4_all...</td>\n",
       "      <td>1579224.0</td>\n",
       "      <td>1</td>\n",
       "      <td>{46730}</td>\n",
       "      <td>2</td>\n",
       "      <td>0.000035</td>\n",
       "    </tr>\n",
       "    <tr>\n",
       "      <th>53331</th>\n",
       "      <td>sword-text-wlc</td>\n",
       "      <td>1.3-0ubuntu1</td>\n",
       "      <td>2002512</td>\n",
       "      <td>pool/universe/s/sword-text-wlc/sword-text-wlc_...</td>\n",
       "      <td>2002512.0</td>\n",
       "      <td>1</td>\n",
       "      <td>{53331}</td>\n",
       "      <td>1</td>\n",
       "      <td>0.000018</td>\n",
       "    </tr>\n",
       "    <tr>\n",
       "      <th>29132</th>\n",
       "      <td>kdepim-mobileui-data</td>\n",
       "      <td>4:4.13.0-0ubuntu1</td>\n",
       "      <td>956276</td>\n",
       "      <td>pool/universe/k/kdepim/kdepim-mobileui-data_4....</td>\n",
       "      <td>956276.0</td>\n",
       "      <td>1</td>\n",
       "      <td>{29132}</td>\n",
       "      <td>7</td>\n",
       "      <td>0.000123</td>\n",
       "    </tr>\n",
       "    <tr>\n",
       "      <th>46748</th>\n",
       "      <td>owncloud-client-l10n</td>\n",
       "      <td>1.5.0+dfsg-4ubuntu1</td>\n",
       "      <td>163404</td>\n",
       "      <td>pool/universe/o/owncloud-client/owncloud-clien...</td>\n",
       "      <td>163404.0</td>\n",
       "      <td>1</td>\n",
       "      <td>{46748}</td>\n",
       "      <td>4</td>\n",
       "      <td>0.000070</td>\n",
       "    </tr>\n",
       "    <tr>\n",
       "      <th>29201</th>\n",
       "      <td>kernel-patch-scripts</td>\n",
       "      <td>0.99.36+nmu1</td>\n",
       "      <td>6362</td>\n",
       "      <td>pool/universe/d/dh-kpatches/kernel-patch-scrip...</td>\n",
       "      <td>6362.0</td>\n",
       "      <td>1</td>\n",
       "      <td>{29201}</td>\n",
       "      <td>1</td>\n",
       "      <td>0.000018</td>\n",
       "    </tr>\n",
       "    <tr>\n",
       "      <th>...</th>\n",
       "      <td>...</td>\n",
       "      <td>...</td>\n",
       "      <td>...</td>\n",
       "      <td>...</td>\n",
       "      <td>...</td>\n",
       "      <td>...</td>\n",
       "      <td>...</td>\n",
       "      <td>...</td>\n",
       "      <td>...</td>\n",
       "    </tr>\n",
       "    <tr>\n",
       "      <th>39447</th>\n",
       "      <td>libodn-ocaml-dev</td>\n",
       "      <td>0.0.11-1build1</td>\n",
       "      <td>28804</td>\n",
       "      <td>pool/universe/o/ocaml-data-notation/libodn-oca...</td>\n",
       "      <td>28804.0</td>\n",
       "      <td>1</td>\n",
       "      <td>{39447}</td>\n",
       "      <td>1</td>\n",
       "      <td>0.000018</td>\n",
       "    </tr>\n",
       "    <tr>\n",
       "      <th>39402</th>\n",
       "      <td>libocamlgraph-viewer-ocaml-dev</td>\n",
       "      <td>1.8.3-1build1</td>\n",
       "      <td>184678</td>\n",
       "      <td>pool/universe/o/ocamlgraph/libocamlgraph-viewe...</td>\n",
       "      <td>184678.0</td>\n",
       "      <td>1</td>\n",
       "      <td>{39402}</td>\n",
       "      <td>1</td>\n",
       "      <td>0.000018</td>\n",
       "    </tr>\n",
       "    <tr>\n",
       "      <th>39345</th>\n",
       "      <td>liboasis-ocaml-dev</td>\n",
       "      <td>0.3.0-4</td>\n",
       "      <td>445342</td>\n",
       "      <td>pool/universe/o/oasis/liboasis-ocaml-dev_0.3.0...</td>\n",
       "      <td>445342.0</td>\n",
       "      <td>1</td>\n",
       "      <td>{39345}</td>\n",
       "      <td>2</td>\n",
       "      <td>0.000035</td>\n",
       "    </tr>\n",
       "    <tr>\n",
       "      <th>41919</th>\n",
       "      <td>libssreflect-ocaml-dev</td>\n",
       "      <td>1.5~rc1-3</td>\n",
       "      <td>61652</td>\n",
       "      <td>pool/universe/s/ssreflect/libssreflect-ocaml-d...</td>\n",
       "      <td>61652.0</td>\n",
       "      <td>1</td>\n",
       "      <td>{41919}</td>\n",
       "      <td>1</td>\n",
       "      <td>0.000018</td>\n",
       "    </tr>\n",
       "    <tr>\n",
       "      <th>41207</th>\n",
       "      <td>librss-ocaml-dev</td>\n",
       "      <td>2.2.1-3build1</td>\n",
       "      <td>38080</td>\n",
       "      <td>pool/universe/o/ocamlrss/librss-ocaml-dev_2.2....</td>\n",
       "      <td>38080.0</td>\n",
       "      <td>1</td>\n",
       "      <td>{41207}</td>\n",
       "      <td>1</td>\n",
       "      <td>0.000018</td>\n",
       "    </tr>\n",
       "    <tr>\n",
       "      <th>32661</th>\n",
       "      <td>libexpect-ocaml-dev</td>\n",
       "      <td>0.0.3-1build1</td>\n",
       "      <td>18232</td>\n",
       "      <td>pool/universe/o/ocaml-expect/libexpect-ocaml-d...</td>\n",
       "      <td>18232.0</td>\n",
       "      <td>1</td>\n",
       "      <td>{32661}</td>\n",
       "      <td>1</td>\n",
       "      <td>0.000018</td>\n",
       "    </tr>\n",
       "    <tr>\n",
       "      <th>35068</th>\n",
       "      <td>libghc-tasty-hunit-dev</td>\n",
       "      <td>0.4.1-1</td>\n",
       "      <td>7494</td>\n",
       "      <td>pool/universe/h/haskell-tasty-hunit/libghc-tas...</td>\n",
       "      <td>7494.0</td>\n",
       "      <td>1</td>\n",
       "      <td>{35068}</td>\n",
       "      <td>2</td>\n",
       "      <td>0.000035</td>\n",
       "    </tr>\n",
       "    <tr>\n",
       "      <th>38435</th>\n",
       "      <td>libmikmatch-ocaml-dev</td>\n",
       "      <td>1.0.6-4</td>\n",
       "      <td>415246</td>\n",
       "      <td>pool/universe/m/mikmatch/libmikmatch-ocaml-dev...</td>\n",
       "      <td>415246.0</td>\n",
       "      <td>1</td>\n",
       "      <td>{38435}</td>\n",
       "      <td>1</td>\n",
       "      <td>0.000018</td>\n",
       "    </tr>\n",
       "    <tr>\n",
       "      <th>29858</th>\n",
       "      <td>libaac-tactics-ocaml-dev</td>\n",
       "      <td>0.4-2</td>\n",
       "      <td>43922</td>\n",
       "      <td>pool/universe/a/aac-tactics/libaac-tactics-oca...</td>\n",
       "      <td>43922.0</td>\n",
       "      <td>1</td>\n",
       "      <td>{29858}</td>\n",
       "      <td>1</td>\n",
       "      <td>0.000018</td>\n",
       "    </tr>\n",
       "    <tr>\n",
       "      <th>38002</th>\n",
       "      <td>liblwt-ssl-ocaml-dev</td>\n",
       "      <td>2.4.3-4</td>\n",
       "      <td>11656</td>\n",
       "      <td>pool/universe/l/lwt/liblwt-ssl-ocaml-dev_2.4.3...</td>\n",
       "      <td>11656.0</td>\n",
       "      <td>1</td>\n",
       "      <td>{38002}</td>\n",
       "      <td>1</td>\n",
       "      <td>0.000018</td>\n",
       "    </tr>\n",
       "    <tr>\n",
       "      <th>34828</th>\n",
       "      <td>libghc-regex-pcre-dev</td>\n",
       "      <td>0.94.4-2</td>\n",
       "      <td>164178</td>\n",
       "      <td>pool/universe/h/haskell-regex-pcre/libghc-rege...</td>\n",
       "      <td>164178.0</td>\n",
       "      <td>1</td>\n",
       "      <td>{34828}</td>\n",
       "      <td>2</td>\n",
       "      <td>0.000035</td>\n",
       "    </tr>\n",
       "    <tr>\n",
       "      <th>34822</th>\n",
       "      <td>libghc-regex-base-dev</td>\n",
       "      <td>0.93.2-4</td>\n",
       "      <td>82308</td>\n",
       "      <td>pool/universe/h/haskell-regex-base/libghc-rege...</td>\n",
       "      <td>82308.0</td>\n",
       "      <td>1</td>\n",
       "      <td>{34822}</td>\n",
       "      <td>4</td>\n",
       "      <td>0.000070</td>\n",
       "    </tr>\n",
       "    <tr>\n",
       "      <th>42784</th>\n",
       "      <td>libtyxml-ocaml-dev</td>\n",
       "      <td>2.2.0-4</td>\n",
       "      <td>404342</td>\n",
       "      <td>pool/universe/t/tyxml/libtyxml-ocaml-dev_2.2.0...</td>\n",
       "      <td>404342.0</td>\n",
       "      <td>1</td>\n",
       "      <td>{42784}</td>\n",
       "      <td>1</td>\n",
       "      <td>0.000018</td>\n",
       "    </tr>\n",
       "    <tr>\n",
       "      <th>35072</th>\n",
       "      <td>libghc-tasty-quickcheck-dev</td>\n",
       "      <td>0.3.1-1build1</td>\n",
       "      <td>30840</td>\n",
       "      <td>pool/universe/h/haskell-tasty-quickcheck/libgh...</td>\n",
       "      <td>30840.0</td>\n",
       "      <td>1</td>\n",
       "      <td>{35072}</td>\n",
       "      <td>2</td>\n",
       "      <td>0.000035</td>\n",
       "    </tr>\n",
       "    <tr>\n",
       "      <th>34371</th>\n",
       "      <td>libghc-iproute-dev</td>\n",
       "      <td>1.2.11-1build1</td>\n",
       "      <td>89244</td>\n",
       "      <td>pool/universe/h/haskell-iproute/libghc-iproute...</td>\n",
       "      <td>89244.0</td>\n",
       "      <td>1</td>\n",
       "      <td>{34371}</td>\n",
       "      <td>2</td>\n",
       "      <td>0.000035</td>\n",
       "    </tr>\n",
       "    <tr>\n",
       "      <th>37617</th>\n",
       "      <td>liblablgtk-extras-ocaml-dev</td>\n",
       "      <td>1.4-2</td>\n",
       "      <td>343398</td>\n",
       "      <td>pool/universe/l/lablgtk-extras/liblablgtk-extr...</td>\n",
       "      <td>343398.0</td>\n",
       "      <td>1</td>\n",
       "      <td>{37617}</td>\n",
       "      <td>1</td>\n",
       "      <td>0.000018</td>\n",
       "    </tr>\n",
       "    <tr>\n",
       "      <th>30536</th>\n",
       "      <td>libben-ocaml-dev</td>\n",
       "      <td>0.6.6ubuntu2</td>\n",
       "      <td>95146</td>\n",
       "      <td>pool/universe/b/ben/libben-ocaml-dev_0.6.6ubun...</td>\n",
       "      <td>95146.0</td>\n",
       "      <td>1</td>\n",
       "      <td>{30536}</td>\n",
       "      <td>1</td>\n",
       "      <td>0.000018</td>\n",
       "    </tr>\n",
       "    <tr>\n",
       "      <th>34837</th>\n",
       "      <td>libghc-regex-tdfa-utf8-dev</td>\n",
       "      <td>1.0-7</td>\n",
       "      <td>36246</td>\n",
       "      <td>pool/universe/h/haskell-regex-tdfa-utf8/libghc...</td>\n",
       "      <td>36246.0</td>\n",
       "      <td>1</td>\n",
       "      <td>{34837}</td>\n",
       "      <td>2</td>\n",
       "      <td>0.000035</td>\n",
       "    </tr>\n",
       "    <tr>\n",
       "      <th>33963</th>\n",
       "      <td>libghc-ftphs-dev</td>\n",
       "      <td>1.0.9.1-1</td>\n",
       "      <td>186294</td>\n",
       "      <td>pool/universe/f/ftphs/libghc-ftphs-dev_1.0.9.1...</td>\n",
       "      <td>186294.0</td>\n",
       "      <td>1</td>\n",
       "      <td>{33963}</td>\n",
       "      <td>2</td>\n",
       "      <td>0.000035</td>\n",
       "    </tr>\n",
       "    <tr>\n",
       "      <th>39398</th>\n",
       "      <td>libobus-ocaml-dev</td>\n",
       "      <td>1.1.5-3build1</td>\n",
       "      <td>798922</td>\n",
       "      <td>pool/universe/o/obus/libobus-ocaml-dev_1.1.5-3...</td>\n",
       "      <td>798922.0</td>\n",
       "      <td>1</td>\n",
       "      <td>{39398}</td>\n",
       "      <td>1</td>\n",
       "      <td>0.000018</td>\n",
       "    </tr>\n",
       "    <tr>\n",
       "      <th>34389</th>\n",
       "      <td>libghc-json-dev</td>\n",
       "      <td>0.5-4build1</td>\n",
       "      <td>321252</td>\n",
       "      <td>pool/universe/h/haskell-json/libghc-json-dev_0...</td>\n",
       "      <td>321252.0</td>\n",
       "      <td>1</td>\n",
       "      <td>{34389}</td>\n",
       "      <td>2</td>\n",
       "      <td>0.000035</td>\n",
       "    </tr>\n",
       "    <tr>\n",
       "      <th>34834</th>\n",
       "      <td>libghc-regex-tdfa-dev</td>\n",
       "      <td>1.1.8-4build1</td>\n",
       "      <td>3323918</td>\n",
       "      <td>pool/universe/h/haskell-regex-tdfa/libghc-rege...</td>\n",
       "      <td>3323918.0</td>\n",
       "      <td>1</td>\n",
       "      <td>{34834}</td>\n",
       "      <td>2</td>\n",
       "      <td>0.000035</td>\n",
       "    </tr>\n",
       "    <tr>\n",
       "      <th>34714</th>\n",
       "      <td>libghc-pointed-dev</td>\n",
       "      <td>4.0-1</td>\n",
       "      <td>19628</td>\n",
       "      <td>pool/universe/h/haskell-pointed/libghc-pointed...</td>\n",
       "      <td>19628.0</td>\n",
       "      <td>1</td>\n",
       "      <td>{34714}</td>\n",
       "      <td>2</td>\n",
       "      <td>0.000035</td>\n",
       "    </tr>\n",
       "    <tr>\n",
       "      <th>34401</th>\n",
       "      <td>libghc-language-c-dev</td>\n",
       "      <td>0.4.2-4build1</td>\n",
       "      <td>2841546</td>\n",
       "      <td>pool/universe/h/haskell-language-c/libghc-lang...</td>\n",
       "      <td>2841546.0</td>\n",
       "      <td>1</td>\n",
       "      <td>{34401}</td>\n",
       "      <td>2</td>\n",
       "      <td>0.000035</td>\n",
       "    </tr>\n",
       "    <tr>\n",
       "      <th>35075</th>\n",
       "      <td>libghc-tasty-rerun-dev</td>\n",
       "      <td>1.0.1-1</td>\n",
       "      <td>34772</td>\n",
       "      <td>pool/universe/h/haskell-tasty-rerun/libghc-tas...</td>\n",
       "      <td>34772.0</td>\n",
       "      <td>1</td>\n",
       "      <td>{35075}</td>\n",
       "      <td>2</td>\n",
       "      <td>0.000035</td>\n",
       "    </tr>\n",
       "    <tr>\n",
       "      <th>35061</th>\n",
       "      <td>libghc-tasty-dev</td>\n",
       "      <td>0.7-1</td>\n",
       "      <td>98038</td>\n",
       "      <td>pool/universe/h/haskell-tasty/libghc-tasty-dev...</td>\n",
       "      <td>98038.0</td>\n",
       "      <td>1</td>\n",
       "      <td>{35061}</td>\n",
       "      <td>2</td>\n",
       "      <td>0.000035</td>\n",
       "    </tr>\n",
       "    <tr>\n",
       "      <th>33839</th>\n",
       "      <td>libghc-dns-dev</td>\n",
       "      <td>1.0.0-1build2</td>\n",
       "      <td>141272</td>\n",
       "      <td>pool/universe/h/haskell-dns/libghc-dns-dev_1.0...</td>\n",
       "      <td>141272.0</td>\n",
       "      <td>1</td>\n",
       "      <td>{33839}</td>\n",
       "      <td>2</td>\n",
       "      <td>0.000035</td>\n",
       "    </tr>\n",
       "    <tr>\n",
       "      <th>34801</th>\n",
       "      <td>libghc-reducers-dev</td>\n",
       "      <td>3.10.1.1-1</td>\n",
       "      <td>164264</td>\n",
       "      <td>pool/universe/h/haskell-reducers/libghc-reduce...</td>\n",
       "      <td>164264.0</td>\n",
       "      <td>1</td>\n",
       "      <td>{34801}</td>\n",
       "      <td>2</td>\n",
       "      <td>0.000035</td>\n",
       "    </tr>\n",
       "    <tr>\n",
       "      <th>32487</th>\n",
       "      <td>libeliom-ocaml-dev</td>\n",
       "      <td>3.0.3-4build2</td>\n",
       "      <td>1014154</td>\n",
       "      <td>pool/universe/e/eliom/libeliom-ocaml-dev_3.0.3...</td>\n",
       "      <td>1014154.0</td>\n",
       "      <td>1</td>\n",
       "      <td>{32487}</td>\n",
       "      <td>2</td>\n",
       "      <td>0.000035</td>\n",
       "    </tr>\n",
       "    <tr>\n",
       "      <th>33397</th>\n",
       "      <td>libghc-agda-dev</td>\n",
       "      <td>2.3.2.2-1</td>\n",
       "      <td>13586672</td>\n",
       "      <td>pool/universe/a/agda/libghc-agda-dev_2.3.2.2-1...</td>\n",
       "      <td>13586672.0</td>\n",
       "      <td>1</td>\n",
       "      <td>{33397}</td>\n",
       "      <td>4</td>\n",
       "      <td>0.000070</td>\n",
       "    </tr>\n",
       "  </tbody>\n",
       "</table>\n",
       "<p>6315 rows × 9 columns</p>\n",
       "</div>"
      ],
      "text/plain": [
       "                              Package              Version      Size  \\\n",
       "id                                                                     \n",
       "11665                    anthy-common      9100h-23ubuntu2   2505838   \n",
       "29129                      kdepim-doc    4:4.13.0-0ubuntu1   5009690   \n",
       "17217         libwebkitgtk-1.0-common       2.4.0-1ubuntu2    107038   \n",
       "53329                   sword-text-tr         1.2-0ubuntu2   1275362   \n",
       "17220         libwebkitgtk-3.0-common       2.4.0-1ubuntu2    106726   \n",
       "53328              sword-text-swahili         1.1-0ubuntu1    368046   \n",
       "17222         libwebkitgtk-common-dev       2.4.0-1ubuntu2     61680   \n",
       "46727                  outdoors-theme         0.1-0ubuntu2      9330   \n",
       "39173      libnetbeans-cvsclient-java                6.5-2    348516   \n",
       "46725                    otrs2-doc-en           20131212-1   5642042   \n",
       "29123                   kdenlive-data       0.9.6-5ubuntu1   3799714   \n",
       "17232                   libwibble-dev                1.1-1   1929560   \n",
       "49460     python-pytest-instafail-doc              0.1.0-1      5134   \n",
       "17236                      libwmf-doc  0.2.8.4-10.3ubuntu1    290942   \n",
       "53327                sword-text-sparv                1.6-1   1551406   \n",
       "29106          kdegames-mahjongg-data    4:4.13.0-0ubuntu1   1620408   \n",
       "53326                  sword-text-kjv                2.5-1   3553432   \n",
       "46724                    otrs2-doc-de           20131212-1   5054872   \n",
       "17240                libwnck-3-common       3.4.7-0ubuntu3     18728   \n",
       "53325           sword-text-gerlut1545         1.2-0ubuntu2   1466148   \n",
       "39205                   libnetty-java      1:3.2.6.Final-2    671370   \n",
       "39206                libnetty3.1-java          3.1.0.CR1-1    517624   \n",
       "17242                  libwnck-common    1:2.30.7-0ubuntu4     16378   \n",
       "53324               sword-text-dutsvv         1.4-0ubuntu1   1536900   \n",
       "53330                  sword-text-web                1.4-3   1368528   \n",
       "46730                    overgod-data                1.0-4   1579224   \n",
       "53331                  sword-text-wlc         1.3-0ubuntu1   2002512   \n",
       "29132            kdepim-mobileui-data    4:4.13.0-0ubuntu1    956276   \n",
       "46748            owncloud-client-l10n  1.5.0+dfsg-4ubuntu1    163404   \n",
       "29201            kernel-patch-scripts         0.99.36+nmu1      6362   \n",
       "...                               ...                  ...       ...   \n",
       "39447                libodn-ocaml-dev       0.0.11-1build1     28804   \n",
       "39402  libocamlgraph-viewer-ocaml-dev        1.8.3-1build1    184678   \n",
       "39345              liboasis-ocaml-dev              0.3.0-4    445342   \n",
       "41919          libssreflect-ocaml-dev            1.5~rc1-3     61652   \n",
       "41207                librss-ocaml-dev        2.2.1-3build1     38080   \n",
       "32661             libexpect-ocaml-dev        0.0.3-1build1     18232   \n",
       "35068          libghc-tasty-hunit-dev              0.4.1-1      7494   \n",
       "38435           libmikmatch-ocaml-dev              1.0.6-4    415246   \n",
       "29858        libaac-tactics-ocaml-dev                0.4-2     43922   \n",
       "38002            liblwt-ssl-ocaml-dev              2.4.3-4     11656   \n",
       "34828           libghc-regex-pcre-dev             0.94.4-2    164178   \n",
       "34822           libghc-regex-base-dev             0.93.2-4     82308   \n",
       "42784              libtyxml-ocaml-dev              2.2.0-4    404342   \n",
       "35072     libghc-tasty-quickcheck-dev        0.3.1-1build1     30840   \n",
       "34371              libghc-iproute-dev       1.2.11-1build1     89244   \n",
       "37617     liblablgtk-extras-ocaml-dev                1.4-2    343398   \n",
       "30536                libben-ocaml-dev         0.6.6ubuntu2     95146   \n",
       "34837      libghc-regex-tdfa-utf8-dev                1.0-7     36246   \n",
       "33963                libghc-ftphs-dev            1.0.9.1-1    186294   \n",
       "39398               libobus-ocaml-dev        1.1.5-3build1    798922   \n",
       "34389                 libghc-json-dev          0.5-4build1    321252   \n",
       "34834           libghc-regex-tdfa-dev        1.1.8-4build1   3323918   \n",
       "34714              libghc-pointed-dev                4.0-1     19628   \n",
       "34401           libghc-language-c-dev        0.4.2-4build1   2841546   \n",
       "35075          libghc-tasty-rerun-dev              1.0.1-1     34772   \n",
       "35061                libghc-tasty-dev                0.7-1     98038   \n",
       "33839                  libghc-dns-dev        1.0.0-1build2    141272   \n",
       "34801             libghc-reducers-dev           3.10.1.1-1    164264   \n",
       "32487              libeliom-ocaml-dev        3.0.3-4build2   1014154   \n",
       "33397                 libghc-agda-dev            2.3.2.2-1  13586672   \n",
       "\n",
       "                                                Filename  Summing dependances  \\\n",
       "id                                                                              \n",
       "11665  pool/main/a/anthy/anthy-common_9100h-23ubuntu2...            2505838.0   \n",
       "29129  pool/universe/k/kdepim/kdepim-doc_4.13.0-0ubun...            5009690.0   \n",
       "17217  pool/main/w/webkitgtk/libwebkitgtk-1.0-common_...             107038.0   \n",
       "53329  pool/universe/s/sword-text-tr/sword-text-tr_1....            1275362.0   \n",
       "17220  pool/main/w/webkitgtk/libwebkitgtk-3.0-common_...             106726.0   \n",
       "53328  pool/universe/s/sword-text-swahili/sword-text-...             368046.0   \n",
       "17222  pool/main/w/webkitgtk/libwebkitgtk-common-dev_...              61680.0   \n",
       "46727  pool/universe/o/outdoors-theme/outdoors-theme_...               9330.0   \n",
       "39173  pool/universe/n/netbeans-cvsclient/libnetbeans...             348516.0   \n",
       "46725  pool/universe/o/otrs2-doc/otrs2-doc-en_2013121...            5642042.0   \n",
       "29123  pool/universe/k/kdenlive/kdenlive-data_0.9.6-5...            3799714.0   \n",
       "17232  pool/main/libw/libwibble/libwibble-dev_1.1-1_a...            1929560.0   \n",
       "49460  pool/universe/p/pytest-instafail/python-pytest...               5134.0   \n",
       "17236  pool/main/libw/libwmf/libwmf-doc_0.2.8.4-10.3u...             290942.0   \n",
       "53327  pool/universe/s/sword-text-sparv/sword-text-sp...            1551406.0   \n",
       "29106  pool/universe/libk/libkmahjongg/kdegames-mahjo...            1620408.0   \n",
       "53326  pool/universe/s/sword-text-kjv/sword-text-kjv_...            3553432.0   \n",
       "46724  pool/universe/o/otrs2-doc/otrs2-doc-de_2013121...            5054872.0   \n",
       "17240  pool/main/libw/libwnck3/libwnck-3-common_3.4.7...              18728.0   \n",
       "53325  pool/universe/s/sword-text-gerlut1545/sword-te...            1466148.0   \n",
       "39205  pool/universe/n/netty/libnetty-java_3.2.6.Fina...             671370.0   \n",
       "39206  pool/universe/n/netty3.1/libnetty3.1-java_3.1....             517624.0   \n",
       "17242  pool/main/libw/libwnck/libwnck-common_2.30.7-0...              16378.0   \n",
       "53324  pool/universe/s/sword-text-dutsvv/sword-text-d...            1536900.0   \n",
       "53330  pool/universe/s/sword-text-web/sword-text-web_...            1368528.0   \n",
       "46730  pool/universe/o/overgod/overgod-data_1.0-4_all...            1579224.0   \n",
       "53331  pool/universe/s/sword-text-wlc/sword-text-wlc_...            2002512.0   \n",
       "29132  pool/universe/k/kdepim/kdepim-mobileui-data_4....             956276.0   \n",
       "46748  pool/universe/o/owncloud-client/owncloud-clien...             163404.0   \n",
       "29201  pool/universe/d/dh-kpatches/kernel-patch-scrip...               6362.0   \n",
       "...                                                  ...                  ...   \n",
       "39447  pool/universe/o/ocaml-data-notation/libodn-oca...              28804.0   \n",
       "39402  pool/universe/o/ocamlgraph/libocamlgraph-viewe...             184678.0   \n",
       "39345  pool/universe/o/oasis/liboasis-ocaml-dev_0.3.0...             445342.0   \n",
       "41919  pool/universe/s/ssreflect/libssreflect-ocaml-d...              61652.0   \n",
       "41207  pool/universe/o/ocamlrss/librss-ocaml-dev_2.2....              38080.0   \n",
       "32661  pool/universe/o/ocaml-expect/libexpect-ocaml-d...              18232.0   \n",
       "35068  pool/universe/h/haskell-tasty-hunit/libghc-tas...               7494.0   \n",
       "38435  pool/universe/m/mikmatch/libmikmatch-ocaml-dev...             415246.0   \n",
       "29858  pool/universe/a/aac-tactics/libaac-tactics-oca...              43922.0   \n",
       "38002  pool/universe/l/lwt/liblwt-ssl-ocaml-dev_2.4.3...              11656.0   \n",
       "34828  pool/universe/h/haskell-regex-pcre/libghc-rege...             164178.0   \n",
       "34822  pool/universe/h/haskell-regex-base/libghc-rege...              82308.0   \n",
       "42784  pool/universe/t/tyxml/libtyxml-ocaml-dev_2.2.0...             404342.0   \n",
       "35072  pool/universe/h/haskell-tasty-quickcheck/libgh...              30840.0   \n",
       "34371  pool/universe/h/haskell-iproute/libghc-iproute...              89244.0   \n",
       "37617  pool/universe/l/lablgtk-extras/liblablgtk-extr...             343398.0   \n",
       "30536  pool/universe/b/ben/libben-ocaml-dev_0.6.6ubun...              95146.0   \n",
       "34837  pool/universe/h/haskell-regex-tdfa-utf8/libghc...              36246.0   \n",
       "33963  pool/universe/f/ftphs/libghc-ftphs-dev_1.0.9.1...             186294.0   \n",
       "39398  pool/universe/o/obus/libobus-ocaml-dev_1.1.5-3...             798922.0   \n",
       "34389  pool/universe/h/haskell-json/libghc-json-dev_0...             321252.0   \n",
       "34834  pool/universe/h/haskell-regex-tdfa/libghc-rege...            3323918.0   \n",
       "34714  pool/universe/h/haskell-pointed/libghc-pointed...              19628.0   \n",
       "34401  pool/universe/h/haskell-language-c/libghc-lang...            2841546.0   \n",
       "35075  pool/universe/h/haskell-tasty-rerun/libghc-tas...              34772.0   \n",
       "35061  pool/universe/h/haskell-tasty/libghc-tasty-dev...              98038.0   \n",
       "33839  pool/universe/h/haskell-dns/libghc-dns-dev_1.0...             141272.0   \n",
       "34801  pool/universe/h/haskell-reducers/libghc-reduce...             164264.0   \n",
       "32487  pool/universe/e/eliom/libeliom-ocaml-dev_3.0.3...            1014154.0   \n",
       "33397  pool/universe/a/agda/libghc-agda-dev_2.3.2.2-1...           13586672.0   \n",
       "\n",
       "       Elements involved Childrens  Frequency  Freq in p  \n",
       "id                                                        \n",
       "11665                  1   {11665}         15   0.000263  \n",
       "29129                  1   {29129}          1   0.000018  \n",
       "17217                  1   {17217}          1   0.000018  \n",
       "53329                  1   {53329}          1   0.000018  \n",
       "17220                  1   {17220}          1   0.000018  \n",
       "53328                  1   {53328}          1   0.000018  \n",
       "17222                  1   {17222}          3   0.000053  \n",
       "46727                  1   {46727}          1   0.000018  \n",
       "39173                  1   {39173}         97   0.001702  \n",
       "46725                  1   {46725}          1   0.000018  \n",
       "29123                  1   {29123}          3   0.000053  \n",
       "17232                  1   {17232}          3   0.000053  \n",
       "49460                  1   {49460}          1   0.000018  \n",
       "17236                  1   {17236}          1   0.000018  \n",
       "53327                  1   {53327}          1   0.000018  \n",
       "29106                  1   {29106}          1   0.000018  \n",
       "53326                  1   {53326}          1   0.000018  \n",
       "46724                  1   {46724}          1   0.000018  \n",
       "17240                  1   {17240}          1   0.000018  \n",
       "53325                  1   {53325}          1   0.000018  \n",
       "39205                  1   {39205}         15   0.000263  \n",
       "39206                  1   {39206}          1   0.000018  \n",
       "17242                  1   {17242}        161   0.002825  \n",
       "53324                  1   {53324}          1   0.000018  \n",
       "53330                  1   {53330}          1   0.000018  \n",
       "46730                  1   {46730}          2   0.000035  \n",
       "53331                  1   {53331}          1   0.000018  \n",
       "29132                  1   {29132}          7   0.000123  \n",
       "46748                  1   {46748}          4   0.000070  \n",
       "29201                  1   {29201}          1   0.000018  \n",
       "...                  ...       ...        ...        ...  \n",
       "39447                  1   {39447}          1   0.000018  \n",
       "39402                  1   {39402}          1   0.000018  \n",
       "39345                  1   {39345}          2   0.000035  \n",
       "41919                  1   {41919}          1   0.000018  \n",
       "41207                  1   {41207}          1   0.000018  \n",
       "32661                  1   {32661}          1   0.000018  \n",
       "35068                  1   {35068}          2   0.000035  \n",
       "38435                  1   {38435}          1   0.000018  \n",
       "29858                  1   {29858}          1   0.000018  \n",
       "38002                  1   {38002}          1   0.000018  \n",
       "34828                  1   {34828}          2   0.000035  \n",
       "34822                  1   {34822}          4   0.000070  \n",
       "42784                  1   {42784}          1   0.000018  \n",
       "35072                  1   {35072}          2   0.000035  \n",
       "34371                  1   {34371}          2   0.000035  \n",
       "37617                  1   {37617}          1   0.000018  \n",
       "30536                  1   {30536}          1   0.000018  \n",
       "34837                  1   {34837}          2   0.000035  \n",
       "33963                  1   {33963}          2   0.000035  \n",
       "39398                  1   {39398}          1   0.000018  \n",
       "34389                  1   {34389}          2   0.000035  \n",
       "34834                  1   {34834}          2   0.000035  \n",
       "34714                  1   {34714}          2   0.000035  \n",
       "34401                  1   {34401}          2   0.000035  \n",
       "35075                  1   {35075}          2   0.000035  \n",
       "35061                  1   {35061}          2   0.000035  \n",
       "33839                  1   {33839}          2   0.000035  \n",
       "34801                  1   {34801}          2   0.000035  \n",
       "32487                  1   {32487}          2   0.000035  \n",
       "33397                  1   {33397}          4   0.000070  \n",
       "\n",
       "[6315 rows x 9 columns]"
      ]
     },
     "execution_count": 21,
     "metadata": {},
     "output_type": "execute_result"
    }
   ],
   "source": [
    "gt[gt[\"Elements involved\"] == 1]"
   ]
  },
  {
   "cell_type": "markdown",
   "metadata": {},
   "source": [
    "<a id=gstreamer></a>\n",
    "## `The gstreamer1.0-plugins-base`'s Problem\n",
    "[Table of content](#tc)"
   ]
  },
  {
   "cell_type": "markdown",
   "metadata": {},
   "source": [
    "#### Problem found while capturing `gstreamer1.0-plugins-base`\n",
    "\n",
    "On the docker: \n",
    "\n",
    "` \n",
    "The following NEW packages will be installed:\n",
    "  gstreamer1.0-plugins-base iso-codes libasound2 libasound2-data\n",
    "  libcdparanoia0 libdrm-intel1 libdrm-nouveau2 libdrm-radeon1 libelf1\n",
    "  libgl1-mesa-dri libgl1-mesa-glx libglapi-mesa libglib2.0-0 libglib2.0-data\n",
    "  libglu1-mesa libgstreamer-plugins-base1.0-0 libgstreamer1.0-0 libllvm3.4\n",
    "  libogg0 liborc-0.4-0 libpciaccess0 libtheora0 libtxc-dxtn-s2tc0\n",
    "  libvisual-0.4-0 libvisual-0.4-plugins libvorbis0a libvorbisenc2 libx11-6\n",
    "  libx11-data libx11-xcb1 libxau6 libxcb-dri2-0 libxcb-dri3-0 libxcb-glx0\n",
    "  libxcb-present0 libxcb-sync1 libxcb1 libxdamage1 libxdmcp6 libxext6\n",
    "  libxfixes3 libxml2 libxshmfence1 libxxf86vm1 sgml-base shared-mime-info\n",
    "  xml-core\n",
    "  0 upgraded, 47 newly installed, 0 to remove and 33 not upgraded.\n",
    "`\n",
    "\n",
    "So 47 newly dependences\n",
    "Much more than what we can see when going through the dep field (19 deps)"
   ]
  },
  {
   "cell_type": "code",
   "execution_count": 170,
   "metadata": {},
   "outputs": [],
   "source": [
    "ground_truth = load_fingerpatch(dbname =\"fingerpatch_old\", table=\"ubuntu_packets\")\n",
    "gt =load_fingerpatch(dbname=\"fingerpatch_old\", table=\"ubuntu_cleaned_packets\")"
   ]
  },
  {
   "cell_type": "code",
   "execution_count": 171,
   "metadata": {},
   "outputs": [
    {
     "data": {
      "text/plain": [
       "'libc6 (>= 2.14), libcdparanoia0 (>= 3.10.2+debian), libglib2.0-0 (>= 2.37.3), libgstreamer1.0-0 (>= 1.2.0), libogg0 (>= 1.0rc3), liborc-0.4-0 (>= 1:0.4.18), libtheora0 (>= 1.0), libvisual-0.4-0 (>= 0.4.0-4), libvorbis0a (>= 1.1.2), libvorbisenc2 (>= 1.1.2), libgstreamer-plugins-base1.0-0 (>= 1.2.4)'"
      ]
     },
     "execution_count": 171,
     "metadata": {},
     "output_type": "execute_result"
    }
   ],
   "source": [
    "ground_truth[ground_truth[\"Package\"] == \"gstreamer1.0-plugins-base\"][\"Depends\"].iloc[0]"
   ]
  },
  {
   "cell_type": "code",
   "execution_count": 45,
   "metadata": {},
   "outputs": [
    {
     "data": {
      "text/plain": [
       "'libc6 (>= 2.14), libcdparanoia0 (>= 3.10.2+debian), libglib2.0-0 (>= 2.37.3), libgstreamer1.0-0 (>= 1.2.0), libogg0 (>= 1.0rc3), liborc-0.4-0 (>= 1:0.4.18), libtheora0 (>= 1.0), libvisual-0.4-0 (>= 0.4.0-4), libvorbis0a (>= 1.1.2), libvorbisenc2 (>= 1.1.2), libgstreamer-plugins-base1.0-0 (>= 1.2.4)'"
      ]
     },
     "execution_count": 45,
     "metadata": {},
     "output_type": "execute_result"
    }
   ],
   "source": [
    "ground_truth[ground_truth[\"Package\"] == \"gstreamer1.0-plugins-base\"][\"Depends\"].iloc[1]"
   ]
  },
  {
   "cell_type": "code",
   "execution_count": 39,
   "metadata": {
    "scrolled": true
   },
   "outputs": [
    {
     "data": {
      "text/plain": [
       "'libc6 (>= 2.14), libcdparanoia0 (>= 3.10.2+debian), libglib2.0-0 (>= 2.37.3), libgstreamer1.0-0 (>= 1.2.0), libogg0 (>= 1.0rc3), liborc-0.4-0 (>= 1:0.4.18), libtheora0 (>= 1.0), libvisual-0.4-0 (>= 0.4.0-4), libvorbis0a (>= 1.1.2), libvorbisenc2 (>= 1.1.2), libgstreamer-plugins-base1.0-0 (>= 1.2.4)'"
      ]
     },
     "execution_count": 39,
     "metadata": {},
     "output_type": "execute_result"
    }
   ],
   "source": [
    "ground_truth[ground_truth[\"Package\"] == \"gstreamer1.0-plugins-base\"][\"Depends\"].iloc[1]"
   ]
  },
  {
   "cell_type": "code",
   "execution_count": 78,
   "metadata": {},
   "outputs": [
    {
     "data": {
      "text/plain": [
       "'libc6 (>= 2.14), libglib2.0-0 (>= 2.37.3), libgstreamer1.0-0 (>= 1.2.0), liborc-0.4-0 (>= 1:0.4.18), zlib1g (>= 1:1.1.4), iso-codes'"
      ]
     },
     "execution_count": 78,
     "metadata": {},
     "output_type": "execute_result"
    }
   ],
   "source": [
    "ground_truth[ground_truth[\"Package\"] == \"libgstreamer-plugins-base1.0-0\"][\"Depends\"].iloc[0]"
   ]
  },
  {
   "cell_type": "code",
   "execution_count": 56,
   "metadata": {},
   "outputs": [
    {
     "data": {
      "text/plain": [
       "'gcc-4.9-base (= 4.9-20140406-0ubuntu1), libc6 (>= 2.14)'"
      ]
     },
     "execution_count": 56,
     "metadata": {},
     "output_type": "execute_result"
    }
   ],
   "source": [
    "ground_truth[ground_truth[\"Package\"] == \"libgcc1\"][\"Depends\"].iloc[0]"
   ]
  },
  {
   "cell_type": "code",
   "execution_count": 62,
   "metadata": {},
   "outputs": [
    {
     "data": {
      "text/plain": [
       "id\n",
       "1152     \n",
       "45633    \n",
       "Name: Depends, dtype: object"
      ]
     },
     "execution_count": 62,
     "metadata": {},
     "output_type": "execute_result"
    }
   ],
   "source": [
    "ground_truth[ground_truth[\"Package\"] == \"gcc-4.9-base\"][\"Depends\"]"
   ]
  },
  {
   "cell_type": "code",
   "execution_count": 16,
   "metadata": {},
   "outputs": [
    {
     "data": {
      "text/plain": [
       "'libc6 (>= 2.17), libffi6 (>= 3.0.4), libpcre3, libselinux1 (>= 1.32), zlib1g (>= 1:1.2.2)'"
      ]
     },
     "execution_count": 16,
     "metadata": {},
     "output_type": "execute_result"
    }
   ],
   "source": [
    "ground_truth[ground_truth[\"Package\"] == \"libglib2.0-0\"][\"Depends\"].iloc[1]"
   ]
  },
  {
   "cell_type": "code",
   "execution_count": 83,
   "metadata": {},
   "outputs": [
    {
     "data": {
      "text/plain": [
       "[174814]"
      ]
     },
     "execution_count": 83,
     "metadata": {},
     "output_type": "execute_result"
    }
   ],
   "source": [
    "parseAndFindDep(ground_truth[ground_truth[\"Package\"] == \"libffi6\"][\"Depends\"].iloc[0], ground_truth)"
   ]
  },
  {
   "cell_type": "code",
   "execution_count": 173,
   "metadata": {},
   "outputs": [],
   "source": [
    "childrens = gt[gt[\"Package\"] == \"gstreamer1.0-plugins-base\"][\"Childrens\"].iloc[0]"
   ]
  },
  {
   "cell_type": "code",
   "execution_count": 176,
   "metadata": {
    "scrolled": true
   },
   "outputs": [
    {
     "data": {
      "text/plain": [
       "['libvorbis0a',\n",
       " 'libvorbisenc2',\n",
       " 'libselinux1',\n",
       " 'libvisual-0.4-0',\n",
       " 'libpcre3',\n",
       " 'gstreamer1.0-plugins-base',\n",
       " 'zlib1g',\n",
       " 'libgstreamer-plugins-base1.0-0',\n",
       " 'gcc-4.9-base',\n",
       " 'libgstreamer1.0-0',\n",
       " 'libogg0',\n",
       " 'libtheora0',\n",
       " 'liborc-0.4-0',\n",
       " 'libffi6',\n",
       " 'libc6',\n",
       " 'libglib2.0-0',\n",
       " 'libcdparanoia0',\n",
       " 'libgcc1',\n",
       " 'iso-codes']"
      ]
     },
     "execution_count": 176,
     "metadata": {},
     "output_type": "execute_result"
    }
   ],
   "source": [
    "gt.loc[list(childrens)][\"Package\"].tolist()"
   ]
  },
  {
   "cell_type": "code",
   "execution_count": 177,
   "metadata": {},
   "outputs": [
    {
     "data": {
      "text/plain": [
       "19"
      ]
     },
     "execution_count": 177,
     "metadata": {},
     "output_type": "execute_result"
    }
   ],
   "source": [
    "len(childrens)"
   ]
  },
  {
   "cell_type": "markdown",
   "metadata": {},
   "source": [
    "But using `apt-cache depends gstreamer1.0-plugins-base` in the docker will lead us to understand why we found 19 and not 47. "
   ]
  },
  {
   "cell_type": "markdown",
   "metadata": {},
   "source": [
    "We see that there are not only fields `Depends` but also `Recommends`, `Suggests`, `Pre-Depends`, `Breaks`, ect...\n",
    "\n",
    "    `Depends`    -> Absolute dependency\n",
    "    `Pre-Depends`-> Like Depends but even stronger (tell dpkg to install it before)\n",
    "    `Recommends` -> Strong dependency download enabled by default |--no-install-recommend\n",
    "    `Suggests`   -> disabled by default |--install-suggests\n",
    "    \n",
    "Since our table only contains the absolute dependences, and our docker install the recommends Packages by default, we are missing some packages.\n",
    "\n",
    "By running `apt-get install --no-install-recommend gstreamer1.0-plugins-base` we get:\n",
    "\n",
    "`\n",
    "The following extra packages will be installed:\n",
    "  iso-codes libcdparanoia0 libglib2.0-0 libgstreamer-plugins-base1.0-0\n",
    "  libgstreamer1.0-0 libogg0 liborc-0.4-0 libtheora0 libvisual-0.4-0\n",
    "  libvorbis0a libvorbisenc2\n",
    "Suggested packages:\n",
    "  gvfs isoquery libvisual-0.4-plugins gstreamer-codec-install\n",
    "  gnome-codec-install gstreamer1.0-tools\n",
    "Recommended packages:\n",
    "  libglib2.0-data shared-mime-info\n",
    "The following NEW packages will be installed:\n",
    "  gstreamer1.0-plugins-base iso-codes libcdparanoia0 libglib2.0-0\n",
    "  libgstreamer-plugins-base1.0-0 libgstreamer1.0-0 libogg0 liborc-0.4-0\n",
    "  libtheora0 libvisual-0.4-0 libvorbis0a libvorbisenc2\n",
    "0 upgraded, 12 newly installed, 0 to remove and 37 not upgraded.\n",
    "Need to get 5300 kB of archives.\n",
    "`\n",
    "\n",
    "    \n",
    "More [here](\n",
    "https://www.debian.org/doc/debian-policy/ch-relationships.html)"
   ]
  },
  {
   "cell_type": "markdown",
   "metadata": {},
   "source": [
    "<a id='kernels'></a>\n",
    "## Kernel Packages\n",
    "\n",
    "Here we are having a close look about the Kernel Package.\n",
    "\n",
    "More infos [here](https://askubuntu.com/questions/266772/why-are-there-so-many-linux-kernel-packages-on-my-machine-and-what-do-they-a)\n",
    "\n",
    "[table of content](#tc)"
   ]
  },
  {
   "cell_type": "code",
   "execution_count": 337,
   "metadata": {},
   "outputs": [],
   "source": [
    "# Load the cleaned db\n",
    "gt =load_fingerpatch(\"ubuntu_cleaned_packets\")\n",
    "gt_old =load_fingerpatch(dbname=\"fingerpatch_old\", table=\"ubuntu_cleaned_packets\")"
   ]
  },
  {
   "cell_type": "code",
   "execution_count": 338,
   "metadata": {},
   "outputs": [
    {
     "name": "stdout",
     "output_type": "stream",
     "text": [
      "Old db : 14 Packages containing `kernel-` key words\n",
      "Old db : 774 Packages containing `linux-image` key words\n",
      "\n",
      "New db : 14 Packages containing `kernel-` key words\n",
      "New db : 778 Packages containing `linux-image` key words\n"
     ]
    }
   ],
   "source": [
    "kernel_keyword = gt_old[gt_old.Package.str.contains(\"kernel-\")]\n",
    "lin_im = gt_old[gt_old.Package.str.contains(\"linux-image\")]\n",
    "print(\"Old db : \" + str(len(kernel_keyword))+ \" Packages containing `kernel-` key words\")\n",
    "print(\"Old db : \" +str(len(lin_im)) + \" Packages containing `linux-image` key words\")\n",
    "\n",
    "# We concatenate both of them\n",
    "kernel_package = pd.concat([kernel_keyword, lin_im])\n",
    "\n",
    "kernel_keyword = gt[gt.Package.str.contains(\"kernel-\")]\n",
    "lin_im = gt[gt.Package.str.contains(\"linux-image\")]\n",
    "print(\"\\nNew db : \" + str(len(kernel_keyword))+ \" Packages containing `kernel-` key words\")\n",
    "print(\"New db : \" + str(len(lin_im))+ \" Packages containing `linux-image` key words\")\n",
    "\n",
    "# We concatenate both of them\n",
    "kernel_package = pd.concat([kernel_keyword, lin_im])"
   ]
  },
  {
   "cell_type": "code",
   "execution_count": 339,
   "metadata": {},
   "outputs": [
    {
     "data": {
      "text/html": [
       "<div>\n",
       "<style scoped>\n",
       "    .dataframe tbody tr th:only-of-type {\n",
       "        vertical-align: middle;\n",
       "    }\n",
       "\n",
       "    .dataframe tbody tr th {\n",
       "        vertical-align: top;\n",
       "    }\n",
       "\n",
       "    .dataframe thead th {\n",
       "        text-align: right;\n",
       "    }\n",
       "</style>\n",
       "<table border=\"1\" class=\"dataframe\">\n",
       "  <thead>\n",
       "    <tr style=\"text-align: right;\">\n",
       "      <th></th>\n",
       "      <th>Package</th>\n",
       "      <th>Version</th>\n",
       "      <th>Size</th>\n",
       "      <th>Summing dependances</th>\n",
       "      <th>Elements involved</th>\n",
       "    </tr>\n",
       "    <tr>\n",
       "      <th>id</th>\n",
       "      <th></th>\n",
       "      <th></th>\n",
       "      <th></th>\n",
       "      <th></th>\n",
       "      <th></th>\n",
       "    </tr>\n",
       "  </thead>\n",
       "  <tbody>\n",
       "    <tr>\n",
       "      <th>178594</th>\n",
       "      <td>linux-image-extra-3.13.0-160-generic</td>\n",
       "      <td>3.13.0-160.210</td>\n",
       "      <td>37081418</td>\n",
       "      <td>58936950</td>\n",
       "      <td>20</td>\n",
       "    </tr>\n",
       "    <tr>\n",
       "      <th>178267</th>\n",
       "      <td>linux-image-3.16.0-26-lowlatency</td>\n",
       "      <td>3.16.0-26.35~14.04.1</td>\n",
       "      <td>53687552</td>\n",
       "      <td>66764432</td>\n",
       "      <td>54</td>\n",
       "    </tr>\n",
       "    <tr>\n",
       "      <th>178078</th>\n",
       "      <td>linux-image-3.13.0-100-generic</td>\n",
       "      <td>3.13.0-100.147</td>\n",
       "      <td>15322978</td>\n",
       "      <td>28399858</td>\n",
       "      <td>54</td>\n",
       "    </tr>\n",
       "    <tr>\n",
       "      <th>178084</th>\n",
       "      <td>linux-image-3.13.0-105-generic</td>\n",
       "      <td>3.13.0-105.152</td>\n",
       "      <td>15268528</td>\n",
       "      <td>28345408</td>\n",
       "      <td>54</td>\n",
       "    </tr>\n",
       "    <tr>\n",
       "      <th>178420</th>\n",
       "      <td>linux-image-4.2.0-22-generic</td>\n",
       "      <td>4.2.0-22.27~14.04.1</td>\n",
       "      <td>17152844</td>\n",
       "      <td>30229724</td>\n",
       "      <td>54</td>\n",
       "    </tr>\n",
       "    <tr>\n",
       "      <th>178819</th>\n",
       "      <td>linux-image-virtual-lts-wily</td>\n",
       "      <td>4.2.0.42.34</td>\n",
       "      <td>2298</td>\n",
       "      <td>30307144</td>\n",
       "      <td>55</td>\n",
       "    </tr>\n",
       "    <tr>\n",
       "      <th>178444</th>\n",
       "      <td>linux-image-4.4.0-103-generic</td>\n",
       "      <td>4.4.0-103.126~14.04.1</td>\n",
       "      <td>20903094</td>\n",
       "      <td>33979974</td>\n",
       "      <td>54</td>\n",
       "    </tr>\n",
       "    <tr>\n",
       "      <th>178210</th>\n",
       "      <td>linux-image-3.13.0-58-generic</td>\n",
       "      <td>3.13.0-58.97</td>\n",
       "      <td>15213244</td>\n",
       "      <td>28290124</td>\n",
       "      <td>54</td>\n",
       "    </tr>\n",
       "    <tr>\n",
       "      <th>178732</th>\n",
       "      <td>linux-image-extra-4.2.0-36-generic</td>\n",
       "      <td>4.2.0-36.42~14.04.1</td>\n",
       "      <td>38366786</td>\n",
       "      <td>69570144</td>\n",
       "      <td>60</td>\n",
       "    </tr>\n",
       "    <tr>\n",
       "      <th>178481</th>\n",
       "      <td>linux-image-4.4.0-138-lowlatency</td>\n",
       "      <td>4.4.0-138.164~14.04.1</td>\n",
       "      <td>57339740</td>\n",
       "      <td>70416620</td>\n",
       "      <td>54</td>\n",
       "    </tr>\n",
       "    <tr>\n",
       "      <th>178528</th>\n",
       "      <td>linux-image-4.4.0-75-generic</td>\n",
       "      <td>4.4.0-75.96~14.04.1</td>\n",
       "      <td>20878716</td>\n",
       "      <td>33955596</td>\n",
       "      <td>54</td>\n",
       "    </tr>\n",
       "    <tr>\n",
       "      <th>178658</th>\n",
       "      <td>linux-image-extra-3.16.0-38-generic</td>\n",
       "      <td>3.16.0-38.52~14.04.1</td>\n",
       "      <td>37646666</td>\n",
       "      <td>67726452</td>\n",
       "      <td>60</td>\n",
       "    </tr>\n",
       "    <tr>\n",
       "      <th>178665</th>\n",
       "      <td>linux-image-extra-3.16.0-46-generic</td>\n",
       "      <td>3.16.0-46.62~14.04.1</td>\n",
       "      <td>37615648</td>\n",
       "      <td>67772586</td>\n",
       "      <td>60</td>\n",
       "    </tr>\n",
       "    <tr>\n",
       "      <th>178542</th>\n",
       "      <td>linux-image-4.4.0-91-generic</td>\n",
       "      <td>4.4.0-91.114~14.04.1</td>\n",
       "      <td>20921874</td>\n",
       "      <td>33998754</td>\n",
       "      <td>54</td>\n",
       "    </tr>\n",
       "    <tr>\n",
       "      <th>178568</th>\n",
       "      <td>linux-image-extra-3.13.0-117-generic</td>\n",
       "      <td>3.13.0-117.164</td>\n",
       "      <td>36564296</td>\n",
       "      <td>66010992</td>\n",
       "      <td>60</td>\n",
       "    </tr>\n",
       "    <tr>\n",
       "      <th>178257</th>\n",
       "      <td>linux-image-3.13.0-93-lowlatency</td>\n",
       "      <td>3.13.0-93.140</td>\n",
       "      <td>51911996</td>\n",
       "      <td>64988876</td>\n",
       "      <td>54</td>\n",
       "    </tr>\n",
       "    <tr>\n",
       "      <th>178549</th>\n",
       "      <td>linux-image-4.4.0-96-lowlatency</td>\n",
       "      <td>4.4.0-96.119~14.04.1</td>\n",
       "      <td>56757168</td>\n",
       "      <td>69834048</td>\n",
       "      <td>54</td>\n",
       "    </tr>\n",
       "    <tr>\n",
       "      <th>178134</th>\n",
       "      <td>linux-image-3.13.0-143-generic</td>\n",
       "      <td>3.13.0-143.192</td>\n",
       "      <td>15544106</td>\n",
       "      <td>20961172</td>\n",
       "      <td>14</td>\n",
       "    </tr>\n",
       "    <tr>\n",
       "      <th>178789</th>\n",
       "      <td>linux-image-extra-4.4.0-96-generic</td>\n",
       "      <td>4.4.0-96.119~14.04.1</td>\n",
       "      <td>35746746</td>\n",
       "      <td>70649732</td>\n",
       "      <td>60</td>\n",
       "    </tr>\n",
       "    <tr>\n",
       "      <th>178802</th>\n",
       "      <td>linux-image-generic-lts-utopic</td>\n",
       "      <td>3.16.0.77.68</td>\n",
       "      <td>2276</td>\n",
       "      <td>101752984</td>\n",
       "      <td>62</td>\n",
       "    </tr>\n",
       "    <tr>\n",
       "      <th>178451</th>\n",
       "      <td>linux-image-4.4.0-109-lowlatency</td>\n",
       "      <td>4.4.0-109.132~14.04.1</td>\n",
       "      <td>56748048</td>\n",
       "      <td>69824928</td>\n",
       "      <td>54</td>\n",
       "    </tr>\n",
       "    <tr>\n",
       "      <th>178583</th>\n",
       "      <td>linux-image-extra-3.13.0-143-generic</td>\n",
       "      <td>3.13.0-143.192</td>\n",
       "      <td>36907468</td>\n",
       "      <td>58775198</td>\n",
       "      <td>20</td>\n",
       "    </tr>\n",
       "    <tr>\n",
       "      <th>178422</th>\n",
       "      <td>linux-image-4.2.0-23-generic</td>\n",
       "      <td>4.2.0-23.28~14.04.1</td>\n",
       "      <td>17132852</td>\n",
       "      <td>30209732</td>\n",
       "      <td>54</td>\n",
       "    </tr>\n",
       "    <tr>\n",
       "      <th>178408</th>\n",
       "      <td>linux-image-3.19.0-79-generic</td>\n",
       "      <td>3.19.0-79.87~14.04.1</td>\n",
       "      <td>16799630</td>\n",
       "      <td>29876510</td>\n",
       "      <td>54</td>\n",
       "    </tr>\n",
       "    <tr>\n",
       "      <th>178775</th>\n",
       "      <td>linux-image-extra-4.4.0-67-generic</td>\n",
       "      <td>4.4.0-67.88~14.04.1</td>\n",
       "      <td>35613948</td>\n",
       "      <td>70330772</td>\n",
       "      <td>60</td>\n",
       "    </tr>\n",
       "    <tr>\n",
       "      <th>178726</th>\n",
       "      <td>linux-image-extra-4.2.0-23-generic</td>\n",
       "      <td>4.2.0-23.28~14.04.1</td>\n",
       "      <td>38284966</td>\n",
       "      <td>69401256</td>\n",
       "      <td>60</td>\n",
       "    </tr>\n",
       "    <tr>\n",
       "      <th>178722</th>\n",
       "      <td>linux-image-extra-4.2.0-18-generic</td>\n",
       "      <td>4.2.0-18.22~14.04.1</td>\n",
       "      <td>38371508</td>\n",
       "      <td>69496952</td>\n",
       "      <td>60</td>\n",
       "    </tr>\n",
       "    <tr>\n",
       "      <th>178277</th>\n",
       "      <td>linux-image-3.16.0-33-lowlatency</td>\n",
       "      <td>3.16.0-33.44~14.04.1</td>\n",
       "      <td>53702596</td>\n",
       "      <td>66779476</td>\n",
       "      <td>54</td>\n",
       "    </tr>\n",
       "    <tr>\n",
       "      <th>178424</th>\n",
       "      <td>linux-image-4.2.0-25-generic</td>\n",
       "      <td>4.2.0-25.30~14.04.1</td>\n",
       "      <td>17157202</td>\n",
       "      <td>30234082</td>\n",
       "      <td>54</td>\n",
       "    </tr>\n",
       "    <tr>\n",
       "      <th>178127</th>\n",
       "      <td>linux-image-3.13.0-137-lowlatency</td>\n",
       "      <td>3.13.0-137.186</td>\n",
       "      <td>51986454</td>\n",
       "      <td>57403520</td>\n",
       "      <td>14</td>\n",
       "    </tr>\n",
       "    <tr>\n",
       "      <th>178695</th>\n",
       "      <td>linux-image-extra-3.19.0-32-generic</td>\n",
       "      <td>3.19.0-32.37~14.04.1</td>\n",
       "      <td>38306092</td>\n",
       "      <td>69024646</td>\n",
       "      <td>60</td>\n",
       "    </tr>\n",
       "    <tr>\n",
       "      <th>178151</th>\n",
       "      <td>linux-image-3.13.0-156-lowlatency</td>\n",
       "      <td>3.13.0-156.206</td>\n",
       "      <td>52445862</td>\n",
       "      <td>57862928</td>\n",
       "      <td>14</td>\n",
       "    </tr>\n",
       "    <tr>\n",
       "      <th>178297</th>\n",
       "      <td>linux-image-3.16.0-45-lowlatency</td>\n",
       "      <td>3.16.0-45.60~14.04.1</td>\n",
       "      <td>53691818</td>\n",
       "      <td>66768698</td>\n",
       "      <td>54</td>\n",
       "    </tr>\n",
       "    <tr>\n",
       "      <th>178686</th>\n",
       "      <td>linux-image-extra-3.19.0-20-generic</td>\n",
       "      <td>3.19.0-20.20~14.04.1</td>\n",
       "      <td>38107948</td>\n",
       "      <td>68817754</td>\n",
       "      <td>60</td>\n",
       "    </tr>\n",
       "    <tr>\n",
       "      <th>178256</th>\n",
       "      <td>linux-image-3.13.0-93-generic</td>\n",
       "      <td>3.13.0-93.140</td>\n",
       "      <td>15272118</td>\n",
       "      <td>28348998</td>\n",
       "      <td>54</td>\n",
       "    </tr>\n",
       "    <tr>\n",
       "      <th>178750</th>\n",
       "      <td>linux-image-extra-4.4.0-131-generic</td>\n",
       "      <td>4.4.0-131.157~14.04.1</td>\n",
       "      <td>36137524</td>\n",
       "      <td>71214080</td>\n",
       "      <td>60</td>\n",
       "    </tr>\n",
       "    <tr>\n",
       "      <th>178149</th>\n",
       "      <td>linux-image-3.13.0-155-lowlatency</td>\n",
       "      <td>3.13.0-155.205</td>\n",
       "      <td>52432242</td>\n",
       "      <td>57849308</td>\n",
       "      <td>14</td>\n",
       "    </tr>\n",
       "    <tr>\n",
       "      <th>178419</th>\n",
       "      <td>linux-image-4.2.0-21-lowlatency</td>\n",
       "      <td>4.2.0-21.25~14.04.1</td>\n",
       "      <td>55385672</td>\n",
       "      <td>68462552</td>\n",
       "      <td>54</td>\n",
       "    </tr>\n",
       "    <tr>\n",
       "      <th>178607</th>\n",
       "      <td>linux-image-extra-3.13.0-40-generic</td>\n",
       "      <td>3.13.0-40.69</td>\n",
       "      <td>36748852</td>\n",
       "      <td>65878638</td>\n",
       "      <td>60</td>\n",
       "    </tr>\n",
       "    <tr>\n",
       "      <th>178176</th>\n",
       "      <td>linux-image-3.13.0-36-generic</td>\n",
       "      <td>3.13.0-36.63</td>\n",
       "      <td>15155418</td>\n",
       "      <td>28232298</td>\n",
       "      <td>54</td>\n",
       "    </tr>\n",
       "    <tr>\n",
       "      <th>178321</th>\n",
       "      <td>linux-image-3.16.0-60-lowlatency</td>\n",
       "      <td>3.16.0-60.80~14.04.1</td>\n",
       "      <td>53756264</td>\n",
       "      <td>66833144</td>\n",
       "      <td>54</td>\n",
       "    </tr>\n",
       "    <tr>\n",
       "      <th>178570</th>\n",
       "      <td>linux-image-extra-3.13.0-121-generic</td>\n",
       "      <td>3.13.0-121.170</td>\n",
       "      <td>36633088</td>\n",
       "      <td>66038490</td>\n",
       "      <td>60</td>\n",
       "    </tr>\n",
       "    <tr>\n",
       "      <th>178767</th>\n",
       "      <td>linux-image-extra-4.4.0-51-generic</td>\n",
       "      <td>4.4.0-51.72~14.04.1</td>\n",
       "      <td>38263228</td>\n",
       "      <td>70467548</td>\n",
       "      <td>60</td>\n",
       "    </tr>\n",
       "    <tr>\n",
       "      <th>178216</th>\n",
       "      <td>linux-image-3.13.0-62-generic</td>\n",
       "      <td>3.13.0-62.102</td>\n",
       "      <td>15237892</td>\n",
       "      <td>28314772</td>\n",
       "      <td>54</td>\n",
       "    </tr>\n",
       "    <tr>\n",
       "      <th>168917</th>\n",
       "      <td>salome-kernel-doc</td>\n",
       "      <td>6.5.0-7ubuntu2</td>\n",
       "      <td>5260660</td>\n",
       "      <td>5260660</td>\n",
       "      <td>1</td>\n",
       "    </tr>\n",
       "    <tr>\n",
       "      <th>178796</th>\n",
       "      <td>linux-image-extra-virtual-lts-xenial</td>\n",
       "      <td>4.4.0.138.118</td>\n",
       "      <td>1782</td>\n",
       "      <td>106485082</td>\n",
       "      <td>66</td>\n",
       "    </tr>\n",
       "    <tr>\n",
       "      <th>178316</th>\n",
       "      <td>linux-image-3.16.0-57-generic</td>\n",
       "      <td>3.16.0-57.77~14.04.1</td>\n",
       "      <td>16208996</td>\n",
       "      <td>29285876</td>\n",
       "      <td>54</td>\n",
       "    </tr>\n",
       "    <tr>\n",
       "      <th>178514</th>\n",
       "      <td>linux-image-4.4.0-63-generic</td>\n",
       "      <td>4.4.0-63.84~14.04.2</td>\n",
       "      <td>20729546</td>\n",
       "      <td>33806426</td>\n",
       "      <td>54</td>\n",
       "    </tr>\n",
       "    <tr>\n",
       "      <th>178211</th>\n",
       "      <td>linux-image-3.13.0-58-lowlatency</td>\n",
       "      <td>3.13.0-58.97</td>\n",
       "      <td>51883096</td>\n",
       "      <td>64959976</td>\n",
       "      <td>54</td>\n",
       "    </tr>\n",
       "    <tr>\n",
       "      <th>178532</th>\n",
       "      <td>linux-image-4.4.0-79-generic</td>\n",
       "      <td>4.4.0-79.100~14.04.1</td>\n",
       "      <td>20899130</td>\n",
       "      <td>33976010</td>\n",
       "      <td>54</td>\n",
       "    </tr>\n",
       "  </tbody>\n",
       "</table>\n",
       "</div>"
      ],
      "text/plain": [
       "                                     Package                Version      Size  \\\n",
       "id                                                                              \n",
       "178594  linux-image-extra-3.13.0-160-generic         3.13.0-160.210  37081418   \n",
       "178267      linux-image-3.16.0-26-lowlatency   3.16.0-26.35~14.04.1  53687552   \n",
       "178078        linux-image-3.13.0-100-generic         3.13.0-100.147  15322978   \n",
       "178084        linux-image-3.13.0-105-generic         3.13.0-105.152  15268528   \n",
       "178420          linux-image-4.2.0-22-generic    4.2.0-22.27~14.04.1  17152844   \n",
       "178819          linux-image-virtual-lts-wily            4.2.0.42.34      2298   \n",
       "178444         linux-image-4.4.0-103-generic  4.4.0-103.126~14.04.1  20903094   \n",
       "178210         linux-image-3.13.0-58-generic           3.13.0-58.97  15213244   \n",
       "178732    linux-image-extra-4.2.0-36-generic    4.2.0-36.42~14.04.1  38366786   \n",
       "178481      linux-image-4.4.0-138-lowlatency  4.4.0-138.164~14.04.1  57339740   \n",
       "178528          linux-image-4.4.0-75-generic    4.4.0-75.96~14.04.1  20878716   \n",
       "178658   linux-image-extra-3.16.0-38-generic   3.16.0-38.52~14.04.1  37646666   \n",
       "178665   linux-image-extra-3.16.0-46-generic   3.16.0-46.62~14.04.1  37615648   \n",
       "178542          linux-image-4.4.0-91-generic   4.4.0-91.114~14.04.1  20921874   \n",
       "178568  linux-image-extra-3.13.0-117-generic         3.13.0-117.164  36564296   \n",
       "178257      linux-image-3.13.0-93-lowlatency          3.13.0-93.140  51911996   \n",
       "178549       linux-image-4.4.0-96-lowlatency   4.4.0-96.119~14.04.1  56757168   \n",
       "178134        linux-image-3.13.0-143-generic         3.13.0-143.192  15544106   \n",
       "178789    linux-image-extra-4.4.0-96-generic   4.4.0-96.119~14.04.1  35746746   \n",
       "178802        linux-image-generic-lts-utopic           3.16.0.77.68      2276   \n",
       "178451      linux-image-4.4.0-109-lowlatency  4.4.0-109.132~14.04.1  56748048   \n",
       "178583  linux-image-extra-3.13.0-143-generic         3.13.0-143.192  36907468   \n",
       "178422          linux-image-4.2.0-23-generic    4.2.0-23.28~14.04.1  17132852   \n",
       "178408         linux-image-3.19.0-79-generic   3.19.0-79.87~14.04.1  16799630   \n",
       "178775    linux-image-extra-4.4.0-67-generic    4.4.0-67.88~14.04.1  35613948   \n",
       "178726    linux-image-extra-4.2.0-23-generic    4.2.0-23.28~14.04.1  38284966   \n",
       "178722    linux-image-extra-4.2.0-18-generic    4.2.0-18.22~14.04.1  38371508   \n",
       "178277      linux-image-3.16.0-33-lowlatency   3.16.0-33.44~14.04.1  53702596   \n",
       "178424          linux-image-4.2.0-25-generic    4.2.0-25.30~14.04.1  17157202   \n",
       "178127     linux-image-3.13.0-137-lowlatency         3.13.0-137.186  51986454   \n",
       "178695   linux-image-extra-3.19.0-32-generic   3.19.0-32.37~14.04.1  38306092   \n",
       "178151     linux-image-3.13.0-156-lowlatency         3.13.0-156.206  52445862   \n",
       "178297      linux-image-3.16.0-45-lowlatency   3.16.0-45.60~14.04.1  53691818   \n",
       "178686   linux-image-extra-3.19.0-20-generic   3.19.0-20.20~14.04.1  38107948   \n",
       "178256         linux-image-3.13.0-93-generic          3.13.0-93.140  15272118   \n",
       "178750   linux-image-extra-4.4.0-131-generic  4.4.0-131.157~14.04.1  36137524   \n",
       "178149     linux-image-3.13.0-155-lowlatency         3.13.0-155.205  52432242   \n",
       "178419       linux-image-4.2.0-21-lowlatency    4.2.0-21.25~14.04.1  55385672   \n",
       "178607   linux-image-extra-3.13.0-40-generic           3.13.0-40.69  36748852   \n",
       "178176         linux-image-3.13.0-36-generic           3.13.0-36.63  15155418   \n",
       "178321      linux-image-3.16.0-60-lowlatency   3.16.0-60.80~14.04.1  53756264   \n",
       "178570  linux-image-extra-3.13.0-121-generic         3.13.0-121.170  36633088   \n",
       "178767    linux-image-extra-4.4.0-51-generic    4.4.0-51.72~14.04.1  38263228   \n",
       "178216         linux-image-3.13.0-62-generic          3.13.0-62.102  15237892   \n",
       "168917                     salome-kernel-doc         6.5.0-7ubuntu2   5260660   \n",
       "178796  linux-image-extra-virtual-lts-xenial          4.4.0.138.118      1782   \n",
       "178316         linux-image-3.16.0-57-generic   3.16.0-57.77~14.04.1  16208996   \n",
       "178514          linux-image-4.4.0-63-generic    4.4.0-63.84~14.04.2  20729546   \n",
       "178211      linux-image-3.13.0-58-lowlatency           3.13.0-58.97  51883096   \n",
       "178532          linux-image-4.4.0-79-generic   4.4.0-79.100~14.04.1  20899130   \n",
       "\n",
       "        Summing dependances  Elements involved  \n",
       "id                                              \n",
       "178594             58936950                 20  \n",
       "178267             66764432                 54  \n",
       "178078             28399858                 54  \n",
       "178084             28345408                 54  \n",
       "178420             30229724                 54  \n",
       "178819             30307144                 55  \n",
       "178444             33979974                 54  \n",
       "178210             28290124                 54  \n",
       "178732             69570144                 60  \n",
       "178481             70416620                 54  \n",
       "178528             33955596                 54  \n",
       "178658             67726452                 60  \n",
       "178665             67772586                 60  \n",
       "178542             33998754                 54  \n",
       "178568             66010992                 60  \n",
       "178257             64988876                 54  \n",
       "178549             69834048                 54  \n",
       "178134             20961172                 14  \n",
       "178789             70649732                 60  \n",
       "178802            101752984                 62  \n",
       "178451             69824928                 54  \n",
       "178583             58775198                 20  \n",
       "178422             30209732                 54  \n",
       "178408             29876510                 54  \n",
       "178775             70330772                 60  \n",
       "178726             69401256                 60  \n",
       "178722             69496952                 60  \n",
       "178277             66779476                 54  \n",
       "178424             30234082                 54  \n",
       "178127             57403520                 14  \n",
       "178695             69024646                 60  \n",
       "178151             57862928                 14  \n",
       "178297             66768698                 54  \n",
       "178686             68817754                 60  \n",
       "178256             28348998                 54  \n",
       "178750             71214080                 60  \n",
       "178149             57849308                 14  \n",
       "178419             68462552                 54  \n",
       "178607             65878638                 60  \n",
       "178176             28232298                 54  \n",
       "178321             66833144                 54  \n",
       "178570             66038490                 60  \n",
       "178767             70467548                 60  \n",
       "178216             28314772                 54  \n",
       "168917              5260660                  1  \n",
       "178796            106485082                 66  \n",
       "178316             29285876                 54  \n",
       "178514             33806426                 54  \n",
       "178211             64959976                 54  \n",
       "178532             33976010                 54  "
      ]
     },
     "execution_count": 339,
     "metadata": {},
     "output_type": "execute_result"
    }
   ],
   "source": [
    "kernel_package.sample(50)[[\"Package\", \"Version\", \"Size\",\"Summing dependances\" ,\"Elements involved\"]]"
   ]
  },
  {
   "cell_type": "markdown",
   "metadata": {},
   "source": [
    "50 Randomly chosen Package name"
   ]
  },
  {
   "cell_type": "code",
   "execution_count": 340,
   "metadata": {},
   "outputs": [
    {
     "data": {
      "text/html": [
       "<div>\n",
       "<style scoped>\n",
       "    .dataframe tbody tr th:only-of-type {\n",
       "        vertical-align: middle;\n",
       "    }\n",
       "\n",
       "    .dataframe tbody tr th {\n",
       "        vertical-align: top;\n",
       "    }\n",
       "\n",
       "    .dataframe thead th {\n",
       "        text-align: right;\n",
       "    }\n",
       "</style>\n",
       "<table border=\"1\" class=\"dataframe\">\n",
       "  <thead>\n",
       "    <tr style=\"text-align: right;\">\n",
       "      <th></th>\n",
       "      <th>Size</th>\n",
       "      <th>Summing dependances</th>\n",
       "      <th>Elements involved</th>\n",
       "      <th>Frequency</th>\n",
       "      <th>Freq in p</th>\n",
       "    </tr>\n",
       "  </thead>\n",
       "  <tbody>\n",
       "    <tr>\n",
       "      <th>count</th>\n",
       "      <td>7.920000e+02</td>\n",
       "      <td>7.920000e+02</td>\n",
       "      <td>792.000000</td>\n",
       "      <td>792.000000</td>\n",
       "      <td>792.0</td>\n",
       "    </tr>\n",
       "    <tr>\n",
       "      <th>mean</th>\n",
       "      <td>3.342112e+07</td>\n",
       "      <td>5.477547e+07</td>\n",
       "      <td>52.323232</td>\n",
       "      <td>2.248737</td>\n",
       "      <td>0.0</td>\n",
       "    </tr>\n",
       "    <tr>\n",
       "      <th>std</th>\n",
       "      <td>1.720060e+07</td>\n",
       "      <td>2.037022e+07</td>\n",
       "      <td>12.816277</td>\n",
       "      <td>3.187364</td>\n",
       "      <td>0.0</td>\n",
       "    </tr>\n",
       "    <tr>\n",
       "      <th>min</th>\n",
       "      <td>1.754000e+03</td>\n",
       "      <td>6.362000e+03</td>\n",
       "      <td>1.000000</td>\n",
       "      <td>1.000000</td>\n",
       "      <td>0.0</td>\n",
       "    </tr>\n",
       "    <tr>\n",
       "      <th>25%</th>\n",
       "      <td>1.673806e+07</td>\n",
       "      <td>3.024990e+07</td>\n",
       "      <td>54.000000</td>\n",
       "      <td>1.000000</td>\n",
       "      <td>0.0</td>\n",
       "    </tr>\n",
       "    <tr>\n",
       "      <th>50%</th>\n",
       "      <td>3.674342e+07</td>\n",
       "      <td>6.511366e+07</td>\n",
       "      <td>54.000000</td>\n",
       "      <td>2.000000</td>\n",
       "      <td>0.0</td>\n",
       "    </tr>\n",
       "    <tr>\n",
       "      <th>75%</th>\n",
       "      <td>5.190540e+07</td>\n",
       "      <td>6.858892e+07</td>\n",
       "      <td>60.000000</td>\n",
       "      <td>3.000000</td>\n",
       "      <td>0.0</td>\n",
       "    </tr>\n",
       "    <tr>\n",
       "      <th>max</th>\n",
       "      <td>5.736519e+07</td>\n",
       "      <td>1.064856e+08</td>\n",
       "      <td>104.000000</td>\n",
       "      <td>60.000000</td>\n",
       "      <td>0.0</td>\n",
       "    </tr>\n",
       "  </tbody>\n",
       "</table>\n",
       "</div>"
      ],
      "text/plain": [
       "               Size  Summing dependances  Elements involved   Frequency  \\\n",
       "count  7.920000e+02         7.920000e+02         792.000000  792.000000   \n",
       "mean   3.342112e+07         5.477547e+07          52.323232    2.248737   \n",
       "std    1.720060e+07         2.037022e+07          12.816277    3.187364   \n",
       "min    1.754000e+03         6.362000e+03           1.000000    1.000000   \n",
       "25%    1.673806e+07         3.024990e+07          54.000000    1.000000   \n",
       "50%    3.674342e+07         6.511366e+07          54.000000    2.000000   \n",
       "75%    5.190540e+07         6.858892e+07          60.000000    3.000000   \n",
       "max    5.736519e+07         1.064856e+08         104.000000   60.000000   \n",
       "\n",
       "       Freq in p  \n",
       "count      792.0  \n",
       "mean         0.0  \n",
       "std          0.0  \n",
       "min          0.0  \n",
       "25%          0.0  \n",
       "50%          0.0  \n",
       "75%          0.0  \n",
       "max          0.0  "
      ]
     },
     "execution_count": 340,
     "metadata": {},
     "output_type": "execute_result"
    }
   ],
   "source": [
    "kernel_package.describe()\n"
   ]
  },
  {
   "cell_type": "code",
   "execution_count": 341,
   "metadata": {},
   "outputs": [
    {
     "data": {
      "text/html": [
       "<div>\n",
       "<style scoped>\n",
       "    .dataframe tbody tr th:only-of-type {\n",
       "        vertical-align: middle;\n",
       "    }\n",
       "\n",
       "    .dataframe tbody tr th {\n",
       "        vertical-align: top;\n",
       "    }\n",
       "\n",
       "    .dataframe thead th {\n",
       "        text-align: right;\n",
       "    }\n",
       "</style>\n",
       "<table border=\"1\" class=\"dataframe\">\n",
       "  <thead>\n",
       "    <tr style=\"text-align: right;\">\n",
       "      <th></th>\n",
       "      <th>Size</th>\n",
       "      <th>Summing dependances</th>\n",
       "      <th>Elements involved</th>\n",
       "      <th>Frequency</th>\n",
       "      <th>Freq in p</th>\n",
       "    </tr>\n",
       "  </thead>\n",
       "  <tbody>\n",
       "    <tr>\n",
       "      <th>count</th>\n",
       "      <td>5.712500e+04</td>\n",
       "      <td>5.712500e+04</td>\n",
       "      <td>57125.000000</td>\n",
       "      <td>57125.000000</td>\n",
       "      <td>57125.000000</td>\n",
       "    </tr>\n",
       "    <tr>\n",
       "      <th>mean</th>\n",
       "      <td>2.118439e+06</td>\n",
       "      <td>2.304105e+07</td>\n",
       "      <td>50.181129</td>\n",
       "      <td>50.181129</td>\n",
       "      <td>0.000070</td>\n",
       "    </tr>\n",
       "    <tr>\n",
       "      <th>std</th>\n",
       "      <td>1.650300e+07</td>\n",
       "      <td>4.103973e+07</td>\n",
       "      <td>75.683623</td>\n",
       "      <td>700.790561</td>\n",
       "      <td>0.008368</td>\n",
       "    </tr>\n",
       "    <tr>\n",
       "      <th>min</th>\n",
       "      <td>7.960000e+02</td>\n",
       "      <td>1.542000e+03</td>\n",
       "      <td>1.000000</td>\n",
       "      <td>1.000000</td>\n",
       "      <td>0.000000</td>\n",
       "    </tr>\n",
       "    <tr>\n",
       "      <th>25%</th>\n",
       "      <td>1.605600e+04</td>\n",
       "      <td>5.330682e+06</td>\n",
       "      <td>6.000000</td>\n",
       "      <td>1.000000</td>\n",
       "      <td>0.000000</td>\n",
       "    </tr>\n",
       "    <tr>\n",
       "      <th>50%</th>\n",
       "      <td>6.317800e+04</td>\n",
       "      <td>1.302607e+07</td>\n",
       "      <td>20.000000</td>\n",
       "      <td>1.000000</td>\n",
       "      <td>0.000000</td>\n",
       "    </tr>\n",
       "    <tr>\n",
       "      <th>75%</th>\n",
       "      <td>3.928900e+05</td>\n",
       "      <td>2.374324e+07</td>\n",
       "      <td>63.000000</td>\n",
       "      <td>3.000000</td>\n",
       "      <td>0.000000</td>\n",
       "    </tr>\n",
       "    <tr>\n",
       "      <th>max</th>\n",
       "      <td>1.067972e+09</td>\n",
       "      <td>1.687585e+09</td>\n",
       "      <td>1109.000000</td>\n",
       "      <td>48476.000000</td>\n",
       "      <td>1.000000</td>\n",
       "    </tr>\n",
       "  </tbody>\n",
       "</table>\n",
       "</div>"
      ],
      "text/plain": [
       "               Size  Summing dependances  Elements involved     Frequency  \\\n",
       "count  5.712500e+04         5.712500e+04       57125.000000  57125.000000   \n",
       "mean   2.118439e+06         2.304105e+07          50.181129     50.181129   \n",
       "std    1.650300e+07         4.103973e+07          75.683623    700.790561   \n",
       "min    7.960000e+02         1.542000e+03           1.000000      1.000000   \n",
       "25%    1.605600e+04         5.330682e+06           6.000000      1.000000   \n",
       "50%    6.317800e+04         1.302607e+07          20.000000      1.000000   \n",
       "75%    3.928900e+05         2.374324e+07          63.000000      3.000000   \n",
       "max    1.067972e+09         1.687585e+09        1109.000000  48476.000000   \n",
       "\n",
       "          Freq in p  \n",
       "count  57125.000000  \n",
       "mean       0.000070  \n",
       "std        0.008368  \n",
       "min        0.000000  \n",
       "25%        0.000000  \n",
       "50%        0.000000  \n",
       "75%        0.000000  \n",
       "max        1.000000  "
      ]
     },
     "execution_count": 341,
     "metadata": {},
     "output_type": "execute_result"
    }
   ],
   "source": [
    "gt.describe()"
   ]
  },
  {
   "cell_type": "markdown",
   "metadata": {},
   "source": [
    "In average, the kernel packages are approximatively 10 times bigger\n",
    "\n",
    "Not a lot of variation in the distribution of the elements involved, which is approximatively the overall mean: 53 elements involved per packages"
   ]
  },
  {
   "cell_type": "code",
   "execution_count": 342,
   "metadata": {},
   "outputs": [
    {
     "data": {
      "text/plain": [
       "<matplotlib.axes._subplots.AxesSubplot at 0x7f82c77959b0>"
      ]
     },
     "execution_count": 342,
     "metadata": {},
     "output_type": "execute_result"
    },
    {
     "data": {
      "image/png": "[encoded data removed]",
      "text/plain": [
       "<Figure size 432x288 with 1 Axes>"
      ]
     },
     "metadata": {
      "needs_background": "light"
     },
     "output_type": "display_data"
    }
   ],
   "source": [
    "lin_im.Size.plot.hist(bins = 50)"
   ]
  },
  {
   "cell_type": "markdown",
   "metadata": {},
   "source": [
    "##### COMPARING w.r.t their dependences #####"
   ]
  },
  {
   "cell_type": "code",
   "execution_count": 343,
   "metadata": {},
   "outputs": [
    {
     "data": {
      "text/plain": [
       "count    778.000000\n",
       "mean      52.511568\n",
       "std       11.851744\n",
       "min       14.000000\n",
       "25%       54.000000\n",
       "50%       54.000000\n",
       "75%       60.000000\n",
       "max       66.000000\n",
       "Name: Elements involved, dtype: float64"
      ]
     },
     "execution_count": 343,
     "metadata": {},
     "output_type": "execute_result"
    }
   ],
   "source": [
    "lin_im[\"Elements involved\"].describe()"
   ]
  },
  {
   "cell_type": "code",
   "execution_count": 344,
   "metadata": {},
   "outputs": [
    {
     "data": {
      "text/plain": [
       "count    57125.000000\n",
       "mean        50.181129\n",
       "std         75.683623\n",
       "min          1.000000\n",
       "25%          6.000000\n",
       "50%         20.000000\n",
       "75%         63.000000\n",
       "max       1109.000000\n",
       "Name: Elements involved, dtype: float64"
      ]
     },
     "execution_count": 344,
     "metadata": {},
     "output_type": "execute_result"
    }
   ],
   "source": [
    "gt[\"Elements involved\"].describe()"
   ]
  },
  {
   "cell_type": "code",
   "execution_count": 345,
   "metadata": {},
   "outputs": [
    {
     "data": {
      "text/html": [
       "<div>\n",
       "<style scoped>\n",
       "    .dataframe tbody tr th:only-of-type {\n",
       "        vertical-align: middle;\n",
       "    }\n",
       "\n",
       "    .dataframe tbody tr th {\n",
       "        vertical-align: top;\n",
       "    }\n",
       "\n",
       "    .dataframe thead th {\n",
       "        text-align: right;\n",
       "    }\n",
       "</style>\n",
       "<table border=\"1\" class=\"dataframe\">\n",
       "  <thead>\n",
       "    <tr style=\"text-align: right;\">\n",
       "      <th></th>\n",
       "      <th>Version</th>\n",
       "      <th>Filename</th>\n",
       "      <th>Summing dependances</th>\n",
       "      <th>Elements involved</th>\n",
       "      <th>Childrens</th>\n",
       "      <th>Frequency</th>\n",
       "      <th>Freq in p</th>\n",
       "    </tr>\n",
       "    <tr>\n",
       "      <th>Package</th>\n",
       "      <th></th>\n",
       "      <th></th>\n",
       "      <th></th>\n",
       "      <th></th>\n",
       "      <th></th>\n",
       "      <th></th>\n",
       "      <th></th>\n",
       "    </tr>\n",
       "  </thead>\n",
       "  <tbody>\n",
       "    <tr>\n",
       "      <th>1</th>\n",
       "      <td>773</td>\n",
       "      <td>773</td>\n",
       "      <td>773</td>\n",
       "      <td>773</td>\n",
       "      <td>773</td>\n",
       "      <td>773</td>\n",
       "      <td>773</td>\n",
       "    </tr>\n",
       "    <tr>\n",
       "      <th>2</th>\n",
       "      <td>7</td>\n",
       "      <td>7</td>\n",
       "      <td>7</td>\n",
       "      <td>7</td>\n",
       "      <td>7</td>\n",
       "      <td>7</td>\n",
       "      <td>7</td>\n",
       "    </tr>\n",
       "    <tr>\n",
       "      <th>5</th>\n",
       "      <td>1</td>\n",
       "      <td>1</td>\n",
       "      <td>1</td>\n",
       "      <td>1</td>\n",
       "      <td>1</td>\n",
       "      <td>1</td>\n",
       "      <td>1</td>\n",
       "    </tr>\n",
       "  </tbody>\n",
       "</table>\n",
       "</div>"
      ],
      "text/plain": [
       "         Version  Filename  Summing dependances  Elements involved  Childrens  \\\n",
       "Package                                                                         \n",
       "1            773       773                  773                773        773   \n",
       "2              7         7                    7                  7          7   \n",
       "5              1         1                    1                  1          1   \n",
       "\n",
       "         Frequency  Freq in p  \n",
       "Package                        \n",
       "1              773        773  \n",
       "2                7          7  \n",
       "5                1          1  "
      ]
     },
     "execution_count": 345,
     "metadata": {},
     "output_type": "execute_result"
    }
   ],
   "source": [
    "g = kernel_package.groupby(\"Size\").count()\n",
    "g.groupby(\"Package\").count()"
   ]
  },
  {
   "cell_type": "code",
   "execution_count": 346,
   "metadata": {},
   "outputs": [],
   "source": [
    "uniqueness_count = []\n",
    "\n",
    "# For each kernel package we count the nuber of other packages that have the same size\n",
    "for index, row in kernel_package.iterrows():\n",
    "    uniqueness_count += [len(gt[gt[\"Size\"] == row['Size']])]"
   ]
  },
  {
   "cell_type": "code",
   "execution_count": 349,
   "metadata": {},
   "outputs": [
    {
     "name": "stdout",
     "output_type": "stream",
     "text": [
      "#unique:  1  at  0.9494949494949495  %\n",
      "#unique:  3  at  0.010101010101010102  %\n",
      "#unique:  2  at  0.005050505050505051  %\n",
      "#unique:  4  at  0.006313131313131313  %\n",
      "#unique:  5  at  0.003787878787878788  %\n",
      "#unique:  39  at  0.0025252525252525255  %\n",
      "#unique:  46  at  0.0025252525252525255  %\n",
      "#unique:  34  at  0.006313131313131313  %\n",
      "#unique:  6  at  0.006313131313131313  %\n",
      "#unique:  41  at  0.0012626262626262627  %\n",
      "#unique:  17  at  0.0025252525252525255  %\n",
      "#unique:  10  at  0.0012626262626262627  %\n",
      "#unique:  9  at  0.0012626262626262627  %\n",
      "#unique:  7  at  0.0012626262626262627  %\n"
     ]
    }
   ],
   "source": [
    "from collections import Counter\n",
    "cnt = Counter()\n",
    "\n",
    "# Just count how many kernel packages have the same number of other packages exact size\n",
    "for x in uniqueness_count:\n",
    "    cnt[x] +=1\n",
    "\n",
    "# Sum of occurences of unique sized Packages\n",
    "total =0\n",
    "for x, y in cnt.items():\n",
    "    total +=  y\n",
    "\n",
    "# Translating into percentage\n",
    "for x, y in cnt.items():\n",
    "    print(\"#unique: \",x, \" at \", y/total, \" %\" )"
   ]
  },
  {
   "cell_type": "markdown",
   "metadata": {},
   "source": [
    "We see that most of the Package Kernel are unique in size against the whole dataframe i.e. : 95%"
   ]
  },
  {
   "cell_type": "code",
   "execution_count": 348,
   "metadata": {},
   "outputs": [
    {
     "data": {
      "text/plain": [
       "Counter({1: 752,\n",
       "         3: 8,\n",
       "         2: 4,\n",
       "         4: 5,\n",
       "         5: 3,\n",
       "         39: 2,\n",
       "         46: 2,\n",
       "         34: 5,\n",
       "         6: 5,\n",
       "         41: 1,\n",
       "         17: 2,\n",
       "         10: 1,\n",
       "         9: 1,\n",
       "         7: 1})"
      ]
     },
     "execution_count": 348,
     "metadata": {},
     "output_type": "execute_result"
    }
   ],
   "source": [
    "cnt"
   ]
  },
  {
   "cell_type": "markdown",
   "metadata": {},
   "source": [
    " <a id = \"time_changement\"></a>\n",
    "## Time Changement On Crawled Packages\n",
    "[Table of content](#tc)\n",
    "\n",
    "After a period of approximatively 1 month."
   ]
  },
  {
   "cell_type": "code",
   "execution_count": 206,
   "metadata": {},
   "outputs": [],
   "source": [
    "gt=load_fingerpatch(\"ubuntu_cleaned_packets\")\n",
    "gt_old=load_fingerpatch(\"ubuntu_cleaned_packets\", \"fingerpatch_old\")"
   ]
  },
  {
   "cell_type": "code",
   "execution_count": 207,
   "metadata": {},
   "outputs": [
    {
     "name": "stdout",
     "output_type": "stream",
     "text": [
      "128 more Packages \n",
      "overall size has been expanded by 1006343270\n"
     ]
    }
   ],
   "source": [
    "print(\"{} more Packages \".format(gt.count().iloc[0] - gt_old.count().iloc[0]))\n",
    "added_size = gt[\"Size\"].sum() - gt_old[\"Size\"].sum()\n",
    "print(\"overall size has been expanded by {}\".format(added_size))"
   ]
  },
  {
   "cell_type": "markdown",
   "metadata": {},
   "source": [
    "Now we can have a closer look of what have been changed\n",
    "\n"
   ]
  },
  {
   "cell_type": "code",
   "execution_count": 209,
   "metadata": {},
   "outputs": [],
   "source": [
    "gt[\"Package_Version\"] = gt.apply( lambda x:  x[\"Package\"] +\" \"+x[\"Version\"] , axis = 1)\n",
    "gt_old[\"Package_Version\"] = gt_old.apply( lambda x:  x[\"Package\"] +\" \"+x[\"Version\"] , axis = 1)\n",
    "\n",
    "gt = gt.set_index([\"Package_Version\"])\n",
    "gt_old = gt_old.set_index([\"Package_Version\"])"
   ]
  },
  {
   "cell_type": "code",
   "execution_count": 211,
   "metadata": {},
   "outputs": [
    {
     "name": "stdout",
     "output_type": "stream",
     "text": [
      "Make sure that both df have unique index to compare them proprely: True | True\n"
     ]
    }
   ],
   "source": [
    "print(\"Make sure that both df have unique index to compare them proprely: {} | {}\".format(gt.index.is_unique,gt_old.index.is_unique))"
   ]
  },
  {
   "cell_type": "markdown",
   "metadata": {},
   "source": [
    "No we want to see what new packages have been added"
   ]
  },
  {
   "cell_type": "markdown",
   "metadata": {},
   "source": [
    "All the new packages that have been added versus all the old packages that have been removed"
   ]
  },
  {
   "cell_type": "code",
   "execution_count": 212,
   "metadata": {},
   "outputs": [
    {
     "data": {
      "text/plain": [
       "Index(['apparmor 2.10.95-0ubuntu2.6~14.04.4',\n",
       "       'apparmor-docs 2.10.95-0ubuntu2.6~14.04.4',\n",
       "       'apparmor-easyprof 2.10.95-0ubuntu2.6~14.04.4',\n",
       "       'apparmor-notify 2.10.95-0ubuntu2.6~14.04.4',\n",
       "       'apparmor-profiles 2.10.95-0ubuntu2.6~14.04.4',\n",
       "       'apparmor-utils 2.10.95-0ubuntu2.6~14.04.4', 'apturl 0.5.2ubuntu4.1',\n",
       "       'apturl-common 0.5.2ubuntu4.1', 'apturl-kde 0.5.2ubuntu4.1',\n",
       "       'audiofile-tools 0.3.6-2ubuntu0.14.04.3',\n",
       "       ...\n",
       "       'vigor 0.016-24build0.14.04.1', 'wireshark 2.6.3-1~ubuntu14.04.1',\n",
       "       'wireshark-common 2.6.3-1~ubuntu14.04.1',\n",
       "       'wireshark-dev 2.6.3-1~ubuntu14.04.1',\n",
       "       'wireshark-doc 2.6.3-1~ubuntu14.04.1',\n",
       "       'wireshark-gtk 2.6.3-1~ubuntu14.04.1',\n",
       "       'wireshark-qt 2.6.3-1~ubuntu14.04.1',\n",
       "       'xul-ext-calendar-timezones 1:60.2.1+build1-0ubuntu0.14.04.2',\n",
       "       'xul-ext-gdata-provider 1:60.2.1+build1-0ubuntu0.14.04.2',\n",
       "       'xul-ext-lightning 1:60.2.1+build1-0ubuntu0.14.04.2'],\n",
       "      dtype='object', name='Package_Version', length=776)"
      ]
     },
     "execution_count": 212,
     "metadata": {},
     "output_type": "execute_result"
    }
   ],
   "source": [
    "new = gt.index.difference(gt_old.index)\n",
    "new"
   ]
  },
  {
   "cell_type": "code",
   "execution_count": 213,
   "metadata": {},
   "outputs": [
    {
     "data": {
      "text/plain": [
       "Index(['apparmor 2.10.95-0ubuntu2.6~14.04.1',\n",
       "       'apparmor 2.10.95-0ubuntu2.6~14.04.3',\n",
       "       'apparmor-docs 2.10.95-0ubuntu2.6~14.04.1',\n",
       "       'apparmor-docs 2.10.95-0ubuntu2.6~14.04.3',\n",
       "       'apparmor-easyprof 2.10.95-0ubuntu2.6~14.04.1',\n",
       "       'apparmor-easyprof 2.10.95-0ubuntu2.6~14.04.3',\n",
       "       'apparmor-notify 2.10.95-0ubuntu2.6~14.04.1',\n",
       "       'apparmor-notify 2.10.95-0ubuntu2.6~14.04.3',\n",
       "       'apparmor-profiles 2.10.95-0ubuntu2.6~14.04.1',\n",
       "       'apparmor-profiles 2.10.95-0ubuntu2.6~14.04.3',\n",
       "       ...\n",
       "       'tshark 1.12.1+g01b65bf-4+deb8u11ubuntu0.14.04.1',\n",
       "       'tzdata 2018e-0ubuntu0.14.04', 'tzdata-java 2018e-0ubuntu0.14.04',\n",
       "       'wireshark 1.12.1+g01b65bf-4+deb8u11ubuntu0.14.04.1',\n",
       "       'wireshark-common 1.12.1+g01b65bf-4+deb8u11ubuntu0.14.04.1',\n",
       "       'wireshark-dev 1.12.1+g01b65bf-4+deb8u11ubuntu0.14.04.1',\n",
       "       'wireshark-qt 1.12.1+g01b65bf-4+deb8u11ubuntu0.14.04.1',\n",
       "       'xul-ext-calendar-timezones 1:52.9.1+build3-0ubuntu0.14.04.1',\n",
       "       'xul-ext-gdata-provider 1:52.9.1+build3-0ubuntu0.14.04.1',\n",
       "       'xul-ext-lightning 1:52.9.1+build3-0ubuntu0.14.04.1'],\n",
       "      dtype='object', name='Package_Version', length=648)"
      ]
     },
     "execution_count": 213,
     "metadata": {},
     "output_type": "execute_result"
    }
   ],
   "source": [
    "old = gt_old.index.difference(gt.index)\n",
    "old"
   ]
  },
  {
   "cell_type": "markdown",
   "metadata": {},
   "source": [
    "Is there any packages are not updated in version put only on siz?"
   ]
  },
  {
   "cell_type": "code",
   "execution_count": 214,
   "metadata": {},
   "outputs": [
    {
     "data": {
      "text/plain": [
       "1006343270"
      ]
     },
     "execution_count": 214,
     "metadata": {},
     "output_type": "execute_result"
    }
   ],
   "source": [
    "# Size added by the new Packages - Size substracted by the old packages\n",
    "gt.loc[new].Size.sum() - gt_old.loc[old].Size.sum()"
   ]
  },
  {
   "cell_type": "markdown",
   "metadata": {},
   "source": [
    "Same has the total sum added : __Only new Packages Influences the Size__"
   ]
  },
  {
   "cell_type": "markdown",
   "metadata": {},
   "source": [
    " <a id =\"unicity\"></a>\n",
    "## Unicity\n",
    "Exploring how unique are the size in the whole ground-truth dataframe\n",
    "\n",
    "[Table of Content](#tc)"
   ]
  },
  {
   "cell_type": "code",
   "execution_count": 216,
   "metadata": {},
   "outputs": [],
   "source": [
    "gt=load_fingerpatch(\"ubuntu_cleaned_packets\")\n",
    "gt[\"Freq in p\"] =gt[\"Frequency\"].map(lambda x : x/len(gt))"
   ]
  },
  {
   "cell_type": "code",
   "execution_count": 217,
   "metadata": {},
   "outputs": [],
   "source": [
    "# We groupby Size and count the number of occurences and group again on that number of occurences\n",
    "bySize = gt.groupby(by=\"Size\").count().groupby(by = \"Package\").count()\n",
    "\n",
    "# Useful for %tage\n",
    "total = bySize[\"Version\"].sum()\n",
    "\n",
    "\n",
    "# Convert the number of occurence to a percentage\n",
    "unicity_1 =bySize[\"Version\"].map(lambda x : x/total).sort_values(ascending = False).head(5)\n",
    "\n",
    "# Similar step as above\n",
    "includingDep = gt.groupby(by=\"Summing dependances\").count().groupby(by = \"Package\").count()\n",
    "total = includingDep[\"Version\"].sum()\n",
    "unicity_2 = includingDep[\"Version\"].map(lambda x : x/total).sort_values(ascending = False).head(5)"
   ]
  },
  {
   "cell_type": "code",
   "execution_count": 291,
   "metadata": {},
   "outputs": [
    {
     "name": "stdout",
     "output_type": "stream",
     "text": [
      "The packages that are at least in 20.0% of other Packages \n"
     ]
    },
    {
     "data": {
      "text/plain": [
       "id\n",
       "128845               debconf\n",
       "128853           debianutils\n",
       "129182     fonts-dejavu-core\n",
       "130723       libaudit-common\n",
       "130725             libaudit1\n",
       "130861            libbz2-1.0\n",
       "131808         libgpg-error0\n",
       "132150              libjpeg8\n",
       "132331              liblzma5\n",
       "132641          libncursesw5\n",
       "132819           libp11-kit0\n",
       "133495    libsemanage-common\n",
       "133496          libsemanage1\n",
       "133832             libtinfo5\n",
       "133954         libustr-1.0-1\n",
       "134166               libxau6\n",
       "134257               libxcb1\n",
       "134270             libxdmcp6\n",
       "136546                   ucf\n",
       "173482             coreutils\n",
       "173545                  dpkg\n",
       "173738     fontconfig-config\n",
       "173770          gcc-4.8-base\n",
       "173781          gcc-4.9-base\n",
       "174814                 libc6\n",
       "174862            libcomerr2\n",
       "174900              libdb5.3\n",
       "174914           libdbus-1-3\n",
       "175035             libexpat1\n",
       "175038               libffi6\n",
       "175046        libfontconfig1\n",
       "175061          libfreetype6\n",
       "175107               libgcc1\n",
       "175118           libgcrypt11\n",
       "175264          libglib2.0-0\n",
       "175278           libgnutls26\n",
       "175428        libjpeg-turbo8\n",
       "175833        libpam-modules\n",
       "175840              libpam0g\n",
       "175858              libpcre3\n",
       "175896            libpng12-0\n",
       "176196           libselinux1\n",
       "176198             libsepol1\n",
       "176238          libsqlite3-0\n",
       "176249           libssl1.0.0\n",
       "176263            libstdc++6\n",
       "176289            libtasn1-6\n",
       "176349              libuuid1\n",
       "176425              libx11-6\n",
       "176427           libx11-data\n",
       "176498              libxext6\n",
       "176514               libxml2\n",
       "180292              lsb-base\n",
       "180548                passwd\n",
       "180553             perl-base\n",
       "181027        sensible-utils\n",
       "181753                zlib1g\n",
       "Name: Package, dtype: object"
      ]
     },
     "execution_count": 291,
     "metadata": {},
     "output_type": "execute_result"
    }
   ],
   "source": [
    "# Get the Packages that are present in at least TOP_X of the package's childrens\n",
    "TOP_X = 0.2\n",
    "most_common_dep = gt[gt[\"Freq in p\"] >=TOP_X]\n",
    "print(\"The packages that are at least in \"+str(TOP_X*100)+\"% of other Packages \")\n",
    "gt.loc[most_common_dep.index][\"Package\"]"
   ]
  },
  {
   "cell_type": "code",
   "execution_count": 281,
   "metadata": {},
   "outputs": [],
   "source": [
    "def create_unicity_df_from_top_most_common(TOP_X, df):\n",
    "    \n",
    "    # Get the Packages that are present in at least TOP_X of the package's childrens\n",
    "    most_common_dep = gt[gt[\"Freq in p\"] >=TOP_X]\n",
    "    \n",
    "    # Creating a dict to get the size from the id of the most common packages\n",
    "    mst_comm_dep = most_common_dep[\"Size\"]\n",
    "    mst_comm_dep_dict = mst_comm_dep.to_dict()\n",
    "\n",
    "    # Removing the most common packages in the dataframe\n",
    "    gt_without_mcd = df.drop(mst_comm_dep.index)\n",
    "\n",
    "    # Function to substract the Size of the most common Packages\n",
    "    def substract_comm(row, mst_comm_dep_dict):\n",
    "        s = row[\"Summing dependances\"]\n",
    "        for c in row[\"Childrens\"]:\n",
    "            if c in mst_comm_dep_dict :\n",
    "\n",
    "                s = s - mst_comm_dep_dict[c]\n",
    "\n",
    "        return s\n",
    "\n",
    "\n",
    "    sum_size_without_common =gt_without_mcd.apply(lambda x : substract_comm(x, mst_comm_dep_dict), 1)\n",
    "\n",
    "    # Same has unicity_1 & 2\n",
    "    grp = sum_size_without_common.groupby(sum_size_without_common).count()\n",
    "    unicity = grp.groupby(grp).count()\n",
    "    unicity =unicity.map(lambda x :x/unicity.sum()).sort_values(ascending = False).head(5)\n",
    "    return unicity\n",
    "\n",
    "unicity_3 = create_unicity_df_from_top_most_common(TOP_X, gt)"
   ]
  },
  {
   "cell_type": "code",
   "execution_count": 285,
   "metadata": {},
   "outputs": [
    {
     "data": {
      "image/png": "[encoded data removed]",
      "text/plain": [
       "<Figure size 1080x288 with 3 Axes>"
      ]
     },
     "metadata": {
      "needs_background": "light"
     },
     "output_type": "display_data"
    }
   ],
   "source": [
    "## Plotting the 3 graphs\n",
    "\n",
    "def create_unicity_plot(unicity_1, unicity_2, unicity_3, t1, t2, t3):\n",
    "    fig, ax =plt.subplots(1, 3, sharey=True, figsize=(15, 4))\n",
    "    fig.suptitle(\"Uncitiy\", fontsize=16, y=1.02)\n",
    "\n",
    "    # Graph on size\n",
    "    ax[0].set_title(t1)\n",
    "    unicity_1.plot.bar(ax = ax[0])\n",
    "    ax[0].xaxis.set_label_text('')\n",
    "\n",
    "    # Graph on sum of Size\n",
    "    ax[1].set_title(t2)\n",
    "    unicity_2.plot.bar(ax = ax[1])\n",
    "    ax[1].xaxis.set_label_text('')\n",
    "\n",
    "    ax[2].set_title(t3)\n",
    "    unicity_3.plot.bar(ax =ax[2])\n",
    "    fig.text(0.5, 0.02, 'Number of packages with unique sizes',fontsize=13 ,ha='center', va='center')\n",
    "\n",
    "    fig.text(0.09, 0.5, 'Ratio in %', ha='center', va='center',fontsize=13, rotation='vertical')\n",
    "\n",
    "    \n",
    "create_unicity_plot(unicity_1, unicity_2, unicity_3, \"on Size\",\"on sum of Size\", \"Sum of size w/o \"+str(TOP_X*100)+\"% freq\" )"
   ]
  },
  {
   "cell_type": "markdown",
   "metadata": {},
   "source": [
    "Reducing this `TOP_X` value, we can get closer than the first graph "
   ]
  },
  {
   "cell_type": "code",
   "execution_count": 325,
   "metadata": {},
   "outputs": [
    {
     "data": {
      "text/plain": [
       "1.75054704595186e-05"
      ]
     },
     "execution_count": 325,
     "metadata": {},
     "output_type": "execute_result"
    }
   ],
   "source": [
    "gt[\"Freq in p\"].min()"
   ]
  },
  {
   "cell_type": "code",
   "execution_count": 330,
   "metadata": {},
   "outputs": [
    {
     "data": {
      "image/png": "[encoded data removed]",
      "text/plain": [
       "<Figure size 1080x288 with 3 Axes>"
      ]
     },
     "metadata": {
      "needs_background": "light"
     },
     "output_type": "display_data"
    }
   ],
   "source": [
    "low = 0.01\n",
    "very_low = 0.0001\n",
    "lowest = 1.75054704595187e-05\n",
    "\n",
    "unicity_lowest = create_unicity_df_from_top_most_common(lowest, gt)\n",
    "unicity_low = create_unicity_df_from_top_most_common(low, gt)\n",
    "unicity_very_low = create_unicity_df_from_top_most_common(very_low, gt)\n",
    "\n",
    "\n",
    "t_low =\"Sum of size w/o \"+str(low*100)+\"% freq\"\n",
    "t_very_low =\"Sum of size w/o \"+str(very_low*100)+\"% freq\"\n",
    "t_lowest = \"Sum of size w/o \"+str(lowest*100)+\"% freq\"\n",
    "\n",
    "create_unicity_plot(unicity_low, unicity_very_low, unicity_lowest, t_low, t_very_low, t_lowest)"
   ]
  },
  {
   "cell_type": "code",
   "execution_count": 265,
   "metadata": {},
   "outputs": [
    {
     "name": "stdout",
     "output_type": "stream",
     "text": [
      "---Size--- \n",
      "\n",
      " Package\n",
      "1    0.830332\n",
      "2    0.111081\n",
      "3    0.035878\n",
      "4    0.012576\n",
      "5    0.004930\n",
      "Name: Version, dtype: float64 \n",
      "\n",
      "---Summing dep---\n",
      "\n",
      " Package\n",
      "1    0.981282\n",
      "2    0.017575\n",
      "3    0.000875\n",
      "4    0.000196\n",
      "7    0.000054\n",
      "Name: Version, dtype: float64 \n",
      "\n",
      "--Sum w/o 50.0% common--- \n",
      "\n",
      " 1    0.977398\n",
      "2    0.021041\n",
      "3    0.001256\n",
      "4    0.000233\n",
      "7    0.000054\n",
      "dtype: float64 \n",
      "\n"
     ]
    }
   ],
   "source": [
    "print(\"---Size--- \\n\\n\",unicity_1, \"\\n\\n---Summing dep---\\n\\n\", unicity_2, \"\\n\\n--Sum w/o \"+ str(TOP_X*100)+\"% common--- \\n\\n\", unicity_3, \"\\n\")"
   ]
  },
  {
   "cell_type": "code",
   "execution_count": 328,
   "metadata": {},
   "outputs": [
    {
     "name": "stdout",
     "output_type": "stream",
     "text": [
      "---Low--- \n",
      "\n",
      " 1    0.944723\n",
      "2    0.047894\n",
      "3    0.006253\n",
      "4    0.000923\n",
      "5    0.000132\n",
      "dtype: float64 \n",
      "\n",
      "---Very_Low---\n",
      "\n",
      " 1    0.878596\n",
      "2    0.094940\n",
      "3    0.018823\n",
      "4    0.004730\n",
      "5    0.001552\n",
      "dtype: float64 \n",
      "\n",
      "--- Lowest--- \n",
      "\n",
      " 1    0.867167\n",
      "2    0.097486\n",
      "3    0.021689\n",
      "4    0.005553\n",
      "5    0.002552\n",
      "dtype: float64 \n",
      "\n"
     ]
    }
   ],
   "source": [
    "print(\"---Low--- \\n\\n\",unicity_low, \"\\n\\n---Very_Low---\\n\\n\", unicity_very_low, \"\\n\\n--- Lowest--- \\n\\n\", unicity_lowest, \"\\n\")"
   ]
  },
  {
   "cell_type": "code",
   "execution_count": 95,
   "metadata": {},
   "outputs": [
    {
     "data": {
      "text/plain": [
       "1    0.856584\n",
       "2    0.106516\n",
       "3    0.022322\n",
       "4    0.008270\n",
       "5    0.003207\n",
       "dtype: float64"
      ]
     },
     "execution_count": 95,
     "metadata": {},
     "output_type": "execute_result"
    }
   ],
   "source": [
    "both = ground_truth[\"Size\"].append(ground_truth[\"Summing dependances\"])\n",
    "grouped = both.groupby(both).count()\n",
    "uniqueness = grouped.groupby(grouped).count().sort_values(ascending = False)\n",
    "total = uniqueness.sum()\n",
    "uniqueness.map(lambda x : x/total).head()"
   ]
  },
  {
   "cell_type": "markdown",
   "metadata": {},
   "source": [
    "<a id = \"signatures\"></a>\n",
    "## Signatures in apt\n",
    "\n",
    "[Table of contents](#tc)\n",
    "\n",
    "Great overview [here](https://debian-handbook.info/browse/stable/sect.package-authentication.html) of how are managed package's signatrue\n",
    "\n",
    "The key's are managed by `apt-key` and used to verify the signature in the __Release__ file where all the packages metadata are contained with their respectives sha256 and md5 to which in trun verify the integrity and authenticity of a downloaded package.\n",
    "\n",
    "The Release file is in `var/lib/apt/lists`"
   ]
  }
 ],
 "metadata": {
  "kernelspec": {
   "display_name": "Python 3",
   "language": "python",
   "name": "python3"
  },
  "language_info": {
   "codemirror_mode": {
    "name": "ipython",
    "version": 3
   },
   "file_extension": ".py",
   "mimetype": "text/x-python",
   "name": "python",
   "nbconvert_exporter": "python",
   "pygments_lexer": "ipython3",
   "version": "3.6.6"
  }
 },
 "nbformat": 4,
 "nbformat_minor": 2
}
