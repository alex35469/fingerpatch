{
 "cells": [
  {
   "cell_type": "markdown",
   "metadata": {},
   "source": [
    "# Attack viz\n",
    "\n",
    "### Table of Content\n",
    "\n",
    " - [Set Up](#Setup)\n",
    " - [Uniqueness investigation & Cleaning ](#cleaning)\n",
    " - [Mounting an Attack](#Mounting_an_Attack)\n",
    " - [Dependens discovery](#dependens_discovery)\n",
    "\n",
    "## Set up <a id='Setup'></a>"
   ]
  },
  {
   "cell_type": "code",
   "execution_count": 257,
   "metadata": {},
   "outputs": [],
   "source": [
    "import matplotlib\n",
    "import pandas as pd\n",
    "import pymysql\n",
    "import random\n",
    "import tqdm\n",
    "%matplotlib inline"
   ]
  },
  {
   "cell_type": "code",
   "execution_count": 258,
   "metadata": {},
   "outputs": [
    {
     "name": "stdout",
     "output_type": "stream",
     "text": [
      "No db found, loading from CSV Files\n"
     ]
    }
   ],
   "source": [
    "# Trying to read the data from the fingerpatch db\n",
    "# Or if it doesnt't work from the csv\n",
    "try :\n",
    "    connection = pymysql.connect(host='localhost',\n",
    "                             user='fingerpatch',\n",
    "                             password='fingerpatch',\n",
    "                             db='fingerpatch',\n",
    "                             charset='utf8mb4',\n",
    "                             cursorclass=pymysql.cursors.DictCursor)\n",
    "    attack_table = pd.read_sql(\"SELECT * FROM `ubuntu_captures` \",connection)\n",
    "    ground_truth = pd.read_sql(\"SELECT * FROM `ubuntu_packets` \",connection)\n",
    "    connection.close()\n",
    "\n",
    "except :\n",
    "    \n",
    "    print(\"No db found, loading from CSV Files\")\n",
    "    \n",
    "    ground_truth = pd.read_csv(\"../crawl/ubuntu_packets.csv\")\n",
    "    attack_table = pd.read_csv(\"../capture/ubuntu_captures.csv\")\n",
    "\n",
    "\n",
    "ground_truth = ground_truth.set_index(\"id\") \n",
    "attack_table = attack_table.set_index(\"capture_id\")"
   ]
  },
  {
   "cell_type": "markdown",
   "metadata": {},
   "source": [
    "<a id='cleaning'></a>\n",
    "## Uniqueness investigation & Cleaning \n",
    "\n",
    "\n",
    "Select interesting columns and remove duplicated rows"
   ]
  },
  {
   "cell_type": "code",
   "execution_count": 259,
   "metadata": {},
   "outputs": [
    {
     "data": {
      "text/plain": [
       "Index(['capture_id', 'Package', 'Version', 'Architecture', 'Size',\n",
       "       'Installed-Size', 'Priority', 'Maintainer', 'SHA1', 'Description',\n",
       "       'parsedFrom', 'Description-md5', 'Bugs', 'Origin', 'MD5sum', 'Depends',\n",
       "       'Homepage', 'Source', 'SHA256', 'Section', 'Supported', 'Filename',\n",
       "       'packageMode'],\n",
       "      dtype='object')"
      ]
     },
     "execution_count": 259,
     "metadata": {},
     "output_type": "execute_result"
    }
   ],
   "source": [
    "ground_truth.columns"
   ]
  },
  {
   "cell_type": "code",
   "execution_count": 260,
   "metadata": {},
   "outputs": [
    {
     "name": "stdout",
     "output_type": "stream",
     "text": [
      "Total entries without having cleaned:  128148\n"
     ]
    }
   ],
   "source": [
    "print(\"Total entries without having cleaned: \", len(ground_truth))"
   ]
  },
  {
   "cell_type": "code",
   "execution_count": 261,
   "metadata": {},
   "outputs": [
    {
     "name": "stdout",
     "output_type": "stream",
     "text": [
      "The maximum duplication of rows that have the same Package name and Version is:  1\n",
      "Total entries after having cleaned:  56997\n"
     ]
    }
   ],
   "source": [
    "# Selecting only interessting fields i.e. the attacker has no mean to distinguish two packages that have the same size but different packageMode\n",
    "ground_truth = ground_truth.drop_duplicates(['Package', 'Version', 'Size', 'Depends', 'Architecture'])\n",
    "\n",
    "# Make sure that there is no duplicate information (For a given Package name and Version we have at most one match)\n",
    "print(\"The maximum duplication of rows that have the same Package name and Version is: \", ground_truth.groupby(by=[\"Package\", \"Version\"]).count()[\"SHA1\"].max())\n",
    "\n",
    "# Selecting only interessting columns\n",
    "ground_truth = ground_truth.drop(axis= 1, columns=['capture_id','SHA1', 'Priority', 'Description-md5', 'MD5sum', 'SHA256', 'packageMode' ])\n",
    "\n",
    "ground_truth = ground_truth.fillna(\"\")\n",
    "print(\"Total entries after having cleaned: \", len(ground_truth))"
   ]
  },
  {
   "cell_type": "markdown",
   "metadata": {},
   "source": [
    "<a id='Mounting_an_Attack'></a>\n",
    "## Mounting an Attack for matching a specific capture to a package.\n",
    "##### Relying on package size"
   ]
  },
  {
   "cell_type": "code",
   "execution_count": 262,
   "metadata": {
    "scrolled": true
   },
   "outputs": [
    {
     "data": {
      "text/plain": [
       "truth_id                                                       103746\n",
       "nb_flows                                                            3\n",
       "HTTP_Seq            [['GET /ubuntu/pool/universe/o/opennebula/libo...\n",
       "Flow1                                   target->yukinko.canonical.com\n",
       "Flow2                                   yukinko.canonical.com->target\n",
       "Flow3                                   target->yukinko.canonical.com\n",
       "Flow4                                                             NaN\n",
       "Flow5                                                             NaN\n",
       "nb_Payload_send1                                                    0\n",
       "nb_Payload_send2                                                67874\n",
       "nb_Payload_send3                                                  173\n",
       "nb_Payload_send4                                                  NaN\n",
       "nb_Payload_send5                                                  NaN\n",
       "Name: 1, dtype: object"
      ]
     },
     "execution_count": 262,
     "metadata": {},
     "output_type": "execute_result"
    }
   ],
   "source": [
    "target = attack_table.iloc[0]\n",
    "target"
   ]
  },
  {
   "cell_type": "code",
   "execution_count": 263,
   "metadata": {},
   "outputs": [],
   "source": [
    "EXTRA_SIZE_AVERAGE = 283   # Made from stats about captured packets\n",
    "EXTRA_SIZE_VARIATION = 5\n",
    "size_to_match = target['nb_Payload_send2']"
   ]
  },
  {
   "cell_type": "code",
   "execution_count": 264,
   "metadata": {},
   "outputs": [],
   "source": [
    "def distance_from_expected_average_size(x, size_to_match):\n",
    "    return abs(size_to_match - x - EXTRA_SIZE_AVERAGE)"
   ]
  },
  {
   "cell_type": "code",
   "execution_count": 265,
   "metadata": {},
   "outputs": [],
   "source": [
    "ground_truth[\"dist_from_expected_size\"] = ground_truth[\"Size\"].map(lambda x: distance_from_expected_average_size(x, size_to_match))"
   ]
  },
  {
   "cell_type": "code",
   "execution_count": 266,
   "metadata": {},
   "outputs": [
    {
     "data": {
      "text/html": [
       "<div>\n",
       "<style scoped>\n",
       "    .dataframe tbody tr th:only-of-type {\n",
       "        vertical-align: middle;\n",
       "    }\n",
       "\n",
       "    .dataframe tbody tr th {\n",
       "        vertical-align: top;\n",
       "    }\n",
       "\n",
       "    .dataframe thead th {\n",
       "        text-align: right;\n",
       "    }\n",
       "</style>\n",
       "<table border=\"1\" class=\"dataframe\">\n",
       "  <thead>\n",
       "    <tr style=\"text-align: right;\">\n",
       "      <th></th>\n",
       "      <th>Package</th>\n",
       "      <th>Version</th>\n",
       "      <th>Architecture</th>\n",
       "      <th>Size</th>\n",
       "      <th>Installed-Size</th>\n",
       "      <th>Maintainer</th>\n",
       "      <th>Description</th>\n",
       "      <th>parsedFrom</th>\n",
       "      <th>Bugs</th>\n",
       "      <th>Origin</th>\n",
       "      <th>Depends</th>\n",
       "      <th>Homepage</th>\n",
       "      <th>Source</th>\n",
       "      <th>Section</th>\n",
       "      <th>Supported</th>\n",
       "      <th>Filename</th>\n",
       "      <th>dist_from_expected_size</th>\n",
       "    </tr>\n",
       "    <tr>\n",
       "      <th>id</th>\n",
       "      <th></th>\n",
       "      <th></th>\n",
       "      <th></th>\n",
       "      <th></th>\n",
       "      <th></th>\n",
       "      <th></th>\n",
       "      <th></th>\n",
       "      <th></th>\n",
       "      <th></th>\n",
       "      <th></th>\n",
       "      <th></th>\n",
       "      <th></th>\n",
       "      <th></th>\n",
       "      <th></th>\n",
       "      <th></th>\n",
       "      <th></th>\n",
       "      <th></th>\n",
       "    </tr>\n",
       "  </thead>\n",
       "  <tbody>\n",
       "    <tr>\n",
       "      <th>39672</th>\n",
       "      <td>libopennebula-java-doc</td>\n",
       "      <td>3.4.1-4.1ubuntu1</td>\n",
       "      <td>all</td>\n",
       "      <td>67592</td>\n",
       "      <td>1194</td>\n",
       "      <td>Ubuntu Developers &lt;ubuntu-devel-discuss@lists....</td>\n",
       "      <td>Java bindings for OpenNebula Cloud API (OCA) -...</td>\n",
       "      <td>packages/archive.ubuntu.com_ubuntu_dists_trust...</td>\n",
       "      <td>https://bugs.launchpad.net/ubuntu/+filebug</td>\n",
       "      <td>Ubuntu</td>\n",
       "      <td></td>\n",
       "      <td>http://opennebula.org/</td>\n",
       "      <td>opennebula</td>\n",
       "      <td>universe/doc</td>\n",
       "      <td></td>\n",
       "      <td>pool/universe/o/opennebula/libopennebula-java-...</td>\n",
       "      <td>1</td>\n",
       "    </tr>\n",
       "    <tr>\n",
       "      <th>41519</th>\n",
       "      <td>libshisa-dev</td>\n",
       "      <td>1.0.2-3ubuntu2</td>\n",
       "      <td>amd64</td>\n",
       "      <td>67594</td>\n",
       "      <td>385</td>\n",
       "      <td>Ubuntu Developers &lt;ubuntu-devel-discuss@lists....</td>\n",
       "      <td>Development files for the Shishi Kerberos v5 K...</td>\n",
       "      <td>packages/archive.ubuntu.com_ubuntu_dists_trust...</td>\n",
       "      <td>https://bugs.launchpad.net/ubuntu/+filebug</td>\n",
       "      <td>Ubuntu</td>\n",
       "      <td>libshisa0 (= 1.0.2-3ubuntu2), libshishi-dev (=...</td>\n",
       "      <td>http://www.gnu.org/software/shishi/</td>\n",
       "      <td>shishi</td>\n",
       "      <td>universe/libdevel</td>\n",
       "      <td></td>\n",
       "      <td>pool/universe/s/shishi/libshisa-dev_1.0.2-3ubu...</td>\n",
       "      <td>3</td>\n",
       "    </tr>\n",
       "    <tr>\n",
       "      <th>14154</th>\n",
       "      <td>libcloog-isl-dev</td>\n",
       "      <td>0.18.2-1</td>\n",
       "      <td>amd64</td>\n",
       "      <td>67588</td>\n",
       "      <td>377</td>\n",
       "      <td>Ubuntu Developers &lt;ubuntu-devel-discuss@lists....</td>\n",
       "      <td>Chunky Loop Generator (development files)</td>\n",
       "      <td>packages/archive.ubuntu.com_ubuntu_dists_trust...</td>\n",
       "      <td>https://bugs.launchpad.net/ubuntu/+filebug</td>\n",
       "      <td>Ubuntu</td>\n",
       "      <td>libisl-dev (&gt;= 0.11), libgmp-dev, libcloog-isl...</td>\n",
       "      <td>http://www.CLooG.org</td>\n",
       "      <td>cloog</td>\n",
       "      <td>libdevel</td>\n",
       "      <td>9m</td>\n",
       "      <td>pool/main/c/cloog/libcloog-isl-dev_0.18.2-1_am...</td>\n",
       "      <td>3</td>\n",
       "    </tr>\n",
       "    <tr>\n",
       "      <th>34922</th>\n",
       "      <td>libghc-shakespeare-i18n-prof</td>\n",
       "      <td>1.0.0.2-4build1</td>\n",
       "      <td>amd64</td>\n",
       "      <td>67582</td>\n",
       "      <td>429</td>\n",
       "      <td>Ubuntu Developers &lt;ubuntu-devel-discuss@lists....</td>\n",
       "      <td>type-based approach to internationalization; p...</td>\n",
       "      <td>packages/archive.ubuntu.com_ubuntu_dists_trust...</td>\n",
       "      <td>https://bugs.launchpad.net/ubuntu/+filebug</td>\n",
       "      <td>Ubuntu</td>\n",
       "      <td>libghc-shakespeare-i18n-dev (= 1.0.0.2-4build1...</td>\n",
       "      <td>http://hackage.haskell.org/package/shakespeare...</td>\n",
       "      <td>haskell-shakespeare-i18n</td>\n",
       "      <td>universe/haskell</td>\n",
       "      <td></td>\n",
       "      <td>pool/universe/h/haskell-shakespeare-i18n/libgh...</td>\n",
       "      <td>9</td>\n",
       "    </tr>\n",
       "    <tr>\n",
       "      <th>26685</th>\n",
       "      <td>gkrellmoon</td>\n",
       "      <td>0.6-5</td>\n",
       "      <td>amd64</td>\n",
       "      <td>67578</td>\n",
       "      <td>320</td>\n",
       "      <td>Ubuntu MOTU Developers &lt;ubuntu-motu@lists.ubun...</td>\n",
       "      <td>Gkrellm Moon Clock Plugin</td>\n",
       "      <td>packages/archive.ubuntu.com_ubuntu_dists_trust...</td>\n",
       "      <td>https://bugs.launchpad.net/ubuntu/+filebug</td>\n",
       "      <td>Ubuntu</td>\n",
       "      <td>gkrellm (&gt;= 2.0.0), libatk1.0-0 (&gt;= 1.13.2), l...</td>\n",
       "      <td></td>\n",
       "      <td></td>\n",
       "      <td>universe/x11</td>\n",
       "      <td></td>\n",
       "      <td>pool/universe/g/gkrellmoon/gkrellmoon_0.6-5_am...</td>\n",
       "      <td>13</td>\n",
       "    </tr>\n",
       "  </tbody>\n",
       "</table>\n",
       "</div>"
      ],
      "text/plain": [
       "                            Package           Version Architecture   Size  \\\n",
       "id                                                                          \n",
       "39672        libopennebula-java-doc  3.4.1-4.1ubuntu1          all  67592   \n",
       "41519                  libshisa-dev    1.0.2-3ubuntu2        amd64  67594   \n",
       "14154              libcloog-isl-dev          0.18.2-1        amd64  67588   \n",
       "34922  libghc-shakespeare-i18n-prof   1.0.0.2-4build1        amd64  67582   \n",
       "26685                    gkrellmoon             0.6-5        amd64  67578   \n",
       "\n",
       "       Installed-Size                                         Maintainer  \\\n",
       "id                                                                         \n",
       "39672            1194  Ubuntu Developers <ubuntu-devel-discuss@lists....   \n",
       "41519             385  Ubuntu Developers <ubuntu-devel-discuss@lists....   \n",
       "14154             377  Ubuntu Developers <ubuntu-devel-discuss@lists....   \n",
       "34922             429  Ubuntu Developers <ubuntu-devel-discuss@lists....   \n",
       "26685             320  Ubuntu MOTU Developers <ubuntu-motu@lists.ubun...   \n",
       "\n",
       "                                             Description  \\\n",
       "id                                                         \n",
       "39672  Java bindings for OpenNebula Cloud API (OCA) -...   \n",
       "41519  Development files for the Shishi Kerberos v5 K...   \n",
       "14154          Chunky Loop Generator (development files)   \n",
       "34922  type-based approach to internationalization; p...   \n",
       "26685                          Gkrellm Moon Clock Plugin   \n",
       "\n",
       "                                              parsedFrom  \\\n",
       "id                                                         \n",
       "39672  packages/archive.ubuntu.com_ubuntu_dists_trust...   \n",
       "41519  packages/archive.ubuntu.com_ubuntu_dists_trust...   \n",
       "14154  packages/archive.ubuntu.com_ubuntu_dists_trust...   \n",
       "34922  packages/archive.ubuntu.com_ubuntu_dists_trust...   \n",
       "26685  packages/archive.ubuntu.com_ubuntu_dists_trust...   \n",
       "\n",
       "                                             Bugs  Origin  \\\n",
       "id                                                          \n",
       "39672  https://bugs.launchpad.net/ubuntu/+filebug  Ubuntu   \n",
       "41519  https://bugs.launchpad.net/ubuntu/+filebug  Ubuntu   \n",
       "14154  https://bugs.launchpad.net/ubuntu/+filebug  Ubuntu   \n",
       "34922  https://bugs.launchpad.net/ubuntu/+filebug  Ubuntu   \n",
       "26685  https://bugs.launchpad.net/ubuntu/+filebug  Ubuntu   \n",
       "\n",
       "                                                 Depends  \\\n",
       "id                                                         \n",
       "39672                                                      \n",
       "41519  libshisa0 (= 1.0.2-3ubuntu2), libshishi-dev (=...   \n",
       "14154  libisl-dev (>= 0.11), libgmp-dev, libcloog-isl...   \n",
       "34922  libghc-shakespeare-i18n-dev (= 1.0.0.2-4build1...   \n",
       "26685  gkrellm (>= 2.0.0), libatk1.0-0 (>= 1.13.2), l...   \n",
       "\n",
       "                                                Homepage  \\\n",
       "id                                                         \n",
       "39672                             http://opennebula.org/   \n",
       "41519                http://www.gnu.org/software/shishi/   \n",
       "14154                               http://www.CLooG.org   \n",
       "34922  http://hackage.haskell.org/package/shakespeare...   \n",
       "26685                                                      \n",
       "\n",
       "                         Source            Section Supported  \\\n",
       "id                                                             \n",
       "39672                opennebula       universe/doc             \n",
       "41519                    shishi  universe/libdevel             \n",
       "14154                     cloog           libdevel        9m   \n",
       "34922  haskell-shakespeare-i18n   universe/haskell             \n",
       "26685                                 universe/x11             \n",
       "\n",
       "                                                Filename  \\\n",
       "id                                                         \n",
       "39672  pool/universe/o/opennebula/libopennebula-java-...   \n",
       "41519  pool/universe/s/shishi/libshisa-dev_1.0.2-3ubu...   \n",
       "14154  pool/main/c/cloog/libcloog-isl-dev_0.18.2-1_am...   \n",
       "34922  pool/universe/h/haskell-shakespeare-i18n/libgh...   \n",
       "26685  pool/universe/g/gkrellmoon/gkrellmoon_0.6-5_am...   \n",
       "\n",
       "       dist_from_expected_size  \n",
       "id                              \n",
       "39672                        1  \n",
       "41519                        3  \n",
       "14154                        3  \n",
       "34922                        9  \n",
       "26685                       13  "
      ]
     },
     "execution_count": 266,
     "metadata": {},
     "output_type": "execute_result"
    }
   ],
   "source": [
    "ground_truth.sort_values(by=\"dist_from_expected_size\").head()"
   ]
  },
  {
   "cell_type": "markdown",
   "metadata": {},
   "source": [
    "The first one is the one."
   ]
  },
  {
   "cell_type": "code",
   "execution_count": 267,
   "metadata": {},
   "outputs": [
    {
     "data": {
      "text/plain": [
       "truth_id                                                       103746\n",
       "nb_flows                                                            3\n",
       "HTTP_Seq            [['GET /ubuntu/pool/universe/o/opennebula/libo...\n",
       "Flow1                                   target->yukinko.canonical.com\n",
       "Flow2                                   yukinko.canonical.com->target\n",
       "Flow3                                   target->yukinko.canonical.com\n",
       "Flow4                                                             NaN\n",
       "Flow5                                                             NaN\n",
       "nb_Payload_send1                                                    0\n",
       "nb_Payload_send2                                                67874\n",
       "nb_Payload_send3                                                  173\n",
       "nb_Payload_send4                                                  NaN\n",
       "nb_Payload_send5                                                  NaN\n",
       "Name: 1, dtype: object"
      ]
     },
     "execution_count": 267,
     "metadata": {},
     "output_type": "execute_result"
    }
   ],
   "source": [
    "target"
   ]
  },
  {
   "cell_type": "markdown",
   "metadata": {},
   "source": [
    "<a id='dependens_discovery'></a>\n",
    "## Dependens discovery\n",
    "\n",
    "let's take only the packages that have only one depends.\n",
    "\n",
    "Sort them by ascending size"
   ]
  },
  {
   "cell_type": "code",
   "execution_count": 268,
   "metadata": {},
   "outputs": [],
   "source": [
    "ground_truth = ground_truth.fillna(\"\")\n",
    "ground_truth[\"#Depends\"] = ground_truth[\"Depends\"].map(lambda x: 0 if x == \"\" else len(x.split(\",\")))\n",
    "one_dep_first10 = ground_truth[ground_truth[\"#Depends\"] == 1].sort_values(by = \"Size\", ascending=True)[:10]"
   ]
  },
  {
   "cell_type": "code",
   "execution_count": 269,
   "metadata": {
    "scrolled": false
   },
   "outputs": [
    {
     "data": {
      "text/plain": [
       "Package                                                              readpst\n",
       "Version                                                       0.6.59-1build1\n",
       "Architecture                                                             all\n",
       "Size                                                                     796\n",
       "Installed-Size                                                            21\n",
       "Maintainer                 Ubuntu Developers <ubuntu-devel-discuss@lists....\n",
       "Description                    Converts Outlook PST files to mbox and others\n",
       "parsedFrom                 packages/archive.ubuntu.com_ubuntu_dists_trust...\n",
       "Bugs                              https://bugs.launchpad.net/ubuntu/+filebug\n",
       "Origin                                                                Ubuntu\n",
       "Depends                                                            pst-utils\n",
       "Homepage                                  http://www.five-ten-sg.com/libpst/\n",
       "Source                                                                libpst\n",
       "Section                                                       universe/utils\n",
       "Supported                                                                   \n",
       "Filename                   pool/universe/libp/libpst/readpst_0.6.59-1buil...\n",
       "dist_from_expected_size                                                66795\n",
       "#Depends                                                                   1\n",
       "Name: 51087, dtype: object"
      ]
     },
     "execution_count": 269,
     "metadata": {},
     "output_type": "execute_result"
    }
   ],
   "source": [
    "one_dep_first10.iloc[0]"
   ]
  },
  {
   "cell_type": "markdown",
   "metadata": {},
   "source": [
    "Seeking about that depends"
   ]
  },
  {
   "cell_type": "code",
   "execution_count": 270,
   "metadata": {
    "scrolled": true
   },
   "outputs": [
    {
     "data": {
      "text/html": [
       "<div>\n",
       "<style scoped>\n",
       "    .dataframe tbody tr th:only-of-type {\n",
       "        vertical-align: middle;\n",
       "    }\n",
       "\n",
       "    .dataframe tbody tr th {\n",
       "        vertical-align: top;\n",
       "    }\n",
       "\n",
       "    .dataframe thead th {\n",
       "        text-align: right;\n",
       "    }\n",
       "</style>\n",
       "<table border=\"1\" class=\"dataframe\">\n",
       "  <thead>\n",
       "    <tr style=\"text-align: right;\">\n",
       "      <th></th>\n",
       "      <th>Package</th>\n",
       "      <th>Version</th>\n",
       "      <th>Architecture</th>\n",
       "      <th>Size</th>\n",
       "      <th>Installed-Size</th>\n",
       "      <th>Maintainer</th>\n",
       "      <th>Description</th>\n",
       "      <th>parsedFrom</th>\n",
       "      <th>Bugs</th>\n",
       "      <th>Origin</th>\n",
       "      <th>Depends</th>\n",
       "      <th>Homepage</th>\n",
       "      <th>Source</th>\n",
       "      <th>Section</th>\n",
       "      <th>Supported</th>\n",
       "      <th>Filename</th>\n",
       "      <th>dist_from_expected_size</th>\n",
       "      <th>#Depends</th>\n",
       "    </tr>\n",
       "    <tr>\n",
       "      <th>id</th>\n",
       "      <th></th>\n",
       "      <th></th>\n",
       "      <th></th>\n",
       "      <th></th>\n",
       "      <th></th>\n",
       "      <th></th>\n",
       "      <th></th>\n",
       "      <th></th>\n",
       "      <th></th>\n",
       "      <th></th>\n",
       "      <th></th>\n",
       "      <th></th>\n",
       "      <th></th>\n",
       "      <th></th>\n",
       "      <th></th>\n",
       "      <th></th>\n",
       "      <th></th>\n",
       "      <th></th>\n",
       "    </tr>\n",
       "  </thead>\n",
       "  <tbody>\n",
       "    <tr>\n",
       "      <th>18280</th>\n",
       "      <td>pst-utils</td>\n",
       "      <td>0.6.59-1build1</td>\n",
       "      <td>amd64</td>\n",
       "      <td>62092</td>\n",
       "      <td>181</td>\n",
       "      <td>Ubuntu Developers &lt;ubuntu-devel-discuss@lists....</td>\n",
       "      <td>tools for reading Microsoft Outlook PST files</td>\n",
       "      <td>packages/archive.ubuntu.com_ubuntu_dists_trust...</td>\n",
       "      <td>https://bugs.launchpad.net/ubuntu/+filebug</td>\n",
       "      <td>Ubuntu</td>\n",
       "      <td>libc6 (&gt;= 2.14), libgcc1 (&gt;= 1:4.1.1), libgd3 ...</td>\n",
       "      <td>http://www.five-ten-sg.com/libpst/</td>\n",
       "      <td>libpst</td>\n",
       "      <td>utils</td>\n",
       "      <td>9m</td>\n",
       "      <td>pool/main/libp/libpst/pst-utils_0.6.59-1build1...</td>\n",
       "      <td>5499</td>\n",
       "      <td>7</td>\n",
       "    </tr>\n",
       "  </tbody>\n",
       "</table>\n",
       "</div>"
      ],
      "text/plain": [
       "         Package         Version Architecture   Size  Installed-Size  \\\n",
       "id                                                                     \n",
       "18280  pst-utils  0.6.59-1build1        amd64  62092             181   \n",
       "\n",
       "                                              Maintainer  \\\n",
       "id                                                         \n",
       "18280  Ubuntu Developers <ubuntu-devel-discuss@lists....   \n",
       "\n",
       "                                         Description  \\\n",
       "id                                                     \n",
       "18280  tools for reading Microsoft Outlook PST files   \n",
       "\n",
       "                                              parsedFrom  \\\n",
       "id                                                         \n",
       "18280  packages/archive.ubuntu.com_ubuntu_dists_trust...   \n",
       "\n",
       "                                             Bugs  Origin  \\\n",
       "id                                                          \n",
       "18280  https://bugs.launchpad.net/ubuntu/+filebug  Ubuntu   \n",
       "\n",
       "                                                 Depends  \\\n",
       "id                                                         \n",
       "18280  libc6 (>= 2.14), libgcc1 (>= 1:4.1.1), libgd3 ...   \n",
       "\n",
       "                                 Homepage  Source Section Supported  \\\n",
       "id                                                                    \n",
       "18280  http://www.five-ten-sg.com/libpst/  libpst   utils        9m   \n",
       "\n",
       "                                                Filename  \\\n",
       "id                                                         \n",
       "18280  pool/main/libp/libpst/pst-utils_0.6.59-1build1...   \n",
       "\n",
       "       dist_from_expected_size  #Depends  \n",
       "id                                        \n",
       "18280                     5499         7  "
      ]
     },
     "execution_count": 270,
     "metadata": {},
     "output_type": "execute_result"
    }
   ],
   "source": [
    "ground_truth[ground_truth[\"Package\"] == one_dep_first10.iloc[0][\"Depends\"]]"
   ]
  },
  {
   "cell_type": "markdown",
   "metadata": {},
   "source": [
    "Turns out that this Dependens also have its Dependances"
   ]
  },
  {
   "cell_type": "code",
   "execution_count": 271,
   "metadata": {},
   "outputs": [
    {
     "name": "stdout",
     "output_type": "stream",
     "text": [
      "libc6 (>= 2.14), libgcc1 (>= 1:4.1.1), libgd3 (>= 2.1.0~alpha~), libglib2.0-0 (>= 2.12.0), libgsf-1-114 (>= 1.14.8), libpst4 (>= 0.6.54), libstdc++6 (>= 4.6)\n"
     ]
    }
   ],
   "source": [
    "sub_dependances = ground_truth[ground_truth[\"Package\"] == one_dep_first10.iloc[0][\"Depends\"]].iloc[0][\"Depends\"]\n",
    "print(sub_dependances)"
   ]
  },
  {
   "cell_type": "markdown",
   "metadata": {},
   "source": [
    "#### Once Downloading the package `readpst` we can ideed see that the package doesn't just depends on one single package but many subpackages from that dependance:\n",
    "\n",
    "On the Docker:\n",
    "\n",
    "`The following extra packages will be installed:\n",
    "  fontconfig-config fonts-dejavu-core libfontconfig1 libfreetype6 libgd3\n",
    "  libglib2.0-0 libglib2.0-data libgsf-1-114 libgsf-1-common libjbig0\n",
    "  libjpeg-turbo8 libjpeg8 libpst4 libtiff5 libvpx1 libx11-6 libx11-data\n",
    "  libxau6 libxcb1 libxdmcp6 libxml2 libxpm4 pst-utils sgml-base\n",
    "  shared-mime-info xml-core`\n",
    "  \n",
    "`0 upgraded, 27 newly installed, 0 to remove and 32 not upgraded.\n",
    "Need to get 5664 kB of archives.`\n",
    "\n",
    "\n",
    "On the attacker:\n",
    "\n",
    "`historic =  ['target->danava.canonical.com', 'danava.canonical.com->target', 'target->danava.canonical.com']\n",
    "server_ip =  ['91.189.88.149', '172.100.0.100', '91.189.88.149']\n",
    "server_name =  ['danava.canonical.com', 'target', 'danava.canonical.com']\n",
    "received_Payload =  [5671834]\n",
    "send_Payload =  [0, 4251]`\n",
    "\n",
    "So if we calculate with the tipical extra_size for each downloaded package that we get on the attacker side and knowing that 5664kB is rounded:\n"
   ]
  },
  {
   "cell_type": "code",
   "execution_count": 272,
   "metadata": {},
   "outputs": [
    {
     "data": {
      "text/plain": [
       "5671641"
      ]
     },
     "execution_count": 272,
     "metadata": {},
     "output_type": "execute_result"
    }
   ],
   "source": [
    "EXTRA_SIZE_AVERAGE * 27 + 5664000"
   ]
  },
  {
   "cell_type": "markdown",
   "metadata": {},
   "source": [
    "#### Let's find out what happens if we download the dependance before  \n",
    "\n",
    "While downloading pst-utils (*using apt-get install readpst*):\n",
    "\n",
    "On the victim:\n",
    "\n",
    "`The following extra packages will be installed:\n",
    "  fontconfig-config fonts-dejavu-core libfontconfig1 libfreetype6 libgd3\n",
    "  libglib2.0-0 libglib2.0-data libgsf-1-114 libgsf-1-common libjbig0\n",
    "  libjpeg-turbo8 libjpeg8 libpst4 libtiff5 libvpx1 libx11-6 libx11-data\n",
    "  libxau6 libxcb1 libxdmcp6 libxml2 libxpm4 sgml-base shared-mime-info\n",
    "  xml-core\n",
    "0 upgraded, 26 newly installed, 0 to remove and 32 not upgraded.\n",
    "Need to get 5663 kB of archives.`\n",
    "\n",
    "\n",
    "On the Attacker:\n",
    "\n",
    "`historic =  ['target->keeton.canonical.com', 'keeton.canonical.com->target', 'target->keeton.canonical.com']\n",
    "server_ip =  ['91.189.88.161', '172.100.0.100', '91.189.88.161']\n",
    "server_name =  ['keeton.canonical.com', 'target', 'keeton.canonical.com']\n",
    "received_Payload =  [5670760]\n",
    "send_Payload =  [0, 4085]\n",
    "Ressources cleaned.`\n"
   ]
  },
  {
   "cell_type": "code",
   "execution_count": 273,
   "metadata": {},
   "outputs": [
    {
     "name": "stdout",
     "output_type": "stream",
     "text": [
      " -- Seen By the Attacker -- Difference by downloading the full package and only it's dependances : 1074\n",
      " -- For the ground_truth -- Difference by downloading the full package and only it's dependances : 1079\n"
     ]
    }
   ],
   "source": [
    "print(\" -- Seen By the Attacker -- Difference by downloading the full package and only it's dependances :\",5671834 - 5670760)\n",
    "print(\" -- For the ground_truth -- Difference by downloading the full package and only it's dependances :\",796 + EXTRA_SIZE_AVERAGE)"
   ]
  },
  {
   "cell_type": "markdown",
   "metadata": {},
   "source": [
    "Now that the dependance is installed on the vicitim's machine, we perfom the update of the principal package:\n",
    "\n",
    "\n",
    "On the victim:\n",
    "\n",
    "`The following NEW packages will be installed:\n",
    "  readpst\n",
    "0 upgraded, 1 newly installed, 0 to remove and 32 not upgraded.\n",
    "Need to get 796 B of archives.\n",
    "After this operation, 21.5 kB of additional disk space will be used.\n",
    "Get:1 http://archive.ubuntu.com/ubuntu/ trusty/universe readpst all 0.6.59-1build1 [796 B]\n",
    "Fetched 796 B in 0s (3656 B/s)   \n",
    "Download complete and in download only mode`\n",
    "\n",
    "On the attacker\n",
    "\n",
    "`historic =  ['target->steelix.canonical.com', 'steelix.canonical.com->target', 'target->steelix.canonical.com']\n",
    "server_ip =  ['91.189.88.152', '172.100.0.100', '91.189.88.152']\n",
    "server_name =  ['steelix.canonical.com', 'target', 'steelix.canonical.com']\n",
    "received_Payload =  [1074]\n",
    "send_Payload =  [0, 155]`\n",
    "\n",
    "\n",
    "Indeed, once the dependance is installed, installing just the package "
   ]
  },
  {
   "cell_type": "code",
   "execution_count": 274,
   "metadata": {},
   "outputs": [
    {
     "data": {
      "text/plain": [
       "278"
      ]
     },
     "execution_count": 274,
     "metadata": {},
     "output_type": "execute_result"
    }
   ],
   "source": [
    "1074 - 796"
   ]
  },
  {
   "cell_type": "markdown",
   "metadata": {},
   "source": [
    "### SumOfDependences & NumberOfDependances"
   ]
  },
  {
   "cell_type": "code",
   "execution_count": 275,
   "metadata": {},
   "outputs": [
    {
     "data": {
      "text/plain": [
       "Package                                                                 gcom\n",
       "Version                                                               0.32-2\n",
       "Architecture                                                             all\n",
       "Size                                                                     820\n",
       "Installed-Size                                                            20\n",
       "Maintainer                 Ubuntu Developers <ubuntu-devel-discuss@lists....\n",
       "Description                     datacard control tool - transitional package\n",
       "parsedFrom                 packages/archive.ubuntu.com_ubuntu_dists_trust...\n",
       "Bugs                              https://bugs.launchpad.net/ubuntu/+filebug\n",
       "Origin                                                                Ubuntu\n",
       "Depends                                                                comgt\n",
       "Homepage                                           http://www.pharscape.org/\n",
       "Source                                                                 comgt\n",
       "Section                                                         universe/net\n",
       "Supported                                                                   \n",
       "Filename                           pool/universe/c/comgt/gcom_0.32-2_all.deb\n",
       "dist_from_expected_size                                                66771\n",
       "#Depends                                                                   1\n",
       "Name: 26194, dtype: object"
      ]
     },
     "execution_count": 275,
     "metadata": {},
     "output_type": "execute_result"
    }
   ],
   "source": [
    "one_dep_first10.iloc[1]"
   ]
  },
  {
   "cell_type": "code",
   "execution_count": 276,
   "metadata": {},
   "outputs": [
    {
     "data": {
      "text/html": [
       "<div>\n",
       "<style scoped>\n",
       "    .dataframe tbody tr th:only-of-type {\n",
       "        vertical-align: middle;\n",
       "    }\n",
       "\n",
       "    .dataframe tbody tr th {\n",
       "        vertical-align: top;\n",
       "    }\n",
       "\n",
       "    .dataframe thead th {\n",
       "        text-align: right;\n",
       "    }\n",
       "</style>\n",
       "<table border=\"1\" class=\"dataframe\">\n",
       "  <thead>\n",
       "    <tr style=\"text-align: right;\">\n",
       "      <th></th>\n",
       "      <th>Package</th>\n",
       "      <th>Version</th>\n",
       "      <th>Architecture</th>\n",
       "      <th>Size</th>\n",
       "      <th>Installed-Size</th>\n",
       "      <th>Maintainer</th>\n",
       "      <th>Description</th>\n",
       "      <th>parsedFrom</th>\n",
       "      <th>Bugs</th>\n",
       "      <th>Origin</th>\n",
       "      <th>Depends</th>\n",
       "      <th>Homepage</th>\n",
       "      <th>Source</th>\n",
       "      <th>Section</th>\n",
       "      <th>Supported</th>\n",
       "      <th>Filename</th>\n",
       "      <th>dist_from_expected_size</th>\n",
       "      <th>#Depends</th>\n",
       "    </tr>\n",
       "    <tr>\n",
       "      <th>id</th>\n",
       "      <th></th>\n",
       "      <th></th>\n",
       "      <th></th>\n",
       "      <th></th>\n",
       "      <th></th>\n",
       "      <th></th>\n",
       "      <th></th>\n",
       "      <th></th>\n",
       "      <th></th>\n",
       "      <th></th>\n",
       "      <th></th>\n",
       "      <th></th>\n",
       "      <th></th>\n",
       "      <th></th>\n",
       "      <th></th>\n",
       "      <th></th>\n",
       "      <th></th>\n",
       "      <th></th>\n",
       "    </tr>\n",
       "  </thead>\n",
       "  <tbody>\n",
       "    <tr>\n",
       "      <th>23140</th>\n",
       "      <td>comgt</td>\n",
       "      <td>0.32-2</td>\n",
       "      <td>amd64</td>\n",
       "      <td>42804</td>\n",
       "      <td>188</td>\n",
       "      <td>Ubuntu Developers &lt;ubuntu-devel-discuss@lists....</td>\n",
       "      <td>Option GlobeTrotter and Vodafone datacard cont...</td>\n",
       "      <td>packages/archive.ubuntu.com_ubuntu_dists_trust...</td>\n",
       "      <td>https://bugs.launchpad.net/ubuntu/+filebug</td>\n",
       "      <td>Ubuntu</td>\n",
       "      <td>libc6 (&gt;= 2.7)</td>\n",
       "      <td>http://www.pharscape.org/</td>\n",
       "      <td></td>\n",
       "      <td>universe/net</td>\n",
       "      <td></td>\n",
       "      <td>pool/universe/c/comgt/comgt_0.32-2_amd64.deb</td>\n",
       "      <td>24787</td>\n",
       "      <td>1</td>\n",
       "    </tr>\n",
       "  </tbody>\n",
       "</table>\n",
       "</div>"
      ],
      "text/plain": [
       "      Package Version Architecture   Size  Installed-Size  \\\n",
       "id                                                          \n",
       "23140   comgt  0.32-2        amd64  42804             188   \n",
       "\n",
       "                                              Maintainer  \\\n",
       "id                                                         \n",
       "23140  Ubuntu Developers <ubuntu-devel-discuss@lists....   \n",
       "\n",
       "                                             Description  \\\n",
       "id                                                         \n",
       "23140  Option GlobeTrotter and Vodafone datacard cont...   \n",
       "\n",
       "                                              parsedFrom  \\\n",
       "id                                                         \n",
       "23140  packages/archive.ubuntu.com_ubuntu_dists_trust...   \n",
       "\n",
       "                                             Bugs  Origin         Depends  \\\n",
       "id                                                                          \n",
       "23140  https://bugs.launchpad.net/ubuntu/+filebug  Ubuntu  libc6 (>= 2.7)   \n",
       "\n",
       "                        Homepage Source       Section Supported  \\\n",
       "id                                                                \n",
       "23140  http://www.pharscape.org/         universe/net             \n",
       "\n",
       "                                           Filename  dist_from_expected_size  \\\n",
       "id                                                                             \n",
       "23140  pool/universe/c/comgt/comgt_0.32-2_amd64.deb                    24787   \n",
       "\n",
       "       #Depends  \n",
       "id               \n",
       "23140         1  "
      ]
     },
     "execution_count": 276,
     "metadata": {},
     "output_type": "execute_result"
    }
   ],
   "source": [
    "ground_truth[ground_truth[\"Package\"] == \"comgt\"]"
   ]
  },
  {
   "cell_type": "code",
   "execution_count": 277,
   "metadata": {},
   "outputs": [
    {
     "data": {
      "text/html": [
       "<div>\n",
       "<style scoped>\n",
       "    .dataframe tbody tr th:only-of-type {\n",
       "        vertical-align: middle;\n",
       "    }\n",
       "\n",
       "    .dataframe tbody tr th {\n",
       "        vertical-align: top;\n",
       "    }\n",
       "\n",
       "    .dataframe thead th {\n",
       "        text-align: right;\n",
       "    }\n",
       "</style>\n",
       "<table border=\"1\" class=\"dataframe\">\n",
       "  <thead>\n",
       "    <tr style=\"text-align: right;\">\n",
       "      <th></th>\n",
       "      <th>Package</th>\n",
       "      <th>Version</th>\n",
       "      <th>Architecture</th>\n",
       "      <th>Size</th>\n",
       "      <th>Installed-Size</th>\n",
       "      <th>Maintainer</th>\n",
       "      <th>Description</th>\n",
       "      <th>parsedFrom</th>\n",
       "      <th>Bugs</th>\n",
       "      <th>Origin</th>\n",
       "      <th>Depends</th>\n",
       "      <th>Homepage</th>\n",
       "      <th>Source</th>\n",
       "      <th>Section</th>\n",
       "      <th>Supported</th>\n",
       "      <th>Filename</th>\n",
       "      <th>dist_from_expected_size</th>\n",
       "      <th>#Depends</th>\n",
       "    </tr>\n",
       "    <tr>\n",
       "      <th>id</th>\n",
       "      <th></th>\n",
       "      <th></th>\n",
       "      <th></th>\n",
       "      <th></th>\n",
       "      <th></th>\n",
       "      <th></th>\n",
       "      <th></th>\n",
       "      <th></th>\n",
       "      <th></th>\n",
       "      <th></th>\n",
       "      <th></th>\n",
       "      <th></th>\n",
       "      <th></th>\n",
       "      <th></th>\n",
       "      <th></th>\n",
       "      <th></th>\n",
       "      <th></th>\n",
       "      <th></th>\n",
       "    </tr>\n",
       "  </thead>\n",
       "  <tbody>\n",
       "    <tr>\n",
       "      <th>1784</th>\n",
       "      <td>libc6</td>\n",
       "      <td>2.19-0ubuntu6.14</td>\n",
       "      <td>amd64</td>\n",
       "      <td>4752538</td>\n",
       "      <td>10508</td>\n",
       "      <td>Ubuntu Developers &lt;ubuntu-devel-discuss@lists....</td>\n",
       "      <td>Embedded GNU C Library: Shared libraries</td>\n",
       "      <td>packages/archive.ubuntu.com_ubuntu_dists_trust...</td>\n",
       "      <td>https://bugs.launchpad.net/ubuntu/+filebug</td>\n",
       "      <td>Ubuntu</td>\n",
       "      <td>libgcc1</td>\n",
       "      <td>http://www.eglibc.org</td>\n",
       "      <td>eglibc</td>\n",
       "      <td>libs</td>\n",
       "      <td>5y</td>\n",
       "      <td>pool/main/e/eglibc/libc6_2.19-0ubuntu6.14_amd6...</td>\n",
       "      <td>4684947</td>\n",
       "      <td>1</td>\n",
       "    </tr>\n",
       "    <tr>\n",
       "      <th>14033</th>\n",
       "      <td>libc6</td>\n",
       "      <td>2.19-0ubuntu6</td>\n",
       "      <td>amd64</td>\n",
       "      <td>4729214</td>\n",
       "      <td>10496</td>\n",
       "      <td>Ubuntu Developers &lt;ubuntu-devel-discuss@lists....</td>\n",
       "      <td>Embedded GNU C Library: Shared libraries</td>\n",
       "      <td>packages/archive.ubuntu.com_ubuntu_dists_trust...</td>\n",
       "      <td>https://bugs.launchpad.net/ubuntu/+filebug</td>\n",
       "      <td>Ubuntu</td>\n",
       "      <td>libgcc1</td>\n",
       "      <td>http://www.eglibc.org</td>\n",
       "      <td>eglibc</td>\n",
       "      <td>libs</td>\n",
       "      <td>5y</td>\n",
       "      <td>pool/main/e/eglibc/libc6_2.19-0ubuntu6_amd64.deb</td>\n",
       "      <td>4661623</td>\n",
       "      <td>1</td>\n",
       "    </tr>\n",
       "  </tbody>\n",
       "</table>\n",
       "</div>"
      ],
      "text/plain": [
       "      Package           Version Architecture     Size  Installed-Size  \\\n",
       "id                                                                      \n",
       "1784    libc6  2.19-0ubuntu6.14        amd64  4752538           10508   \n",
       "14033   libc6     2.19-0ubuntu6        amd64  4729214           10496   \n",
       "\n",
       "                                              Maintainer  \\\n",
       "id                                                         \n",
       "1784   Ubuntu Developers <ubuntu-devel-discuss@lists....   \n",
       "14033  Ubuntu Developers <ubuntu-devel-discuss@lists....   \n",
       "\n",
       "                                    Description  \\\n",
       "id                                                \n",
       "1784   Embedded GNU C Library: Shared libraries   \n",
       "14033  Embedded GNU C Library: Shared libraries   \n",
       "\n",
       "                                              parsedFrom  \\\n",
       "id                                                         \n",
       "1784   packages/archive.ubuntu.com_ubuntu_dists_trust...   \n",
       "14033  packages/archive.ubuntu.com_ubuntu_dists_trust...   \n",
       "\n",
       "                                             Bugs  Origin  Depends  \\\n",
       "id                                                                   \n",
       "1784   https://bugs.launchpad.net/ubuntu/+filebug  Ubuntu  libgcc1   \n",
       "14033  https://bugs.launchpad.net/ubuntu/+filebug  Ubuntu  libgcc1   \n",
       "\n",
       "                    Homepage  Source Section Supported  \\\n",
       "id                                                       \n",
       "1784   http://www.eglibc.org  eglibc    libs        5y   \n",
       "14033  http://www.eglibc.org  eglibc    libs        5y   \n",
       "\n",
       "                                                Filename  \\\n",
       "id                                                         \n",
       "1784   pool/main/e/eglibc/libc6_2.19-0ubuntu6.14_amd6...   \n",
       "14033   pool/main/e/eglibc/libc6_2.19-0ubuntu6_amd64.deb   \n",
       "\n",
       "       dist_from_expected_size  #Depends  \n",
       "id                                        \n",
       "1784                   4684947         1  \n",
       "14033                  4661623         1  "
      ]
     },
     "execution_count": 277,
     "metadata": {},
     "output_type": "execute_result"
    }
   ],
   "source": [
    "ground_truth[ground_truth[\"Package\"] == \"libc6\"]"
   ]
  },
  {
   "cell_type": "markdown",
   "metadata": {},
   "source": [
    "Dependances can be ambigious"
   ]
  },
  {
   "cell_type": "code",
   "execution_count": 278,
   "metadata": {},
   "outputs": [
    {
     "name": "stdout",
     "output_type": "stream",
     "text": [
      "python (>= 2.7), python (<< 2.8), python:any (>= 2.7.1-0ubuntu2), base-files (>= 4.0.4)\n",
      "python-bzrlib (<= 2.6.0+bzr6593-1ubuntu1.6.1~), python-bzrlib (>= 2.6.0+bzr6593-1ubuntu1.6), python:any\n"
     ]
    }
   ],
   "source": [
    "print(ground_truth[\"Depends\"].iloc[48])\n",
    "print(ground_truth[\"Depends\"].iloc[405])"
   ]
  },
  {
   "cell_type": "markdown",
   "metadata": {},
   "source": [
    "### Before implementing the recursivity function, we consatated following issues:\n",
    "    - Going through dependances can lead to cycles (ex: comgt->libc6->libgcc1->libc6)\n",
    "        => Can be fixed by keeping a list of seen dependances\n",
    "        \n",
    "    - Many packages with different version can occure (ex: libc6 2.19-0ubuntu6.14 & 2.19-0ubuntu6 not same size)\n",
    "        => Maybe take the most recent one (To gain some time keep only the newest version beforehand)\n",
    "        \n",
    "    - Some packet are already installed by default (like libc6 in our victim's machin)\n",
    "    \n",
    "    - Dependances can be ambigious (ex: python (>= 2.7), python (<< 2.8), python:any (>= 2.7.1-0ubuntu2) )\n",
    "        => Parsing the dependances has to be made carefully \n",
    " \n",
    " Some references:\n",
    " \n",
    " [Depends field format](https://www.debian.org/doc/debian-policy/ch-relationships.html)\n",
    " \n",
    " [Version field format](http://www.fifi.org/doc/debian-policy/policy.html/ch-versions.html)"
   ]
  },
  {
   "cell_type": "code",
   "execution_count": 396,
   "metadata": {},
   "outputs": [],
   "source": [
    "\n",
    "def recursiveSearchOnDep(x, summing, df,alreadySeen):\n",
    "    \"\"\"\n",
    "    x : The current data Serie, Assuming that x contains Package, Version, Depends, Size and \n",
    "        Summing dependances, Dependance traces for the dynamic approach\n",
    "        \n",
    "    summing : The sum of the size in Bytes\n",
    "    df is the db we are performing the recursive search\n",
    "    alreadySeen : Dict with the already seen packages + version\n",
    "    \"\"\"\n",
    "    \n",
    "    xKey = x[\"Package\"] + \" : \"+x[\"Version\"]\n",
    "    if xKey in alreadySeen:\n",
    "        return (summing, alreadySeen)\n",
    "    \n",
    "    alreadySeen[xKey] = []  \n",
    "    \n",
    "    deps = parseAndFindDep(x[\"Depends\"], df)\n",
    "    \n",
    "    if len(deps) == 0: # Touches the leaves\n",
    "        \n",
    "        # Fill the df \n",
    "        df.at[x.name, \"Summing dependances\"] = x[\"Size\"]\n",
    "        df.at[x.name,\"Dependance traces\"] = alreadySeen\n",
    "    \n",
    "        return ( x[\"Size\"], alreadySeen)\n",
    "    \n",
    "    \n",
    "    for dep in deps:\n",
    "        \n",
    "        if dep not in alreadySeen:\n",
    "            newX = df.loc[dep]\n",
    "\n",
    "            \n",
    "            s, as_ = newX[\"Summing dependances\"], newX[\"Dependance traces\"]\n",
    "            \n",
    "            if s == -1:\n",
    "\n",
    "                # Meaning we never saw it before\n",
    "                s, as_ = recursiveSearchOnDep(newX, 0, df, alreadySeen)\n",
    "            \n",
    "                \n",
    "            # Merging\n",
    "            summing += s\n",
    "            alreadySeen = {**as_ , **alreadySeen}\n",
    "            alreadySeen[xKey] += [newX[\"Package\"] + \" : \"+newX[\"Version\"]]\n",
    "    \n",
    "    \n",
    "    summing = summing + x[\"Size\"]\n",
    "    \n",
    "    df.at[x.name, \"Summing dependances\"] = summing\n",
    "    df.at[x.name,\"Dependance traces\"] = alreadySeen\n",
    "    \n",
    "    return (summing, alreadySeen)\n",
    "    \n",
    "    "
   ]
  },
  {
   "cell_type": "code",
   "execution_count": 280,
   "metadata": {},
   "outputs": [],
   "source": [
    "\n",
    "\n",
    "def parseAndFindDep(depString, df):\n",
    "    \"\"\"\n",
    "    Return a list of ubuntu_packages id which represents the\n",
    "    \"\"\"\n",
    "    ids = list()\n",
    "    \n",
    "    allPckg = df[\"Package\"].unique()\n",
    "\n",
    "    for d in depString.split(\", \"):\n",
    "\n",
    "\n",
    "        for d2 in d.split(\" | \"):\n",
    "\n",
    "            d2 = d2.split(\" (\")\n",
    "\n",
    "            package = d2[0]\n",
    "\n",
    "            #print(package)\n",
    "\n",
    "            version = \"\"\n",
    "            if len(d2) == 2:\n",
    "                # We have more info about the version\n",
    "                (req, version) = d2[1][:-1].split(\" \")\n",
    "\n",
    "                if req == \"<<\" : \n",
    "                    req = \">\"\n",
    "                if req == \">>\":\n",
    "                    req = \">\"\n",
    "                if req == \"=\":\n",
    "                    req = \"==\"\n",
    "\n",
    "\n",
    "            if package in allPckg:\n",
    "\n",
    "                # TOFIX simple string comparison doesn't work because 2.12.4 > 2.9.3 \n",
    "                package_candidates = df[df[\"Package\"] == package].sort_values(by=\"Version\", ascending=False)\n",
    "                id_ = package_candidates.iloc[0].name\n",
    "\n",
    "                if version != \"\":\n",
    "                    # Restraint further more using the version spec.\n",
    "                    package_candidates = package_candidates.query(\"Version \"+req+\" '\"+version+\"'\")    \n",
    "\n",
    "                    if len(package_candidates) > 0 :\n",
    "                        # just take the most recent one if there are many versions\n",
    "                        id_ = package_candidates.iloc[0].name\n",
    "\n",
    "\n",
    "                # Add it only if it's the first time we add it\n",
    "                if id_ not in ids:\n",
    "                    ids = ids + [id_]\n",
    "\n",
    "                # We found it no need to take the packages after \"|\"\n",
    "                break \n",
    "                \n",
    "    return ids\n",
    "        \n",
    "        "
   ]
  },
  {
   "cell_type": "code",
   "execution_count": 281,
   "metadata": {},
   "outputs": [
    {
     "name": "stderr",
     "output_type": "stream",
     "text": [
      "100%|██████████| 56997/56997 [50:14<00:00,  1.02it/s]   \n"
     ]
    }
   ],
   "source": [
    "ground_truth[\"Summing dependances\"] = -1\n",
    "ground_truth[\"Dependance traces\"] = \"{}\"\n",
    " \n",
    "ground_truth = ground_truth.sort_values([\"#Depends\"])\n",
    "\n",
    "for _, row in tqdm.tqdm(ground_truth.iterrows(), total=len(ground_truth)):\n",
    "       \n",
    "    # We don't even enter in the recursion if we already computed it\n",
    "    if row[\"Summing dependances\"] == -1:\n",
    "        _, _ = recursiveSearchOnDep(row,  0, ground_truth, {}) \n",
    "    \n",
    "    #ground_truth.at[row.name, \"Summing dependances\"] = summing\n",
    "    #ground_truth.at[row.name,\"Dependance traces\"] = alreadySeen\n",
    "\n",
    "\n",
    "\n",
    "\n",
    "#%time test[\"Summing dependances\"], test[\"Dependance traces\"] = zip(*test.apply(lambda x: recursiveSearchOnDep(x, 0, test, {}), axis = 1))\n"
   ]
  },
  {
   "cell_type": "markdown",
   "metadata": {},
   "source": [
    "Taking one random package:"
   ]
  },
  {
   "cell_type": "code",
   "execution_count": 285,
   "metadata": {},
   "outputs": [
    {
     "name": "stdout",
     "output_type": "stream",
     "text": [
      "18205\n"
     ]
    },
    {
     "data": {
      "text/plain": [
       "Package                                                         weather-util\n",
       "Version                                                                2.0-1\n",
       "Architecture                                                             all\n",
       "Size                                                                   27922\n",
       "Installed-Size                                                           153\n",
       "Maintainer                 Ubuntu Developers <ubuntu-devel-discuss@lists....\n",
       "Description                command-line tool to obtain weather conditions...\n",
       "parsedFrom                 packages/archive.ubuntu.com_ubuntu_dists_trust...\n",
       "Bugs                              https://bugs.launchpad.net/ubuntu/+filebug\n",
       "Origin                                                                Ubuntu\n",
       "Depends                                                 python (>= 2.6.6-3~)\n",
       "Homepage                                   http://fungi.yuggoth.org/weather/\n",
       "Source                                                                      \n",
       "Section                                                       universe/utils\n",
       "Supported                                                                   \n",
       "Filename                   pool/universe/w/weather-util/weather-util_2.0-...\n",
       "dist_from_expected_size                                                39669\n",
       "#Depends                                                                   1\n",
       "Summing dependances                                                143946636\n",
       "Dependance traces          {'gcc-4.9-base : 4.9.3-0ubuntu4': [], 'perl-ba...\n",
       "Name: 55265, dtype: object"
      ]
     },
     "execution_count": 285,
     "metadata": {},
     "output_type": "execute_result"
    }
   ],
   "source": [
    "import random\n",
    "r = random.randint(0, 56997)\n",
    "print(r)\n",
    "ground_truth.iloc[r]"
   ]
  },
  {
   "cell_type": "code",
   "execution_count": 292,
   "metadata": {},
   "outputs": [
    {
     "name": "stdout",
     "output_type": "stream",
     "text": [
      "There are :  62 subdependences for the Package weather-util\n"
     ]
    }
   ],
   "source": [
    "print(\"There are : \" , len(ground_truth.iloc[r][\"Dependance traces\"]), \"subdependences for the Package \" + ground_truth.iloc[r][\"Package\"])"
   ]
  },
  {
   "cell_type": "code",
   "execution_count": 387,
   "metadata": {},
   "outputs": [
    {
     "data": {
      "text/html": [
       "<div>\n",
       "<style scoped>\n",
       "    .dataframe tbody tr th:only-of-type {\n",
       "        vertical-align: middle;\n",
       "    }\n",
       "\n",
       "    .dataframe tbody tr th {\n",
       "        vertical-align: top;\n",
       "    }\n",
       "\n",
       "    .dataframe thead th {\n",
       "        text-align: right;\n",
       "    }\n",
       "</style>\n",
       "<table border=\"1\" class=\"dataframe\">\n",
       "  <thead>\n",
       "    <tr style=\"text-align: right;\">\n",
       "      <th></th>\n",
       "      <th>Package</th>\n",
       "      <th>Version</th>\n",
       "      <th>Architecture</th>\n",
       "      <th>Size</th>\n",
       "      <th>Installed-Size</th>\n",
       "      <th>Maintainer</th>\n",
       "      <th>Description</th>\n",
       "      <th>parsedFrom</th>\n",
       "      <th>Bugs</th>\n",
       "      <th>Origin</th>\n",
       "      <th>Depends</th>\n",
       "      <th>Homepage</th>\n",
       "      <th>Source</th>\n",
       "      <th>Section</th>\n",
       "      <th>Supported</th>\n",
       "      <th>Filename</th>\n",
       "      <th>dist_from_expected_size</th>\n",
       "      <th>#Depends</th>\n",
       "      <th>Summing dependances</th>\n",
       "      <th>Dependance traces</th>\n",
       "    </tr>\n",
       "    <tr>\n",
       "      <th>id</th>\n",
       "      <th></th>\n",
       "      <th></th>\n",
       "      <th></th>\n",
       "      <th></th>\n",
       "      <th></th>\n",
       "      <th></th>\n",
       "      <th></th>\n",
       "      <th></th>\n",
       "      <th></th>\n",
       "      <th></th>\n",
       "      <th></th>\n",
       "      <th></th>\n",
       "      <th></th>\n",
       "      <th></th>\n",
       "      <th></th>\n",
       "      <th></th>\n",
       "      <th></th>\n",
       "      <th></th>\n",
       "      <th></th>\n",
       "      <th></th>\n",
       "    </tr>\n",
       "  </thead>\n",
       "  <tbody>\n",
       "    <tr>\n",
       "      <th>18315</th>\n",
       "      <td>python</td>\n",
       "      <td>2.7.5-5ubuntu3</td>\n",
       "      <td>amd64</td>\n",
       "      <td>133698</td>\n",
       "      <td>671</td>\n",
       "      <td>Ubuntu Developers &lt;ubuntu-devel-discuss@lists....</td>\n",
       "      <td>interactive high-level object-oriented languag...</td>\n",
       "      <td>packages/archive.ubuntu.com_ubuntu_dists_trust...</td>\n",
       "      <td>https://bugs.launchpad.net/ubuntu/+filebug</td>\n",
       "      <td>Ubuntu</td>\n",
       "      <td>python2.7 (&gt;= 2.7.5-1~), python-minimal (= 2.7...</td>\n",
       "      <td>http://www.python.org/</td>\n",
       "      <td>python-defaults</td>\n",
       "      <td>python</td>\n",
       "      <td>5y</td>\n",
       "      <td>pool/main/p/python-defaults/python_2.7.5-5ubun...</td>\n",
       "      <td>66107</td>\n",
       "      <td>3</td>\n",
       "      <td>143918714</td>\n",
       "      <td>{'gcc-4.9-base : 4.9.3-0ubuntu4': [], 'perl-ba...</td>\n",
       "    </tr>\n",
       "  </tbody>\n",
       "</table>\n",
       "</div>"
      ],
      "text/plain": [
       "      Package         Version Architecture    Size  Installed-Size  \\\n",
       "id                                                                   \n",
       "18315  python  2.7.5-5ubuntu3        amd64  133698             671   \n",
       "\n",
       "                                              Maintainer  \\\n",
       "id                                                         \n",
       "18315  Ubuntu Developers <ubuntu-devel-discuss@lists....   \n",
       "\n",
       "                                             Description  \\\n",
       "id                                                         \n",
       "18315  interactive high-level object-oriented languag...   \n",
       "\n",
       "                                              parsedFrom  \\\n",
       "id                                                         \n",
       "18315  packages/archive.ubuntu.com_ubuntu_dists_trust...   \n",
       "\n",
       "                                             Bugs  Origin  \\\n",
       "id                                                          \n",
       "18315  https://bugs.launchpad.net/ubuntu/+filebug  Ubuntu   \n",
       "\n",
       "                                                 Depends  \\\n",
       "id                                                         \n",
       "18315  python2.7 (>= 2.7.5-1~), python-minimal (= 2.7...   \n",
       "\n",
       "                     Homepage           Source Section Supported  \\\n",
       "id                                                                 \n",
       "18315  http://www.python.org/  python-defaults  python        5y   \n",
       "\n",
       "                                                Filename  \\\n",
       "id                                                         \n",
       "18315  pool/main/p/python-defaults/python_2.7.5-5ubun...   \n",
       "\n",
       "       dist_from_expected_size  #Depends  Summing dependances  \\\n",
       "id                                                              \n",
       "18315                    66107         3            143918714   \n",
       "\n",
       "                                       Dependance traces  \n",
       "id                                                        \n",
       "18315  {'gcc-4.9-base : 4.9.3-0ubuntu4': [], 'perl-ba...  "
      ]
     },
     "execution_count": 387,
     "metadata": {},
     "output_type": "execute_result"
    }
   ],
   "source": [
    "ground_truth[ground_truth[\"Package\"] == \"python\"]"
   ]
  },
  {
   "cell_type": "code",
   "execution_count": 297,
   "metadata": {},
   "outputs": [
    {
     "name": "stdout",
     "output_type": "stream",
     "text": [
      "All the dependences for the package python: \n"
     ]
    },
    {
     "data": {
      "text/plain": [
       "{'gcc-4.9-base : 4.9.3-0ubuntu4': [],\n",
       " 'perl-base : 5.18.2-2ubuntu1.6': [],\n",
       " 'libconfig-tiny-perl : 2.20-1': ['perl : 5.18.2-2ubuntu1.6'],\n",
       " 'perl : 5.18.2-2ubuntu1.6': ['perl-base : 5.18.2-2ubuntu1.6',\n",
       "  'perl-modules : 5.18.2-2ubuntu1.6',\n",
       "  'libbz2-1.0 : 1.0.6-5',\n",
       "  'libc6 : 2.19-0ubuntu6.14',\n",
       "  'libdb5.3 : 5.3.28-3ubuntu3.1',\n",
       "  'libgdbm3 : 1.8.3-12build1',\n",
       "  'zlib1g : 1:1.2.8.dfsg-1ubuntu1.1'],\n",
       " 'perl-modules : 5.18.2-2ubuntu1.6': ['perl : 5.18.2-2ubuntu1.6'],\n",
       " 'libbz2-1.0 : 1.0.6-5': ['libc6 : 2.19-0ubuntu6.14'],\n",
       " 'libc6 : 2.19-0ubuntu6.14': ['libgcc1 : 1:4.9.3-0ubuntu4'],\n",
       " 'libgcc1 : 1:4.9.3-0ubuntu4': ['gcc-4.9-base : 4.9.3-0ubuntu4',\n",
       "  'libc6 : 2.19-0ubuntu6.14'],\n",
       " 'dpkg : 1.17.5ubuntu5.8': [],\n",
       " 'libdb5.3 : 5.3.28-3ubuntu3.1': ['libc6 : 2.19-0ubuntu6.14'],\n",
       " 'libgdbm3 : 1.8.3-12build1': ['libc6 : 2.19-0ubuntu6.14',\n",
       "  'dpkg : 1.17.5ubuntu5.8'],\n",
       " 'debconf : 1.5.51ubuntu2': [],\n",
       " 'ruby-addressable : 2.3.4-1': ['ruby : 1:1.9.3.4'],\n",
       " 'ruby : 1:1.9.3.4': ['ruby1.9.1 : 1.9.3.484-2ubuntu1.12'],\n",
       " 'ruby1.9.1 : 1.9.3.484-2ubuntu1.12': ['ruby : 1:1.9.3.4',\n",
       "  'libruby1.9.1 : 1.9.3.484-2ubuntu1.12',\n",
       "  'libc6 : 2.19-0ubuntu6.14'],\n",
       " 'libruby1.9.1 : 1.9.3.484-2ubuntu1.12': ['ruby1.9.1 : 1.9.3.484-2ubuntu1.12',\n",
       "  'ca-certificates : 20170717~14.04.1',\n",
       "  'libc6 : 2.19-0ubuntu6.14',\n",
       "  'libffi6 : 3.1~rc1+r3.0.13-12ubuntu0.2',\n",
       "  'libgdbm3 : 1.8.3-12build1',\n",
       "  'libncursesw5 : 5.9+20140118-1ubuntu1',\n",
       "  'libreadline6 : 6.3-4ubuntu2',\n",
       "  'libssl1.0.0 : 1.0.1f-1ubuntu2.26',\n",
       "  'libtinfo5 : 5.9+20140118-1ubuntu1',\n",
       "  'libyaml-0-2 : 0.1.4-3ubuntu3.1',\n",
       "  'zlib1g : 1:1.2.8.dfsg-1ubuntu1.1'],\n",
       " 'ca-certificates : 20170717~14.04.1': ['openssl : 1.0.1f-1ubuntu2.26',\n",
       "  'debconf : 1.5.51ubuntu2'],\n",
       " 'openssl : 1.0.1f-1ubuntu2.26': ['libc6 : 2.19-0ubuntu6.14',\n",
       "  'libssl1.0.0 : 1.0.1f-1ubuntu2.26'],\n",
       " 'libssl1.0.0 : 1.0.1f-1ubuntu2.26': ['libc6 : 2.19-0ubuntu6.14',\n",
       "  'debconf : 1.5.51ubuntu2'],\n",
       " 'libffi6 : 3.1~rc1+r3.0.13-12ubuntu0.2': ['libc6 : 2.19-0ubuntu6.14'],\n",
       " 'libncursesw5 : 5.9+20140118-1ubuntu1': ['libtinfo5 : 5.9+20140118-1ubuntu1',\n",
       "  'libc6 : 2.19-0ubuntu6.14'],\n",
       " 'libtinfo5 : 5.9+20140118-1ubuntu1': ['libc6 : 2.19-0ubuntu6.14'],\n",
       " 'eclipse-gef : 3.7.1-1': ['eclipse-platform : 3.8.1-5.1'],\n",
       " 'eclipse-platform : 3.8.1-5.1': ['ant : 1.9.3-2ubuntu0.1',\n",
       "  'ant-optional : 1.9.3-2ubuntu0.1',\n",
       "  'default-jre : 2:1.7-51',\n",
       "  'eclipse-platform-data : 3.8.1-5.1',\n",
       "  'eclipse-rcp : 3.8.1-5.1',\n",
       "  'java-common : 0.51',\n",
       "  'libcommons-codec-java : 1.9-1',\n",
       "  'libcommons-httpclient-java : 3.1-10.2ubuntu0.14.04.1',\n",
       "  'libcommons-logging-java : 1.1.3-1',\n",
       "  'libjetty8-java : 8.1.3-9',\n",
       "  'libjsch-java : 0.1.50-1ubuntu1',\n",
       "  'liblucene2-java : 2.9.4+ds1-4',\n",
       "  'libservlet3.0-java : 7.0.52-1ubuntu0.15',\n",
       "  'sat4j : 2.3.2-1',\n",
       "  'libc6 : 2.19-0ubuntu6.14'],\n",
       " 'ant : 1.9.3-2ubuntu0.1': ['default-jre-headless : 2:1.7-51',\n",
       "  'libxerces2-java : 2.11.0-7'],\n",
       " 'default-jre-headless : 2:1.7-51': ['openjdk-7-jre-headless : 7u51-2.4.6-1ubuntu4',\n",
       "  'java-common : 0.51'],\n",
       " 'openjdk-7-jre-headless : 7u51-2.4.6-1ubuntu4': ['ca-certificates-java : 20130815ubuntu1',\n",
       "  'tzdata-java : 2018e-0ubuntu0.14.04',\n",
       "  'java-common : 0.51',\n",
       "  'libcups2 : 1.7.2-0ubuntu1.10',\n",
       "  'liblcms2-2 : 2.5-0ubuntu4.2',\n",
       "  'libjpeg8 : 8c-2ubuntu8',\n",
       "  'libnss3-1d : 2:3.28.4-0ubuntu0.14.04.3',\n",
       "  'libpcsclite1 : 1.8.10-1ubuntu1.1',\n",
       "  'libc6 : 2.19-0ubuntu6.14',\n",
       "  'libfontconfig1 : 2.11.0-0ubuntu4.2',\n",
       "  'libfreetype6 : 2.5.2-1ubuntu2.8',\n",
       "  'libgcc1 : 1:4.9.3-0ubuntu4',\n",
       "  'libglib2.0-0 : 2.40.2-0ubuntu1.1',\n",
       "  'libkrb5-3 : 1.12+dfsg-2ubuntu5.3',\n",
       "  'libstdc++6 : 4.8.4-2ubuntu1~14.04.4',\n",
       "  'zlib1g : 1:1.2.8.dfsg-1ubuntu1.1'],\n",
       " 'ca-certificates-java : 20130815ubuntu1': ['ca-certificates : 20170717~14.04.1',\n",
       "  'openjdk-7-jre-headless : 7u51-2.4.6-1ubuntu4',\n",
       "  'libnss3 : 2:3.28.4-0ubuntu0.14.04.3'],\n",
       " 'libnss3 : 2:3.28.4-0ubuntu0.14.04.3': ['libc6 : 2.19-0ubuntu6.14',\n",
       "  'libnspr4 : 2:4.13.1-0ubuntu0.14.04.1',\n",
       "  'libsqlite3-0 : 3.8.2-1ubuntu2.1',\n",
       "  'zlib1g : 1:1.2.8.dfsg-1ubuntu1.1',\n",
       "  'libnss3-nssdb : 2:3.28.4-0ubuntu0.14.04.3'],\n",
       " 'libnspr4 : 2:4.13.1-0ubuntu0.14.04.1': ['libc6 : 2.19-0ubuntu6.14'],\n",
       " 'libsqlite3-0 : 3.8.2-1ubuntu2.1': ['libc6 : 2.19-0ubuntu6.14'],\n",
       " 'libreadline6 : 6.3-4ubuntu2': ['readline-common : 6.3-4ubuntu2',\n",
       "  'libc6 : 2.19-0ubuntu6.14',\n",
       "  'libtinfo5 : 5.9+20140118-1ubuntu1'],\n",
       " 'readline-common : 6.3-4ubuntu2': ['dpkg : 1.17.5ubuntu5.8'],\n",
       " 'coreutils : 8.21-1ubuntu5.4': [],\n",
       " 'fonts-dejavu-core : 2.34-1ubuntu1': [],\n",
       " 'zlib1g : 1:1.2.8.dfsg-1ubuntu1.1': ['libc6 : 2.19-0ubuntu6.14'],\n",
       " 'libconfig8-dev : 1.4.9-2': ['libconfig-dev : 1.4.9-2'],\n",
       " 'libconfig-dev : 1.4.9-2': ['libconfig9 : 1.4.9-2',\n",
       "  'pkg-config : 0.26-1ubuntu4'],\n",
       " 'libconfig9 : 1.4.9-2': ['libc6 : 2.19-0ubuntu6.14'],\n",
       " 'pkg-config : 0.26-1ubuntu4': ['libc6 : 2.19-0ubuntu6.14',\n",
       "  'libglib2.0-0 : 2.40.2-0ubuntu1.1',\n",
       "  'libpopt0 : 1.16-8ubuntu1'],\n",
       " 'libglib2.0-0 : 2.40.2-0ubuntu1.1': ['libc6 : 2.19-0ubuntu6.14',\n",
       "  'libffi6 : 3.1~rc1+r3.0.13-12ubuntu0.2',\n",
       "  'libpcre3 : 1:8.31-2ubuntu2.3',\n",
       "  'libselinux1 : 2.2.2-1ubuntu0.1',\n",
       "  'zlib1g : 1:1.2.8.dfsg-1ubuntu1.1'],\n",
       " 'libpcre3 : 1:8.31-2ubuntu2.3': ['libc6 : 2.19-0ubuntu6.14'],\n",
       " 'libselinux1 : 2.2.2-1ubuntu0.1': ['libc6 : 2.19-0ubuntu6.14',\n",
       "  'libpcre3 : 1:8.31-2ubuntu2.3'],\n",
       " 'ruby-poppler-dbg : 2.1.0-1': ['ruby-poppler : 2.1.0-1'],\n",
       " 'ruby-poppler : 2.1.0-1': ['libc6 : 2.19-0ubuntu6.14',\n",
       "  'libglib2.0-0 : 2.40.2-0ubuntu1.1',\n",
       "  'libpoppler-glib8 : 0.24.5-2ubuntu4.12',\n",
       "  'libruby1.9.1 : 1.9.3.484-2ubuntu1.12',\n",
       "  'libruby2.0 : 2.0.0.484-1ubuntu2.10',\n",
       "  'ruby : 1:1.9.3.4'],\n",
       " 'libpoppler-glib8 : 0.24.5-2ubuntu4.12': ['libc6 : 2.19-0ubuntu6.14',\n",
       "  'libcairo2 : 1.13.0~20140204-0ubuntu1.1',\n",
       "  'libfreetype6 : 2.5.2-1ubuntu2.8',\n",
       "  'libglib2.0-0 : 2.40.2-0ubuntu1.1',\n",
       "  'libpoppler44 : 0.24.5-2ubuntu4.12',\n",
       "  'libstdc++6 : 4.8.4-2ubuntu1~14.04.4'],\n",
       " 'libcairo2 : 1.13.0~20140204-0ubuntu1.1': ['libc6 : 2.19-0ubuntu6.14',\n",
       "  'libfontconfig1 : 2.11.0-0ubuntu4.2',\n",
       "  'libfreetype6 : 2.5.2-1ubuntu2.8',\n",
       "  'libpixman-1-0 : 0.30.2-2ubuntu1.1',\n",
       "  'libpng12-0 : 1.2.50-1ubuntu2.14.04.3',\n",
       "  'libx11-6 : 2:1.6.2-1ubuntu2.1',\n",
       "  'libxcb-render0 : 1.10-2ubuntu1',\n",
       "  'libxcb-shm0 : 1.10-2ubuntu1',\n",
       "  'libxcb1 : 1.10-2ubuntu1',\n",
       "  'libxext6 : 2:1.3.2-1ubuntu0.0.14.04.1',\n",
       "  'libxrender1 : 1:0.9.8-1build0.14.04.1',\n",
       "  'zlib1g : 1:1.2.8.dfsg-1ubuntu1.1'],\n",
       " 'libfontconfig1 : 2.11.0-0ubuntu4.2': ['fontconfig-config : 2.11.0-0ubuntu4.2',\n",
       "  'libc6 : 2.19-0ubuntu6.14',\n",
       "  'libexpat1 : 2.1.0-4ubuntu1.4',\n",
       "  'libfreetype6 : 2.5.2-1ubuntu2.8'],\n",
       " 'fontconfig-config : 2.11.0-0ubuntu4.2': ['fonts-dejavu-core : 2.34-1ubuntu1',\n",
       "  'ucf : 3.0027+nmu1'],\n",
       " 'ucf : 3.0027+nmu1': ['debconf : 1.5.51ubuntu2',\n",
       "  'coreutils : 8.21-1ubuntu5.4'],\n",
       " 'libexpat1 : 2.1.0-4ubuntu1.4': ['libc6 : 2.19-0ubuntu6.14'],\n",
       " 'mime-support : 3.54ubuntu1.1': [],\n",
       " 'libpython2.7-minimal : 2.7.6-8ubuntu0.4': [],\n",
       " 'django-tables : 0.13.0-3': ['python-django-tables2 : 0.13.0-3'],\n",
       " 'python-django-tables2 : 0.13.0-3': ['python : 2.7.5-5ubuntu3',\n",
       "  'python-django : 1.6.11-0ubuntu1.2'],\n",
       " 'python : 2.7.5-5ubuntu3': ['python2.7 : 2.7.6-8ubuntu0.4',\n",
       "  'python-minimal : 2.7.5-5ubuntu3',\n",
       "  'libpython-stdlib : 2.7.5-5ubuntu3'],\n",
       " 'python2.7 : 2.7.6-8ubuntu0.4': ['python2.7-minimal : 2.7.6-8ubuntu0.4',\n",
       "  'libpython2.7-stdlib : 2.7.6-8ubuntu0.4',\n",
       "  'mime-support : 3.54ubuntu1.1'],\n",
       " 'python2.7-minimal : 2.7.6-8ubuntu0.4': ['libpython2.7-minimal : 2.7.6-8ubuntu0.4',\n",
       "  'zlib1g : 1:1.2.8.dfsg-1ubuntu1.1'],\n",
       " 'libpython2.7-stdlib : 2.7.6-8ubuntu0.4': ['libpython2.7-minimal : 2.7.6-8ubuntu0.4',\n",
       "  'mime-support : 3.54ubuntu1.1',\n",
       "  'libbz2-1.0 : 1.0.6-5',\n",
       "  'libc6 : 2.19-0ubuntu6.14',\n",
       "  'libdb5.3 : 5.3.28-3ubuntu3.1',\n",
       "  'libexpat1 : 2.1.0-4ubuntu1.4',\n",
       "  'libffi6 : 3.1~rc1+r3.0.13-12ubuntu0.2',\n",
       "  'libncursesw5 : 5.9+20140118-1ubuntu1',\n",
       "  'libreadline6 : 6.3-4ubuntu2',\n",
       "  'libsqlite3-0 : 3.8.2-1ubuntu2.1',\n",
       "  'libssl1.0.0 : 1.0.1f-1ubuntu2.26',\n",
       "  'libtinfo5 : 5.9+20140118-1ubuntu1'],\n",
       " 'libpython-stdlib : 2.7.5-5ubuntu3': ['libpython2.7-stdlib : 2.7.6-8ubuntu0.4'],\n",
       " 'python-minimal : 2.7.5-5ubuntu3': ['python2.7-minimal : 2.7.6-8ubuntu0.4',\n",
       "  'dpkg : 1.17.5ubuntu5.8']}"
      ]
     },
     "execution_count": 297,
     "metadata": {},
     "output_type": "execute_result"
    }
   ],
   "source": [
    "print(\"All the dependences for the package python: \")\n",
    "ground_truth.loc[18315][\"Dependance traces\"]"
   ]
  },
  {
   "cell_type": "markdown",
   "metadata": {},
   "source": [
    "### Building the dependances trees as a dictionnary"
   ]
  },
  {
   "cell_type": "code",
   "execution_count": null,
   "metadata": {},
   "outputs": [],
   "source": [
    "All_traces = dict()\n",
    "for index, row in ground_truth.iterrows():\n",
    "    All_traces = {**All_traces, **row['Dependance traces']}\n",
    "    \n",
    "All_traces"
   ]
  },
  {
   "cell_type": "code",
   "execution_count": 393,
   "metadata": {},
   "outputs": [
    {
     "data": {
      "text/plain": [
       "['perl-base : 5.18.2-2ubuntu1.6',\n",
       " 'perl-modules : 5.18.2-2ubuntu1.6',\n",
       " 'libbz2-1.0 : 1.0.6-5',\n",
       " 'libc6 : 2.19-0ubuntu6.14',\n",
       " 'libdb5.3 : 5.3.28-3ubuntu3.1',\n",
       " 'libgdbm3 : 1.8.3-12build1',\n",
       " 'zlib1g : 1:1.2.8.dfsg-1ubuntu1.1',\n",
       " 'perl-modules : 5.18.2-2ubuntu1.6',\n",
       " 'libbz2-1.0 : 1.0.6-5',\n",
       " 'libc6 : 2.19-0ubuntu6.14',\n",
       " 'libdb5.3 : 5.3.28-3ubuntu3.1',\n",
       " 'libgdbm3 : 1.8.3-12build1',\n",
       " 'zlib1g : 1:1.2.8.dfsg-1ubuntu1.1']"
      ]
     },
     "execution_count": 393,
     "metadata": {},
     "output_type": "execute_result"
    }
   ],
   "source": [
    "All_traces[\"perl : 5.18.2-2ubuntu1.6\"]"
   ]
  },
  {
   "cell_type": "code",
   "execution_count": 394,
   "metadata": {},
   "outputs": [
    {
     "data": {
      "text/plain": [
       "['libc6 : 2.19-0ubuntu6.14']"
      ]
     },
     "execution_count": 394,
     "metadata": {},
     "output_type": "execute_result"
    }
   ],
   "source": [
    "All_traces[\"zlib1g : 1:1.2.8.dfsg-1ubuntu1.1\"]"
   ]
  },
  {
   "cell_type": "code",
   "execution_count": 395,
   "metadata": {},
   "outputs": [
    {
     "data": {
      "text/plain": [
       "['libgcc1 : 1:4.9.3-0ubuntu4', 'libgcc1 : 1:4.9.3-0ubuntu4']"
      ]
     },
     "execution_count": 395,
     "metadata": {},
     "output_type": "execute_result"
    }
   ],
   "source": [
    "All_traces[\"libc6 : 2.19-0ubuntu6.14\"]"
   ]
  },
  {
   "cell_type": "markdown",
   "metadata": {},
   "source": [
    "Let's group our list by size and by sum of dependances:"
   ]
  },
  {
   "cell_type": "code",
   "execution_count": 385,
   "metadata": {},
   "outputs": [
    {
     "name": "stdout",
     "output_type": "stream",
     "text": [
      "43710\n"
     ]
    },
    {
     "data": {
      "text/plain": [
       "Package\n",
       "1    0.830611\n",
       "2    0.110867\n",
       "3    0.035941\n",
       "4    0.012560\n",
       "5    0.004850\n",
       "Name: Version, dtype: float64"
      ]
     },
     "execution_count": 385,
     "metadata": {},
     "output_type": "execute_result"
    }
   ],
   "source": [
    "bySize = ground_truth.groupby(by=\"Size\").count().groupby(by = \"Package\").count()\n",
    "total = bySize[\"Version\"].sum()\n",
    "print(total)\n",
    "bySize[\"Version\"].map(lambda x : x/total).sort_values(ascending = False).head()"
   ]
  },
  {
   "cell_type": "code",
   "execution_count": 383,
   "metadata": {},
   "outputs": [
    {
     "data": {
      "text/plain": [
       "Package\n",
       "1    0.990101\n",
       "2    0.009065\n",
       "3    0.000568\n",
       "4    0.000160\n",
       "5    0.000071\n",
       "6    0.000018\n",
       "7    0.000018\n",
       "Name: Version, dtype: float64"
      ]
     },
     "execution_count": 383,
     "metadata": {},
     "output_type": "execute_result"
    }
   ],
   "source": [
    "includingDep = ground_truth.groupby(by=\"Summing dependances\").count().groupby(by = \"Package\").count()\n",
    "total = includingDep[\"Version\"].sum()\n",
    "includingDep[\"Version\"].map(lambda x : x/total)"
   ]
  },
  {
   "cell_type": "code",
   "execution_count": 384,
   "metadata": {},
   "outputs": [
    {
     "data": {
      "text/plain": [
       "1    0.862716\n",
       "2    0.100886\n",
       "3    0.021990\n",
       "4    0.008180\n",
       "5    0.003178\n",
       "dtype: float64"
      ]
     },
     "execution_count": 384,
     "metadata": {},
     "output_type": "execute_result"
    }
   ],
   "source": [
    "both = ground_truth[\"Size\"].append(ground_truth[\"Summing dependances\"])\n",
    "grouped = both.groupby(both).count()\n",
    "uniqueness = grouped.groupby(grouped).count().sort_values(ascending = False)\n",
    "total = uniqueness.sum()\n",
    "uniqueness.map(lambda x : x/total).head()"
   ]
  },
  {
   "cell_type": "markdown",
   "metadata": {},
   "source": [
    "Remarques & Questions: \n",
    "\n",
    "    - We are just focusing on apt-get install not on apt-get upgrade for a software updates\n",
    "    \n",
    "    - All what we are doing it's just for one specific ubuntu release\n",
    "    \n",
    "    - When is the midterm presentation, how long should it last?\n",
    "    \n"
   ]
  }
 ],
 "metadata": {
  "kernelspec": {
   "display_name": "Python 3",
   "language": "python",
   "name": "python3"
  },
  "language_info": {
   "codemirror_mode": {
    "name": "ipython",
    "version": 3
   },
   "file_extension": ".py",
   "mimetype": "text/x-python",
   "name": "python",
   "nbconvert_exporter": "python",
   "pygments_lexer": "ipython3",
   "version": "3.6.5"
  }
 },
 "nbformat": 4,
 "nbformat_minor": 2
}
