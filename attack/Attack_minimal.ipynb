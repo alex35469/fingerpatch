{
 "cells": [
  {
   "cell_type": "markdown",
   "metadata": {},
   "source": [
    "# Attack minimal\n",
    "\n",
    "This notebook shows the steps that an attacker has to follow in order to carry on his atrack. This is a simplified version of the `Attack_vizualization` notebook.\n",
    "\n",
    "### Table of Content <a id = 'tc'></a>\n",
    "\n",
    " - [setup](#setup)\n",
    " - [crawling](#crawl)\n",
    " - [cleaning](#cleaning)\n",
    " - [mining](#mining)\n",
    " - [capture](#capture)\n",
    " - [matching](#matching)\n",
    " \n",
    "\n",
    "\n",
    "### Background\n",
    "\n",
    "For a better understanding of the situation, please check the [slides](https://docs.google.com/presentation/d/1oDi0Ds2l3TXghT6AvLKKgyhFA--uFD9d9vGC6eFooss/edit?usp=sharing)  (An epfl authentication is needed to gain access)\n",
    "\n",
    "Here are the following steps that the attacker take in order to carry on his attack: \n",
    "    \n",
    "    1) Extract the information about the packages that the victim can download by crawling all \n",
    "       the metadata in var/lib/   (crawl dir.)\n",
    "       \n",
    "    2) Do some cleaning and statistics about the the freshly crawled data. (attack dir.)\n",
    "    \n",
    "    3) Capture the victims traffic on updates (for now lab condition) (capture dir.)\n",
    "    \n",
    "    4) Match the capture with a specific update (attack dir.)\n",
    "    \n",
    "    \n",
    "\n",
    "We suppose in this notebook that the Attacker already collected/process the following data:\n",
    " - `ground_thruth` : where hypothetically all the packages metadata are up-to-date\n",
    " - `gt` : the cleaned version of `ground_truth` processed by the attacker\n",
    " - `attack_table` : Containing the capture of the packages that the attacker wants to match\n",
    " - `*_old` : old version of the above\n",
    "\n",
    " __Please Run Setup before jumping to sections__\n",
    "\n",
    "<a id='setup'></a>\n",
    "## Set up "
   ]
  },
  {
   "cell_type": "code",
   "execution_count": 1,
   "metadata": {},
   "outputs": [],
   "source": [
    "## Setup\n",
    "\n",
    "import pymysql\n",
    "import pandas as pd\n",
    "import sys\n",
    "sys.path.append(\"../utils/\")\n",
    "from fputils import load_fingerpatch\n",
    "\n",
    "ground_truth = load_fingerpatch(dbname=\"fingerpatch\", table=\"ubuntu_packets\" )\n",
    "gt = load_fingerpatch(dbname=\"fingerpatch\", table=\"ubuntu_cleaned_packets\" )\n"
   ]
  },
  {
   "cell_type": "markdown",
   "metadata": {},
   "source": [
    "<a id='crawl'></a>\n",
    "\n",
    "## Crawling\n",
    "\n",
    "The very first step that the attacker has to make is getting the database where all the packages' metadata lies. \n",
    "\n",
    "on Ubuntu, (Linux dist.) the metadata of the apt packages are available in `/var/lib/apt/lists/`. To get this directory up-to-date, the attacker can run `apt-get update` before crawling it. This will fetch the latest packages' metadata by contacting the appropiate servers in `ect/apt/source.list`.\n",
    "\n",
    "However, there are some packages' metadata not available by default. The attacker can add them by running `add-apt-repositories <repo-name>`. This is by exemple the case for the kernel packages which is not available by default. An attacker can still include them for crawling by running the above command with `ppa:teejee2008/ppa` as the repo name\n",
    "\n",
    "After having crawled the metadata, the attacker is supposed to have in his database the whole crawled packages with full attributs as well as the a unique identifier `capture_id` which will be used to match a capture to a unique package. (in our case `ground_truth`) \n",
    "\n",
    "All the code used for this section is available under the `crawl` directory"
   ]
  },
  {
   "cell_type": "markdown",
   "metadata": {},
   "source": [
    "#### Crawling Results\n",
    "\n",
    "After crawling, we have the following in our database"
   ]
  },
  {
   "cell_type": "code",
   "execution_count": 9,
   "metadata": {},
   "outputs": [
    {
     "name": "stdout",
     "output_type": "stream",
     "text": [
      "We have 129278 packages'metadata\n",
      "for each metadata we have up to 25 attributes\n"
     ]
    }
   ],
   "source": [
    "print(\"We have {} packages'metadata\\nfor each metadata we have up to {} attributes\".format(\n",
    "    len(ground_truth), len(ground_truth.columns)))"
   ]
  },
  {
   "cell_type": "code",
   "execution_count": 12,
   "metadata": {},
   "outputs": [
    {
     "name": "stdout",
     "output_type": "stream",
     "text": [
      "The metadata attributes are\n",
      "\n",
      " Index(['capture_id', 'Package', 'Version', 'Architecture', 'Size',\n",
      "       'Installed-Size', 'Priority', 'Maintainer', 'SHA1', 'Description',\n",
      "       'parsedFrom', 'Description-md5', 'Bugs', 'Origin', 'MD5sum', 'Depends',\n",
      "       'Recommends', 'Suggests', 'Homepage', 'Source', 'SHA256', 'Section',\n",
      "       'Supported', 'Filename', 'packageMode'],\n",
      "      dtype='object')\n"
     ]
    }
   ],
   "source": [
    "print(\"The metadata attributes are\\n\\n\", ground_truth.columns)"
   ]
  },
  {
   "cell_type": "markdown",
   "metadata": {},
   "source": [
    "<a id='cleaning'></a>\n",
    "\n",
    "## Cleaning\n",
    "\n",
    "In the previous step, the attacker ends up with a raw database of the crawled Packages metadata. Many attributes of package's metadata are useless for the attacker. And might want to get rid of them. (i.e. the attacker may not want to keep the `Maintainer` field).\n",
    "\n",
    "While doing a capture, the attacker will mostly only be interessted about the package's name and version the victim is updating. It make sense to drop every package's metadata that have the same size, name version and maybe architecture. This opperation will reduce his database and thus the time it will take to do a mapping  \n",
    "\n"
   ]
  },
  {
   "cell_type": "code",
   "execution_count": null,
   "metadata": {},
   "outputs": [],
   "source": []
  },
  {
   "cell_type": "markdown",
   "metadata": {},
   "source": [
    "<a id='mining'></a>\n",
    "\n",
    "## Mining\n",
    "\n",
    "After cleaning, the attacker still have some task to do before recording the Captures. Indeed,\n"
   ]
  },
  {
   "cell_type": "code",
   "execution_count": null,
   "metadata": {},
   "outputs": [],
   "source": []
  },
  {
   "cell_type": "markdown",
   "metadata": {},
   "source": [
    "<a id='capture'></a>\n",
    "\n",
    "## Capture\n",
    "\n",
    "\n",
    "Ones the attacker has a proper and useful database he can start recording what is happening on the \n"
   ]
  },
  {
   "cell_type": "markdown",
   "metadata": {},
   "source": [
    "<a id='matching'></a>\n",
    "\n",
    "## Matching"
   ]
  },
  {
   "cell_type": "code",
   "execution_count": null,
   "metadata": {},
   "outputs": [],
   "source": []
  }
 ],
 "metadata": {
  "kernelspec": {
   "display_name": "Python 3",
   "language": "python",
   "name": "python3"
  },
  "language_info": {
   "codemirror_mode": {
    "name": "ipython",
    "version": 3
   },
   "file_extension": ".py",
   "mimetype": "text/x-python",
   "name": "python",
   "nbconvert_exporter": "python",
   "pygments_lexer": "ipython3",
   "version": "3.6.5"
  }
 },
 "nbformat": 4,
 "nbformat_minor": 2
}
